{
 "cells": [
  {
   "cell_type": "markdown",
   "metadata": {},
   "source": [
    "# Analysis based on Regression Trees\n",
    "\n",
    "> Using Decision Trees and Random Forests"
   ]
  },
  {
   "cell_type": "code",
   "execution_count": null,
   "metadata": {},
   "outputs": [
    {
     "name": "stderr",
     "output_type": "stream",
     "text": [
      "/home/jaumeamllo/miniconda3/envs/tsforecast/lib/python3.10/site-packages/tqdm/auto.py:22: TqdmWarning: IProgress not found. Please update jupyter and ipywidgets. See https://ipywidgets.readthedocs.io/en/stable/user_install.html\n",
      "  from .autonotebook import tqdm as notebook_tqdm\n"
     ]
    }
   ],
   "source": [
    "#| hide\n",
    "from pathlib import Path\n",
    "import pandas as pd\n",
    "import numpy as np\n",
    "from sklearn.tree import DecisionTreeRegressor\n",
    "from fastai.tabular.all import add_datepart, Categorify, FillMissing, Normalize,cont_cat_split, TabularPandas, tabular_learner, F, to_np\n",
    "import joblib\n",
    "from sklearn.tree import export_graphviz\n",
    "import graphviz\n",
    "import re\n",
    "import dtreeviz\n",
    "import math\n",
    "from sklearn.ensemble import RandomForestRegressor\n",
    "from scipy.cluster import hierarchy as hc\n",
    "import scipy\n",
    "import warnings\n",
    "warnings.simplefilter('ignore', FutureWarning)\n",
    "import matplotlib.pyplot as plt\n",
    "import holidays\n",
    "\n",
    "from treeinterpreter import treeinterpreter\n",
    "from waterfall_chart import plot as waterfall"
   ]
  },
  {
   "cell_type": "markdown",
   "metadata": {},
   "source": [
    "## Definitions"
   ]
  },
  {
   "cell_type": "code",
   "execution_count": null,
   "metadata": {},
   "outputs": [],
   "source": [
    "def draw_tree(t, df, size=10, ratio=0.6, precision=0, **kwargs):\n",
    "    s=export_graphviz(t, out_file=None, feature_names=df.columns, filled=True, rounded=True,\n",
    "                      special_characters=True, rotate=False, precision=precision, **kwargs)\n",
    "    return graphviz.Source(re.sub('Tree {', f'Tree {{ size={size}; ratio={ratio}', s))\n",
    "\n",
    "def cluster_columns(df, figsize=(10,6), font_size=12):\n",
    "    corr = np.round(scipy.stats.spearmanr(df).correlation, 4)\n",
    "    corr_condensed = hc.distance.squareform(1-corr)\n",
    "    z = hc.linkage(corr_condensed, method='average')\n",
    "    fig = plt.figure(figsize=figsize)\n",
    "    hc.dendrogram(z, labels=df.columns, orientation='left', leaf_font_size=font_size)\n",
    "    plt.show()\n",
    "\n",
    "path = Path('data/datasets/autos.csv')\n",
    "results_path = Path('results/used_cars')\n",
    "results_path.mkdir (parents=True, exist_ok=True)\n",
    "\n",
    "target_variable = 'sale_duration'\n",
    "outliers = dict (numeric_variables_high=0.99,\n",
    "                 numeric_variables_low=0.01,\n",
    "                 date_created=True)\n",
    "add_datepart_flag = True"
   ]
  },
  {
   "cell_type": "code",
   "execution_count": null,
   "metadata": {},
   "outputs": [
    {
     "name": "stdout",
     "output_type": "stream",
     "text": [
      "/home/jaumeamllo/workspace/mine/tabularml\n"
     ]
    }
   ],
   "source": [
    "cd .."
   ]
  },
  {
   "cell_type": "code",
   "execution_count": null,
   "metadata": {},
   "outputs": [],
   "source": [
    "#| hide\n",
    "def r_mse (pred, y): \n",
    "    return round(math.sqrt(((pred-y)**2).mean()), 6)\n",
    "def m_rmse (dt_model, X, y): \n",
    "    return r_mse(dt_model.predict(X), y)\n",
    "\n",
    "def fitted_rf (X, y, n_estimators=128, max_features=0.5, min_samples_leaf=5, **kwargs):\n",
    "    return RandomForestRegressor (\n",
    "        n_jobs=-1, n_estimators=n_estimators, max_features=max_features,\n",
    "        min_samples_leaf=min_samples_leaf, oob_score=True, **kwargs\n",
    "    ).fit(X, y)\n",
    "\n",
    "def evaluate_removing_variables (importance, X, y, valid_X, valid_y, threhsold):\n",
    "    to_keep = importance[importance.imp>threhsold].cols\n",
    "    X_imp = X[to_keep]\n",
    "    valid_X_imp = valid_X[to_keep]\n",
    "\n",
    "    rf_model = fitted_rf(X_imp, y)\n",
    "    print (m_rmse(rf_model, X_imp, y), m_rmse(rf_model, valid_X_imp, valid_y), r_mse (rf_model.oob_prediction_, y))\n",
    "    return rf_model, X_imp, valid_X_imp, to_keep\n",
    "\n",
    "def rf_feat_importance (rf_model, df):\n",
    "    return pd.DataFrame({'cols':df.columns, 'imp':rf_model.feature_importances_}).sort_values('imp', ascending=False)\n",
    "\n",
    "tabular = joblib.load (path.parent / 'tabular.pkl')\n",
    "X, y = tabular.train.xs, tabular.train.y\n",
    "valid_X, valid_y = tabular.valid.xs, tabular.valid.y\n",
    "\n",
    "rf_model = joblib.load (results_path / 'rf_model1.pkl')\n",
    "importance = rf_feat_importance (rf_model, X)\n",
    "importance\n",
    "\n",
    "rf_model = joblib.load (results_path / 'removing_low_importance.pkl')"
   ]
  },
  {
   "cell_type": "markdown",
   "metadata": {},
   "source": [
    "## Load data"
   ]
  },
  {
   "cell_type": "code",
   "execution_count": null,
   "metadata": {},
   "outputs": [
    {
     "name": "stdout",
     "output_type": "stream",
     "text": [
      "/home/jaumeamllo/workspace/mine/tabularml\n"
     ]
    }
   ],
   "source": [
    "cd .."
   ]
  },
  {
   "cell_type": "code",
   "execution_count": null,
   "metadata": {},
   "outputs": [],
   "source": [
    "df = pd.read_csv(path, encoding=\"ISO-8859-1\", parse_dates=['dateCrawled', 'dateCreated', 'lastSeen'])"
   ]
  },
  {
   "cell_type": "code",
   "execution_count": null,
   "metadata": {},
   "outputs": [
    {
     "data": {
      "text/html": [
       "<div>\n",
       "<style scoped>\n",
       "    .dataframe tbody tr th:only-of-type {\n",
       "        vertical-align: middle;\n",
       "    }\n",
       "\n",
       "    .dataframe tbody tr th {\n",
       "        vertical-align: top;\n",
       "    }\n",
       "\n",
       "    .dataframe thead th {\n",
       "        text-align: right;\n",
       "    }\n",
       "</style>\n",
       "<table border=\"1\" class=\"dataframe\">\n",
       "  <thead>\n",
       "    <tr style=\"text-align: right;\">\n",
       "      <th></th>\n",
       "      <th>dateCrawled</th>\n",
       "      <th>name</th>\n",
       "      <th>seller</th>\n",
       "      <th>offerType</th>\n",
       "      <th>price</th>\n",
       "      <th>abtest</th>\n",
       "      <th>vehicleType</th>\n",
       "      <th>yearOfRegistration</th>\n",
       "      <th>gearbox</th>\n",
       "      <th>powerPS</th>\n",
       "      <th>model</th>\n",
       "      <th>kilometer</th>\n",
       "      <th>monthOfRegistration</th>\n",
       "      <th>fuelType</th>\n",
       "      <th>brand</th>\n",
       "      <th>notRepairedDamage</th>\n",
       "      <th>dateCreated</th>\n",
       "      <th>nrOfPictures</th>\n",
       "      <th>postalCode</th>\n",
       "      <th>lastSeen</th>\n",
       "    </tr>\n",
       "  </thead>\n",
       "  <tbody>\n",
       "    <tr>\n",
       "      <th>0</th>\n",
       "      <td>2016-03-24 11:52:17</td>\n",
       "      <td>Golf_3_1.6</td>\n",
       "      <td>privat</td>\n",
       "      <td>Angebot</td>\n",
       "      <td>480</td>\n",
       "      <td>test</td>\n",
       "      <td>NaN</td>\n",
       "      <td>1993</td>\n",
       "      <td>manuell</td>\n",
       "      <td>0</td>\n",
       "      <td>golf</td>\n",
       "      <td>150000</td>\n",
       "      <td>0</td>\n",
       "      <td>benzin</td>\n",
       "      <td>volkswagen</td>\n",
       "      <td>NaN</td>\n",
       "      <td>2016-03-24</td>\n",
       "      <td>0</td>\n",
       "      <td>70435</td>\n",
       "      <td>2016-04-07 03:16:57</td>\n",
       "    </tr>\n",
       "    <tr>\n",
       "      <th>1</th>\n",
       "      <td>2016-03-24 10:58:45</td>\n",
       "      <td>A5_Sportback_2.7_Tdi</td>\n",
       "      <td>privat</td>\n",
       "      <td>Angebot</td>\n",
       "      <td>18300</td>\n",
       "      <td>test</td>\n",
       "      <td>coupe</td>\n",
       "      <td>2011</td>\n",
       "      <td>manuell</td>\n",
       "      <td>190</td>\n",
       "      <td>NaN</td>\n",
       "      <td>125000</td>\n",
       "      <td>5</td>\n",
       "      <td>diesel</td>\n",
       "      <td>audi</td>\n",
       "      <td>ja</td>\n",
       "      <td>2016-03-24</td>\n",
       "      <td>0</td>\n",
       "      <td>66954</td>\n",
       "      <td>2016-04-07 01:46:50</td>\n",
       "    </tr>\n",
       "    <tr>\n",
       "      <th>2</th>\n",
       "      <td>2016-03-14 12:52:21</td>\n",
       "      <td>Jeep_Grand_Cherokee_\"Overland\"</td>\n",
       "      <td>privat</td>\n",
       "      <td>Angebot</td>\n",
       "      <td>9800</td>\n",
       "      <td>test</td>\n",
       "      <td>suv</td>\n",
       "      <td>2004</td>\n",
       "      <td>automatik</td>\n",
       "      <td>163</td>\n",
       "      <td>grand</td>\n",
       "      <td>125000</td>\n",
       "      <td>8</td>\n",
       "      <td>diesel</td>\n",
       "      <td>jeep</td>\n",
       "      <td>NaN</td>\n",
       "      <td>2016-03-14</td>\n",
       "      <td>0</td>\n",
       "      <td>90480</td>\n",
       "      <td>2016-04-05 12:47:46</td>\n",
       "    </tr>\n",
       "    <tr>\n",
       "      <th>3</th>\n",
       "      <td>2016-03-17 16:54:04</td>\n",
       "      <td>GOLF_4_1_4__3TÜRER</td>\n",
       "      <td>privat</td>\n",
       "      <td>Angebot</td>\n",
       "      <td>1500</td>\n",
       "      <td>test</td>\n",
       "      <td>kleinwagen</td>\n",
       "      <td>2001</td>\n",
       "      <td>manuell</td>\n",
       "      <td>75</td>\n",
       "      <td>golf</td>\n",
       "      <td>150000</td>\n",
       "      <td>6</td>\n",
       "      <td>benzin</td>\n",
       "      <td>volkswagen</td>\n",
       "      <td>nein</td>\n",
       "      <td>2016-03-17</td>\n",
       "      <td>0</td>\n",
       "      <td>91074</td>\n",
       "      <td>2016-03-17 17:40:17</td>\n",
       "    </tr>\n",
       "    <tr>\n",
       "      <th>4</th>\n",
       "      <td>2016-03-31 17:25:20</td>\n",
       "      <td>Skoda_Fabia_1.4_TDI_PD_Classic</td>\n",
       "      <td>privat</td>\n",
       "      <td>Angebot</td>\n",
       "      <td>3600</td>\n",
       "      <td>test</td>\n",
       "      <td>kleinwagen</td>\n",
       "      <td>2008</td>\n",
       "      <td>manuell</td>\n",
       "      <td>69</td>\n",
       "      <td>fabia</td>\n",
       "      <td>90000</td>\n",
       "      <td>7</td>\n",
       "      <td>diesel</td>\n",
       "      <td>skoda</td>\n",
       "      <td>nein</td>\n",
       "      <td>2016-03-31</td>\n",
       "      <td>0</td>\n",
       "      <td>60437</td>\n",
       "      <td>2016-04-06 10:17:21</td>\n",
       "    </tr>\n",
       "  </tbody>\n",
       "</table>\n",
       "</div>"
      ],
      "text/plain": [
       "          dateCrawled                            name  seller offerType  \\\n",
       "0 2016-03-24 11:52:17                      Golf_3_1.6  privat   Angebot   \n",
       "1 2016-03-24 10:58:45            A5_Sportback_2.7_Tdi  privat   Angebot   \n",
       "2 2016-03-14 12:52:21  Jeep_Grand_Cherokee_\"Overland\"  privat   Angebot   \n",
       "3 2016-03-17 16:54:04              GOLF_4_1_4__3TÜRER  privat   Angebot   \n",
       "4 2016-03-31 17:25:20  Skoda_Fabia_1.4_TDI_PD_Classic  privat   Angebot   \n",
       "\n",
       "   price abtest vehicleType  yearOfRegistration    gearbox  powerPS  model  \\\n",
       "0    480   test         NaN                1993    manuell        0   golf   \n",
       "1  18300   test       coupe                2011    manuell      190    NaN   \n",
       "2   9800   test         suv                2004  automatik      163  grand   \n",
       "3   1500   test  kleinwagen                2001    manuell       75   golf   \n",
       "4   3600   test  kleinwagen                2008    manuell       69  fabia   \n",
       "\n",
       "   kilometer  monthOfRegistration fuelType       brand notRepairedDamage  \\\n",
       "0     150000                    0   benzin  volkswagen               NaN   \n",
       "1     125000                    5   diesel        audi                ja   \n",
       "2     125000                    8   diesel        jeep               NaN   \n",
       "3     150000                    6   benzin  volkswagen              nein   \n",
       "4      90000                    7   diesel       skoda              nein   \n",
       "\n",
       "  dateCreated  nrOfPictures  postalCode            lastSeen  \n",
       "0  2016-03-24             0       70435 2016-04-07 03:16:57  \n",
       "1  2016-03-24             0       66954 2016-04-07 01:46:50  \n",
       "2  2016-03-14             0       90480 2016-04-05 12:47:46  \n",
       "3  2016-03-17             0       91074 2016-03-17 17:40:17  \n",
       "4  2016-03-31             0       60437 2016-04-06 10:17:21  "
      ]
     },
     "execution_count": null,
     "metadata": {},
     "output_type": "execute_result"
    }
   ],
   "source": [
    "df.head()"
   ]
  },
  {
   "cell_type": "markdown",
   "metadata": {},
   "source": [
    "## Cleaning and EDA"
   ]
  },
  {
   "cell_type": "markdown",
   "metadata": {},
   "source": [
    "We first gather the numerical and categorical columns: "
   ]
  },
  {
   "cell_type": "code",
   "execution_count": null,
   "metadata": {},
   "outputs": [
    {
     "data": {
      "text/plain": [
       "['price',\n",
       " 'yearOfRegistration',\n",
       " 'powerPS',\n",
       " 'kilometer',\n",
       " 'monthOfRegistration',\n",
       " 'nrOfPictures']"
      ]
     },
     "execution_count": null,
     "metadata": {},
     "output_type": "execute_result"
    }
   ],
   "source": [
    "numerical_variables = [\n",
    "    x for x in df.dtypes.index \n",
    "    if (str(df.dtypes[x]).startswith ('int') or str(df.dtypes[x]).startswith ('float')) and x != 'postalCode'\n",
    "]\n",
    "numerical_variables"
   ]
  },
  {
   "cell_type": "code",
   "execution_count": null,
   "metadata": {},
   "outputs": [
    {
     "data": {
      "text/plain": [
       "{'abtest',\n",
       " 'brand',\n",
       " 'dateCrawled',\n",
       " 'dateCreated',\n",
       " 'fuelType',\n",
       " 'gearbox',\n",
       " 'lastSeen',\n",
       " 'model',\n",
       " 'name',\n",
       " 'notRepairedDamage',\n",
       " 'offerType',\n",
       " 'postalCode',\n",
       " 'seller',\n",
       " 'vehicleType'}"
      ]
     },
     "execution_count": null,
     "metadata": {},
     "output_type": "execute_result"
    }
   ],
   "source": [
    "categorical_variables = set (df.columns).difference (numerical_variables)\n",
    "categorical_variables"
   ]
  },
  {
   "cell_type": "code",
   "execution_count": null,
   "metadata": {},
   "outputs": [],
   "source": [
    "categorical_variables = categorical_variables.difference ({'dateCrawled', 'dateCreated', 'name', 'lastSeen'})\n",
    "categorical_variables = list (categorical_variables)"
   ]
  },
  {
   "cell_type": "markdown",
   "metadata": {},
   "source": [
    "### Outliers"
   ]
  },
  {
   "cell_type": "code",
   "execution_count": null,
   "metadata": {},
   "outputs": [
    {
     "data": {
      "text/html": [
       "<div>\n",
       "<style scoped>\n",
       "    .dataframe tbody tr th:only-of-type {\n",
       "        vertical-align: middle;\n",
       "    }\n",
       "\n",
       "    .dataframe tbody tr th {\n",
       "        vertical-align: top;\n",
       "    }\n",
       "\n",
       "    .dataframe thead th {\n",
       "        text-align: right;\n",
       "    }\n",
       "</style>\n",
       "<table border=\"1\" class=\"dataframe\">\n",
       "  <thead>\n",
       "    <tr style=\"text-align: right;\">\n",
       "      <th></th>\n",
       "      <th>price</th>\n",
       "      <th>yearOfRegistration</th>\n",
       "      <th>powerPS</th>\n",
       "      <th>kilometer</th>\n",
       "      <th>monthOfRegistration</th>\n",
       "      <th>nrOfPictures</th>\n",
       "      <th>postalCode</th>\n",
       "    </tr>\n",
       "  </thead>\n",
       "  <tbody>\n",
       "    <tr>\n",
       "      <th>count</th>\n",
       "      <td>3.715280e+05</td>\n",
       "      <td>371528.000000</td>\n",
       "      <td>371528.000000</td>\n",
       "      <td>371528.000000</td>\n",
       "      <td>371528.000000</td>\n",
       "      <td>371528.0</td>\n",
       "      <td>371528.00000</td>\n",
       "    </tr>\n",
       "    <tr>\n",
       "      <th>mean</th>\n",
       "      <td>1.729514e+04</td>\n",
       "      <td>2004.577997</td>\n",
       "      <td>115.549477</td>\n",
       "      <td>125618.688228</td>\n",
       "      <td>5.734445</td>\n",
       "      <td>0.0</td>\n",
       "      <td>50820.66764</td>\n",
       "    </tr>\n",
       "    <tr>\n",
       "      <th>std</th>\n",
       "      <td>3.587954e+06</td>\n",
       "      <td>92.866598</td>\n",
       "      <td>192.139578</td>\n",
       "      <td>40112.337051</td>\n",
       "      <td>3.712412</td>\n",
       "      <td>0.0</td>\n",
       "      <td>25799.08247</td>\n",
       "    </tr>\n",
       "    <tr>\n",
       "      <th>min</th>\n",
       "      <td>0.000000e+00</td>\n",
       "      <td>1000.000000</td>\n",
       "      <td>0.000000</td>\n",
       "      <td>5000.000000</td>\n",
       "      <td>0.000000</td>\n",
       "      <td>0.0</td>\n",
       "      <td>1067.00000</td>\n",
       "    </tr>\n",
       "    <tr>\n",
       "      <th>25%</th>\n",
       "      <td>1.150000e+03</td>\n",
       "      <td>1999.000000</td>\n",
       "      <td>70.000000</td>\n",
       "      <td>125000.000000</td>\n",
       "      <td>3.000000</td>\n",
       "      <td>0.0</td>\n",
       "      <td>30459.00000</td>\n",
       "    </tr>\n",
       "    <tr>\n",
       "      <th>50%</th>\n",
       "      <td>2.950000e+03</td>\n",
       "      <td>2003.000000</td>\n",
       "      <td>105.000000</td>\n",
       "      <td>150000.000000</td>\n",
       "      <td>6.000000</td>\n",
       "      <td>0.0</td>\n",
       "      <td>49610.00000</td>\n",
       "    </tr>\n",
       "    <tr>\n",
       "      <th>75%</th>\n",
       "      <td>7.200000e+03</td>\n",
       "      <td>2008.000000</td>\n",
       "      <td>150.000000</td>\n",
       "      <td>150000.000000</td>\n",
       "      <td>9.000000</td>\n",
       "      <td>0.0</td>\n",
       "      <td>71546.00000</td>\n",
       "    </tr>\n",
       "    <tr>\n",
       "      <th>max</th>\n",
       "      <td>2.147484e+09</td>\n",
       "      <td>9999.000000</td>\n",
       "      <td>20000.000000</td>\n",
       "      <td>150000.000000</td>\n",
       "      <td>12.000000</td>\n",
       "      <td>0.0</td>\n",
       "      <td>99998.00000</td>\n",
       "    </tr>\n",
       "  </tbody>\n",
       "</table>\n",
       "</div>"
      ],
      "text/plain": [
       "              price  yearOfRegistration        powerPS      kilometer  \\\n",
       "count  3.715280e+05       371528.000000  371528.000000  371528.000000   \n",
       "mean   1.729514e+04         2004.577997     115.549477  125618.688228   \n",
       "std    3.587954e+06           92.866598     192.139578   40112.337051   \n",
       "min    0.000000e+00         1000.000000       0.000000    5000.000000   \n",
       "25%    1.150000e+03         1999.000000      70.000000  125000.000000   \n",
       "50%    2.950000e+03         2003.000000     105.000000  150000.000000   \n",
       "75%    7.200000e+03         2008.000000     150.000000  150000.000000   \n",
       "max    2.147484e+09         9999.000000   20000.000000  150000.000000   \n",
       "\n",
       "       monthOfRegistration  nrOfPictures    postalCode  \n",
       "count        371528.000000      371528.0  371528.00000  \n",
       "mean              5.734445           0.0   50820.66764  \n",
       "std               3.712412           0.0   25799.08247  \n",
       "min               0.000000           0.0    1067.00000  \n",
       "25%               3.000000           0.0   30459.00000  \n",
       "50%               6.000000           0.0   49610.00000  \n",
       "75%               9.000000           0.0   71546.00000  \n",
       "max              12.000000           0.0   99998.00000  "
      ]
     },
     "execution_count": null,
     "metadata": {},
     "output_type": "execute_result"
    }
   ],
   "source": [
    "df.describe()"
   ]
  },
  {
   "cell_type": "markdown",
   "metadata": {},
   "source": [
    "- We see outliers in:\n",
    "\n",
    "1. Price: minimum value 0, and maximum value > 2000M euros\n",
    "1. Year of registration: minimum value 1000, and maximum value > 3000\n",
    "1. Month of registration: minimum value 0\n",
    "1. powerPS: minimum value 0, maximum value 20K\n",
    "\n",
    "- We also see that nrOfPictures is always zero, so that it is not relevant"
   ]
  },
  {
   "cell_type": "markdown",
   "metadata": {},
   "source": [
    "We have two possibilities:\n",
    "    \n",
    "1. Remove rows with outliers\n",
    "2. Treat outlier values as missing values\n",
    "\n",
    "In this analysis, we go for the second option."
   ]
  },
  {
   "cell_type": "markdown",
   "metadata": {},
   "source": [
    "Typical outlier detection methods:\n",
    "\n",
    "1. Based on percentile\n",
    "1. Based on z-score\n",
    "\n",
    "In this analysis, we go for the first option:"
   ]
  },
  {
   "cell_type": "code",
   "execution_count": null,
   "metadata": {},
   "outputs": [
    {
     "data": {
      "text/plain": [
       "(False, 0.5)"
      ]
     },
     "execution_count": null,
     "metadata": {},
     "output_type": "execute_result"
    }
   ],
   "source": [
    "df_clean = df.copy()\n",
    "df_clean[numerical_variables] = df_clean[numerical_variables].apply (\n",
    "    lambda x: x.mask ((x < x.quantile(outliers['numeric_variables_low'])) | (x > x.quantile(outliers['numeric_variables_high'])))\n",
    ")\n",
    "\n",
    "# see if there are rows that have all values missing and need to be removed, and\n",
    "# check maximum ratio of missing values in one row\n",
    "df_clean[numerical_variables].isna().all(axis=1).any(), df_clean[numerical_variables].isna().mean(axis=1).max()"
   ]
  },
  {
   "cell_type": "markdown",
   "metadata": {},
   "source": [
    "### Remove nrOfPictures"
   ]
  },
  {
   "cell_type": "markdown",
   "metadata": {},
   "source": [
    "We remove the column `nrOfPictures`, since it is not relevant:"
   ]
  },
  {
   "cell_type": "code",
   "execution_count": null,
   "metadata": {},
   "outputs": [],
   "source": [
    "df_clean = df_clean.drop (columns='nrOfPictures')\n",
    "numerical_variables.remove ('nrOfPictures')"
   ]
  },
  {
   "cell_type": "markdown",
   "metadata": {},
   "source": [
    "### dateCreated"
   ]
  },
  {
   "cell_type": "markdown",
   "metadata": {},
   "source": [
    "We examine the column `dateCreated`:"
   ]
  },
  {
   "cell_type": "code",
   "execution_count": null,
   "metadata": {},
   "outputs": [
    {
     "data": {
      "text/plain": [
       "Timedelta('759 days 00:00:00')"
      ]
     },
     "execution_count": null,
     "metadata": {},
     "output_type": "execute_result"
    }
   ],
   "source": [
    "df_clean.dateCreated.max()-df_clean.dateCreated.min()"
   ]
  },
  {
   "cell_type": "markdown",
   "metadata": {},
   "source": [
    "The time span is more than 2 years. However, we see below that there are only few cases where the ad was posted more than few months ago, while the rest are just a few months old. To see that, we transform `dateCreated` to the offset in terms of number of months since the earliest ad in the dataset:"
   ]
  },
  {
   "cell_type": "code",
   "execution_count": null,
   "metadata": {},
   "outputs": [],
   "source": [
    "df_clean['offset_date'] = (df_clean['dateCreated']-df_clean['dateCreated'].min()).dt.days"
   ]
  },
  {
   "cell_type": "code",
   "execution_count": null,
   "metadata": {},
   "outputs": [
    {
     "data": {
      "text/plain": [
       "<Axes: >"
      ]
     },
     "execution_count": null,
     "metadata": {},
     "output_type": "execute_result"
    },
    {
     "data": {
      "image/png": "[encoded data removed]",
      "text/plain": [
       "<Figure size 640x480 with 1 Axes>"
      ]
     },
     "metadata": {},
     "output_type": "display_data"
    }
   ],
   "source": [
    "df_clean.offset_date.hist()"
   ]
  },
  {
   "cell_type": "markdown",
   "metadata": {},
   "source": [
    "Clearly, almost all the ads are in one bin. Let's look at this:"
   ]
  },
  {
   "cell_type": "code",
   "execution_count": null,
   "metadata": {},
   "outputs": [
    {
     "data": {
      "text/html": [
       "<div>\n",
       "<style scoped>\n",
       "    .dataframe tbody tr th:only-of-type {\n",
       "        vertical-align: middle;\n",
       "    }\n",
       "\n",
       "    .dataframe tbody tr th {\n",
       "        vertical-align: top;\n",
       "    }\n",
       "\n",
       "    .dataframe thead th {\n",
       "        text-align: right;\n",
       "    }\n",
       "</style>\n",
       "<table border=\"1\" class=\"dataframe\">\n",
       "  <thead>\n",
       "    <tr style=\"text-align: right;\">\n",
       "      <th></th>\n",
       "      <th>0</th>\n",
       "      <th>1</th>\n",
       "      <th>2</th>\n",
       "      <th>3</th>\n",
       "      <th>4</th>\n",
       "      <th>5</th>\n",
       "      <th>6</th>\n",
       "      <th>7</th>\n",
       "      <th>8</th>\n",
       "      <th>9</th>\n",
       "    </tr>\n",
       "  </thead>\n",
       "  <tbody>\n",
       "    <tr>\n",
       "      <th>number_ads</th>\n",
       "      <td>1.0</td>\n",
       "      <td>0.0</td>\n",
       "      <td>0.0</td>\n",
       "      <td>0.0</td>\n",
       "      <td>1.0</td>\n",
       "      <td>0.0</td>\n",
       "      <td>4.0</td>\n",
       "      <td>5.0</td>\n",
       "      <td>53.0</td>\n",
       "      <td>371464.0</td>\n",
       "    </tr>\n",
       "    <tr>\n",
       "      <th>bins</th>\n",
       "      <td>75.9</td>\n",
       "      <td>151.8</td>\n",
       "      <td>227.7</td>\n",
       "      <td>303.6</td>\n",
       "      <td>379.5</td>\n",
       "      <td>455.4</td>\n",
       "      <td>531.3</td>\n",
       "      <td>607.2</td>\n",
       "      <td>683.1</td>\n",
       "      <td>759.0</td>\n",
       "    </tr>\n",
       "  </tbody>\n",
       "</table>\n",
       "</div>"
      ],
      "text/plain": [
       "               0      1      2      3      4      5      6      7      8  \\\n",
       "number_ads   1.0    0.0    0.0    0.0    1.0    0.0    4.0    5.0   53.0   \n",
       "bins        75.9  151.8  227.7  303.6  379.5  455.4  531.3  607.2  683.1   \n",
       "\n",
       "                   9  \n",
       "number_ads  371464.0  \n",
       "bins           759.0  "
      ]
     },
     "execution_count": null,
     "metadata": {},
     "output_type": "execute_result"
    }
   ],
   "source": [
    "number_ads, bins = np.histogram (df_clean.offset_date)\n",
    "pd.DataFrame ([number_ads, bins[1:]], index=['number_ads','bins'])"
   ]
  },
  {
   "cell_type": "markdown",
   "metadata": {},
   "source": [
    "In the table above, we see that the last bin is where almost all the ads are, followed by the second to last bin, with few ads. From the 5th bin downwards, there are only 2 ads."
   ]
  },
  {
   "cell_type": "code",
   "execution_count": null,
   "metadata": {},
   "outputs": [
    {
     "name": "stdout",
     "output_type": "stream",
     "text": [
      "oldest ads created between:  2014-03-10 00:00:00 2015-03-20 00:00:00\n",
      "remaining ads created between:  2015-06-11 00:00:00 2016-04-07 00:00:00\n"
     ]
    }
   ],
   "source": [
    "very_old_ads = df_clean[df_clean.offset_date < 450]\n",
    "other_ads = df_clean[df_clean.offset_date >= 450]\n",
    "\n",
    "print ('oldest ads created between: ', very_old_ads.dateCreated.min(),very_old_ads.dateCreated.max())\n",
    "\n",
    "print ('remaining ads created between: ', other_ads.dateCreated.min(),other_ads.dateCreated.max())"
   ]
  },
  {
   "cell_type": "markdown",
   "metadata": {},
   "source": [
    "We have four options: \n",
    "\n",
    "    - no outlier\n",
    "    - oldest (2014) is outlier\n",
    "    - two oldest (before mid year 2016) are outliers.\n",
    "    - all but the ones in the last two bins (with 53 and 371464 rows) are outliers \n",
    "    - use a quantile as done for the other numerical variables.\n",
    "    \n",
    "In this analysis, we use the third option: treat the two oldest ads as two outliers:"
   ]
  },
  {
   "cell_type": "code",
   "execution_count": null,
   "metadata": {},
   "outputs": [],
   "source": [
    "if outliers['date_created']:\n",
    "    df_clean = df_clean[df_clean.dateCreated >= '2015-06-01']"
   ]
  },
  {
   "cell_type": "code",
   "execution_count": null,
   "metadata": {},
   "outputs": [],
   "source": [
    "df_clean = df_clean.drop (columns = 'offset_date')"
   ]
  },
  {
   "cell_type": "markdown",
   "metadata": {},
   "source": [
    "### yearRegistration + monthRegistration"
   ]
  },
  {
   "cell_type": "markdown",
   "metadata": {},
   "source": [
    "We use `yearOfRegistration` and `monthOfRegistration` to calculate the age of the vehicle, in number of months since the ad was posted. We first look if the outlier removal removed suspicious low and high values:"
   ]
  },
  {
   "cell_type": "code",
   "execution_count": null,
   "metadata": {},
   "outputs": [
    {
     "data": {
      "text/html": [
       "<div>\n",
       "<style scoped>\n",
       "    .dataframe tbody tr th:only-of-type {\n",
       "        vertical-align: middle;\n",
       "    }\n",
       "\n",
       "    .dataframe tbody tr th {\n",
       "        vertical-align: top;\n",
       "    }\n",
       "\n",
       "    .dataframe thead th {\n",
       "        text-align: right;\n",
       "    }\n",
       "</style>\n",
       "<table border=\"1\" class=\"dataframe\">\n",
       "  <thead>\n",
       "    <tr style=\"text-align: right;\">\n",
       "      <th></th>\n",
       "      <th>monthOfRegistration</th>\n",
       "      <th>yearOfRegistration</th>\n",
       "    </tr>\n",
       "  </thead>\n",
       "  <tbody>\n",
       "    <tr>\n",
       "      <th>min</th>\n",
       "      <td>0.0</td>\n",
       "      <td>1978.0</td>\n",
       "    </tr>\n",
       "    <tr>\n",
       "      <th>max</th>\n",
       "      <td>12.0</td>\n",
       "      <td>2018.0</td>\n",
       "    </tr>\n",
       "  </tbody>\n",
       "</table>\n",
       "</div>"
      ],
      "text/plain": [
       "     monthOfRegistration  yearOfRegistration\n",
       "min                  0.0              1978.0\n",
       "max                 12.0              2018.0"
      ]
     },
     "execution_count": null,
     "metadata": {},
     "output_type": "execute_result"
    }
   ],
   "source": [
    "df_clean[['monthOfRegistration','yearOfRegistration']].describe().loc[['min','max']]"
   ]
  },
  {
   "cell_type": "markdown",
   "metadata": {},
   "source": [
    "There are still months with value 0, we treat them as missing values. We impute them using the middle of the year, month 6."
   ]
  },
  {
   "cell_type": "code",
   "execution_count": null,
   "metadata": {},
   "outputs": [],
   "source": [
    "df_clean.loc [df_clean.monthOfRegistration==0, 'monthOfRegistration'] = 6"
   ]
  },
  {
   "cell_type": "code",
   "execution_count": null,
   "metadata": {},
   "outputs": [],
   "source": [
    "df_clean['age'] = pd.to_datetime(df_clean.dateCreated.max()) - pd.to_datetime ({\n",
    "    'month': df_clean.monthOfRegistration,\n",
    "    'year': df_clean.yearOfRegistration,\n",
    "    'day': np.tile (15, df_clean.shape[0])}\n",
    ")\n",
    "\n",
    "df_clean['age'] = df_clean['age'].dt.days"
   ]
  },
  {
   "cell_type": "code",
   "execution_count": null,
   "metadata": {},
   "outputs": [],
   "source": [
    "numerical_variables.remove ('yearOfRegistration')\n",
    "numerical_variables.remove ('monthOfRegistration')\n",
    "numerical_variables.append ('age')"
   ]
  },
  {
   "cell_type": "markdown",
   "metadata": {},
   "source": [
    "### Target variable"
   ]
  },
  {
   "cell_type": "code",
   "execution_count": null,
   "metadata": {},
   "outputs": [],
   "source": [
    "df_clean[target_variable] = (df_clean ['lastSeen'] - df_clean['dateCreated']).dt.days"
   ]
  },
  {
   "cell_type": "markdown",
   "metadata": {},
   "source": [
    "### date information"
   ]
  },
  {
   "cell_type": "markdown",
   "metadata": {},
   "source": [
    "Depending on whether the ad was posted on a weekend, on holidays, etc., more people might be able to look at it and it might be sold more quickly. We add this information here:"
   ]
  },
  {
   "cell_type": "code",
   "execution_count": null,
   "metadata": {},
   "outputs": [],
   "source": [
    "if add_datepart_flag:\n",
    "    country_holidays = holidays.country_holidays('DE')\n",
    "    df_clean['holidays'] = [int(day in country_holidays) for day in df_clean.dateCreated]\n",
    "    df_clean['day_of_week'] = df_clean.dateCreated.dt.dayofweek.values"
   ]
  },
  {
   "cell_type": "code",
   "execution_count": null,
   "metadata": {},
   "outputs": [],
   "source": [
    "numerical_variables.append ('day_of_week')\n",
    "categorical_variables.append ('holidays')"
   ]
  },
  {
   "cell_type": "code",
   "execution_count": null,
   "metadata": {},
   "outputs": [
    {
     "data": {
      "text/plain": [
       "['results/used_cars/df_clean.pkl']"
      ]
     },
     "execution_count": null,
     "metadata": {},
     "output_type": "execute_result"
    }
   ],
   "source": [
    "joblib.dump ([df_clean, numerical_variables, categorical_variables], results_path / 'df_clean.pkl')"
   ]
  },
  {
   "cell_type": "markdown",
   "metadata": {},
   "source": [
    "### Histograms "
   ]
  },
  {
   "cell_type": "markdown",
   "metadata": {},
   "source": [
    "We look at the resulting histograms to see if there are clear outliers. This doesn't seem to be the case."
   ]
  },
  {
   "cell_type": "code",
   "execution_count": null,
   "metadata": {},
   "outputs": [
    {
     "data": {
      "text/plain": [
       "<Axes: >"
      ]
     },
     "execution_count": null,
     "metadata": {},
     "output_type": "execute_result"
    },
    {
     "data": {
      "image/png": "[encoded data removed]",
      "text/plain": [
       "<Figure size 640x480 with 1 Axes>"
      ]
     },
     "metadata": {},
     "output_type": "display_data"
    }
   ],
   "source": [
    "df_clean['price'].hist()"
   ]
  },
  {
   "cell_type": "code",
   "execution_count": null,
   "metadata": {},
   "outputs": [
    {
     "data": {
      "text/plain": [
       "<Axes: >"
      ]
     },
     "execution_count": null,
     "metadata": {},
     "output_type": "execute_result"
    },
    {
     "data": {
      "image/png": "[encoded data removed]",
      "text/plain": [
       "<Figure size 640x480 with 1 Axes>"
      ]
     },
     "metadata": {},
     "output_type": "display_data"
    }
   ],
   "source": [
    "df_clean['age'].hist()"
   ]
  },
  {
   "cell_type": "code",
   "execution_count": null,
   "metadata": {},
   "outputs": [
    {
     "data": {
      "text/plain": [
       "<Axes: >"
      ]
     },
     "execution_count": null,
     "metadata": {},
     "output_type": "execute_result"
    },
    {
     "data": {
      "image/png": "[encoded data removed]",
      "text/plain": [
       "<Figure size 640x480 with 1 Axes>"
      ]
     },
     "metadata": {},
     "output_type": "display_data"
    }
   ],
   "source": [
    "df_clean['powerPS'].hist()"
   ]
  },
  {
   "cell_type": "code",
   "execution_count": null,
   "metadata": {},
   "outputs": [
    {
     "data": {
      "text/plain": [
       "<Axes: >"
      ]
     },
     "execution_count": null,
     "metadata": {},
     "output_type": "execute_result"
    },
    {
     "data": {
      "image/png": "[encoded data removed]",
      "text/plain": [
       "<Figure size 640x480 with 1 Axes>"
      ]
     },
     "metadata": {},
     "output_type": "display_data"
    }
   ],
   "source": [
    "df_clean['kilometer'].hist()"
   ]
  },
  {
   "cell_type": "markdown",
   "metadata": {},
   "source": [
    "## Split data and preprocess"
   ]
  },
  {
   "cell_type": "markdown",
   "metadata": {},
   "source": [
    "The first step is to split the data in training and validation.  For simplicity, e don't use a test set here, although we should use it if we wanted to estimate the final accuracy after selecting our best model on the validation set."
   ]
  },
  {
   "cell_type": "code",
   "execution_count": null,
   "metadata": {},
   "outputs": [],
   "source": [
    "from sklearn.model_selection import train_test_split "
   ]
  },
  {
   "cell_type": "code",
   "execution_count": null,
   "metadata": {},
   "outputs": [
    {
     "data": {
      "text/plain": [
       "['results/used_cars/indexes.pkl']"
      ]
     },
     "execution_count": null,
     "metadata": {},
     "output_type": "execute_result"
    }
   ],
   "source": [
    "train_idx, valid_idx = train_test_split(np.arange(df_clean.shape[0]), test_size=0.30, random_state=42)\n",
    "joblib.dump ([train_idx, valid_idx], results_path / 'indexes.pkl')"
   ]
  },
  {
   "cell_type": "markdown",
   "metadata": {},
   "source": [
    "The second step is to preprocess the data. We do that with the help of `TabularPandas` in the `fastai` library:\n",
    "\n",
    "- Using `Categorify`, we replace columns in `categorical_variables` list with numeric categorical columns. We use just an discrete value instead of using a one-hot encoding. This tends to work better for decision trees and random forests, as explored in \"Splitting on Categorical Predictors in Random Forests\" \n",
    "\n",
    "- Using `FillMissing`, we replace missing values with the median, and we create a boolean column that is True for any row where the value was missing"
   ]
  },
  {
   "cell_type": "code",
   "execution_count": null,
   "metadata": {},
   "outputs": [],
   "source": [
    "procs = [Categorify, FillMissing]\n",
    "tabular = TabularPandas (df_clean, procs, categorical_variables, numerical_variables, y_names=target_variable, splits=(list(train_idx),list(valid_idx)))"
   ]
  },
  {
   "cell_type": "code",
   "execution_count": null,
   "metadata": {},
   "outputs": [
    {
     "data": {
      "text/plain": [
       "['data/datasets/tabular.pkl']"
      ]
     },
     "execution_count": null,
     "metadata": {},
     "output_type": "execute_result"
    }
   ],
   "source": [
    "path = Path('data/datasets')\n",
    "joblib.dump (tabular, path / 'tabular.pkl')"
   ]
  },
  {
   "cell_type": "markdown",
   "metadata": {},
   "source": [
    "## Decision Tree"
   ]
  },
  {
   "cell_type": "markdown",
   "metadata": {},
   "source": [
    "We start by fitting a very simple yet powerful type of model, the decision tree. A good characteristic of this type of model is that it is interpretable and allows to analyze the data and the important variables."
   ]
  },
  {
   "cell_type": "code",
   "execution_count": null,
   "metadata": {},
   "outputs": [],
   "source": [
    "tabular = joblib.load (path / 'tabular.pkl')"
   ]
  },
  {
   "cell_type": "code",
   "execution_count": null,
   "metadata": {},
   "outputs": [],
   "source": [
    "X, y = tabular.train.xs, tabular.train.y\n",
    "valid_X, valid_y = tabular.valid.xs, tabular.valid.y"
   ]
  },
  {
   "cell_type": "markdown",
   "metadata": {},
   "source": [
    "### Visualization"
   ]
  },
  {
   "cell_type": "markdown",
   "metadata": {},
   "source": [
    "We can visualize on which basis the tree splits the data. We see that:\n",
    "\n",
    "    - The most important predictor is the `price`: the lower the price, the lower the duration of the sale. \n",
    "    - The data where most errors happen is the one for large durations. This might be due to the few cases with a long duration, which could be considered almost outliers."
   ]
  },
  {
   "cell_type": "code",
   "execution_count": null,
   "metadata": {},
   "outputs": [],
   "source": [
    "m = DecisionTreeRegressor(max_leaf_nodes=4)\n",
    "m.fit (X, y);"
   ]
  },
  {
   "cell_type": "code",
   "execution_count": null,
   "metadata": {},
   "outputs": [
    {
     "name": "stderr",
     "output_type": "stream",
     "text": [
      "Warning: Could not load \"/home/jaumeamllo/miniconda3/envs/tsforecast/bin/../lib/graphviz/libgvplugin_pango.so.6\" - It was found, so perhaps one of its dependents was not.  Try ldd.\n",
      "Warning: no value for width of non-ASCII character 226. Falling back to width of space character\n"
     ]
    },
    {
     "data": {
      "image/svg+xml": [
       "<?xml version=\"1.0\" encoding=\"UTF-8\" standalone=\"no\"?>\n",
       "<!DOCTYPE svg PUBLIC \"-//W3C//DTD SVG 1.1//EN\"\n",
       " \"http://www.w3.org/Graphics/SVG/1.1/DTD/svg11.dtd\">\n",
       "<!-- Generated by graphviz version 2.50.0 (0)\n",
       " -->\n",
       "<!-- Title: Tree Pages: 1 -->\n",
       "<svg width=\"682pt\" height=\"412pt\"\n",
       " viewBox=\"0.00 0.00 681.93 412.08\" xmlns=\"http://www.w3.org/2000/svg\" xmlns:xlink=\"http://www.w3.org/1999/xlink\">\n",
       "<g id=\"graph0\" class=\"graph\" transform=\"scale(1 1) rotate(0) translate(4 408.08)\">\n",
       "<title>Tree</title>\n",
       "<polygon fill=\"white\" stroke=\"transparent\" points=\"-4,4 -4,-408.08 677.93,-408.08 677.93,4 -4,4\"/>\n",
       "<!-- 0 -->\n",
       "<g id=\"node1\" class=\"node\">\n",
       "<title>0</title>\n",
       "<path fill=\"#f6d5bc\" stroke=\"black\" d=\"M401.89,-389.7C401.89,-389.7 271.04,-389.7 271.04,-389.7 265.04,-389.7 259.04,-383.7 259.04,-377.7 259.04,-377.7 259.04,-326.3 259.04,-326.3 259.04,-320.3 265.04,-314.3 271.04,-314.3 271.04,-314.3 401.89,-314.3 401.89,-314.3 407.89,-314.3 413.89,-320.3 413.89,-326.3 413.89,-326.3 413.89,-377.7 413.89,-377.7 413.89,-383.7 407.89,-389.7 401.89,-389.7\"/>\n",
       "<text text-anchor=\"start\" x=\"290.16\" y=\"-373\" font-family=\"Helvetica,sans-Serif\" font-size=\"14.00\">price ≤ 4657.5</text>\n",
       "<text text-anchor=\"start\" x=\"267\" y=\"-356.2\" font-family=\"Helvetica,sans-Serif\" font-size=\"14.00\">squared_error = 73.39</text>\n",
       "<text text-anchor=\"start\" x=\"279.06\" y=\"-339.4\" font-family=\"Helvetica,sans-Serif\" font-size=\"14.00\">samples = 260068</text>\n",
       "<text text-anchor=\"start\" x=\"298.13\" y=\"-322.6\" font-family=\"Helvetica,sans-Serif\" font-size=\"14.00\">value = 8.82</text>\n",
       "</g>\n",
       "<!-- 1 -->\n",
       "<g id=\"node2\" class=\"node\">\n",
       "<title>1</title>\n",
       "<path fill=\"#fdf5ef\" stroke=\"black\" d=\"M315.89,-233.7C315.89,-233.7 185.04,-233.7 185.04,-233.7 179.04,-233.7 173.04,-227.7 173.04,-221.7 173.04,-221.7 173.04,-170.3 173.04,-170.3 173.04,-164.3 179.04,-158.3 185.04,-158.3 185.04,-158.3 315.89,-158.3 315.89,-158.3 321.89,-158.3 327.89,-164.3 327.89,-170.3 327.89,-170.3 327.89,-221.7 327.89,-221.7 327.89,-227.7 321.89,-233.7 315.89,-233.7\"/>\n",
       "<text text-anchor=\"start\" x=\"204.16\" y=\"-217\" font-family=\"Helvetica,sans-Serif\" font-size=\"14.00\">price ≤ 2886.5</text>\n",
       "<text text-anchor=\"start\" x=\"181\" y=\"-200.2\" font-family=\"Helvetica,sans-Serif\" font-size=\"14.00\">squared_error = 66.68</text>\n",
       "<text text-anchor=\"start\" x=\"193.06\" y=\"-183.4\" font-family=\"Helvetica,sans-Serif\" font-size=\"14.00\">samples = 166695</text>\n",
       "<text text-anchor=\"start\" x=\"212.13\" y=\"-166.6\" font-family=\"Helvetica,sans-Serif\" font-size=\"14.00\">value = 7.89</text>\n",
       "</g>\n",
       "<!-- 0&#45;&gt;1 -->\n",
       "<g id=\"edge1\" class=\"edge\">\n",
       "<title>0&#45;&gt;1</title>\n",
       "<path fill=\"none\" stroke=\"black\" d=\"M315.86,-314.11C303.89,-292.67 288.7,-265.46 275.97,-242.67\"/>\n",
       "<polygon fill=\"black\" stroke=\"black\" points=\"278.97,-240.88 271.04,-233.85 272.86,-244.29 278.97,-240.88\"/>\n",
       "<text text-anchor=\"middle\" x=\"264.23\" y=\"-253.71\" font-family=\"Helvetica,sans-Serif\" font-size=\"14.00\">True</text>\n",
       "</g>\n",
       "<!-- 2 -->\n",
       "<g id=\"node5\" class=\"node\">\n",
       "<title>2</title>\n",
       "<path fill=\"#ea9a61\" stroke=\"black\" d=\"M488.89,-233.7C488.89,-233.7 358.04,-233.7 358.04,-233.7 352.04,-233.7 346.04,-227.7 346.04,-221.7 346.04,-221.7 346.04,-170.3 346.04,-170.3 346.04,-164.3 352.04,-158.3 358.04,-158.3 358.04,-158.3 488.89,-158.3 488.89,-158.3 494.89,-158.3 500.89,-164.3 500.89,-170.3 500.89,-170.3 500.89,-221.7 500.89,-221.7 500.89,-227.7 494.89,-233.7 488.89,-233.7\"/>\n",
       "<text text-anchor=\"start\" x=\"377.16\" y=\"-217\" font-family=\"Helvetica,sans-Serif\" font-size=\"14.00\">price ≤ 8949.5</text>\n",
       "<text text-anchor=\"start\" x=\"354\" y=\"-200.2\" font-family=\"Helvetica,sans-Serif\" font-size=\"14.00\">squared_error = 81.03</text>\n",
       "<text text-anchor=\"start\" x=\"369.96\" y=\"-183.4\" font-family=\"Helvetica,sans-Serif\" font-size=\"14.00\">samples = 93373</text>\n",
       "<text text-anchor=\"start\" x=\"381.23\" y=\"-166.6\" font-family=\"Helvetica,sans-Serif\" font-size=\"14.00\">value = 10.49</text>\n",
       "</g>\n",
       "<!-- 0&#45;&gt;2 -->\n",
       "<g id=\"edge4\" class=\"edge\">\n",
       "<title>0&#45;&gt;2</title>\n",
       "<path fill=\"none\" stroke=\"black\" d=\"M357.3,-314.11C369.42,-292.67 384.79,-265.46 397.66,-242.67\"/>\n",
       "<polygon fill=\"black\" stroke=\"black\" points=\"400.77,-244.28 402.64,-233.85 394.68,-240.84 400.77,-244.28\"/>\n",
       "<text text-anchor=\"middle\" x=\"409.34\" y=\"-253.74\" font-family=\"Helvetica,sans-Serif\" font-size=\"14.00\">False</text>\n",
       "</g>\n",
       "<!-- 5 -->\n",
       "<g id=\"node3\" class=\"node\">\n",
       "<title>5</title>\n",
       "<path fill=\"#ffffff\" stroke=\"black\" d=\"M142.89,-70.4C142.89,-70.4 12.04,-70.4 12.04,-70.4 6.04,-70.4 0.04,-64.4 0.04,-58.4 0.04,-58.4 0.04,-23.6 0.04,-23.6 0.04,-17.6 6.04,-11.6 12.04,-11.6 12.04,-11.6 142.89,-11.6 142.89,-11.6 148.89,-11.6 154.89,-17.6 154.89,-23.6 154.89,-23.6 154.89,-58.4 154.89,-58.4 154.89,-64.4 148.89,-70.4 142.89,-70.4\"/>\n",
       "<text text-anchor=\"start\" x=\"8\" y=\"-53.6\" font-family=\"Helvetica,sans-Serif\" font-size=\"14.00\">squared_error = 64.64</text>\n",
       "<text text-anchor=\"start\" x=\"20.06\" y=\"-36.8\" font-family=\"Helvetica,sans-Serif\" font-size=\"14.00\">samples = 127825</text>\n",
       "<text text-anchor=\"start\" x=\"43.02\" y=\"-20\" font-family=\"Helvetica,sans-Serif\" font-size=\"14.00\">value = 7.6</text>\n",
       "</g>\n",
       "<!-- 1&#45;&gt;5 -->\n",
       "<g id=\"edge2\" class=\"edge\">\n",
       "<title>1&#45;&gt;5</title>\n",
       "<path fill=\"none\" stroke=\"black\" d=\"M209.03,-158.35C181.07,-133.63 144.39,-101.19 116.87,-76.85\"/>\n",
       "<polygon fill=\"black\" stroke=\"black\" points=\"119.17,-74.21 109.36,-70.21 114.53,-79.46 119.17,-74.21\"/>\n",
       "</g>\n",
       "<!-- 6 -->\n",
       "<g id=\"node4\" class=\"node\">\n",
       "<title>6</title>\n",
       "<path fill=\"#f6d4bc\" stroke=\"black\" d=\"M315.89,-70.4C315.89,-70.4 185.04,-70.4 185.04,-70.4 179.04,-70.4 173.04,-64.4 173.04,-58.4 173.04,-58.4 173.04,-23.6 173.04,-23.6 173.04,-17.6 179.04,-11.6 185.04,-11.6 185.04,-11.6 315.89,-11.6 315.89,-11.6 321.89,-11.6 327.89,-17.6 327.89,-23.6 327.89,-23.6 327.89,-58.4 327.89,-58.4 327.89,-64.4 321.89,-70.4 315.89,-70.4\"/>\n",
       "<text text-anchor=\"start\" x=\"181\" y=\"-53.6\" font-family=\"Helvetica,sans-Serif\" font-size=\"14.00\">squared_error = 72.23</text>\n",
       "<text text-anchor=\"start\" x=\"196.96\" y=\"-36.8\" font-family=\"Helvetica,sans-Serif\" font-size=\"14.00\">samples = 38870</text>\n",
       "<text text-anchor=\"start\" x=\"212.13\" y=\"-20\" font-family=\"Helvetica,sans-Serif\" font-size=\"14.00\">value = 8.83</text>\n",
       "</g>\n",
       "<!-- 1&#45;&gt;6 -->\n",
       "<g id=\"edge3\" class=\"edge\">\n",
       "<title>1&#45;&gt;6</title>\n",
       "<path fill=\"none\" stroke=\"black\" d=\"M250.46,-158.35C250.46,-134.79 250.46,-104.22 250.46,-80.33\"/>\n",
       "<polygon fill=\"black\" stroke=\"black\" points=\"253.96,-80.21 250.46,-70.21 246.96,-80.21 253.96,-80.21\"/>\n",
       "</g>\n",
       "<!-- 3 -->\n",
       "<g id=\"node6\" class=\"node\">\n",
       "<title>3</title>\n",
       "<path fill=\"#f0b58b\" stroke=\"black\" d=\"M488.89,-70.4C488.89,-70.4 358.04,-70.4 358.04,-70.4 352.04,-70.4 346.04,-64.4 346.04,-58.4 346.04,-58.4 346.04,-23.6 346.04,-23.6 346.04,-17.6 352.04,-11.6 358.04,-11.6 358.04,-11.6 488.89,-11.6 488.89,-11.6 494.89,-11.6 500.89,-17.6 500.89,-23.6 500.89,-23.6 500.89,-58.4 500.89,-58.4 500.89,-64.4 494.89,-70.4 488.89,-70.4\"/>\n",
       "<text text-anchor=\"start\" x=\"354\" y=\"-53.6\" font-family=\"Helvetica,sans-Serif\" font-size=\"14.00\">squared_error = 75.97</text>\n",
       "<text text-anchor=\"start\" x=\"369.96\" y=\"-36.8\" font-family=\"Helvetica,sans-Serif\" font-size=\"14.00\">samples = 45255</text>\n",
       "<text text-anchor=\"start\" x=\"385.13\" y=\"-20\" font-family=\"Helvetica,sans-Serif\" font-size=\"14.00\">value = 9.71</text>\n",
       "</g>\n",
       "<!-- 2&#45;&gt;3 -->\n",
       "<g id=\"edge5\" class=\"edge\">\n",
       "<title>2&#45;&gt;3</title>\n",
       "<path fill=\"none\" stroke=\"black\" d=\"M423.46,-158.35C423.46,-134.79 423.46,-104.22 423.46,-80.33\"/>\n",
       "<polygon fill=\"black\" stroke=\"black\" points=\"426.96,-80.21 423.46,-70.21 419.96,-80.21 426.96,-80.21\"/>\n",
       "</g>\n",
       "<!-- 4 -->\n",
       "<g id=\"node7\" class=\"node\">\n",
       "<title>4</title>\n",
       "<path fill=\"#e58139\" stroke=\"black\" d=\"M661.89,-70.4C661.89,-70.4 531.04,-70.4 531.04,-70.4 525.04,-70.4 519.04,-64.4 519.04,-58.4 519.04,-58.4 519.04,-23.6 519.04,-23.6 519.04,-17.6 525.04,-11.6 531.04,-11.6 531.04,-11.6 661.89,-11.6 661.89,-11.6 667.89,-11.6 673.89,-17.6 673.89,-23.6 673.89,-23.6 673.89,-58.4 673.89,-58.4 673.89,-64.4 667.89,-70.4 661.89,-70.4\"/>\n",
       "<text text-anchor=\"start\" x=\"527\" y=\"-53.6\" font-family=\"Helvetica,sans-Serif\" font-size=\"14.00\">squared_error = 84.69</text>\n",
       "<text text-anchor=\"start\" x=\"542.96\" y=\"-36.8\" font-family=\"Helvetica,sans-Serif\" font-size=\"14.00\">samples = 48118</text>\n",
       "<text text-anchor=\"start\" x=\"554.23\" y=\"-20\" font-family=\"Helvetica,sans-Serif\" font-size=\"14.00\">value = 11.22</text>\n",
       "</g>\n",
       "<!-- 2&#45;&gt;4 -->\n",
       "<g id=\"edge6\" class=\"edge\">\n",
       "<title>2&#45;&gt;4</title>\n",
       "<path fill=\"none\" stroke=\"black\" d=\"M464.9,-158.35C492.86,-133.63 529.54,-101.19 557.06,-76.85\"/>\n",
       "<polygon fill=\"black\" stroke=\"black\" points=\"559.39,-79.46 564.56,-70.21 554.75,-74.21 559.39,-79.46\"/>\n",
       "</g>\n",
       "</g>\n",
       "</svg>\n"
      ],
      "text/plain": [
       "<graphviz.sources.Source>"
      ]
     },
     "execution_count": null,
     "metadata": {},
     "output_type": "execute_result"
    }
   ],
   "source": [
    "draw_tree(m, X, size=10, leaves_parallel=True, precision=2)"
   ]
  },
  {
   "cell_type": "markdown",
   "metadata": {},
   "source": [
    "We can visualize the same using the `dtreeviz` library:"
   ]
  },
  {
   "cell_type": "code",
   "execution_count": null,
   "metadata": {},
   "outputs": [],
   "source": [
    "samp_idx = np.random.permutation(len(y))[:500]\n",
    "viz = dtreeviz.model (m, X.iloc[samp_idx], y.iloc[samp_idx], feature_names=X.columns, target_name=target_variable)"
   ]
  },
  {
   "cell_type": "code",
   "execution_count": null,
   "metadata": {},
   "outputs": [
    {
     "name": "stderr",
     "output_type": "stream",
     "text": [
      "/home/jaumeamllo/miniconda3/envs/tsforecast/lib/python3.10/site-packages/sklearn/base.py:420: UserWarning: X does not have valid feature names, but DecisionTreeRegressor was fitted with feature names\n",
      "Warning: Could not load \"/home/jaumeamllo/miniconda3/envs/tsforecast/bin/../lib/graphviz/libgvplugin_pango.so.6\" - It was found, so perhaps one of its dependents was not.  Try ldd.\n",
      "Warning: no value for width of non-ASCII character 226. Falling back to width of space character\n"
     ]
    },
    {
     "data": {
      "image/svg+xml": [
       "<svg xmlns=\"http://www.w3.org/2000/svg\" xmlns:dc=\"http://purl.org/dc/elements/1.1/\" xmlns:ns2=\"http://creativecommons.org/ns#\" xmlns:rdf=\"http://www.w3.org/1999/02/22-rdf-syntax-ns#\" xmlns:xlink=\"http://www.w3.org/1999/xlink\" width=\"958.0\" height=\"632.0\" viewBox=\"0.0 0.0 958.5 632.0\">\n",
       "<g id=\"graph0\" class=\"graph\" transform=\"scale(2 2) rotate(0) translate(4 312)\">\n",
       "<title>G</title>\n",
       "<polygon fill=\"white\" stroke=\"transparent\" points=\"-4,4 -4,-312 475.25,-312 475.25,4 -4,4\" />\n",
       "\n",
       "<g id=\"node1\" class=\"node\">\n",
       "<title>node1</title>\n",
       "<svg width=\"126px\" height=\"75px\" viewBox=\"0 0 169.405 99.7115\" version=\"1.1\" preserveAspectRatio=\"xMinYMin meet\" x=\"191.251\" y=\"-241\">\n",
       " <metadata>\n",
       "  <rdf:RDF>\n",
       "   <ns2:Work>\n",
       "    <dc:type rdf:resource=\"http://purl.org/dc/dcmitype/StillImage\" />\n",
       "    <dc:date>2023-04-07T10:03:53.741290</dc:date>\n",
       "    <dc:format>image/svg+xml</dc:format>\n",
       "    <dc:creator>\n",
       "     <ns2:Agent>\n",
       "      <dc:title>Matplotlib v3.7.0, https://matplotlib.org/</dc:title>\n",
       "     </ns2:Agent>\n",
       "    </dc:creator>\n",
       "   </ns2:Work>\n",
       "  </rdf:RDF>\n",
       " </metadata>\n",
       " <defs>\n",
       "  <style type=\"text/css\">*{stroke-linejoin: round; stroke-linecap: butt}</style>\n",
       " </defs>\n",
       " <g id=\"figure_1\">\n",
       "  <g id=\"patch_1\">\n",
       "   <path d=\"M 0 99.7115  L 169.405 99.7115  L 169.405 0  L 0 0  z \" style=\"fill: #ffffff\" />\n",
       "  </g>\n",
       "  <g id=\"axes_1\">\n",
       "   <g id=\"patch_2\">\n",
       "    <path d=\"M 17.18 60.984  L 156.68 60.984  L 156.68 0  L 17.18 0  z \" style=\"fill: #ffffff\" />\n",
       "   </g>\n",
       "   <g id=\"PathCollection_1\">\n",
       "    <defs>\n",
       "     <path id=\"m8737fc55cb\" d=\"M 0 1.118034  C 0.296506 1.118034 0.580908 1.000231 0.790569 0.790569  C 1.000231 0.580908 1.118034 0.296506 1.118034 0  C 1.118034 -0.296506 1.000231 -0.580908 0.790569 -0.790569  C 0.580908 -1.000231 0.296506 -1.118034 0 -1.118034  C -0.296506 -1.118034 -0.580908 -1.000231 -0.790569 -0.790569  C -1.000231 -0.580908 -1.118034 -0.296506 -1.118034 0  C -1.118034 0.296506 -1.000231 0.580908 -0.790569 0.790569  C -0.580908 1.000231 -0.296506 1.118034 0 1.118034  z \" style=\"stroke: #4575b4; stroke-opacity: 0.7; stroke-width: 0.3\" />\n",
       "    </defs>\n",
       "    <g clip-path=\"url(#pff98f60e2f)\">\n",
       "     <use xlink:href=\"#m8737fc55cb\" x=\"34.971304\" y=\"60.984\" style=\"fill: #4575b4; fill-opacity: 0.7; stroke: #4575b4; stroke-opacity: 0.7; stroke-width: 0.3\" />\n",
       "     <use xlink:href=\"#m8737fc55cb\" x=\"20.81913\" y=\"32.277204\" style=\"fill: #4575b4; fill-opacity: 0.7; stroke: #4575b4; stroke-opacity: 0.7; stroke-width: 0.3\" />\n",
       "     <use xlink:href=\"#m8737fc55cb\" x=\"29.310435\" y=\"46.630602\" style=\"fill: #4575b4; fill-opacity: 0.7; stroke: #4575b4; stroke-opacity: 0.7; stroke-width: 0.3\" />\n",
       "     <use xlink:href=\"#m8737fc55cb\" x=\"27.288696\" y=\"28.688854\" style=\"fill: #4575b4; fill-opacity: 0.7; stroke: #4575b4; stroke-opacity: 0.7; stroke-width: 0.3\" />\n",
       "     <use xlink:href=\"#m8737fc55cb\" x=\"22.02813\" y=\"55.601476\" style=\"fill: #4575b4; fill-opacity: 0.7; stroke: #4575b4; stroke-opacity: 0.7; stroke-width: 0.3\" />\n",
       "     <use xlink:href=\"#m8737fc55cb\" x=\"25.671304\" y=\"60.984\" style=\"fill: #4575b4; fill-opacity: 0.7; stroke: #4575b4; stroke-opacity: 0.7; stroke-width: 0.3\" />\n",
       "     <use xlink:href=\"#m8737fc55cb\" x=\"17.184043\" y=\"25.100505\" style=\"fill: #4575b4; fill-opacity: 0.7; stroke: #4575b4; stroke-opacity: 0.7; stroke-width: 0.3\" />\n",
       "     <use xlink:href=\"#m8737fc55cb\" x=\"32.136826\" y=\"57.39565\" style=\"fill: #4575b4; fill-opacity: 0.7; stroke: #4575b4; stroke-opacity: 0.7; stroke-width: 0.3\" />\n",
       "     <use xlink:href=\"#m8737fc55cb\" x=\"31.332174\" y=\"60.984\" style=\"fill: #4575b4; fill-opacity: 0.7; stroke: #4575b4; stroke-opacity: 0.7; stroke-width: 0.3\" />\n",
       "     <use xlink:href=\"#m8737fc55cb\" x=\"27.086522\" y=\"59.189825\" style=\"fill: #4575b4; fill-opacity: 0.7; stroke: #4575b4; stroke-opacity: 0.7; stroke-width: 0.3\" />\n",
       "     <use xlink:href=\"#m8737fc55cb\" x=\"22.84087\" y=\"43.042252\" style=\"fill: #4575b4; fill-opacity: 0.7; stroke: #4575b4; stroke-opacity: 0.7; stroke-width: 0.3\" />\n",
       "     <use xlink:href=\"#m8737fc55cb\" x=\"22.032174\" y=\"39.453903\" style=\"fill: #4575b4; fill-opacity: 0.7; stroke: #4575b4; stroke-opacity: 0.7; stroke-width: 0.3\" />\n",
       "     <use xlink:href=\"#m8737fc55cb\" x=\"23.447391\" y=\"57.39565\" style=\"fill: #4575b4; fill-opacity: 0.7; stroke: #4575b4; stroke-opacity: 0.7; stroke-width: 0.3\" />\n",
       "     <use xlink:href=\"#m8737fc55cb\" x=\"17.184043\" y=\"60.984\" style=\"fill: #4575b4; fill-opacity: 0.7; stroke: #4575b4; stroke-opacity: 0.7; stroke-width: 0.3\" />\n",
       "     <use xlink:href=\"#m8737fc55cb\" x=\"25.266957\" y=\"60.984\" style=\"fill: #4575b4; fill-opacity: 0.7; stroke: #4575b4; stroke-opacity: 0.7; stroke-width: 0.3\" />\n",
       "     <use xlink:href=\"#m8737fc55cb\" x=\"20.815087\" y=\"57.39565\" style=\"fill: #4575b4; fill-opacity: 0.7; stroke: #4575b4; stroke-opacity: 0.7; stroke-width: 0.3\" />\n",
       "     <use xlink:href=\"#m8737fc55cb\" x=\"22.432478\" y=\"52.013126\" style=\"fill: #4575b4; fill-opacity: 0.7; stroke: #4575b4; stroke-opacity: 0.7; stroke-width: 0.3\" />\n",
       "     <use xlink:href=\"#m8737fc55cb\" x=\"22.032174\" y=\"10.747107\" style=\"fill: #4575b4; fill-opacity: 0.7; stroke: #4575b4; stroke-opacity: 0.7; stroke-width: 0.3\" />\n",
       "     <use xlink:href=\"#m8737fc55cb\" x=\"34.364783\" y=\"48.424777\" style=\"fill: #4575b4; fill-opacity: 0.7; stroke: #4575b4; stroke-opacity: 0.7; stroke-width: 0.3\" />\n",
       "     <use xlink:href=\"#m8737fc55cb\" x=\"19.808261\" y=\"32.277204\" style=\"fill: #4575b4; fill-opacity: 0.7; stroke: #4575b4; stroke-opacity: 0.7; stroke-width: 0.3\" />\n",
       "     <use xlink:href=\"#m8737fc55cb\" x=\"24.660435\" y=\"57.39565\" style=\"fill: #4575b4; fill-opacity: 0.7; stroke: #4575b4; stroke-opacity: 0.7; stroke-width: 0.3\" />\n",
       "     <use xlink:href=\"#m8737fc55cb\" x=\"21.223478\" y=\"32.277204\" style=\"fill: #4575b4; fill-opacity: 0.7; stroke: #4575b4; stroke-opacity: 0.7; stroke-width: 0.3\" />\n",
       "     <use xlink:href=\"#m8737fc55cb\" x=\"18.793348\" y=\"57.39565\" style=\"fill: #4575b4; fill-opacity: 0.7; stroke: #4575b4; stroke-opacity: 0.7; stroke-width: 0.3\" />\n",
       "     <use xlink:href=\"#m8737fc55cb\" x=\"32.747391\" y=\"37.659728\" style=\"fill: #4575b4; fill-opacity: 0.7; stroke: #4575b4; stroke-opacity: 0.7; stroke-width: 0.3\" />\n",
       "     <use xlink:href=\"#m8737fc55cb\" x=\"17.18\" y=\"59.189825\" style=\"fill: #4575b4; fill-opacity: 0.7; stroke: #4575b4; stroke-opacity: 0.7; stroke-width: 0.3\" />\n",
       "     <use xlink:href=\"#m8737fc55cb\" x=\"24.862609\" y=\"60.984\" style=\"fill: #4575b4; fill-opacity: 0.7; stroke: #4575b4; stroke-opacity: 0.7; stroke-width: 0.3\" />\n",
       "     <use xlink:href=\"#m8737fc55cb\" x=\"35.375652\" y=\"60.984\" style=\"fill: #4575b4; fill-opacity: 0.7; stroke: #4575b4; stroke-opacity: 0.7; stroke-width: 0.3\" />\n",
       "     <use xlink:href=\"#m8737fc55cb\" x=\"19.42413\" y=\"57.39565\" style=\"fill: #4575b4; fill-opacity: 0.7; stroke: #4575b4; stroke-opacity: 0.7; stroke-width: 0.3\" />\n",
       "     <use xlink:href=\"#m8737fc55cb\" x=\"34.486087\" y=\"44.836427\" style=\"fill: #4575b4; fill-opacity: 0.7; stroke: #4575b4; stroke-opacity: 0.7; stroke-width: 0.3\" />\n",
       "     <use xlink:href=\"#m8737fc55cb\" x=\"23.245217\" y=\"8.952932\" style=\"fill: #4575b4; fill-opacity: 0.7; stroke: #4575b4; stroke-opacity: 0.7; stroke-width: 0.3\" />\n",
       "     <use xlink:href=\"#m8737fc55cb\" x=\"34.566957\" y=\"55.601476\" style=\"fill: #4575b4; fill-opacity: 0.7; stroke: #4575b4; stroke-opacity: 0.7; stroke-width: 0.3\" />\n",
       "     <use xlink:href=\"#m8737fc55cb\" x=\"17.18\" y=\"52.013126\" style=\"fill: #4575b4; fill-opacity: 0.7; stroke: #4575b4; stroke-opacity: 0.7; stroke-width: 0.3\" />\n",
       "     <use xlink:href=\"#m8737fc55cb\" x=\"24.458261\" y=\"57.39565\" style=\"fill: #4575b4; fill-opacity: 0.7; stroke: #4575b4; stroke-opacity: 0.7; stroke-width: 0.3\" />\n",
       "     <use xlink:href=\"#m8737fc55cb\" x=\"21.219435\" y=\"23.30633\" style=\"fill: #4575b4; fill-opacity: 0.7; stroke: #4575b4; stroke-opacity: 0.7; stroke-width: 0.3\" />\n",
       "     <use xlink:href=\"#m8737fc55cb\" x=\"21.627826\" y=\"44.836427\" style=\"fill: #4575b4; fill-opacity: 0.7; stroke: #4575b4; stroke-opacity: 0.7; stroke-width: 0.3\" />\n",
       "     <use xlink:href=\"#m8737fc55cb\" x=\"33.313478\" y=\"60.984\" style=\"fill: #4575b4; fill-opacity: 0.7; stroke: #4575b4; stroke-opacity: 0.7; stroke-width: 0.3\" />\n",
       "     <use xlink:href=\"#m8737fc55cb\" x=\"26.884348\" y=\"60.984\" style=\"fill: #4575b4; fill-opacity: 0.7; stroke: #4575b4; stroke-opacity: 0.7; stroke-width: 0.3\" />\n",
       "     <use xlink:href=\"#m8737fc55cb\" x=\"30.078696\" y=\"53.807301\" style=\"fill: #4575b4; fill-opacity: 0.7; stroke: #4575b4; stroke-opacity: 0.7; stroke-width: 0.3\" />\n",
       "     <use xlink:href=\"#m8737fc55cb\" x=\"18.999565\" y=\"35.865553\" style=\"fill: #4575b4; fill-opacity: 0.7; stroke: #4575b4; stroke-opacity: 0.7; stroke-width: 0.3\" />\n",
       "     <use xlink:href=\"#m8737fc55cb\" x=\"19.201739\" y=\"53.807301\" style=\"fill: #4575b4; fill-opacity: 0.7; stroke: #4575b4; stroke-opacity: 0.7; stroke-width: 0.3\" />\n",
       "     <use xlink:href=\"#m8737fc55cb\" x=\"26.48\" y=\"59.189825\" style=\"fill: #4575b4; fill-opacity: 0.7; stroke: #4575b4; stroke-opacity: 0.7; stroke-width: 0.3\" />\n",
       "     <use xlink:href=\"#m8737fc55cb\" x=\"29.714783\" y=\"60.984\" style=\"fill: #4575b4; fill-opacity: 0.7; stroke: #4575b4; stroke-opacity: 0.7; stroke-width: 0.3\" />\n",
       "     <use xlink:href=\"#m8737fc55cb\" x=\"20.81913\" y=\"39.453903\" style=\"fill: #4575b4; fill-opacity: 0.7; stroke: #4575b4; stroke-opacity: 0.7; stroke-width: 0.3\" />\n",
       "     <use xlink:href=\"#m8737fc55cb\" x=\"19.201739\" y=\"46.630602\" style=\"fill: #4575b4; fill-opacity: 0.7; stroke: #4575b4; stroke-opacity: 0.7; stroke-width: 0.3\" />\n",
       "     <use xlink:href=\"#m8737fc55cb\" x=\"34.162609\" y=\"53.807301\" style=\"fill: #4575b4; fill-opacity: 0.7; stroke: #4575b4; stroke-opacity: 0.7; stroke-width: 0.3\" />\n",
       "     <use xlink:href=\"#m8737fc55cb\" x=\"17.18\" y=\"53.807301\" style=\"fill: #4575b4; fill-opacity: 0.7; stroke: #4575b4; stroke-opacity: 0.7; stroke-width: 0.3\" />\n",
       "     <use xlink:href=\"#m8737fc55cb\" x=\"19.201739\" y=\"53.807301\" style=\"fill: #4575b4; fill-opacity: 0.7; stroke: #4575b4; stroke-opacity: 0.7; stroke-width: 0.3\" />\n",
       "     <use xlink:href=\"#m8737fc55cb\" x=\"19.606087\" y=\"52.013126\" style=\"fill: #4575b4; fill-opacity: 0.7; stroke: #4575b4; stroke-opacity: 0.7; stroke-width: 0.3\" />\n",
       "     <use xlink:href=\"#m8737fc55cb\" x=\"26.884348\" y=\"55.601476\" style=\"fill: #4575b4; fill-opacity: 0.7; stroke: #4575b4; stroke-opacity: 0.7; stroke-width: 0.3\" />\n",
       "     <use xlink:href=\"#m8737fc55cb\" x=\"21.425652\" y=\"17.923806\" style=\"fill: #4575b4; fill-opacity: 0.7; stroke: #4575b4; stroke-opacity: 0.7; stroke-width: 0.3\" />\n",
       "     <use xlink:href=\"#m8737fc55cb\" x=\"30.321304\" y=\"59.189825\" style=\"fill: #4575b4; fill-opacity: 0.7; stroke: #4575b4; stroke-opacity: 0.7; stroke-width: 0.3\" />\n",
       "     <use xlink:href=\"#m8737fc55cb\" x=\"22.032174\" y=\"46.630602\" style=\"fill: #4575b4; fill-opacity: 0.7; stroke: #4575b4; stroke-opacity: 0.7; stroke-width: 0.3\" />\n",
       "     <use xlink:href=\"#m8737fc55cb\" x=\"18.595217\" y=\"50.218951\" style=\"fill: #4575b4; fill-opacity: 0.7; stroke: #4575b4; stroke-opacity: 0.7; stroke-width: 0.3\" />\n",
       "     <use xlink:href=\"#m8737fc55cb\" x=\"18.393043\" y=\"60.984\" style=\"fill: #4575b4; fill-opacity: 0.7; stroke: #4575b4; stroke-opacity: 0.7; stroke-width: 0.3\" />\n",
       "     <use xlink:href=\"#m8737fc55cb\" x=\"21.425652\" y=\"35.865553\" style=\"fill: #4575b4; fill-opacity: 0.7; stroke: #4575b4; stroke-opacity: 0.7; stroke-width: 0.3\" />\n",
       "     <use xlink:href=\"#m8737fc55cb\" x=\"22.432478\" y=\"60.984\" style=\"fill: #4575b4; fill-opacity: 0.7; stroke: #4575b4; stroke-opacity: 0.7; stroke-width: 0.3\" />\n",
       "     <use xlink:href=\"#m8737fc55cb\" x=\"28.299565\" y=\"21.512155\" style=\"fill: #4575b4; fill-opacity: 0.7; stroke: #4575b4; stroke-opacity: 0.7; stroke-width: 0.3\" />\n",
       "     <use xlink:href=\"#m8737fc55cb\" x=\"25.266957\" y=\"16.129631\" style=\"fill: #4575b4; fill-opacity: 0.7; stroke: #4575b4; stroke-opacity: 0.7; stroke-width: 0.3\" />\n",
       "     <use xlink:href=\"#m8737fc55cb\" x=\"19.403913\" y=\"43.042252\" style=\"fill: #4575b4; fill-opacity: 0.7; stroke: #4575b4; stroke-opacity: 0.7; stroke-width: 0.3\" />\n",
       "     <use xlink:href=\"#m8737fc55cb\" x=\"34.566957\" y=\"57.39565\" style=\"fill: #4575b4; fill-opacity: 0.7; stroke: #4575b4; stroke-opacity: 0.7; stroke-width: 0.3\" />\n",
       "     <use xlink:href=\"#m8737fc55cb\" x=\"29.310435\" y=\"59.189825\" style=\"fill: #4575b4; fill-opacity: 0.7; stroke: #4575b4; stroke-opacity: 0.7; stroke-width: 0.3\" />\n",
       "     <use xlink:href=\"#m8737fc55cb\" x=\"28.906087\" y=\"35.865553\" style=\"fill: #4575b4; fill-opacity: 0.7; stroke: #4575b4; stroke-opacity: 0.7; stroke-width: 0.3\" />\n",
       "     <use xlink:href=\"#m8737fc55cb\" x=\"21.223478\" y=\"46.630602\" style=\"fill: #4575b4; fill-opacity: 0.7; stroke: #4575b4; stroke-opacity: 0.7; stroke-width: 0.3\" />\n",
       "     <use xlink:href=\"#m8737fc55cb\" x=\"17.18\" y=\"60.984\" style=\"fill: #4575b4; fill-opacity: 0.7; stroke: #4575b4; stroke-opacity: 0.7; stroke-width: 0.3\" />\n",
       "     <use xlink:href=\"#m8737fc55cb\" x=\"17.988696\" y=\"60.984\" style=\"fill: #4575b4; fill-opacity: 0.7; stroke: #4575b4; stroke-opacity: 0.7; stroke-width: 0.3\" />\n",
       "     <use xlink:href=\"#m8737fc55cb\" x=\"28.097391\" y=\"57.39565\" style=\"fill: #4575b4; fill-opacity: 0.7; stroke: #4575b4; stroke-opacity: 0.7; stroke-width: 0.3\" />\n",
       "     <use xlink:href=\"#m8737fc55cb\" x=\"23.568696\" y=\"10.747107\" style=\"fill: #4575b4; fill-opacity: 0.7; stroke: #4575b4; stroke-opacity: 0.7; stroke-width: 0.3\" />\n",
       "     <use xlink:href=\"#m8737fc55cb\" x=\"28.906087\" y=\"53.807301\" style=\"fill: #4575b4; fill-opacity: 0.7; stroke: #4575b4; stroke-opacity: 0.7; stroke-width: 0.3\" />\n",
       "     <use xlink:href=\"#m8737fc55cb\" x=\"33.151739\" y=\"7.158757\" style=\"fill: #4575b4; fill-opacity: 0.7; stroke: #4575b4; stroke-opacity: 0.7; stroke-width: 0.3\" />\n",
       "     <use xlink:href=\"#m8737fc55cb\" x=\"20.212609\" y=\"60.984\" style=\"fill: #4575b4; fill-opacity: 0.7; stroke: #4575b4; stroke-opacity: 0.7; stroke-width: 0.3\" />\n",
       "     <use xlink:href=\"#m8737fc55cb\" x=\"25.262913\" y=\"35.865553\" style=\"fill: #4575b4; fill-opacity: 0.7; stroke: #4575b4; stroke-opacity: 0.7; stroke-width: 0.3\" />\n",
       "     <use xlink:href=\"#m8737fc55cb\" x=\"18.595217\" y=\"57.39565\" style=\"fill: #4575b4; fill-opacity: 0.7; stroke: #4575b4; stroke-opacity: 0.7; stroke-width: 0.3\" />\n",
       "     <use xlink:href=\"#m8737fc55cb\" x=\"25.994783\" y=\"5.364583\" style=\"fill: #4575b4; fill-opacity: 0.7; stroke: #4575b4; stroke-opacity: 0.7; stroke-width: 0.3\" />\n",
       "     <use xlink:href=\"#m8737fc55cb\" x=\"24.660435\" y=\"28.688854\" style=\"fill: #4575b4; fill-opacity: 0.7; stroke: #4575b4; stroke-opacity: 0.7; stroke-width: 0.3\" />\n",
       "     <use xlink:href=\"#m8737fc55cb\" x=\"17.18\" y=\"60.984\" style=\"fill: #4575b4; fill-opacity: 0.7; stroke: #4575b4; stroke-opacity: 0.7; stroke-width: 0.3\" />\n",
       "     <use xlink:href=\"#m8737fc55cb\" x=\"21.223478\" y=\"57.39565\" style=\"fill: #4575b4; fill-opacity: 0.7; stroke: #4575b4; stroke-opacity: 0.7; stroke-width: 0.3\" />\n",
       "     <use xlink:href=\"#m8737fc55cb\" x=\"21.219435\" y=\"46.630602\" style=\"fill: #4575b4; fill-opacity: 0.7; stroke: #4575b4; stroke-opacity: 0.7; stroke-width: 0.3\" />\n",
       "     <use xlink:href=\"#m8737fc55cb\" x=\"33.34987\" y=\"7.158757\" style=\"fill: #4575b4; fill-opacity: 0.7; stroke: #4575b4; stroke-opacity: 0.7; stroke-width: 0.3\" />\n",
       "     <use xlink:href=\"#m8737fc55cb\" x=\"28.906087\" y=\"48.424777\" style=\"fill: #4575b4; fill-opacity: 0.7; stroke: #4575b4; stroke-opacity: 0.7; stroke-width: 0.3\" />\n",
       "     <use xlink:href=\"#m8737fc55cb\" x=\"18.19087\" y=\"48.424777\" style=\"fill: #4575b4; fill-opacity: 0.7; stroke: #4575b4; stroke-opacity: 0.7; stroke-width: 0.3\" />\n",
       "     <use xlink:href=\"#m8737fc55cb\" x=\"25.064783\" y=\"53.807301\" style=\"fill: #4575b4; fill-opacity: 0.7; stroke: #4575b4; stroke-opacity: 0.7; stroke-width: 0.3\" />\n",
       "     <use xlink:href=\"#m8737fc55cb\" x=\"29.108261\" y=\"55.601476\" style=\"fill: #4575b4; fill-opacity: 0.7; stroke: #4575b4; stroke-opacity: 0.7; stroke-width: 0.3\" />\n",
       "     <use xlink:href=\"#m8737fc55cb\" x=\"35.375652\" y=\"30.483029\" style=\"fill: #4575b4; fill-opacity: 0.7; stroke: #4575b4; stroke-opacity: 0.7; stroke-width: 0.3\" />\n",
       "     <use xlink:href=\"#m8737fc55cb\" x=\"30.523478\" y=\"37.659728\" style=\"fill: #4575b4; fill-opacity: 0.7; stroke: #4575b4; stroke-opacity: 0.7; stroke-width: 0.3\" />\n",
       "     <use xlink:href=\"#m8737fc55cb\" x=\"21.021304\" y=\"53.807301\" style=\"fill: #4575b4; fill-opacity: 0.7; stroke: #4575b4; stroke-opacity: 0.7; stroke-width: 0.3\" />\n",
       "     <use xlink:href=\"#m8737fc55cb\" x=\"22.836826\" y=\"53.807301\" style=\"fill: #4575b4; fill-opacity: 0.7; stroke: #4575b4; stroke-opacity: 0.7; stroke-width: 0.3\" />\n",
       "     <use xlink:href=\"#m8737fc55cb\" x=\"30.523478\" y=\"57.39565\" style=\"fill: #4575b4; fill-opacity: 0.7; stroke: #4575b4; stroke-opacity: 0.7; stroke-width: 0.3\" />\n",
       "     <use xlink:href=\"#m8737fc55cb\" x=\"24.458261\" y=\"35.865553\" style=\"fill: #4575b4; fill-opacity: 0.7; stroke: #4575b4; stroke-opacity: 0.7; stroke-width: 0.3\" />\n",
       "     <use xlink:href=\"#m8737fc55cb\" x=\"28.097391\" y=\"46.630602\" style=\"fill: #4575b4; fill-opacity: 0.7; stroke: #4575b4; stroke-opacity: 0.7; stroke-width: 0.3\" />\n",
       "     <use xlink:href=\"#m8737fc55cb\" x=\"34.162609\" y=\"34.071379\" style=\"fill: #4575b4; fill-opacity: 0.7; stroke: #4575b4; stroke-opacity: 0.7; stroke-width: 0.3\" />\n",
       "     <use xlink:href=\"#m8737fc55cb\" x=\"21.223478\" y=\"50.218951\" style=\"fill: #4575b4; fill-opacity: 0.7; stroke: #4575b4; stroke-opacity: 0.7; stroke-width: 0.3\" />\n",
       "     <use xlink:href=\"#m8737fc55cb\" x=\"33.754217\" y=\"39.453903\" style=\"fill: #4575b4; fill-opacity: 0.7; stroke: #4575b4; stroke-opacity: 0.7; stroke-width: 0.3\" />\n",
       "     <use xlink:href=\"#m8737fc55cb\" x=\"23.245217\" y=\"57.39565\" style=\"fill: #4575b4; fill-opacity: 0.7; stroke: #4575b4; stroke-opacity: 0.7; stroke-width: 0.3\" />\n",
       "     <use xlink:href=\"#m8737fc55cb\" x=\"17.18\" y=\"55.601476\" style=\"fill: #4575b4; fill-opacity: 0.7; stroke: #4575b4; stroke-opacity: 0.7; stroke-width: 0.3\" />\n",
       "     <use xlink:href=\"#m8737fc55cb\" x=\"34.162609\" y=\"39.453903\" style=\"fill: #4575b4; fill-opacity: 0.7; stroke: #4575b4; stroke-opacity: 0.7; stroke-width: 0.3\" />\n",
       "     <use xlink:href=\"#m8737fc55cb\" x=\"29.27\" y=\"60.984\" style=\"fill: #4575b4; fill-opacity: 0.7; stroke: #4575b4; stroke-opacity: 0.7; stroke-width: 0.3\" />\n",
       "     <use xlink:href=\"#m8737fc55cb\" x=\"30.923783\" y=\"57.39565\" style=\"fill: #4575b4; fill-opacity: 0.7; stroke: #4575b4; stroke-opacity: 0.7; stroke-width: 0.3\" />\n",
       "     <use xlink:href=\"#m8737fc55cb\" x=\"18.797391\" y=\"60.984\" style=\"fill: #4575b4; fill-opacity: 0.7; stroke: #4575b4; stroke-opacity: 0.7; stroke-width: 0.3\" />\n",
       "     <use xlink:href=\"#m8737fc55cb\" x=\"25.064783\" y=\"50.218951\" style=\"fill: #4575b4; fill-opacity: 0.7; stroke: #4575b4; stroke-opacity: 0.7; stroke-width: 0.3\" />\n",
       "     <use xlink:href=\"#m8737fc55cb\" x=\"18.393043\" y=\"34.071379\" style=\"fill: #4575b4; fill-opacity: 0.7; stroke: #4575b4; stroke-opacity: 0.7; stroke-width: 0.3\" />\n",
       "     <use xlink:href=\"#m8737fc55cb\" x=\"28.906087\" y=\"60.984\" style=\"fill: #4575b4; fill-opacity: 0.7; stroke: #4575b4; stroke-opacity: 0.7; stroke-width: 0.3\" />\n",
       "     <use xlink:href=\"#m8737fc55cb\" x=\"34.162609\" y=\"46.630602\" style=\"fill: #4575b4; fill-opacity: 0.7; stroke: #4575b4; stroke-opacity: 0.7; stroke-width: 0.3\" />\n",
       "     <use xlink:href=\"#m8737fc55cb\" x=\"20.81913\" y=\"35.865553\" style=\"fill: #4575b4; fill-opacity: 0.7; stroke: #4575b4; stroke-opacity: 0.7; stroke-width: 0.3\" />\n",
       "     <use xlink:href=\"#m8737fc55cb\" x=\"21.183043\" y=\"53.807301\" style=\"fill: #4575b4; fill-opacity: 0.7; stroke: #4575b4; stroke-opacity: 0.7; stroke-width: 0.3\" />\n",
       "     <use xlink:href=\"#m8737fc55cb\" x=\"28.906087\" y=\"5.364583\" style=\"fill: #4575b4; fill-opacity: 0.7; stroke: #4575b4; stroke-opacity: 0.7; stroke-width: 0.3\" />\n",
       "     <use xlink:href=\"#m8737fc55cb\" x=\"19.606087\" y=\"39.453903\" style=\"fill: #4575b4; fill-opacity: 0.7; stroke: #4575b4; stroke-opacity: 0.7; stroke-width: 0.3\" />\n",
       "     <use xlink:href=\"#m8737fc55cb\" x=\"34.566957\" y=\"52.013126\" style=\"fill: #4575b4; fill-opacity: 0.7; stroke: #4575b4; stroke-opacity: 0.7; stroke-width: 0.3\" />\n",
       "     <use xlink:href=\"#m8737fc55cb\" x=\"33.353913\" y=\"52.013126\" style=\"fill: #4575b4; fill-opacity: 0.7; stroke: #4575b4; stroke-opacity: 0.7; stroke-width: 0.3\" />\n",
       "     <use xlink:href=\"#m8737fc55cb\" x=\"18.389\" y=\"46.630602\" style=\"fill: #4575b4; fill-opacity: 0.7; stroke: #4575b4; stroke-opacity: 0.7; stroke-width: 0.3\" />\n",
       "     <use xlink:href=\"#m8737fc55cb\" x=\"22.032174\" y=\"46.630602\" style=\"fill: #4575b4; fill-opacity: 0.7; stroke: #4575b4; stroke-opacity: 0.7; stroke-width: 0.3\" />\n",
       "     <use xlink:href=\"#m8737fc55cb\" x=\"19.201739\" y=\"21.512155\" style=\"fill: #4575b4; fill-opacity: 0.7; stroke: #4575b4; stroke-opacity: 0.7; stroke-width: 0.3\" />\n",
       "     <use xlink:href=\"#m8737fc55cb\" x=\"33.313478\" y=\"46.630602\" style=\"fill: #4575b4; fill-opacity: 0.7; stroke: #4575b4; stroke-opacity: 0.7; stroke-width: 0.3\" />\n",
       "     <use xlink:href=\"#m8737fc55cb\" x=\"22.234348\" y=\"53.807301\" style=\"fill: #4575b4; fill-opacity: 0.7; stroke: #4575b4; stroke-opacity: 0.7; stroke-width: 0.3\" />\n",
       "     <use xlink:href=\"#m8737fc55cb\" x=\"19.201739\" y=\"55.601476\" style=\"fill: #4575b4; fill-opacity: 0.7; stroke: #4575b4; stroke-opacity: 0.7; stroke-width: 0.3\" />\n",
       "     <use xlink:href=\"#m8737fc55cb\" x=\"17.18\" y=\"50.218951\" style=\"fill: #4575b4; fill-opacity: 0.7; stroke: #4575b4; stroke-opacity: 0.7; stroke-width: 0.3\" />\n",
       "     <use xlink:href=\"#m8737fc55cb\" x=\"22.234348\" y=\"50.218951\" style=\"fill: #4575b4; fill-opacity: 0.7; stroke: #4575b4; stroke-opacity: 0.7; stroke-width: 0.3\" />\n",
       "     <use xlink:href=\"#m8737fc55cb\" x=\"34.364783\" y=\"57.39565\" style=\"fill: #4575b4; fill-opacity: 0.7; stroke: #4575b4; stroke-opacity: 0.7; stroke-width: 0.3\" />\n",
       "     <use xlink:href=\"#m8737fc55cb\" x=\"23.043043\" y=\"53.807301\" style=\"fill: #4575b4; fill-opacity: 0.7; stroke: #4575b4; stroke-opacity: 0.7; stroke-width: 0.3\" />\n",
       "     <use xlink:href=\"#m8737fc55cb\" x=\"30.927826\" y=\"35.865553\" style=\"fill: #4575b4; fill-opacity: 0.7; stroke: #4575b4; stroke-opacity: 0.7; stroke-width: 0.3\" />\n",
       "     <use xlink:href=\"#m8737fc55cb\" x=\"19.201739\" y=\"60.984\" style=\"fill: #4575b4; fill-opacity: 0.7; stroke: #4575b4; stroke-opacity: 0.7; stroke-width: 0.3\" />\n",
       "     <use xlink:href=\"#m8737fc55cb\" x=\"20.815087\" y=\"30.483029\" style=\"fill: #4575b4; fill-opacity: 0.7; stroke: #4575b4; stroke-opacity: 0.7; stroke-width: 0.3\" />\n",
       "     <use xlink:href=\"#m8737fc55cb\" x=\"18.797391\" y=\"53.807301\" style=\"fill: #4575b4; fill-opacity: 0.7; stroke: #4575b4; stroke-opacity: 0.7; stroke-width: 0.3\" />\n",
       "     <use xlink:href=\"#m8737fc55cb\" x=\"23.245217\" y=\"59.189825\" style=\"fill: #4575b4; fill-opacity: 0.7; stroke: #4575b4; stroke-opacity: 0.7; stroke-width: 0.3\" />\n",
       "     <use xlink:href=\"#m8737fc55cb\" x=\"21.219435\" y=\"48.424777\" style=\"fill: #4575b4; fill-opacity: 0.7; stroke: #4575b4; stroke-opacity: 0.7; stroke-width: 0.3\" />\n",
       "     <use xlink:href=\"#m8737fc55cb\" x=\"25.246739\" y=\"46.630602\" style=\"fill: #4575b4; fill-opacity: 0.7; stroke: #4575b4; stroke-opacity: 0.7; stroke-width: 0.3\" />\n",
       "     <use xlink:href=\"#m8737fc55cb\" x=\"27.086522\" y=\"50.218951\" style=\"fill: #4575b4; fill-opacity: 0.7; stroke: #4575b4; stroke-opacity: 0.7; stroke-width: 0.3\" />\n",
       "     <use xlink:href=\"#m8737fc55cb\" x=\"18.999565\" y=\"60.984\" style=\"fill: #4575b4; fill-opacity: 0.7; stroke: #4575b4; stroke-opacity: 0.7; stroke-width: 0.3\" />\n",
       "     <use xlink:href=\"#m8737fc55cb\" x=\"24.454217\" y=\"57.39565\" style=\"fill: #4575b4; fill-opacity: 0.7; stroke: #4575b4; stroke-opacity: 0.7; stroke-width: 0.3\" />\n",
       "     <use xlink:href=\"#m8737fc55cb\" x=\"25.266957\" y=\"21.512155\" style=\"fill: #4575b4; fill-opacity: 0.7; stroke: #4575b4; stroke-opacity: 0.7; stroke-width: 0.3\" />\n",
       "     <use xlink:href=\"#m8737fc55cb\" x=\"20.212609\" y=\"8.952932\" style=\"fill: #4575b4; fill-opacity: 0.7; stroke: #4575b4; stroke-opacity: 0.7; stroke-width: 0.3\" />\n",
       "     <use xlink:href=\"#m8737fc55cb\" x=\"28.906087\" y=\"28.688854\" style=\"fill: #4575b4; fill-opacity: 0.7; stroke: #4575b4; stroke-opacity: 0.7; stroke-width: 0.3\" />\n",
       "     <use xlink:href=\"#m8737fc55cb\" x=\"23.851739\" y=\"39.453903\" style=\"fill: #4575b4; fill-opacity: 0.7; stroke: #4575b4; stroke-opacity: 0.7; stroke-width: 0.3\" />\n",
       "     <use xlink:href=\"#m8737fc55cb\" x=\"24.660435\" y=\"50.218951\" style=\"fill: #4575b4; fill-opacity: 0.7; stroke: #4575b4; stroke-opacity: 0.7; stroke-width: 0.3\" />\n",
       "     <use xlink:href=\"#m8737fc55cb\" x=\"29.306391\" y=\"39.453903\" style=\"fill: #4575b4; fill-opacity: 0.7; stroke: #4575b4; stroke-opacity: 0.7; stroke-width: 0.3\" />\n",
       "     <use xlink:href=\"#m8737fc55cb\" x=\"24.858565\" y=\"59.189825\" style=\"fill: #4575b4; fill-opacity: 0.7; stroke: #4575b4; stroke-opacity: 0.7; stroke-width: 0.3\" />\n",
       "     <use xlink:href=\"#m8737fc55cb\" x=\"21.627826\" y=\"41.248078\" style=\"fill: #4575b4; fill-opacity: 0.7; stroke: #4575b4; stroke-opacity: 0.7; stroke-width: 0.3\" />\n",
       "     <use xlink:href=\"#m8737fc55cb\" x=\"19.403913\" y=\"60.984\" style=\"fill: #4575b4; fill-opacity: 0.7; stroke: #4575b4; stroke-opacity: 0.7; stroke-width: 0.3\" />\n",
       "     <use xlink:href=\"#m8737fc55cb\" x=\"19.808261\" y=\"19.717981\" style=\"fill: #4575b4; fill-opacity: 0.7; stroke: #4575b4; stroke-opacity: 0.7; stroke-width: 0.3\" />\n",
       "     <use xlink:href=\"#m8737fc55cb\" x=\"21.183043\" y=\"43.042252\" style=\"fill: #4575b4; fill-opacity: 0.7; stroke: #4575b4; stroke-opacity: 0.7; stroke-width: 0.3\" />\n",
       "     <use xlink:href=\"#m8737fc55cb\" x=\"32.949565\" y=\"57.39565\" style=\"fill: #4575b4; fill-opacity: 0.7; stroke: #4575b4; stroke-opacity: 0.7; stroke-width: 0.3\" />\n",
       "     <use xlink:href=\"#m8737fc55cb\" x=\"19.480739\" y=\"60.984\" style=\"fill: #4575b4; fill-opacity: 0.7; stroke: #4575b4; stroke-opacity: 0.7; stroke-width: 0.3\" />\n",
       "     <use xlink:href=\"#m8737fc55cb\" x=\"29.27\" y=\"23.30633\" style=\"fill: #4575b4; fill-opacity: 0.7; stroke: #4575b4; stroke-opacity: 0.7; stroke-width: 0.3\" />\n",
       "     <use xlink:href=\"#m8737fc55cb\" x=\"22.84087\" y=\"35.865553\" style=\"fill: #4575b4; fill-opacity: 0.7; stroke: #4575b4; stroke-opacity: 0.7; stroke-width: 0.3\" />\n",
       "     <use xlink:href=\"#m8737fc55cb\" x=\"23.245217\" y=\"60.984\" style=\"fill: #4575b4; fill-opacity: 0.7; stroke: #4575b4; stroke-opacity: 0.7; stroke-width: 0.3\" />\n",
       "     <use xlink:href=\"#m8737fc55cb\" x=\"19.97\" y=\"57.39565\" style=\"fill: #4575b4; fill-opacity: 0.7; stroke: #4575b4; stroke-opacity: 0.7; stroke-width: 0.3\" />\n",
       "     <use xlink:href=\"#m8737fc55cb\" x=\"32.100435\" y=\"8.952932\" style=\"fill: #4575b4; fill-opacity: 0.7; stroke: #4575b4; stroke-opacity: 0.7; stroke-width: 0.3\" />\n",
       "     <use xlink:href=\"#m8737fc55cb\" x=\"20.81913\" y=\"46.630602\" style=\"fill: #4575b4; fill-opacity: 0.7; stroke: #4575b4; stroke-opacity: 0.7; stroke-width: 0.3\" />\n",
       "     <use xlink:href=\"#m8737fc55cb\" x=\"21.142609\" y=\"44.836427\" style=\"fill: #4575b4; fill-opacity: 0.7; stroke: #4575b4; stroke-opacity: 0.7; stroke-width: 0.3\" />\n",
       "     <use xlink:href=\"#m8737fc55cb\" x=\"23.204783\" y=\"52.013126\" style=\"fill: #4575b4; fill-opacity: 0.7; stroke: #4575b4; stroke-opacity: 0.7; stroke-width: 0.3\" />\n",
       "     <use xlink:href=\"#m8737fc55cb\" x=\"23.447391\" y=\"60.984\" style=\"fill: #4575b4; fill-opacity: 0.7; stroke: #4575b4; stroke-opacity: 0.7; stroke-width: 0.3\" />\n",
       "     <use xlink:href=\"#m8737fc55cb\" x=\"32.545217\" y=\"57.39565\" style=\"fill: #4575b4; fill-opacity: 0.7; stroke: #4575b4; stroke-opacity: 0.7; stroke-width: 0.3\" />\n",
       "     <use xlink:href=\"#m8737fc55cb\" x=\"27.284652\" y=\"60.984\" style=\"fill: #4575b4; fill-opacity: 0.7; stroke: #4575b4; stroke-opacity: 0.7; stroke-width: 0.3\" />\n",
       "     <use xlink:href=\"#m8737fc55cb\" x=\"18.756957\" y=\"60.984\" style=\"fill: #4575b4; fill-opacity: 0.7; stroke: #4575b4; stroke-opacity: 0.7; stroke-width: 0.3\" />\n",
       "     <use xlink:href=\"#m8737fc55cb\" x=\"29.310435\" y=\"57.39565\" style=\"fill: #4575b4; fill-opacity: 0.7; stroke: #4575b4; stroke-opacity: 0.7; stroke-width: 0.3\" />\n",
       "     <use xlink:href=\"#m8737fc55cb\" x=\"31.332174\" y=\"35.865553\" style=\"fill: #4575b4; fill-opacity: 0.7; stroke: #4575b4; stroke-opacity: 0.7; stroke-width: 0.3\" />\n",
       "     <use xlink:href=\"#m8737fc55cb\" x=\"21.021304\" y=\"41.248078\" style=\"fill: #4575b4; fill-opacity: 0.7; stroke: #4575b4; stroke-opacity: 0.7; stroke-width: 0.3\" />\n",
       "     <use xlink:href=\"#m8737fc55cb\" x=\"23.645522\" y=\"23.30633\" style=\"fill: #4575b4; fill-opacity: 0.7; stroke: #4575b4; stroke-opacity: 0.7; stroke-width: 0.3\" />\n",
       "     <use xlink:href=\"#m8737fc55cb\" x=\"20.414783\" y=\"34.071379\" style=\"fill: #4575b4; fill-opacity: 0.7; stroke: #4575b4; stroke-opacity: 0.7; stroke-width: 0.3\" />\n",
       "     <use xlink:href=\"#m8737fc55cb\" x=\"20.718043\" y=\"35.865553\" style=\"fill: #4575b4; fill-opacity: 0.7; stroke: #4575b4; stroke-opacity: 0.7; stroke-width: 0.3\" />\n",
       "     <use xlink:href=\"#m8737fc55cb\" x=\"23.204783\" y=\"60.984\" style=\"fill: #4575b4; fill-opacity: 0.7; stroke: #4575b4; stroke-opacity: 0.7; stroke-width: 0.3\" />\n",
       "     <use xlink:href=\"#m8737fc55cb\" x=\"20.81913\" y=\"50.218951\" style=\"fill: #4575b4; fill-opacity: 0.7; stroke: #4575b4; stroke-opacity: 0.7; stroke-width: 0.3\" />\n",
       "     <use xlink:href=\"#m8737fc55cb\" x=\"27.49087\" y=\"37.659728\" style=\"fill: #4575b4; fill-opacity: 0.7; stroke: #4575b4; stroke-opacity: 0.7; stroke-width: 0.3\" />\n",
       "     <use xlink:href=\"#m8737fc55cb\" x=\"30.523478\" y=\"50.218951\" style=\"fill: #4575b4; fill-opacity: 0.7; stroke: #4575b4; stroke-opacity: 0.7; stroke-width: 0.3\" />\n",
       "     <use xlink:href=\"#m8737fc55cb\" x=\"25.266957\" y=\"12.541282\" style=\"fill: #4575b4; fill-opacity: 0.7; stroke: #4575b4; stroke-opacity: 0.7; stroke-width: 0.3\" />\n",
       "     <use xlink:href=\"#m8737fc55cb\" x=\"28.906087\" y=\"57.39565\" style=\"fill: #4575b4; fill-opacity: 0.7; stroke: #4575b4; stroke-opacity: 0.7; stroke-width: 0.3\" />\n",
       "     <use xlink:href=\"#m8737fc55cb\" x=\"24.053913\" y=\"43.042252\" style=\"fill: #4575b4; fill-opacity: 0.7; stroke: #4575b4; stroke-opacity: 0.7; stroke-width: 0.3\" />\n",
       "     <use xlink:href=\"#m8737fc55cb\" x=\"27.693043\" y=\"53.807301\" style=\"fill: #4575b4; fill-opacity: 0.7; stroke: #4575b4; stroke-opacity: 0.7; stroke-width: 0.3\" />\n",
       "     <use xlink:href=\"#m8737fc55cb\" x=\"19.403913\" y=\"53.807301\" style=\"fill: #4575b4; fill-opacity: 0.7; stroke: #4575b4; stroke-opacity: 0.7; stroke-width: 0.3\" />\n",
       "     <use xlink:href=\"#m8737fc55cb\" x=\"28.097391\" y=\"60.984\" style=\"fill: #4575b4; fill-opacity: 0.7; stroke: #4575b4; stroke-opacity: 0.7; stroke-width: 0.3\" />\n",
       "     <use xlink:href=\"#m8737fc55cb\" x=\"21.219435\" y=\"7.158757\" style=\"fill: #4575b4; fill-opacity: 0.7; stroke: #4575b4; stroke-opacity: 0.7; stroke-width: 0.3\" />\n",
       "     <use xlink:href=\"#m8737fc55cb\" x=\"32.545217\" y=\"59.189825\" style=\"fill: #4575b4; fill-opacity: 0.7; stroke: #4575b4; stroke-opacity: 0.7; stroke-width: 0.3\" />\n",
       "     <use xlink:href=\"#m8737fc55cb\" x=\"17.220435\" y=\"48.424777\" style=\"fill: #4575b4; fill-opacity: 0.7; stroke: #4575b4; stroke-opacity: 0.7; stroke-width: 0.3\" />\n",
       "     <use xlink:href=\"#m8737fc55cb\" x=\"24.450174\" y=\"57.39565\" style=\"fill: #4575b4; fill-opacity: 0.7; stroke: #4575b4; stroke-opacity: 0.7; stroke-width: 0.3\" />\n",
       "     <use xlink:href=\"#m8737fc55cb\" x=\"22.84087\" y=\"50.218951\" style=\"fill: #4575b4; fill-opacity: 0.7; stroke: #4575b4; stroke-opacity: 0.7; stroke-width: 0.3\" />\n",
       "     <use xlink:href=\"#m8737fc55cb\" x=\"29.306391\" y=\"44.836427\" style=\"fill: #4575b4; fill-opacity: 0.7; stroke: #4575b4; stroke-opacity: 0.7; stroke-width: 0.3\" />\n",
       "     <use xlink:href=\"#m8737fc55cb\" x=\"26.075652\" y=\"50.218951\" style=\"fill: #4575b4; fill-opacity: 0.7; stroke: #4575b4; stroke-opacity: 0.7; stroke-width: 0.3\" />\n",
       "     <use xlink:href=\"#m8737fc55cb\" x=\"20.616957\" y=\"60.984\" style=\"fill: #4575b4; fill-opacity: 0.7; stroke: #4575b4; stroke-opacity: 0.7; stroke-width: 0.3\" />\n",
       "     <use xlink:href=\"#m8737fc55cb\" x=\"32.14087\" y=\"34.071379\" style=\"fill: #4575b4; fill-opacity: 0.7; stroke: #4575b4; stroke-opacity: 0.7; stroke-width: 0.3\" />\n",
       "     <use xlink:href=\"#m8737fc55cb\" x=\"27.288696\" y=\"57.39565\" style=\"fill: #4575b4; fill-opacity: 0.7; stroke: #4575b4; stroke-opacity: 0.7; stroke-width: 0.3\" />\n",
       "     <use xlink:href=\"#m8737fc55cb\" x=\"18.595217\" y=\"52.013126\" style=\"fill: #4575b4; fill-opacity: 0.7; stroke: #4575b4; stroke-opacity: 0.7; stroke-width: 0.3\" />\n",
       "     <use xlink:href=\"#m8737fc55cb\" x=\"23.245217\" y=\"52.013126\" style=\"fill: #4575b4; fill-opacity: 0.7; stroke: #4575b4; stroke-opacity: 0.7; stroke-width: 0.3\" />\n",
       "     <use xlink:href=\"#m8737fc55cb\" x=\"21.627826\" y=\"57.39565\" style=\"fill: #4575b4; fill-opacity: 0.7; stroke: #4575b4; stroke-opacity: 0.7; stroke-width: 0.3\" />\n",
       "     <use xlink:href=\"#m8737fc55cb\" x=\"21.627826\" y=\"60.984\" style=\"fill: #4575b4; fill-opacity: 0.7; stroke: #4575b4; stroke-opacity: 0.7; stroke-width: 0.3\" />\n",
       "     <use xlink:href=\"#m8737fc55cb\" x=\"17.18\" y=\"30.483029\" style=\"fill: #4575b4; fill-opacity: 0.7; stroke: #4575b4; stroke-opacity: 0.7; stroke-width: 0.3\" />\n",
       "     <use xlink:href=\"#m8737fc55cb\" x=\"31.332174\" y=\"57.39565\" style=\"fill: #4575b4; fill-opacity: 0.7; stroke: #4575b4; stroke-opacity: 0.7; stroke-width: 0.3\" />\n",
       "     <use xlink:href=\"#m8737fc55cb\" x=\"24.858565\" y=\"32.277204\" style=\"fill: #4575b4; fill-opacity: 0.7; stroke: #4575b4; stroke-opacity: 0.7; stroke-width: 0.3\" />\n",
       "     <use xlink:href=\"#m8737fc55cb\" x=\"25.064783\" y=\"7.158757\" style=\"fill: #4575b4; fill-opacity: 0.7; stroke: #4575b4; stroke-opacity: 0.7; stroke-width: 0.3\" />\n",
       "     <use xlink:href=\"#m8737fc55cb\" x=\"17.18\" y=\"55.601476\" style=\"fill: #4575b4; fill-opacity: 0.7; stroke: #4575b4; stroke-opacity: 0.7; stroke-width: 0.3\" />\n",
       "     <use xlink:href=\"#m8737fc55cb\" x=\"27.49087\" y=\"8.952932\" style=\"fill: #4575b4; fill-opacity: 0.7; stroke: #4575b4; stroke-opacity: 0.7; stroke-width: 0.3\" />\n",
       "     <use xlink:href=\"#m8737fc55cb\" x=\"27.288696\" y=\"48.424777\" style=\"fill: #4575b4; fill-opacity: 0.7; stroke: #4575b4; stroke-opacity: 0.7; stroke-width: 0.3\" />\n",
       "     <use xlink:href=\"#m8737fc55cb\" x=\"20.548217\" y=\"53.807301\" style=\"fill: #4575b4; fill-opacity: 0.7; stroke: #4575b4; stroke-opacity: 0.7; stroke-width: 0.3\" />\n",
       "     <use xlink:href=\"#m8737fc55cb\" x=\"20.212609\" y=\"55.601476\" style=\"fill: #4575b4; fill-opacity: 0.7; stroke: #4575b4; stroke-opacity: 0.7; stroke-width: 0.3\" />\n",
       "     <use xlink:href=\"#m8737fc55cb\" x=\"20.815087\" y=\"57.39565\" style=\"fill: #4575b4; fill-opacity: 0.7; stroke: #4575b4; stroke-opacity: 0.7; stroke-width: 0.3\" />\n",
       "     <use xlink:href=\"#m8737fc55cb\" x=\"30.321304\" y=\"21.512155\" style=\"fill: #4575b4; fill-opacity: 0.7; stroke: #4575b4; stroke-opacity: 0.7; stroke-width: 0.3\" />\n",
       "     <use xlink:href=\"#m8737fc55cb\" x=\"23.043043\" y=\"53.807301\" style=\"fill: #4575b4; fill-opacity: 0.7; stroke: #4575b4; stroke-opacity: 0.7; stroke-width: 0.3\" />\n",
       "     <use xlink:href=\"#m8737fc55cb\" x=\"27.486826\" y=\"55.601476\" style=\"fill: #4575b4; fill-opacity: 0.7; stroke: #4575b4; stroke-opacity: 0.7; stroke-width: 0.3\" />\n",
       "     <use xlink:href=\"#m8737fc55cb\" x=\"17.18\" y=\"19.717981\" style=\"fill: #4575b4; fill-opacity: 0.7; stroke: #4575b4; stroke-opacity: 0.7; stroke-width: 0.3\" />\n",
       "     <use xlink:href=\"#m8737fc55cb\" x=\"21.219435\" y=\"50.218951\" style=\"fill: #4575b4; fill-opacity: 0.7; stroke: #4575b4; stroke-opacity: 0.7; stroke-width: 0.3\" />\n",
       "     <use xlink:href=\"#m8737fc55cb\" x=\"17.988696\" y=\"50.218951\" style=\"fill: #4575b4; fill-opacity: 0.7; stroke: #4575b4; stroke-opacity: 0.7; stroke-width: 0.3\" />\n",
       "     <use xlink:href=\"#m8737fc55cb\" x=\"23.043043\" y=\"5.364583\" style=\"fill: #4575b4; fill-opacity: 0.7; stroke: #4575b4; stroke-opacity: 0.7; stroke-width: 0.3\" />\n",
       "     <use xlink:href=\"#m8737fc55cb\" x=\"25.869435\" y=\"46.630602\" style=\"fill: #4575b4; fill-opacity: 0.7; stroke: #4575b4; stroke-opacity: 0.7; stroke-width: 0.3\" />\n",
       "     <use xlink:href=\"#m8737fc55cb\" x=\"24.458261\" y=\"57.39565\" style=\"fill: #4575b4; fill-opacity: 0.7; stroke: #4575b4; stroke-opacity: 0.7; stroke-width: 0.3\" />\n",
       "     <use xlink:href=\"#m8737fc55cb\" x=\"18.999565\" y=\"59.189825\" style=\"fill: #4575b4; fill-opacity: 0.7; stroke: #4575b4; stroke-opacity: 0.7; stroke-width: 0.3\" />\n",
       "     <use xlink:href=\"#m8737fc55cb\" x=\"20.81913\" y=\"50.218951\" style=\"fill: #4575b4; fill-opacity: 0.7; stroke: #4575b4; stroke-opacity: 0.7; stroke-width: 0.3\" />\n",
       "     <use xlink:href=\"#m8737fc55cb\" x=\"18.635652\" y=\"53.807301\" style=\"fill: #4575b4; fill-opacity: 0.7; stroke: #4575b4; stroke-opacity: 0.7; stroke-width: 0.3\" />\n",
       "     <use xlink:href=\"#m8737fc55cb\" x=\"29.290217\" y=\"60.984\" style=\"fill: #4575b4; fill-opacity: 0.7; stroke: #4575b4; stroke-opacity: 0.7; stroke-width: 0.3\" />\n",
       "     <use xlink:href=\"#m8737fc55cb\" x=\"30.523478\" y=\"60.984\" style=\"fill: #4575b4; fill-opacity: 0.7; stroke: #4575b4; stroke-opacity: 0.7; stroke-width: 0.3\" />\n",
       "     <use xlink:href=\"#m8737fc55cb\" x=\"31.332174\" y=\"28.688854\" style=\"fill: #4575b4; fill-opacity: 0.7; stroke: #4575b4; stroke-opacity: 0.7; stroke-width: 0.3\" />\n",
       "     <use xlink:href=\"#m8737fc55cb\" x=\"21.223478\" y=\"57.39565\" style=\"fill: #4575b4; fill-opacity: 0.7; stroke: #4575b4; stroke-opacity: 0.7; stroke-width: 0.3\" />\n",
       "     <use xlink:href=\"#m8737fc55cb\" x=\"19.606087\" y=\"32.277204\" style=\"fill: #4575b4; fill-opacity: 0.7; stroke: #4575b4; stroke-opacity: 0.7; stroke-width: 0.3\" />\n",
       "     <use xlink:href=\"#m8737fc55cb\" x=\"17.18\" y=\"53.807301\" style=\"fill: #4575b4; fill-opacity: 0.7; stroke: #4575b4; stroke-opacity: 0.7; stroke-width: 0.3\" />\n",
       "     <use xlink:href=\"#m8737fc55cb\" x=\"28.497696\" y=\"17.923806\" style=\"fill: #4575b4; fill-opacity: 0.7; stroke: #4575b4; stroke-opacity: 0.7; stroke-width: 0.3\" />\n",
       "     <use xlink:href=\"#m8737fc55cb\" x=\"20.81913\" y=\"60.984\" style=\"fill: #4575b4; fill-opacity: 0.7; stroke: #4575b4; stroke-opacity: 0.7; stroke-width: 0.3\" />\n",
       "     <use xlink:href=\"#m8737fc55cb\" x=\"17.18\" y=\"17.923806\" style=\"fill: #4575b4; fill-opacity: 0.7; stroke: #4575b4; stroke-opacity: 0.7; stroke-width: 0.3\" />\n",
       "     <use xlink:href=\"#m8737fc55cb\" x=\"19.201739\" y=\"8.952932\" style=\"fill: #4575b4; fill-opacity: 0.7; stroke: #4575b4; stroke-opacity: 0.7; stroke-width: 0.3\" />\n",
       "     <use xlink:href=\"#m8737fc55cb\" x=\"25.262913\" y=\"14.335456\" style=\"fill: #4575b4; fill-opacity: 0.7; stroke: #4575b4; stroke-opacity: 0.7; stroke-width: 0.3\" />\n",
       "     <use xlink:href=\"#m8737fc55cb\" x=\"22.032174\" y=\"59.189825\" style=\"fill: #4575b4; fill-opacity: 0.7; stroke: #4575b4; stroke-opacity: 0.7; stroke-width: 0.3\" />\n",
       "     <use xlink:href=\"#m8737fc55cb\" x=\"17.907826\" y=\"60.984\" style=\"fill: #4575b4; fill-opacity: 0.7; stroke: #4575b4; stroke-opacity: 0.7; stroke-width: 0.3\" />\n",
       "     <use xlink:href=\"#m8737fc55cb\" x=\"22.638696\" y=\"28.688854\" style=\"fill: #4575b4; fill-opacity: 0.7; stroke: #4575b4; stroke-opacity: 0.7; stroke-width: 0.3\" />\n",
       "     <use xlink:href=\"#m8737fc55cb\" x=\"27.248261\" y=\"57.39565\" style=\"fill: #4575b4; fill-opacity: 0.7; stroke: #4575b4; stroke-opacity: 0.7; stroke-width: 0.3\" />\n",
       "     <use xlink:href=\"#m8737fc55cb\" x=\"25.266957\" y=\"25.100505\" style=\"fill: #4575b4; fill-opacity: 0.7; stroke: #4575b4; stroke-opacity: 0.7; stroke-width: 0.3\" />\n",
       "     <use xlink:href=\"#m8737fc55cb\" x=\"25.262913\" y=\"37.659728\" style=\"fill: #4575b4; fill-opacity: 0.7; stroke: #4575b4; stroke-opacity: 0.7; stroke-width: 0.3\" />\n",
       "     <use xlink:href=\"#m8737fc55cb\" x=\"31.332174\" y=\"21.512155\" style=\"fill: #4575b4; fill-opacity: 0.7; stroke: #4575b4; stroke-opacity: 0.7; stroke-width: 0.3\" />\n",
       "     <use xlink:href=\"#m8737fc55cb\" x=\"20.51587\" y=\"57.39565\" style=\"fill: #4575b4; fill-opacity: 0.7; stroke: #4575b4; stroke-opacity: 0.7; stroke-width: 0.3\" />\n",
       "     <use xlink:href=\"#m8737fc55cb\" x=\"21.83\" y=\"59.189825\" style=\"fill: #4575b4; fill-opacity: 0.7; stroke: #4575b4; stroke-opacity: 0.7; stroke-width: 0.3\" />\n",
       "     <use xlink:href=\"#m8737fc55cb\" x=\"18.595217\" y=\"57.39565\" style=\"fill: #4575b4; fill-opacity: 0.7; stroke: #4575b4; stroke-opacity: 0.7; stroke-width: 0.3\" />\n",
       "     <use xlink:href=\"#m8737fc55cb\" x=\"26.075652\" y=\"60.984\" style=\"fill: #4575b4; fill-opacity: 0.7; stroke: #4575b4; stroke-opacity: 0.7; stroke-width: 0.3\" />\n",
       "     <use xlink:href=\"#m8737fc55cb\" x=\"20.414783\" y=\"50.218951\" style=\"fill: #4575b4; fill-opacity: 0.7; stroke: #4575b4; stroke-opacity: 0.7; stroke-width: 0.3\" />\n",
       "     <use xlink:href=\"#m8737fc55cb\" x=\"21.627826\" y=\"55.601476\" style=\"fill: #4575b4; fill-opacity: 0.7; stroke: #4575b4; stroke-opacity: 0.7; stroke-width: 0.3\" />\n",
       "     <use xlink:href=\"#m8737fc55cb\" x=\"17.18\" y=\"28.688854\" style=\"fill: #4575b4; fill-opacity: 0.7; stroke: #4575b4; stroke-opacity: 0.7; stroke-width: 0.3\" />\n",
       "     <use xlink:href=\"#m8737fc55cb\" x=\"29.306391\" y=\"26.89468\" style=\"fill: #4575b4; fill-opacity: 0.7; stroke: #4575b4; stroke-opacity: 0.7; stroke-width: 0.3\" />\n",
       "     <use xlink:href=\"#m8737fc55cb\" x=\"20.81913\" y=\"60.984\" style=\"fill: #4575b4; fill-opacity: 0.7; stroke: #4575b4; stroke-opacity: 0.7; stroke-width: 0.3\" />\n",
       "     <use xlink:href=\"#m8737fc55cb\" x=\"19.403913\" y=\"55.601476\" style=\"fill: #4575b4; fill-opacity: 0.7; stroke: #4575b4; stroke-opacity: 0.7; stroke-width: 0.3\" />\n",
       "     <use xlink:href=\"#m8737fc55cb\" x=\"25.226522\" y=\"37.659728\" style=\"fill: #4575b4; fill-opacity: 0.7; stroke: #4575b4; stroke-opacity: 0.7; stroke-width: 0.3\" />\n",
       "     <use xlink:href=\"#m8737fc55cb\" x=\"17.18\" y=\"57.39565\" style=\"fill: #4575b4; fill-opacity: 0.7; stroke: #4575b4; stroke-opacity: 0.7; stroke-width: 0.3\" />\n",
       "     <use xlink:href=\"#m8737fc55cb\" x=\"32.545217\" y=\"14.335456\" style=\"fill: #4575b4; fill-opacity: 0.7; stroke: #4575b4; stroke-opacity: 0.7; stroke-width: 0.3\" />\n",
       "     <use xlink:href=\"#m8737fc55cb\" x=\"21.627826\" y=\"60.984\" style=\"fill: #4575b4; fill-opacity: 0.7; stroke: #4575b4; stroke-opacity: 0.7; stroke-width: 0.3\" />\n",
       "     <use xlink:href=\"#m8737fc55cb\" x=\"34.566957\" y=\"8.952932\" style=\"fill: #4575b4; fill-opacity: 0.7; stroke: #4575b4; stroke-opacity: 0.7; stroke-width: 0.3\" />\n",
       "     <use xlink:href=\"#m8737fc55cb\" x=\"31.332174\" y=\"60.984\" style=\"fill: #4575b4; fill-opacity: 0.7; stroke: #4575b4; stroke-opacity: 0.7; stroke-width: 0.3\" />\n",
       "     <use xlink:href=\"#m8737fc55cb\" x=\"19.808261\" y=\"46.630602\" style=\"fill: #4575b4; fill-opacity: 0.7; stroke: #4575b4; stroke-opacity: 0.7; stroke-width: 0.3\" />\n",
       "     <use xlink:href=\"#m8737fc55cb\" x=\"29.310435\" y=\"57.39565\" style=\"fill: #4575b4; fill-opacity: 0.7; stroke: #4575b4; stroke-opacity: 0.7; stroke-width: 0.3\" />\n",
       "     <use xlink:href=\"#m8737fc55cb\" x=\"23.245217\" y=\"26.89468\" style=\"fill: #4575b4; fill-opacity: 0.7; stroke: #4575b4; stroke-opacity: 0.7; stroke-width: 0.3\" />\n",
       "     <use xlink:href=\"#m8737fc55cb\" x=\"29.912913\" y=\"60.984\" style=\"fill: #4575b4; fill-opacity: 0.7; stroke: #4575b4; stroke-opacity: 0.7; stroke-width: 0.3\" />\n",
       "     <use xlink:href=\"#m8737fc55cb\" x=\"17.584348\" y=\"57.39565\" style=\"fill: #4575b4; fill-opacity: 0.7; stroke: #4575b4; stroke-opacity: 0.7; stroke-width: 0.3\" />\n",
       "     <use xlink:href=\"#m8737fc55cb\" x=\"24.053913\" y=\"57.39565\" style=\"fill: #4575b4; fill-opacity: 0.7; stroke: #4575b4; stroke-opacity: 0.7; stroke-width: 0.3\" />\n",
       "     <use xlink:href=\"#m8737fc55cb\" x=\"35.375652\" y=\"60.984\" style=\"fill: #4575b4; fill-opacity: 0.7; stroke: #4575b4; stroke-opacity: 0.7; stroke-width: 0.3\" />\n",
       "     <use xlink:href=\"#m8737fc55cb\" x=\"24.458261\" y=\"60.984\" style=\"fill: #4575b4; fill-opacity: 0.7; stroke: #4575b4; stroke-opacity: 0.7; stroke-width: 0.3\" />\n",
       "     <use xlink:href=\"#m8737fc55cb\" x=\"17.18\" y=\"37.659728\" style=\"fill: #4575b4; fill-opacity: 0.7; stroke: #4575b4; stroke-opacity: 0.7; stroke-width: 0.3\" />\n",
       "     <use xlink:href=\"#m8737fc55cb\" x=\"31.32813\" y=\"57.39565\" style=\"fill: #4575b4; fill-opacity: 0.7; stroke: #4575b4; stroke-opacity: 0.7; stroke-width: 0.3\" />\n",
       "     <use xlink:href=\"#m8737fc55cb\" x=\"23.851739\" y=\"55.601476\" style=\"fill: #4575b4; fill-opacity: 0.7; stroke: #4575b4; stroke-opacity: 0.7; stroke-width: 0.3\" />\n",
       "     <use xlink:href=\"#m8737fc55cb\" x=\"31.938696\" y=\"43.042252\" style=\"fill: #4575b4; fill-opacity: 0.7; stroke: #4575b4; stroke-opacity: 0.7; stroke-width: 0.3\" />\n",
       "     <use xlink:href=\"#m8737fc55cb\" x=\"35.78\" y=\"35.865553\" style=\"fill: #4575b4; fill-opacity: 0.7; stroke: #4575b4; stroke-opacity: 0.7; stroke-width: 0.3\" />\n",
       "     <use xlink:href=\"#m8737fc55cb\" x=\"28.056957\" y=\"57.39565\" style=\"fill: #4575b4; fill-opacity: 0.7; stroke: #4575b4; stroke-opacity: 0.7; stroke-width: 0.3\" />\n",
       "     <use xlink:href=\"#m8737fc55cb\" x=\"30.11913\" y=\"50.218951\" style=\"fill: #4575b4; fill-opacity: 0.7; stroke: #4575b4; stroke-opacity: 0.7; stroke-width: 0.3\" />\n",
       "     <use xlink:href=\"#m8737fc55cb\" x=\"22.02813\" y=\"60.984\" style=\"fill: #4575b4; fill-opacity: 0.7; stroke: #4575b4; stroke-opacity: 0.7; stroke-width: 0.3\" />\n",
       "     <use xlink:href=\"#m8737fc55cb\" x=\"24.458261\" y=\"46.630602\" style=\"fill: #4575b4; fill-opacity: 0.7; stroke: #4575b4; stroke-opacity: 0.7; stroke-width: 0.3\" />\n",
       "     <use xlink:href=\"#m8737fc55cb\" x=\"31.332174\" y=\"41.248078\" style=\"fill: #4575b4; fill-opacity: 0.7; stroke: #4575b4; stroke-opacity: 0.7; stroke-width: 0.3\" />\n",
       "     <use xlink:href=\"#m8737fc55cb\" x=\"17.18\" y=\"60.984\" style=\"fill: #4575b4; fill-opacity: 0.7; stroke: #4575b4; stroke-opacity: 0.7; stroke-width: 0.3\" />\n",
       "     <use xlink:href=\"#m8737fc55cb\" x=\"31.736522\" y=\"53.807301\" style=\"fill: #4575b4; fill-opacity: 0.7; stroke: #4575b4; stroke-opacity: 0.7; stroke-width: 0.3\" />\n",
       "     <use xlink:href=\"#m8737fc55cb\" x=\"19.97\" y=\"60.984\" style=\"fill: #4575b4; fill-opacity: 0.7; stroke: #4575b4; stroke-opacity: 0.7; stroke-width: 0.3\" />\n",
       "     <use xlink:href=\"#m8737fc55cb\" x=\"29.310435\" y=\"35.865553\" style=\"fill: #4575b4; fill-opacity: 0.7; stroke: #4575b4; stroke-opacity: 0.7; stroke-width: 0.3\" />\n",
       "     <use xlink:href=\"#m8737fc55cb\" x=\"31.332174\" y=\"52.013126\" style=\"fill: #4575b4; fill-opacity: 0.7; stroke: #4575b4; stroke-opacity: 0.7; stroke-width: 0.3\" />\n",
       "     <use xlink:href=\"#m8737fc55cb\" x=\"23.245217\" y=\"37.659728\" style=\"fill: #4575b4; fill-opacity: 0.7; stroke: #4575b4; stroke-opacity: 0.7; stroke-width: 0.3\" />\n",
       "     <use xlink:href=\"#m8737fc55cb\" x=\"29.306391\" y=\"26.89468\" style=\"fill: #4575b4; fill-opacity: 0.7; stroke: #4575b4; stroke-opacity: 0.7; stroke-width: 0.3\" />\n",
       "     <use xlink:href=\"#m8737fc55cb\" x=\"19.201739\" y=\"41.248078\" style=\"fill: #4575b4; fill-opacity: 0.7; stroke: #4575b4; stroke-opacity: 0.7; stroke-width: 0.3\" />\n",
       "     <use xlink:href=\"#m8737fc55cb\" x=\"29.310435\" y=\"21.512155\" style=\"fill: #4575b4; fill-opacity: 0.7; stroke: #4575b4; stroke-opacity: 0.7; stroke-width: 0.3\" />\n",
       "     <use xlink:href=\"#m8737fc55cb\" x=\"17.786522\" y=\"53.807301\" style=\"fill: #4575b4; fill-opacity: 0.7; stroke: #4575b4; stroke-opacity: 0.7; stroke-width: 0.3\" />\n",
       "     <use xlink:href=\"#m8737fc55cb\" x=\"31.736522\" y=\"50.218951\" style=\"fill: #4575b4; fill-opacity: 0.7; stroke: #4575b4; stroke-opacity: 0.7; stroke-width: 0.3\" />\n",
       "     <use xlink:href=\"#m8737fc55cb\" x=\"28.299565\" y=\"57.39565\" style=\"fill: #4575b4; fill-opacity: 0.7; stroke: #4575b4; stroke-opacity: 0.7; stroke-width: 0.3\" />\n",
       "     <use xlink:href=\"#m8737fc55cb\" x=\"20.212609\" y=\"53.807301\" style=\"fill: #4575b4; fill-opacity: 0.7; stroke: #4575b4; stroke-opacity: 0.7; stroke-width: 0.3\" />\n",
       "     <use xlink:href=\"#m8737fc55cb\" x=\"35.375652\" y=\"19.717981\" style=\"fill: #4575b4; fill-opacity: 0.7; stroke: #4575b4; stroke-opacity: 0.7; stroke-width: 0.3\" />\n",
       "     <use xlink:href=\"#m8737fc55cb\" x=\"27.693043\" y=\"48.424777\" style=\"fill: #4575b4; fill-opacity: 0.7; stroke: #4575b4; stroke-opacity: 0.7; stroke-width: 0.3\" />\n",
       "     <use xlink:href=\"#m8737fc55cb\" x=\"24.858565\" y=\"60.984\" style=\"fill: #4575b4; fill-opacity: 0.7; stroke: #4575b4; stroke-opacity: 0.7; stroke-width: 0.3\" />\n",
       "     <use xlink:href=\"#m8737fc55cb\" x=\"23.043043\" y=\"59.189825\" style=\"fill: #4575b4; fill-opacity: 0.7; stroke: #4575b4; stroke-opacity: 0.7; stroke-width: 0.3\" />\n",
       "     <use xlink:href=\"#m8737fc55cb\" x=\"20.212609\" y=\"59.189825\" style=\"fill: #4575b4; fill-opacity: 0.7; stroke: #4575b4; stroke-opacity: 0.7; stroke-width: 0.3\" />\n",
       "     <use xlink:href=\"#m8737fc55cb\" x=\"28.906087\" y=\"28.688854\" style=\"fill: #4575b4; fill-opacity: 0.7; stroke: #4575b4; stroke-opacity: 0.7; stroke-width: 0.3\" />\n",
       "     <use xlink:href=\"#m8737fc55cb\" x=\"20.414783\" y=\"55.601476\" style=\"fill: #4575b4; fill-opacity: 0.7; stroke: #4575b4; stroke-opacity: 0.7; stroke-width: 0.3\" />\n",
       "     <use xlink:href=\"#m8737fc55cb\" x=\"21.991739\" y=\"50.218951\" style=\"fill: #4575b4; fill-opacity: 0.7; stroke: #4575b4; stroke-opacity: 0.7; stroke-width: 0.3\" />\n",
       "     <use xlink:href=\"#m8737fc55cb\" x=\"19.403913\" y=\"59.189825\" style=\"fill: #4575b4; fill-opacity: 0.7; stroke: #4575b4; stroke-opacity: 0.7; stroke-width: 0.3\" />\n",
       "     <use xlink:href=\"#m8737fc55cb\" x=\"28.299565\" y=\"34.071379\" style=\"fill: #4575b4; fill-opacity: 0.7; stroke: #4575b4; stroke-opacity: 0.7; stroke-width: 0.3\" />\n",
       "     <use xlink:href=\"#m8737fc55cb\" x=\"18.389\" y=\"43.042252\" style=\"fill: #4575b4; fill-opacity: 0.7; stroke: #4575b4; stroke-opacity: 0.7; stroke-width: 0.3\" />\n",
       "     <use xlink:href=\"#m8737fc55cb\" x=\"21.219435\" y=\"32.277204\" style=\"fill: #4575b4; fill-opacity: 0.7; stroke: #4575b4; stroke-opacity: 0.7; stroke-width: 0.3\" />\n",
       "     <use xlink:href=\"#m8737fc55cb\" x=\"27.288696\" y=\"60.984\" style=\"fill: #4575b4; fill-opacity: 0.7; stroke: #4575b4; stroke-opacity: 0.7; stroke-width: 0.3\" />\n",
       "     <use xlink:href=\"#m8737fc55cb\" x=\"33.151739\" y=\"44.836427\" style=\"fill: #4575b4; fill-opacity: 0.7; stroke: #4575b4; stroke-opacity: 0.7; stroke-width: 0.3\" />\n",
       "     <use xlink:href=\"#m8737fc55cb\" x=\"26.075652\" y=\"53.807301\" style=\"fill: #4575b4; fill-opacity: 0.7; stroke: #4575b4; stroke-opacity: 0.7; stroke-width: 0.3\" />\n",
       "     <use xlink:href=\"#m8737fc55cb\" x=\"21.021304\" y=\"39.453903\" style=\"fill: #4575b4; fill-opacity: 0.7; stroke: #4575b4; stroke-opacity: 0.7; stroke-width: 0.3\" />\n",
       "     <use xlink:href=\"#m8737fc55cb\" x=\"23.649565\" y=\"39.453903\" style=\"fill: #4575b4; fill-opacity: 0.7; stroke: #4575b4; stroke-opacity: 0.7; stroke-width: 0.3\" />\n",
       "     <use xlink:href=\"#m8737fc55cb\" x=\"17.18\" y=\"53.807301\" style=\"fill: #4575b4; fill-opacity: 0.7; stroke: #4575b4; stroke-opacity: 0.7; stroke-width: 0.3\" />\n",
       "     <use xlink:href=\"#m8737fc55cb\" x=\"32.949565\" y=\"35.865553\" style=\"fill: #4575b4; fill-opacity: 0.7; stroke: #4575b4; stroke-opacity: 0.7; stroke-width: 0.3\" />\n",
       "     <use xlink:href=\"#m8737fc55cb\" x=\"24.417826\" y=\"46.630602\" style=\"fill: #4575b4; fill-opacity: 0.7; stroke: #4575b4; stroke-opacity: 0.7; stroke-width: 0.3\" />\n",
       "     <use xlink:href=\"#m8737fc55cb\" x=\"23.851739\" y=\"53.807301\" style=\"fill: #4575b4; fill-opacity: 0.7; stroke: #4575b4; stroke-opacity: 0.7; stroke-width: 0.3\" />\n",
       "     <use xlink:href=\"#m8737fc55cb\" x=\"34.76913\" y=\"41.248078\" style=\"fill: #4575b4; fill-opacity: 0.7; stroke: #4575b4; stroke-opacity: 0.7; stroke-width: 0.3\" />\n",
       "     <use xlink:href=\"#m8737fc55cb\" x=\"17.988696\" y=\"41.248078\" style=\"fill: #4575b4; fill-opacity: 0.7; stroke: #4575b4; stroke-opacity: 0.7; stroke-width: 0.3\" />\n",
       "     <use xlink:href=\"#m8737fc55cb\" x=\"24.458261\" y=\"48.424777\" style=\"fill: #4575b4; fill-opacity: 0.7; stroke: #4575b4; stroke-opacity: 0.7; stroke-width: 0.3\" />\n",
       "     <use xlink:href=\"#m8737fc55cb\" x=\"21.219435\" y=\"59.189825\" style=\"fill: #4575b4; fill-opacity: 0.7; stroke: #4575b4; stroke-opacity: 0.7; stroke-width: 0.3\" />\n",
       "     <use xlink:href=\"#m8737fc55cb\" x=\"25.873478\" y=\"39.453903\" style=\"fill: #4575b4; fill-opacity: 0.7; stroke: #4575b4; stroke-opacity: 0.7; stroke-width: 0.3\" />\n",
       "     <use xlink:href=\"#m8737fc55cb\" x=\"19.197696\" y=\"53.807301\" style=\"fill: #4575b4; fill-opacity: 0.7; stroke: #4575b4; stroke-opacity: 0.7; stroke-width: 0.3\" />\n",
       "     <use xlink:href=\"#m8737fc55cb\" x=\"26.884348\" y=\"59.189825\" style=\"fill: #4575b4; fill-opacity: 0.7; stroke: #4575b4; stroke-opacity: 0.7; stroke-width: 0.3\" />\n",
       "     <use xlink:href=\"#m8737fc55cb\" x=\"34.162609\" y=\"59.189825\" style=\"fill: #4575b4; fill-opacity: 0.7; stroke: #4575b4; stroke-opacity: 0.7; stroke-width: 0.3\" />\n",
       "     <use xlink:href=\"#m8737fc55cb\" x=\"21.223478\" y=\"52.013126\" style=\"fill: #4575b4; fill-opacity: 0.7; stroke: #4575b4; stroke-opacity: 0.7; stroke-width: 0.3\" />\n",
       "     <use xlink:href=\"#m8737fc55cb\" x=\"20.414783\" y=\"30.483029\" style=\"fill: #4575b4; fill-opacity: 0.7; stroke: #4575b4; stroke-opacity: 0.7; stroke-width: 0.3\" />\n",
       "     <use xlink:href=\"#m8737fc55cb\" x=\"20.778696\" y=\"52.013126\" style=\"fill: #4575b4; fill-opacity: 0.7; stroke: #4575b4; stroke-opacity: 0.7; stroke-width: 0.3\" />\n",
       "     <use xlink:href=\"#m8737fc55cb\" x=\"21.223478\" y=\"52.013126\" style=\"fill: #4575b4; fill-opacity: 0.7; stroke: #4575b4; stroke-opacity: 0.7; stroke-width: 0.3\" />\n",
       "     <use xlink:href=\"#m8737fc55cb\" x=\"22.032174\" y=\"57.39565\" style=\"fill: #4575b4; fill-opacity: 0.7; stroke: #4575b4; stroke-opacity: 0.7; stroke-width: 0.3\" />\n",
       "     <use xlink:href=\"#m8737fc55cb\" x=\"32.545217\" y=\"53.807301\" style=\"fill: #4575b4; fill-opacity: 0.7; stroke: #4575b4; stroke-opacity: 0.7; stroke-width: 0.3\" />\n",
       "     <use xlink:href=\"#m8737fc55cb\" x=\"18.514348\" y=\"53.807301\" style=\"fill: #4575b4; fill-opacity: 0.7; stroke: #4575b4; stroke-opacity: 0.7; stroke-width: 0.3\" />\n",
       "     <use xlink:href=\"#m8737fc55cb\" x=\"30.11913\" y=\"44.836427\" style=\"fill: #4575b4; fill-opacity: 0.7; stroke: #4575b4; stroke-opacity: 0.7; stroke-width: 0.3\" />\n",
       "     <use xlink:href=\"#m8737fc55cb\" x=\"30.806522\" y=\"55.601476\" style=\"fill: #4575b4; fill-opacity: 0.7; stroke: #4575b4; stroke-opacity: 0.7; stroke-width: 0.3\" />\n",
       "     <use xlink:href=\"#m8737fc55cb\" x=\"29.310435\" y=\"50.218951\" style=\"fill: #4575b4; fill-opacity: 0.7; stroke: #4575b4; stroke-opacity: 0.7; stroke-width: 0.3\" />\n",
       "     <use xlink:href=\"#m8737fc55cb\" x=\"19.201739\" y=\"39.453903\" style=\"fill: #4575b4; fill-opacity: 0.7; stroke: #4575b4; stroke-opacity: 0.7; stroke-width: 0.3\" />\n",
       "    </g>\n",
       "   </g>\n",
       "   <g id=\"patch_3\">\n",
       "    <path d=\"M 28.8515 60.984  L 26.3405 67.0824  L 31.3625 67.0824  z \" style=\"fill: #444443\" />\n",
       "   </g>\n",
       "   <g id=\"matplotlib.axis_1\">\n",
       "    <g id=\"xtick_1\">\n",
       "     <g id=\"line2d_1\">\n",
       "      <defs>\n",
       "       <path id=\"m679e8c5541\" d=\"M 0 0  L 0 3.5  \" style=\"stroke: #000000; stroke-width: 0.3\" />\n",
       "      </defs>\n",
       "      <g>\n",
       "       <use xlink:href=\"#m679e8c5541\" x=\"17.18\" y=\"60.984\" style=\"stroke: #000000; stroke-width: 0.3\" />\n",
       "      </g>\n",
       "     </g>\n",
       "     <g id=\"text_1\">\n",
       "      \n",
       "      <g style=\"fill: #444443\" transform=\"translate(14.635 78.56275) scale(0.08 -0.08)\">\n",
       "       <defs>\n",
       "        <path id=\"DejaVuSans-30\" d=\"M 2034 4250  Q 1547 4250 1301 3770  Q 1056 3291 1056 2328  Q 1056 1369 1301 889  Q 1547 409 2034 409  Q 2525 409 2770 889  Q 3016 1369 3016 2328  Q 3016 3291 2770 3770  Q 2525 4250 2034 4250  z M 2034 4750  Q 2819 4750 3233 4129  Q 3647 3509 3647 2328  Q 3647 1150 3233 529  Q 2819 -91 2034 -91  Q 1250 -91 836 529  Q 422 1150 422 2328  Q 422 3509 836 4129  Q 1250 4750 2034 4750  z \" transform=\"scale(0.015625)\" />\n",
       "       </defs>\n",
       "       <use xlink:href=\"#DejaVuSans-30\" />\n",
       "      </g>\n",
       "     </g>\n",
       "    </g>\n",
       "    <g id=\"xtick_2\">\n",
       "     <g id=\"line2d_2\">\n",
       "      <g>\n",
       "       <use xlink:href=\"#m679e8c5541\" x=\"156.68\" y=\"60.984\" style=\"stroke: #000000; stroke-width: 0.3\" />\n",
       "      </g>\n",
       "     </g>\n",
       "     <g id=\"text_2\">\n",
       "      \n",
       "      <g style=\"fill: #444443\" transform=\"translate(143.955 78.56275) scale(0.08 -0.08)\">\n",
       "       <defs>\n",
       "        <path id=\"DejaVuSans-33\" d=\"M 2597 2516  Q 3050 2419 3304 2112  Q 3559 1806 3559 1356  Q 3559 666 3084 287  Q 2609 -91 1734 -91  Q 1441 -91 1130 -33  Q 819 25 488 141  L 488 750  Q 750 597 1062 519  Q 1375 441 1716 441  Q 2309 441 2620 675  Q 2931 909 2931 1356  Q 2931 1769 2642 2001  Q 2353 2234 1838 2234  L 1294 2234  L 1294 2753  L 1863 2753  Q 2328 2753 2575 2939  Q 2822 3125 2822 3475  Q 2822 3834 2567 4026  Q 2313 4219 1838 4219  Q 1578 4219 1281 4162  Q 984 4106 628 3988  L 628 4550  Q 988 4650 1302 4700  Q 1616 4750 1894 4750  Q 2613 4750 3031 4423  Q 3450 4097 3450 3541  Q 3450 3153 3228 2886  Q 3006 2619 2597 2516  z \" transform=\"scale(0.015625)\" />\n",
       "        <path id=\"DejaVuSans-34\" d=\"M 2419 4116  L 825 1625  L 2419 1625  L 2419 4116  z M 2253 4666  L 3047 4666  L 3047 1625  L 3713 1625  L 3713 1100  L 3047 1100  L 3047 0  L 2419 0  L 2419 1100  L 313 1100  L 313 1709  L 2253 4666  z \" transform=\"scale(0.015625)\" />\n",
       "        <path id=\"DejaVuSans-35\" d=\"M 691 4666  L 3169 4666  L 3169 4134  L 1269 4134  L 1269 2991  Q 1406 3038 1543 3061  Q 1681 3084 1819 3084  Q 2600 3084 3056 2656  Q 3513 2228 3513 1497  Q 3513 744 3044 326  Q 2575 -91 1722 -91  Q 1428 -91 1123 -41  Q 819 9 494 109  L 494 744  Q 775 591 1075 516  Q 1375 441 1709 441  Q 2250 441 2565 725  Q 2881 1009 2881 1497  Q 2881 1984 2565 2268  Q 2250 2553 1709 2553  Q 1456 2553 1204 2497  Q 953 2441 691 2322  L 691 4666  z \" transform=\"scale(0.015625)\" />\n",
       "       </defs>\n",
       "       <use xlink:href=\"#DejaVuSans-33\" />\n",
       "       <use xlink:href=\"#DejaVuSans-34\" x=\"63.623047\" />\n",
       "       <use xlink:href=\"#DejaVuSans-35\" x=\"127.246094\" />\n",
       "       <use xlink:href=\"#DejaVuSans-30\" x=\"190.869141\" />\n",
       "       <use xlink:href=\"#DejaVuSans-30\" x=\"254.492188\" />\n",
       "      </g>\n",
       "     </g>\n",
       "    </g>\n",
       "    <g id=\"text_3\">\n",
       "     \n",
       "     <g style=\"fill: #444443\" transform=\"translate(67.01875 96.384) scale(0.16 -0.16)\">\n",
       "      <defs>\n",
       "       <path id=\"DejaVuSans-70\" d=\"M 1159 525  L 1159 -1331  L 581 -1331  L 581 3500  L 1159 3500  L 1159 2969  Q 1341 3281 1617 3432  Q 1894 3584 2278 3584  Q 2916 3584 3314 3078  Q 3713 2572 3713 1747  Q 3713 922 3314 415  Q 2916 -91 2278 -91  Q 1894 -91 1617 61  Q 1341 213 1159 525  z M 3116 1747  Q 3116 2381 2855 2742  Q 2594 3103 2138 3103  Q 1681 3103 1420 2742  Q 1159 2381 1159 1747  Q 1159 1113 1420 752  Q 1681 391 2138 391  Q 2594 391 2855 752  Q 3116 1113 3116 1747  z \" transform=\"scale(0.015625)\" />\n",
       "       <path id=\"DejaVuSans-72\" d=\"M 2631 2963  Q 2534 3019 2420 3045  Q 2306 3072 2169 3072  Q 1681 3072 1420 2755  Q 1159 2438 1159 1844  L 1159 0  L 581 0  L 581 3500  L 1159 3500  L 1159 2956  Q 1341 3275 1631 3429  Q 1922 3584 2338 3584  Q 2397 3584 2469 3576  Q 2541 3569 2628 3553  L 2631 2963  z \" transform=\"scale(0.015625)\" />\n",
       "       <path id=\"DejaVuSans-69\" d=\"M 603 3500  L 1178 3500  L 1178 0  L 603 0  L 603 3500  z M 603 4863  L 1178 4863  L 1178 4134  L 603 4134  L 603 4863  z \" transform=\"scale(0.015625)\" />\n",
       "       <path id=\"DejaVuSans-63\" d=\"M 3122 3366  L 3122 2828  Q 2878 2963 2633 3030  Q 2388 3097 2138 3097  Q 1578 3097 1268 2742  Q 959 2388 959 1747  Q 959 1106 1268 751  Q 1578 397 2138 397  Q 2388 397 2633 464  Q 2878 531 3122 666  L 3122 134  Q 2881 22 2623 -34  Q 2366 -91 2075 -91  Q 1284 -91 818 406  Q 353 903 353 1747  Q 353 2603 823 3093  Q 1294 3584 2113 3584  Q 2378 3584 2631 3529  Q 2884 3475 3122 3366  z \" transform=\"scale(0.015625)\" />\n",
       "       <path id=\"DejaVuSans-65\" d=\"M 3597 1894  L 3597 1613  L 953 1613  Q 991 1019 1311 708  Q 1631 397 2203 397  Q 2534 397 2845 478  Q 3156 559 3463 722  L 3463 178  Q 3153 47 2828 -22  Q 2503 -91 2169 -91  Q 1331 -91 842 396  Q 353 884 353 1716  Q 353 2575 817 3079  Q 1281 3584 2069 3584  Q 2775 3584 3186 3129  Q 3597 2675 3597 1894  z M 3022 2063  Q 3016 2534 2758 2815  Q 2500 3097 2075 3097  Q 1594 3097 1305 2825  Q 1016 2553 972 2059  L 3022 2063  z \" transform=\"scale(0.015625)\" />\n",
       "      </defs>\n",
       "      <use xlink:href=\"#DejaVuSans-70\" />\n",
       "      <use xlink:href=\"#DejaVuSans-72\" x=\"63.476562\" />\n",
       "      <use xlink:href=\"#DejaVuSans-69\" x=\"104.589844\" />\n",
       "      <use xlink:href=\"#DejaVuSans-63\" x=\"132.373047\" />\n",
       "      <use xlink:href=\"#DejaVuSans-65\" x=\"187.353516\" />\n",
       "     </g>\n",
       "    </g>\n",
       "   </g>\n",
       "   <g id=\"matplotlib.axis_2\">\n",
       "    <g id=\"ytick_1\">\n",
       "     <g id=\"line2d_3\">\n",
       "      <defs>\n",
       "       <path id=\"m50433d812e\" d=\"M 0 0  L -3.5 0  \" style=\"stroke: #000000; stroke-width: 0.3\" />\n",
       "      </defs>\n",
       "      <g>\n",
       "       <use xlink:href=\"#m50433d812e\" x=\"17.18\" y=\"60.984\" style=\"stroke: #000000; stroke-width: 0.3\" />\n",
       "      </g>\n",
       "     </g>\n",
       "     <g id=\"text_4\">\n",
       "      \n",
       "      <g style=\"fill: #444443\" transform=\"translate(5.09 64.023375) scale(0.08 -0.08)\">\n",
       "       <use xlink:href=\"#DejaVuSans-30\" />\n",
       "      </g>\n",
       "     </g>\n",
       "    </g>\n",
       "    <g id=\"ytick_2\">\n",
       "     <g id=\"line2d_4\">\n",
       "      <g>\n",
       "       <use xlink:href=\"#m50433d812e\" x=\"17.18\" y=\"25.100505\" style=\"stroke: #000000; stroke-width: 0.3\" />\n",
       "      </g>\n",
       "     </g>\n",
       "     <g id=\"text_5\">\n",
       "      \n",
       "      <g style=\"fill: #444443\" transform=\"translate(0 28.13988) scale(0.08 -0.08)\">\n",
       "       <defs>\n",
       "        <path id=\"DejaVuSans-32\" d=\"M 1228 531  L 3431 531  L 3431 0  L 469 0  L 469 531  Q 828 903 1448 1529  Q 2069 2156 2228 2338  Q 2531 2678 2651 2914  Q 2772 3150 2772 3378  Q 2772 3750 2511 3984  Q 2250 4219 1831 4219  Q 1534 4219 1204 4116  Q 875 4013 500 3803  L 500 4441  Q 881 4594 1212 4672  Q 1544 4750 1819 4750  Q 2544 4750 2975 4387  Q 3406 4025 3406 3419  Q 3406 3131 3298 2873  Q 3191 2616 2906 2266  Q 2828 2175 2409 1742  Q 1991 1309 1228 531  z \" transform=\"scale(0.015625)\" />\n",
       "       </defs>\n",
       "       <use xlink:href=\"#DejaVuSans-32\" />\n",
       "       <use xlink:href=\"#DejaVuSans-30\" x=\"63.623047\" />\n",
       "      </g>\n",
       "     </g>\n",
       "    </g>\n",
       "   </g>\n",
       "   <g id=\"line2d_5\">\n",
       "    <path d=\"M 17.18 46.909696  L 28.8515 46.909696  \" clip-path=\"url(#pff98f60e2f)\" style=\"fill: none; stroke-dasharray: 3.7,1.6; stroke-dashoffset: 0; stroke: #444443\" />\n",
       "   </g>\n",
       "   <g id=\"line2d_6\">\n",
       "    <path d=\"M 28.8515 60.984  L 28.8515 0  \" clip-path=\"url(#pff98f60e2f)\" style=\"fill: none; stroke-dasharray: 3.7,1.6; stroke-dashoffset: 0; stroke: #444443\" />\n",
       "   </g>\n",
       "   <g id=\"line2d_7\">\n",
       "    <path d=\"M 28.8515 44.688672  L 156.68 44.688672  \" clip-path=\"url(#pff98f60e2f)\" style=\"fill: none; stroke-dasharray: 3.7,1.6; stroke-dashoffset: 0; stroke: #444443\" />\n",
       "   </g>\n",
       "   <g id=\"patch_4\">\n",
       "    <path d=\"M 17.18 60.984  L 17.18 0  \" style=\"fill: none; stroke: #444443; stroke-width: 0.3; stroke-linejoin: miter; stroke-linecap: square\" />\n",
       "   </g>\n",
       "   <g id=\"patch_5\">\n",
       "    <path d=\"M 17.18 60.984  L 156.68 60.984  \" style=\"fill: none; stroke: #444443; stroke-width: 0.3; stroke-linejoin: miter; stroke-linecap: square\" />\n",
       "   </g>\n",
       "  </g>\n",
       " </g>\n",
       " <defs>\n",
       "  <clipPath id=\"pff98f60e2f\">\n",
       "   <rect x=\"17.18\" y=\"0\" width=\"139.5\" height=\"60.984\" />\n",
       "  </clipPath>\n",
       " </defs>\n",
       "</svg></g>\n",
       "\n",
       "<g id=\"node2\" class=\"node\">\n",
       "<title>node2</title>\n",
       "<svg width=\"126px\" height=\"75px\" viewBox=\"0 0 169.405 99.7115\" version=\"1.1\" preserveAspectRatio=\"xMinYMin meet\" x=\"191.251\" y=\"-144\">\n",
       " <metadata>\n",
       "  <rdf:RDF>\n",
       "   <ns2:Work>\n",
       "    <dc:type rdf:resource=\"http://purl.org/dc/dcmitype/StillImage\" />\n",
       "    <dc:date>2023-04-07T10:03:53.890167</dc:date>\n",
       "    <dc:format>image/svg+xml</dc:format>\n",
       "    <dc:creator>\n",
       "     <ns2:Agent>\n",
       "      <dc:title>Matplotlib v3.7.0, https://matplotlib.org/</dc:title>\n",
       "     </ns2:Agent>\n",
       "    </dc:creator>\n",
       "   </ns2:Work>\n",
       "  </rdf:RDF>\n",
       " </metadata>\n",
       " <defs>\n",
       "  <style type=\"text/css\">*{stroke-linejoin: round; stroke-linecap: butt}</style>\n",
       " </defs>\n",
       " <g id=\"figure_1\">\n",
       "  <g id=\"patch_1\">\n",
       "   <path d=\"M 0 99.7115  L 169.405 99.7115  L 169.405 0  L 0 0  z \" style=\"fill: #ffffff\" />\n",
       "  </g>\n",
       "  <g id=\"axes_1\">\n",
       "   <g id=\"patch_2\">\n",
       "    <path d=\"M 17.18 60.984  L 156.68 60.984  L 156.68 0  L 17.18 0  z \" style=\"fill: #ffffff\" />\n",
       "   </g>\n",
       "   <g id=\"PathCollection_1\">\n",
       "    <defs>\n",
       "     <path id=\"mb2798fbea1\" d=\"M 0 1.118034  C 0.296506 1.118034 0.580908 1.000231 0.790569 0.790569  C 1.000231 0.580908 1.118034 0.296506 1.118034 0  C 1.118034 -0.296506 1.000231 -0.580908 0.790569 -0.790569  C 0.580908 -1.000231 0.296506 -1.118034 0 -1.118034  C -0.296506 -1.118034 -0.580908 -1.000231 -0.790569 -0.790569  C -1.000231 -0.580908 -1.118034 -0.296506 -1.118034 0  C -1.118034 0.296506 -1.000231 0.580908 -0.790569 0.790569  C -0.580908 1.000231 -0.296506 1.118034 0 1.118034  z \" style=\"stroke: #4575b4; stroke-opacity: 0.7; stroke-width: 0.3\" />\n",
       "    </defs>\n",
       "    <g clip-path=\"url(#p729bfd2131)\">\n",
       "     <use xlink:href=\"#mb2798fbea1\" x=\"63.68\" y=\"43.042252\" style=\"fill: #4575b4; fill-opacity: 0.7; stroke: #4575b4; stroke-opacity: 0.7; stroke-width: 0.3\" />\n",
       "     <use xlink:href=\"#mb2798fbea1\" x=\"42.245522\" y=\"59.189825\" style=\"fill: #4575b4; fill-opacity: 0.7; stroke: #4575b4; stroke-opacity: 0.7; stroke-width: 0.3\" />\n",
       "     <use xlink:href=\"#mb2798fbea1\" x=\"122.108261\" y=\"57.39565\" style=\"fill: #4575b4; fill-opacity: 0.7; stroke: #4575b4; stroke-opacity: 0.7; stroke-width: 0.3\" />\n",
       "     <use xlink:href=\"#mb2798fbea1\" x=\"55.593043\" y=\"60.984\" style=\"fill: #4575b4; fill-opacity: 0.7; stroke: #4575b4; stroke-opacity: 0.7; stroke-width: 0.3\" />\n",
       "     <use xlink:href=\"#mb2798fbea1\" x=\"57.610739\" y=\"30.483029\" style=\"fill: #4575b4; fill-opacity: 0.7; stroke: #4575b4; stroke-opacity: 0.7; stroke-width: 0.3\" />\n",
       "     <use xlink:href=\"#mb2798fbea1\" x=\"85.91913\" y=\"50.218951\" style=\"fill: #4575b4; fill-opacity: 0.7; stroke: #4575b4; stroke-opacity: 0.7; stroke-width: 0.3\" />\n",
       "     <use xlink:href=\"#mb2798fbea1\" x=\"91.980304\" y=\"57.39565\" style=\"fill: #4575b4; fill-opacity: 0.7; stroke: #4575b4; stroke-opacity: 0.7; stroke-width: 0.3\" />\n",
       "     <use xlink:href=\"#mb2798fbea1\" x=\"79.853913\" y=\"35.865553\" style=\"fill: #4575b4; fill-opacity: 0.7; stroke: #4575b4; stroke-opacity: 0.7; stroke-width: 0.3\" />\n",
       "     <use xlink:href=\"#mb2798fbea1\" x=\"37.397391\" y=\"28.688854\" style=\"fill: #4575b4; fill-opacity: 0.7; stroke: #4575b4; stroke-opacity: 0.7; stroke-width: 0.3\" />\n",
       "     <use xlink:href=\"#mb2798fbea1\" x=\"60.849565\" y=\"44.836427\" style=\"fill: #4575b4; fill-opacity: 0.7; stroke: #4575b4; stroke-opacity: 0.7; stroke-width: 0.3\" />\n",
       "     <use xlink:href=\"#mb2798fbea1\" x=\"40.632174\" y=\"48.424777\" style=\"fill: #4575b4; fill-opacity: 0.7; stroke: #4575b4; stroke-opacity: 0.7; stroke-width: 0.3\" />\n",
       "     <use xlink:href=\"#mb2798fbea1\" x=\"61.654217\" y=\"39.453903\" style=\"fill: #4575b4; fill-opacity: 0.7; stroke: #4575b4; stroke-opacity: 0.7; stroke-width: 0.3\" />\n",
       "     <use xlink:href=\"#mb2798fbea1\" x=\"84.261304\" y=\"16.129631\" style=\"fill: #4575b4; fill-opacity: 0.7; stroke: #4575b4; stroke-opacity: 0.7; stroke-width: 0.3\" />\n",
       "     <use xlink:href=\"#mb2798fbea1\" x=\"39.41913\" y=\"60.984\" style=\"fill: #4575b4; fill-opacity: 0.7; stroke: #4575b4; stroke-opacity: 0.7; stroke-width: 0.3\" />\n",
       "     <use xlink:href=\"#mb2798fbea1\" x=\"40.632174\" y=\"52.013126\" style=\"fill: #4575b4; fill-opacity: 0.7; stroke: #4575b4; stroke-opacity: 0.7; stroke-width: 0.3\" />\n",
       "     <use xlink:href=\"#mb2798fbea1\" x=\"113.293478\" y=\"55.601476\" style=\"fill: #4575b4; fill-opacity: 0.7; stroke: #4575b4; stroke-opacity: 0.7; stroke-width: 0.3\" />\n",
       "     <use xlink:href=\"#mb2798fbea1\" x=\"39.41913\" y=\"35.865553\" style=\"fill: #4575b4; fill-opacity: 0.7; stroke: #4575b4; stroke-opacity: 0.7; stroke-width: 0.3\" />\n",
       "     <use xlink:href=\"#mb2798fbea1\" x=\"41.238696\" y=\"35.865553\" style=\"fill: #4575b4; fill-opacity: 0.7; stroke: #4575b4; stroke-opacity: 0.7; stroke-width: 0.3\" />\n",
       "     <use xlink:href=\"#mb2798fbea1\" x=\"79.045217\" y=\"50.218951\" style=\"fill: #4575b4; fill-opacity: 0.7; stroke: #4575b4; stroke-opacity: 0.7; stroke-width: 0.3\" />\n",
       "     <use xlink:href=\"#mb2798fbea1\" x=\"65.499565\" y=\"60.984\" style=\"fill: #4575b4; fill-opacity: 0.7; stroke: #4575b4; stroke-opacity: 0.7; stroke-width: 0.3\" />\n",
       "     <use xlink:href=\"#mb2798fbea1\" x=\"85.91913\" y=\"53.807301\" style=\"fill: #4575b4; fill-opacity: 0.7; stroke: #4575b4; stroke-opacity: 0.7; stroke-width: 0.3\" />\n",
       "     <use xlink:href=\"#mb2798fbea1\" x=\"53.118435\" y=\"53.807301\" style=\"fill: #4575b4; fill-opacity: 0.7; stroke: #4575b4; stroke-opacity: 0.7; stroke-width: 0.3\" />\n",
       "     <use xlink:href=\"#mb2798fbea1\" x=\"55.552609\" y=\"60.984\" style=\"fill: #4575b4; fill-opacity: 0.7; stroke: #4575b4; stroke-opacity: 0.7; stroke-width: 0.3\" />\n",
       "     <use xlink:href=\"#mb2798fbea1\" x=\"45.282174\" y=\"46.630602\" style=\"fill: #4575b4; fill-opacity: 0.7; stroke: #4575b4; stroke-opacity: 0.7; stroke-width: 0.3\" />\n",
       "     <use xlink:href=\"#mb2798fbea1\" x=\"48.314783\" y=\"16.129631\" style=\"fill: #4575b4; fill-opacity: 0.7; stroke: #4575b4; stroke-opacity: 0.7; stroke-width: 0.3\" />\n",
       "     <use xlink:href=\"#mb2798fbea1\" x=\"75.151348\" y=\"60.984\" style=\"fill: #4575b4; fill-opacity: 0.7; stroke: #4575b4; stroke-opacity: 0.7; stroke-width: 0.3\" />\n",
       "     <use xlink:href=\"#mb2798fbea1\" x=\"47.506087\" y=\"14.335456\" style=\"fill: #4575b4; fill-opacity: 0.7; stroke: #4575b4; stroke-opacity: 0.7; stroke-width: 0.3\" />\n",
       "     <use xlink:href=\"#mb2798fbea1\" x=\"81.871609\" y=\"46.630602\" style=\"fill: #4575b4; fill-opacity: 0.7; stroke: #4575b4; stroke-opacity: 0.7; stroke-width: 0.3\" />\n",
       "     <use xlink:href=\"#mb2798fbea1\" x=\"39.41913\" y=\"53.807301\" style=\"fill: #4575b4; fill-opacity: 0.7; stroke: #4575b4; stroke-opacity: 0.7; stroke-width: 0.3\" />\n",
       "     <use xlink:href=\"#mb2798fbea1\" x=\"65.697696\" y=\"57.39565\" style=\"fill: #4575b4; fill-opacity: 0.7; stroke: #4575b4; stroke-opacity: 0.7; stroke-width: 0.3\" />\n",
       "     <use xlink:href=\"#mb2798fbea1\" x=\"36.588696\" y=\"19.717981\" style=\"fill: #4575b4; fill-opacity: 0.7; stroke: #4575b4; stroke-opacity: 0.7; stroke-width: 0.3\" />\n",
       "     <use xlink:href=\"#mb2798fbea1\" x=\"56.806087\" y=\"50.218951\" style=\"fill: #4575b4; fill-opacity: 0.7; stroke: #4575b4; stroke-opacity: 0.7; stroke-width: 0.3\" />\n",
       "     <use xlink:href=\"#mb2798fbea1\" x=\"73.784652\" y=\"21.512155\" style=\"fill: #4575b4; fill-opacity: 0.7; stroke: #4575b4; stroke-opacity: 0.7; stroke-width: 0.3\" />\n",
       "     <use xlink:href=\"#mb2798fbea1\" x=\"75.810435\" y=\"57.39565\" style=\"fill: #4575b4; fill-opacity: 0.7; stroke: #4575b4; stroke-opacity: 0.7; stroke-width: 0.3\" />\n",
       "     <use xlink:href=\"#mb2798fbea1\" x=\"67.719435\" y=\"5.364583\" style=\"fill: #4575b4; fill-opacity: 0.7; stroke: #4575b4; stroke-opacity: 0.7; stroke-width: 0.3\" />\n",
       "     <use xlink:href=\"#mb2798fbea1\" x=\"69.543043\" y=\"48.424777\" style=\"fill: #4575b4; fill-opacity: 0.7; stroke: #4575b4; stroke-opacity: 0.7; stroke-width: 0.3\" />\n",
       "     <use xlink:href=\"#mb2798fbea1\" x=\"47.101739\" y=\"35.865553\" style=\"fill: #4575b4; fill-opacity: 0.7; stroke: #4575b4; stroke-opacity: 0.7; stroke-width: 0.3\" />\n",
       "     <use xlink:href=\"#mb2798fbea1\" x=\"87.94087\" y=\"53.807301\" style=\"fill: #4575b4; fill-opacity: 0.7; stroke: #4575b4; stroke-opacity: 0.7; stroke-width: 0.3\" />\n",
       "     <use xlink:href=\"#mb2798fbea1\" x=\"51.953913\" y=\"48.424777\" style=\"fill: #4575b4; fill-opacity: 0.7; stroke: #4575b4; stroke-opacity: 0.7; stroke-width: 0.3\" />\n",
       "     <use xlink:href=\"#mb2798fbea1\" x=\"108.158261\" y=\"53.807301\" style=\"fill: #4575b4; fill-opacity: 0.7; stroke: #4575b4; stroke-opacity: 0.7; stroke-width: 0.3\" />\n",
       "     <use xlink:href=\"#mb2798fbea1\" x=\"79.651739\" y=\"30.483029\" style=\"fill: #4575b4; fill-opacity: 0.7; stroke: #4575b4; stroke-opacity: 0.7; stroke-width: 0.3\" />\n",
       "     <use xlink:href=\"#mb2798fbea1\" x=\"37.393348\" y=\"23.30633\" style=\"fill: #4575b4; fill-opacity: 0.7; stroke: #4575b4; stroke-opacity: 0.7; stroke-width: 0.3\" />\n",
       "     <use xlink:href=\"#mb2798fbea1\" x=\"76.821304\" y=\"60.984\" style=\"fill: #4575b4; fill-opacity: 0.7; stroke: #4575b4; stroke-opacity: 0.7; stroke-width: 0.3\" />\n",
       "     <use xlink:href=\"#mb2798fbea1\" x=\"48.516957\" y=\"57.39565\" style=\"fill: #4575b4; fill-opacity: 0.7; stroke: #4575b4; stroke-opacity: 0.7; stroke-width: 0.3\" />\n",
       "     <use xlink:href=\"#mb2798fbea1\" x=\"59.232174\" y=\"35.865553\" style=\"fill: #4575b4; fill-opacity: 0.7; stroke: #4575b4; stroke-opacity: 0.7; stroke-width: 0.3\" />\n",
       "     <use xlink:href=\"#mb2798fbea1\" x=\"50.336522\" y=\"43.042252\" style=\"fill: #4575b4; fill-opacity: 0.7; stroke: #4575b4; stroke-opacity: 0.7; stroke-width: 0.3\" />\n",
       "     <use xlink:href=\"#mb2798fbea1\" x=\"51.549565\" y=\"46.630602\" style=\"fill: #4575b4; fill-opacity: 0.7; stroke: #4575b4; stroke-opacity: 0.7; stroke-width: 0.3\" />\n",
       "     <use xlink:href=\"#mb2798fbea1\" x=\"55.589\" y=\"57.39565\" style=\"fill: #4575b4; fill-opacity: 0.7; stroke: #4575b4; stroke-opacity: 0.7; stroke-width: 0.3\" />\n",
       "     <use xlink:href=\"#mb2798fbea1\" x=\"39.41913\" y=\"57.39565\" style=\"fill: #4575b4; fill-opacity: 0.7; stroke: #4575b4; stroke-opacity: 0.7; stroke-width: 0.3\" />\n",
       "     <use xlink:href=\"#mb2798fbea1\" x=\"106.136522\" y=\"44.836427\" style=\"fill: #4575b4; fill-opacity: 0.7; stroke: #4575b4; stroke-opacity: 0.7; stroke-width: 0.3\" />\n",
       "     <use xlink:href=\"#mb2798fbea1\" x=\"77.427826\" y=\"60.984\" style=\"fill: #4575b4; fill-opacity: 0.7; stroke: #4575b4; stroke-opacity: 0.7; stroke-width: 0.3\" />\n",
       "     <use xlink:href=\"#mb2798fbea1\" x=\"40.227826\" y=\"53.807301\" style=\"fill: #4575b4; fill-opacity: 0.7; stroke: #4575b4; stroke-opacity: 0.7; stroke-width: 0.3\" />\n",
       "     <use xlink:href=\"#mb2798fbea1\" x=\"55.593043\" y=\"46.630602\" style=\"fill: #4575b4; fill-opacity: 0.7; stroke: #4575b4; stroke-opacity: 0.7; stroke-width: 0.3\" />\n",
       "     <use xlink:href=\"#mb2798fbea1\" x=\"44.675652\" y=\"55.601476\" style=\"fill: #4575b4; fill-opacity: 0.7; stroke: #4575b4; stroke-opacity: 0.7; stroke-width: 0.3\" />\n",
       "     <use xlink:href=\"#mb2798fbea1\" x=\"85.878696\" y=\"43.042252\" style=\"fill: #4575b4; fill-opacity: 0.7; stroke: #4575b4; stroke-opacity: 0.7; stroke-width: 0.3\" />\n",
       "     <use xlink:href=\"#mb2798fbea1\" x=\"71.762913\" y=\"55.601476\" style=\"fill: #4575b4; fill-opacity: 0.7; stroke: #4575b4; stroke-opacity: 0.7; stroke-width: 0.3\" />\n",
       "     <use xlink:href=\"#mb2798fbea1\" x=\"37.397391\" y=\"59.189825\" style=\"fill: #4575b4; fill-opacity: 0.7; stroke: #4575b4; stroke-opacity: 0.7; stroke-width: 0.3\" />\n",
       "     <use xlink:href=\"#mb2798fbea1\" x=\"136.462609\" y=\"50.218951\" style=\"fill: #4575b4; fill-opacity: 0.7; stroke: #4575b4; stroke-opacity: 0.7; stroke-width: 0.3\" />\n",
       "     <use xlink:href=\"#mb2798fbea1\" x=\"82.684348\" y=\"28.688854\" style=\"fill: #4575b4; fill-opacity: 0.7; stroke: #4575b4; stroke-opacity: 0.7; stroke-width: 0.3\" />\n",
       "     <use xlink:href=\"#mb2798fbea1\" x=\"47.506087\" y=\"3.570408\" style=\"fill: #4575b4; fill-opacity: 0.7; stroke: #4575b4; stroke-opacity: 0.7; stroke-width: 0.3\" />\n",
       "     <use xlink:href=\"#mb2798fbea1\" x=\"75.810435\" y=\"55.601476\" style=\"fill: #4575b4; fill-opacity: 0.7; stroke: #4575b4; stroke-opacity: 0.7; stroke-width: 0.3\" />\n",
       "     <use xlink:href=\"#mb2798fbea1\" x=\"47.506087\" y=\"37.659728\" style=\"fill: #4575b4; fill-opacity: 0.7; stroke: #4575b4; stroke-opacity: 0.7; stroke-width: 0.3\" />\n",
       "     <use xlink:href=\"#mb2798fbea1\" x=\"57.412609\" y=\"30.483029\" style=\"fill: #4575b4; fill-opacity: 0.7; stroke: #4575b4; stroke-opacity: 0.7; stroke-width: 0.3\" />\n",
       "     <use xlink:href=\"#mb2798fbea1\" x=\"48.274348\" y=\"43.042252\" style=\"fill: #4575b4; fill-opacity: 0.7; stroke: #4575b4; stroke-opacity: 0.7; stroke-width: 0.3\" />\n",
       "     <use xlink:href=\"#mb2798fbea1\" x=\"39.41913\" y=\"39.453903\" style=\"fill: #4575b4; fill-opacity: 0.7; stroke: #4575b4; stroke-opacity: 0.7; stroke-width: 0.3\" />\n",
       "     <use xlink:href=\"#mb2798fbea1\" x=\"42.245522\" y=\"53.807301\" style=\"fill: #4575b4; fill-opacity: 0.7; stroke: #4575b4; stroke-opacity: 0.7; stroke-width: 0.3\" />\n",
       "     <use xlink:href=\"#mb2798fbea1\" x=\"78.236522\" y=\"23.30633\" style=\"fill: #4575b4; fill-opacity: 0.7; stroke: #4575b4; stroke-opacity: 0.7; stroke-width: 0.3\" />\n",
       "     <use xlink:href=\"#mb2798fbea1\" x=\"71.766957\" y=\"25.100505\" style=\"fill: #4575b4; fill-opacity: 0.7; stroke: #4575b4; stroke-opacity: 0.7; stroke-width: 0.3\" />\n",
       "     <use xlink:href=\"#mb2798fbea1\" x=\"49.527826\" y=\"53.807301\" style=\"fill: #4575b4; fill-opacity: 0.7; stroke: #4575b4; stroke-opacity: 0.7; stroke-width: 0.3\" />\n",
       "     <use xlink:href=\"#mb2798fbea1\" x=\"50.74087\" y=\"34.071379\" style=\"fill: #4575b4; fill-opacity: 0.7; stroke: #4575b4; stroke-opacity: 0.7; stroke-width: 0.3\" />\n",
       "     <use xlink:href=\"#mb2798fbea1\" x=\"44.675652\" y=\"60.984\" style=\"fill: #4575b4; fill-opacity: 0.7; stroke: #4575b4; stroke-opacity: 0.7; stroke-width: 0.3\" />\n",
       "     <use xlink:href=\"#mb2798fbea1\" x=\"41.643043\" y=\"55.601476\" style=\"fill: #4575b4; fill-opacity: 0.7; stroke: #4575b4; stroke-opacity: 0.7; stroke-width: 0.3\" />\n",
       "     <use xlink:href=\"#mb2798fbea1\" x=\"48.516957\" y=\"34.071379\" style=\"fill: #4575b4; fill-opacity: 0.7; stroke: #4575b4; stroke-opacity: 0.7; stroke-width: 0.3\" />\n",
       "     <use xlink:href=\"#mb2798fbea1\" x=\"89.962609\" y=\"37.659728\" style=\"fill: #4575b4; fill-opacity: 0.7; stroke: #4575b4; stroke-opacity: 0.7; stroke-width: 0.3\" />\n",
       "     <use xlink:href=\"#mb2798fbea1\" x=\"46.697391\" y=\"30.483029\" style=\"fill: #4575b4; fill-opacity: 0.7; stroke: #4575b4; stroke-opacity: 0.7; stroke-width: 0.3\" />\n",
       "     <use xlink:href=\"#mb2798fbea1\" x=\"53.166957\" y=\"17.923806\" style=\"fill: #4575b4; fill-opacity: 0.7; stroke: #4575b4; stroke-opacity: 0.7; stroke-width: 0.3\" />\n",
       "     <use xlink:href=\"#mb2798fbea1\" x=\"57.610739\" y=\"59.189825\" style=\"fill: #4575b4; fill-opacity: 0.7; stroke: #4575b4; stroke-opacity: 0.7; stroke-width: 0.3\" />\n",
       "     <use xlink:href=\"#mb2798fbea1\" x=\"71.766957\" y=\"59.189825\" style=\"fill: #4575b4; fill-opacity: 0.7; stroke: #4575b4; stroke-opacity: 0.7; stroke-width: 0.3\" />\n",
       "     <use xlink:href=\"#mb2798fbea1\" x=\"47.506087\" y=\"10.747107\" style=\"fill: #4575b4; fill-opacity: 0.7; stroke: #4575b4; stroke-opacity: 0.7; stroke-width: 0.3\" />\n",
       "     <use xlink:href=\"#mb2798fbea1\" x=\"43.017826\" y=\"17.923806\" style=\"fill: #4575b4; fill-opacity: 0.7; stroke: #4575b4; stroke-opacity: 0.7; stroke-width: 0.3\" />\n",
       "     <use xlink:href=\"#mb2798fbea1\" x=\"57.574348\" y=\"41.248078\" style=\"fill: #4575b4; fill-opacity: 0.7; stroke: #4575b4; stroke-opacity: 0.7; stroke-width: 0.3\" />\n",
       "     <use xlink:href=\"#mb2798fbea1\" x=\"95.21913\" y=\"53.807301\" style=\"fill: #4575b4; fill-opacity: 0.7; stroke: #4575b4; stroke-opacity: 0.7; stroke-width: 0.3\" />\n",
       "     <use xlink:href=\"#mb2798fbea1\" x=\"148.593043\" y=\"12.541282\" style=\"fill: #4575b4; fill-opacity: 0.7; stroke: #4575b4; stroke-opacity: 0.7; stroke-width: 0.3\" />\n",
       "     <use xlink:href=\"#mb2798fbea1\" x=\"90.771304\" y=\"46.630602\" style=\"fill: #4575b4; fill-opacity: 0.7; stroke: #4575b4; stroke-opacity: 0.7; stroke-width: 0.3\" />\n",
       "     <use xlink:href=\"#mb2798fbea1\" x=\"50.74087\" y=\"1.776233\" style=\"fill: #4575b4; fill-opacity: 0.7; stroke: #4575b4; stroke-opacity: 0.7; stroke-width: 0.3\" />\n",
       "     <use xlink:href=\"#mb2798fbea1\" x=\"52.354217\" y=\"17.923806\" style=\"fill: #4575b4; fill-opacity: 0.7; stroke: #4575b4; stroke-opacity: 0.7; stroke-width: 0.3\" />\n",
       "     <use xlink:href=\"#mb2798fbea1\" x=\"37.397391\" y=\"32.277204\" style=\"fill: #4575b4; fill-opacity: 0.7; stroke: #4575b4; stroke-opacity: 0.7; stroke-width: 0.3\" />\n",
       "     <use xlink:href=\"#mb2798fbea1\" x=\"74.597391\" y=\"28.688854\" style=\"fill: #4575b4; fill-opacity: 0.7; stroke: #4575b4; stroke-opacity: 0.7; stroke-width: 0.3\" />\n",
       "     <use xlink:href=\"#mb2798fbea1\" x=\"47.101739\" y=\"60.984\" style=\"fill: #4575b4; fill-opacity: 0.7; stroke: #4575b4; stroke-opacity: 0.7; stroke-width: 0.3\" />\n",
       "     <use xlink:href=\"#mb2798fbea1\" x=\"45.480304\" y=\"39.453903\" style=\"fill: #4575b4; fill-opacity: 0.7; stroke: #4575b4; stroke-opacity: 0.7; stroke-width: 0.3\" />\n",
       "     <use xlink:href=\"#mb2798fbea1\" x=\"41.44087\" y=\"60.984\" style=\"fill: #4575b4; fill-opacity: 0.7; stroke: #4575b4; stroke-opacity: 0.7; stroke-width: 0.3\" />\n",
       "     <use xlink:href=\"#mb2798fbea1\" x=\"48.314783\" y=\"43.042252\" style=\"fill: #4575b4; fill-opacity: 0.7; stroke: #4575b4; stroke-opacity: 0.7; stroke-width: 0.3\" />\n",
       "     <use xlink:href=\"#mb2798fbea1\" x=\"59.636522\" y=\"44.836427\" style=\"fill: #4575b4; fill-opacity: 0.7; stroke: #4575b4; stroke-opacity: 0.7; stroke-width: 0.3\" />\n",
       "     <use xlink:href=\"#mb2798fbea1\" x=\"156.68\" y=\"46.630602\" style=\"fill: #4575b4; fill-opacity: 0.7; stroke: #4575b4; stroke-opacity: 0.7; stroke-width: 0.3\" />\n",
       "     <use xlink:href=\"#mb2798fbea1\" x=\"45.480304\" y=\"57.39565\" style=\"fill: #4575b4; fill-opacity: 0.7; stroke: #4575b4; stroke-opacity: 0.7; stroke-width: 0.3\" />\n",
       "     <use xlink:href=\"#mb2798fbea1\" x=\"93.803913\" y=\"43.042252\" style=\"fill: #4575b4; fill-opacity: 0.7; stroke: #4575b4; stroke-opacity: 0.7; stroke-width: 0.3\" />\n",
       "     <use xlink:href=\"#mb2798fbea1\" x=\"55.593043\" y=\"50.218951\" style=\"fill: #4575b4; fill-opacity: 0.7; stroke: #4575b4; stroke-opacity: 0.7; stroke-width: 0.3\" />\n",
       "     <use xlink:href=\"#mb2798fbea1\" x=\"121.703913\" y=\"10.747107\" style=\"fill: #4575b4; fill-opacity: 0.7; stroke: #4575b4; stroke-opacity: 0.7; stroke-width: 0.3\" />\n",
       "     <use xlink:href=\"#mb2798fbea1\" x=\"79.651739\" y=\"30.483029\" style=\"fill: #4575b4; fill-opacity: 0.7; stroke: #4575b4; stroke-opacity: 0.7; stroke-width: 0.3\" />\n",
       "     <use xlink:href=\"#mb2798fbea1\" x=\"37.397391\" y=\"23.30633\" style=\"fill: #4575b4; fill-opacity: 0.7; stroke: #4575b4; stroke-opacity: 0.7; stroke-width: 0.3\" />\n",
       "     <use xlink:href=\"#mb2798fbea1\" x=\"132.41913\" y=\"57.39565\" style=\"fill: #4575b4; fill-opacity: 0.7; stroke: #4575b4; stroke-opacity: 0.7; stroke-width: 0.3\" />\n",
       "     <use xlink:href=\"#mb2798fbea1\" x=\"49.123478\" y=\"7.158757\" style=\"fill: #4575b4; fill-opacity: 0.7; stroke: #4575b4; stroke-opacity: 0.7; stroke-width: 0.3\" />\n",
       "     <use xlink:href=\"#mb2798fbea1\" x=\"107.956087\" y=\"7.158757\" style=\"fill: #4575b4; fill-opacity: 0.7; stroke: #4575b4; stroke-opacity: 0.7; stroke-width: 0.3\" />\n",
       "     <use xlink:href=\"#mb2798fbea1\" x=\"75.810435\" y=\"43.042252\" style=\"fill: #4575b4; fill-opacity: 0.7; stroke: #4575b4; stroke-opacity: 0.7; stroke-width: 0.3\" />\n",
       "     <use xlink:href=\"#mb2798fbea1\" x=\"79.853913\" y=\"53.807301\" style=\"fill: #4575b4; fill-opacity: 0.7; stroke: #4575b4; stroke-opacity: 0.7; stroke-width: 0.3\" />\n",
       "     <use xlink:href=\"#mb2798fbea1\" x=\"85.915087\" y=\"44.836427\" style=\"fill: #4575b4; fill-opacity: 0.7; stroke: #4575b4; stroke-opacity: 0.7; stroke-width: 0.3\" />\n",
       "     <use xlink:href=\"#mb2798fbea1\" x=\"52.762609\" y=\"44.836427\" style=\"fill: #4575b4; fill-opacity: 0.7; stroke: #4575b4; stroke-opacity: 0.7; stroke-width: 0.3\" />\n",
       "     <use xlink:href=\"#mb2798fbea1\" x=\"41.400435\" y=\"55.601476\" style=\"fill: #4575b4; fill-opacity: 0.7; stroke: #4575b4; stroke-opacity: 0.7; stroke-width: 0.3\" />\n",
       "     <use xlink:href=\"#mb2798fbea1\" x=\"40.227826\" y=\"55.601476\" style=\"fill: #4575b4; fill-opacity: 0.7; stroke: #4575b4; stroke-opacity: 0.7; stroke-width: 0.3\" />\n",
       "     <use xlink:href=\"#mb2798fbea1\" x=\"42.64987\" y=\"23.30633\" style=\"fill: #4575b4; fill-opacity: 0.7; stroke: #4575b4; stroke-opacity: 0.7; stroke-width: 0.3\" />\n",
       "     <use xlink:href=\"#mb2798fbea1\" x=\"47.506087\" y=\"59.189825\" style=\"fill: #4575b4; fill-opacity: 0.7; stroke: #4575b4; stroke-opacity: 0.7; stroke-width: 0.3\" />\n",
       "     <use xlink:href=\"#mb2798fbea1\" x=\"43.058261\" y=\"39.453903\" style=\"fill: #4575b4; fill-opacity: 0.7; stroke: #4575b4; stroke-opacity: 0.7; stroke-width: 0.3\" />\n",
       "     <use xlink:href=\"#mb2798fbea1\" x=\"61.654217\" y=\"53.807301\" style=\"fill: #4575b4; fill-opacity: 0.7; stroke: #4575b4; stroke-opacity: 0.7; stroke-width: 0.3\" />\n",
       "     <use xlink:href=\"#mb2798fbea1\" x=\"41.436826\" y=\"53.807301\" style=\"fill: #4575b4; fill-opacity: 0.7; stroke: #4575b4; stroke-opacity: 0.7; stroke-width: 0.3\" />\n",
       "     <use xlink:href=\"#mb2798fbea1\" x=\"127.93087\" y=\"8.952932\" style=\"fill: #4575b4; fill-opacity: 0.7; stroke: #4575b4; stroke-opacity: 0.7; stroke-width: 0.3\" />\n",
       "     <use xlink:href=\"#mb2798fbea1\" x=\"50.74087\" y=\"57.39565\" style=\"fill: #4575b4; fill-opacity: 0.7; stroke: #4575b4; stroke-opacity: 0.7; stroke-width: 0.3\" />\n",
       "     <use xlink:href=\"#mb2798fbea1\" x=\"70.954217\" y=\"37.659728\" style=\"fill: #4575b4; fill-opacity: 0.7; stroke: #4575b4; stroke-opacity: 0.7; stroke-width: 0.3\" />\n",
       "     <use xlink:href=\"#mb2798fbea1\" x=\"53.166957\" y=\"50.218951\" style=\"fill: #4575b4; fill-opacity: 0.7; stroke: #4575b4; stroke-opacity: 0.7; stroke-width: 0.3\" />\n",
       "     <use xlink:href=\"#mb2798fbea1\" x=\"55.593043\" y=\"44.836427\" style=\"fill: #4575b4; fill-opacity: 0.7; stroke: #4575b4; stroke-opacity: 0.7; stroke-width: 0.3\" />\n",
       "     <use xlink:href=\"#mb2798fbea1\" x=\"43.462609\" y=\"60.984\" style=\"fill: #4575b4; fill-opacity: 0.7; stroke: #4575b4; stroke-opacity: 0.7; stroke-width: 0.3\" />\n",
       "     <use xlink:href=\"#mb2798fbea1\" x=\"49.083043\" y=\"59.189825\" style=\"fill: #4575b4; fill-opacity: 0.7; stroke: #4575b4; stroke-opacity: 0.7; stroke-width: 0.3\" />\n",
       "     <use xlink:href=\"#mb2798fbea1\" x=\"53.567261\" y=\"48.424777\" style=\"fill: #4575b4; fill-opacity: 0.7; stroke: #4575b4; stroke-opacity: 0.7; stroke-width: 0.3\" />\n",
       "     <use xlink:href=\"#mb2798fbea1\" x=\"49.527826\" y=\"41.248078\" style=\"fill: #4575b4; fill-opacity: 0.7; stroke: #4575b4; stroke-opacity: 0.7; stroke-width: 0.3\" />\n",
       "     <use xlink:href=\"#mb2798fbea1\" x=\"86.727826\" y=\"53.807301\" style=\"fill: #4575b4; fill-opacity: 0.7; stroke: #4575b4; stroke-opacity: 0.7; stroke-width: 0.3\" />\n",
       "     <use xlink:href=\"#mb2798fbea1\" x=\"59.636522\" y=\"46.630602\" style=\"fill: #4575b4; fill-opacity: 0.7; stroke: #4575b4; stroke-opacity: 0.7; stroke-width: 0.3\" />\n",
       "     <use xlink:href=\"#mb2798fbea1\" x=\"37.397391\" y=\"32.277204\" style=\"fill: #4575b4; fill-opacity: 0.7; stroke: #4575b4; stroke-opacity: 0.7; stroke-width: 0.3\" />\n",
       "     <use xlink:href=\"#mb2798fbea1\" x=\"85.91913\" y=\"25.100505\" style=\"fill: #4575b4; fill-opacity: 0.7; stroke: #4575b4; stroke-opacity: 0.7; stroke-width: 0.3\" />\n",
       "     <use xlink:href=\"#mb2798fbea1\" x=\"65.697696\" y=\"53.807301\" style=\"fill: #4575b4; fill-opacity: 0.7; stroke: #4575b4; stroke-opacity: 0.7; stroke-width: 0.3\" />\n",
       "     <use xlink:href=\"#mb2798fbea1\" x=\"52.701957\" y=\"41.248078\" style=\"fill: #4575b4; fill-opacity: 0.7; stroke: #4575b4; stroke-opacity: 0.7; stroke-width: 0.3\" />\n",
       "     <use xlink:href=\"#mb2798fbea1\" x=\"69.745217\" y=\"23.30633\" style=\"fill: #4575b4; fill-opacity: 0.7; stroke: #4575b4; stroke-opacity: 0.7; stroke-width: 0.3\" />\n",
       "     <use xlink:href=\"#mb2798fbea1\" x=\"42.64987\" y=\"41.248078\" style=\"fill: #4575b4; fill-opacity: 0.7; stroke: #4575b4; stroke-opacity: 0.7; stroke-width: 0.3\" />\n",
       "     <use xlink:href=\"#mb2798fbea1\" x=\"49.119435\" y=\"53.807301\" style=\"fill: #4575b4; fill-opacity: 0.7; stroke: #4575b4; stroke-opacity: 0.7; stroke-width: 0.3\" />\n",
       "     <use xlink:href=\"#mb2798fbea1\" x=\"82.28\" y=\"60.984\" style=\"fill: #4575b4; fill-opacity: 0.7; stroke: #4575b4; stroke-opacity: 0.7; stroke-width: 0.3\" />\n",
       "     <use xlink:href=\"#mb2798fbea1\" x=\"42.451739\" y=\"59.189825\" style=\"fill: #4575b4; fill-opacity: 0.7; stroke: #4575b4; stroke-opacity: 0.7; stroke-width: 0.3\" />\n",
       "     <use xlink:href=\"#mb2798fbea1\" x=\"55.593043\" y=\"52.013126\" style=\"fill: #4575b4; fill-opacity: 0.7; stroke: #4575b4; stroke-opacity: 0.7; stroke-width: 0.3\" />\n",
       "     <use xlink:href=\"#mb2798fbea1\" x=\"37.356957\" y=\"10.747107\" style=\"fill: #4575b4; fill-opacity: 0.7; stroke: #4575b4; stroke-opacity: 0.7; stroke-width: 0.3\" />\n",
       "     <use xlink:href=\"#mb2798fbea1\" x=\"122.310435\" y=\"19.717981\" style=\"fill: #4575b4; fill-opacity: 0.7; stroke: #4575b4; stroke-opacity: 0.7; stroke-width: 0.3\" />\n",
       "     <use xlink:href=\"#mb2798fbea1\" x=\"55.589\" y=\"41.248078\" style=\"fill: #4575b4; fill-opacity: 0.7; stroke: #4575b4; stroke-opacity: 0.7; stroke-width: 0.3\" />\n",
       "     <use xlink:href=\"#mb2798fbea1\" x=\"49.932174\" y=\"5.364583\" style=\"fill: #4575b4; fill-opacity: 0.7; stroke: #4575b4; stroke-opacity: 0.7; stroke-width: 0.3\" />\n",
       "     <use xlink:href=\"#mb2798fbea1\" x=\"42.653913\" y=\"8.952932\" style=\"fill: #4575b4; fill-opacity: 0.7; stroke: #4575b4; stroke-opacity: 0.7; stroke-width: 0.3\" />\n",
       "     <use xlink:href=\"#mb2798fbea1\" x=\"94.002043\" y=\"59.189825\" style=\"fill: #4575b4; fill-opacity: 0.7; stroke: #4575b4; stroke-opacity: 0.7; stroke-width: 0.3\" />\n",
       "     <use xlink:href=\"#mb2798fbea1\" x=\"41.44087\" y=\"50.218951\" style=\"fill: #4575b4; fill-opacity: 0.7; stroke: #4575b4; stroke-opacity: 0.7; stroke-width: 0.3\" />\n",
       "     <use xlink:href=\"#mb2798fbea1\" x=\"44.271304\" y=\"59.189825\" style=\"fill: #4575b4; fill-opacity: 0.7; stroke: #4575b4; stroke-opacity: 0.7; stroke-width: 0.3\" />\n",
       "     <use xlink:href=\"#mb2798fbea1\" x=\"79.045217\" y=\"46.630602\" style=\"fill: #4575b4; fill-opacity: 0.7; stroke: #4575b4; stroke-opacity: 0.7; stroke-width: 0.3\" />\n",
       "     <use xlink:href=\"#mb2798fbea1\" x=\"49.523783\" y=\"35.865553\" style=\"fill: #4575b4; fill-opacity: 0.7; stroke: #4575b4; stroke-opacity: 0.7; stroke-width: 0.3\" />\n",
       "     <use xlink:href=\"#mb2798fbea1\" x=\"89.877696\" y=\"46.630602\" style=\"fill: #4575b4; fill-opacity: 0.7; stroke: #4575b4; stroke-opacity: 0.7; stroke-width: 0.3\" />\n",
       "     <use xlink:href=\"#mb2798fbea1\" x=\"83.493043\" y=\"32.277204\" style=\"fill: #4575b4; fill-opacity: 0.7; stroke: #4575b4; stroke-opacity: 0.7; stroke-width: 0.3\" />\n",
       "     <use xlink:href=\"#mb2798fbea1\" x=\"37.195217\" y=\"55.601476\" style=\"fill: #4575b4; fill-opacity: 0.7; stroke: #4575b4; stroke-opacity: 0.7; stroke-width: 0.3\" />\n",
       "     <use xlink:href=\"#mb2798fbea1\" x=\"39.41913\" y=\"57.39565\" style=\"fill: #4575b4; fill-opacity: 0.7; stroke: #4575b4; stroke-opacity: 0.7; stroke-width: 0.3\" />\n",
       "     <use xlink:href=\"#mb2798fbea1\" x=\"44.23087\" y=\"46.630602\" style=\"fill: #4575b4; fill-opacity: 0.7; stroke: #4575b4; stroke-opacity: 0.7; stroke-width: 0.3\" />\n",
       "     <use xlink:href=\"#mb2798fbea1\" x=\"61.253913\" y=\"52.013126\" style=\"fill: #4575b4; fill-opacity: 0.7; stroke: #4575b4; stroke-opacity: 0.7; stroke-width: 0.3\" />\n",
       "     <use xlink:href=\"#mb2798fbea1\" x=\"71.766957\" y=\"37.659728\" style=\"fill: #4575b4; fill-opacity: 0.7; stroke: #4575b4; stroke-opacity: 0.7; stroke-width: 0.3\" />\n",
       "     <use xlink:href=\"#mb2798fbea1\" x=\"39.41913\" y=\"1.776233\" style=\"fill: #4575b4; fill-opacity: 0.7; stroke: #4575b4; stroke-opacity: 0.7; stroke-width: 0.3\" />\n",
       "     <use xlink:href=\"#mb2798fbea1\" x=\"73.384348\" y=\"53.807301\" style=\"fill: #4575b4; fill-opacity: 0.7; stroke: #4575b4; stroke-opacity: 0.7; stroke-width: 0.3\" />\n",
       "     <use xlink:href=\"#mb2798fbea1\" x=\"87.94087\" y=\"46.630602\" style=\"fill: #4575b4; fill-opacity: 0.7; stroke: #4575b4; stroke-opacity: 0.7; stroke-width: 0.3\" />\n",
       "     <use xlink:href=\"#mb2798fbea1\" x=\"65.701739\" y=\"46.630602\" style=\"fill: #4575b4; fill-opacity: 0.7; stroke: #4575b4; stroke-opacity: 0.7; stroke-width: 0.3\" />\n",
       "     <use xlink:href=\"#mb2798fbea1\" x=\"76.012609\" y=\"26.89468\" style=\"fill: #4575b4; fill-opacity: 0.7; stroke: #4575b4; stroke-opacity: 0.7; stroke-width: 0.3\" />\n",
       "     <use xlink:href=\"#mb2798fbea1\" x=\"144.50913\" y=\"23.30633\" style=\"fill: #4575b4; fill-opacity: 0.7; stroke: #4575b4; stroke-opacity: 0.7; stroke-width: 0.3\" />\n",
       "     <use xlink:href=\"#mb2798fbea1\" x=\"85.514783\" y=\"8.952932\" style=\"fill: #4575b4; fill-opacity: 0.7; stroke: #4575b4; stroke-opacity: 0.7; stroke-width: 0.3\" />\n",
       "     <use xlink:href=\"#mb2798fbea1\" x=\"37.397391\" y=\"43.042252\" style=\"fill: #4575b4; fill-opacity: 0.7; stroke: #4575b4; stroke-opacity: 0.7; stroke-width: 0.3\" />\n",
       "     <use xlink:href=\"#mb2798fbea1\" x=\"36.993043\" y=\"52.013126\" style=\"fill: #4575b4; fill-opacity: 0.7; stroke: #4575b4; stroke-opacity: 0.7; stroke-width: 0.3\" />\n",
       "     <use xlink:href=\"#mb2798fbea1\" x=\"49.527826\" y=\"26.89468\" style=\"fill: #4575b4; fill-opacity: 0.7; stroke: #4575b4; stroke-opacity: 0.7; stroke-width: 0.3\" />\n",
       "     <use xlink:href=\"#mb2798fbea1\" x=\"36.993043\" y=\"46.630602\" style=\"fill: #4575b4; fill-opacity: 0.7; stroke: #4575b4; stroke-opacity: 0.7; stroke-width: 0.3\" />\n",
       "     <use xlink:href=\"#mb2798fbea1\" x=\"71.455609\" y=\"50.218951\" style=\"fill: #4575b4; fill-opacity: 0.7; stroke: #4575b4; stroke-opacity: 0.7; stroke-width: 0.3\" />\n",
       "     <use xlink:href=\"#mb2798fbea1\" x=\"77.023478\" y=\"39.453903\" style=\"fill: #4575b4; fill-opacity: 0.7; stroke: #4575b4; stroke-opacity: 0.7; stroke-width: 0.3\" />\n",
       "     <use xlink:href=\"#mb2798fbea1\" x=\"146.571304\" y=\"21.512155\" style=\"fill: #4575b4; fill-opacity: 0.7; stroke: #4575b4; stroke-opacity: 0.7; stroke-width: 0.3\" />\n",
       "     <use xlink:href=\"#mb2798fbea1\" x=\"65.701739\" y=\"60.984\" style=\"fill: #4575b4; fill-opacity: 0.7; stroke: #4575b4; stroke-opacity: 0.7; stroke-width: 0.3\" />\n",
       "     <use xlink:href=\"#mb2798fbea1\" x=\"37.393348\" y=\"19.717981\" style=\"fill: #4575b4; fill-opacity: 0.7; stroke: #4575b4; stroke-opacity: 0.7; stroke-width: 0.3\" />\n",
       "     <use xlink:href=\"#mb2798fbea1\" x=\"37.397391\" y=\"53.807301\" style=\"fill: #4575b4; fill-opacity: 0.7; stroke: #4575b4; stroke-opacity: 0.7; stroke-width: 0.3\" />\n",
       "     <use xlink:href=\"#mb2798fbea1\" x=\"37.397391\" y=\"23.30633\" style=\"fill: #4575b4; fill-opacity: 0.7; stroke: #4575b4; stroke-opacity: 0.7; stroke-width: 0.3\" />\n",
       "     <use xlink:href=\"#mb2798fbea1\" x=\"102.052609\" y=\"46.630602\" style=\"fill: #4575b4; fill-opacity: 0.7; stroke: #4575b4; stroke-opacity: 0.7; stroke-width: 0.3\" />\n",
       "     <use xlink:href=\"#mb2798fbea1\" x=\"42.249565\" y=\"57.39565\" style=\"fill: #4575b4; fill-opacity: 0.7; stroke: #4575b4; stroke-opacity: 0.7; stroke-width: 0.3\" />\n",
       "     <use xlink:href=\"#mb2798fbea1\" x=\"38.206087\" y=\"32.277204\" style=\"fill: #4575b4; fill-opacity: 0.7; stroke: #4575b4; stroke-opacity: 0.7; stroke-width: 0.3\" />\n",
       "     <use xlink:href=\"#mb2798fbea1\" x=\"50.538696\" y=\"37.659728\" style=\"fill: #4575b4; fill-opacity: 0.7; stroke: #4575b4; stroke-opacity: 0.7; stroke-width: 0.3\" />\n",
       "     <use xlink:href=\"#mb2798fbea1\" x=\"47.506087\" y=\"34.071379\" style=\"fill: #4575b4; fill-opacity: 0.7; stroke: #4575b4; stroke-opacity: 0.7; stroke-width: 0.3\" />\n",
       "     <use xlink:href=\"#mb2798fbea1\" x=\"47.502043\" y=\"43.042252\" style=\"fill: #4575b4; fill-opacity: 0.7; stroke: #4575b4; stroke-opacity: 0.7; stroke-width: 0.3\" />\n",
       "     <use xlink:href=\"#mb2798fbea1\" x=\"83.22213\" y=\"50.218951\" style=\"fill: #4575b4; fill-opacity: 0.7; stroke: #4575b4; stroke-opacity: 0.7; stroke-width: 0.3\" />\n",
       "     <use xlink:href=\"#mb2798fbea1\" x=\"61.654217\" y=\"41.248078\" style=\"fill: #4575b4; fill-opacity: 0.7; stroke: #4575b4; stroke-opacity: 0.7; stroke-width: 0.3\" />\n",
       "     <use xlink:href=\"#mb2798fbea1\" x=\"55.593043\" y=\"14.335456\" style=\"fill: #4575b4; fill-opacity: 0.7; stroke: #4575b4; stroke-opacity: 0.7; stroke-width: 0.3\" />\n",
       "     <use xlink:href=\"#mb2798fbea1\" x=\"52.358261\" y=\"57.39565\" style=\"fill: #4575b4; fill-opacity: 0.7; stroke: #4575b4; stroke-opacity: 0.7; stroke-width: 0.3\" />\n",
       "     <use xlink:href=\"#mb2798fbea1\" x=\"49.523783\" y=\"55.601476\" style=\"fill: #4575b4; fill-opacity: 0.7; stroke: #4575b4; stroke-opacity: 0.7; stroke-width: 0.3\" />\n",
       "     <use xlink:href=\"#mb2798fbea1\" x=\"81.875652\" y=\"59.189825\" style=\"fill: #4575b4; fill-opacity: 0.7; stroke: #4575b4; stroke-opacity: 0.7; stroke-width: 0.3\" />\n",
       "     <use xlink:href=\"#mb2798fbea1\" x=\"45.484348\" y=\"26.89468\" style=\"fill: #4575b4; fill-opacity: 0.7; stroke: #4575b4; stroke-opacity: 0.7; stroke-width: 0.3\" />\n",
       "     <use xlink:href=\"#mb2798fbea1\" x=\"52.964783\" y=\"17.923806\" style=\"fill: #4575b4; fill-opacity: 0.7; stroke: #4575b4; stroke-opacity: 0.7; stroke-width: 0.3\" />\n",
       "     <use xlink:href=\"#mb2798fbea1\" x=\"59.838696\" y=\"8.952932\" style=\"fill: #4575b4; fill-opacity: 0.7; stroke: #4575b4; stroke-opacity: 0.7; stroke-width: 0.3\" />\n",
       "     <use xlink:href=\"#mb2798fbea1\" x=\"57.210435\" y=\"50.218951\" style=\"fill: #4575b4; fill-opacity: 0.7; stroke: #4575b4; stroke-opacity: 0.7; stroke-width: 0.3\" />\n",
       "     <use xlink:href=\"#mb2798fbea1\" x=\"39.823478\" y=\"59.189825\" style=\"fill: #4575b4; fill-opacity: 0.7; stroke: #4575b4; stroke-opacity: 0.7; stroke-width: 0.3\" />\n",
       "     <use xlink:href=\"#mb2798fbea1\" x=\"57.210435\" y=\"37.659728\" style=\"fill: #4575b4; fill-opacity: 0.7; stroke: #4575b4; stroke-opacity: 0.7; stroke-width: 0.3\" />\n",
       "     <use xlink:href=\"#mb2798fbea1\" x=\"36.548261\" y=\"30.483029\" style=\"fill: #4575b4; fill-opacity: 0.7; stroke: #4575b4; stroke-opacity: 0.7; stroke-width: 0.3\" />\n",
       "     <use xlink:href=\"#mb2798fbea1\" x=\"46.697391\" y=\"43.042252\" style=\"fill: #4575b4; fill-opacity: 0.7; stroke: #4575b4; stroke-opacity: 0.7; stroke-width: 0.3\" />\n",
       "    </g>\n",
       "   </g>\n",
       "   <g id=\"patch_3\">\n",
       "    <path d=\"M 53.367109 60.984  L 50.856109 67.0824  L 55.878109 67.0824  z \" style=\"fill: #444443\" />\n",
       "   </g>\n",
       "   <g id=\"matplotlib.axis_1\">\n",
       "    <g id=\"xtick_1\">\n",
       "     <g id=\"line2d_1\">\n",
       "      <defs>\n",
       "       <path id=\"mefa42f8a05\" d=\"M 0 0  L 0 3.5  \" style=\"stroke: #000000; stroke-width: 0.3\" />\n",
       "      </defs>\n",
       "      <g>\n",
       "       <use xlink:href=\"#mefa42f8a05\" x=\"17.18\" y=\"60.984\" style=\"stroke: #000000; stroke-width: 0.3\" />\n",
       "      </g>\n",
       "     </g>\n",
       "     <g id=\"text_1\">\n",
       "      \n",
       "      <g style=\"fill: #444443\" transform=\"translate(14.635 78.56275) scale(0.08 -0.08)\">\n",
       "       <defs>\n",
       "        <path id=\"DejaVuSans-30\" d=\"M 2034 4250  Q 1547 4250 1301 3770  Q 1056 3291 1056 2328  Q 1056 1369 1301 889  Q 1547 409 2034 409  Q 2525 409 2770 889  Q 3016 1369 3016 2328  Q 3016 3291 2770 3770  Q 2525 4250 2034 4250  z M 2034 4750  Q 2819 4750 3233 4129  Q 3647 3509 3647 2328  Q 3647 1150 3233 529  Q 2819 -91 2034 -91  Q 1250 -91 836 529  Q 422 1150 422 2328  Q 422 3509 836 4129  Q 1250 4750 2034 4750  z \" transform=\"scale(0.015625)\" />\n",
       "       </defs>\n",
       "       <use xlink:href=\"#DejaVuSans-30\" />\n",
       "      </g>\n",
       "     </g>\n",
       "    </g>\n",
       "    <g id=\"xtick_2\">\n",
       "     <g id=\"line2d_2\">\n",
       "      <g>\n",
       "       <use xlink:href=\"#mefa42f8a05\" x=\"53.367109\" y=\"60.984\" style=\"stroke: #000000; stroke-width: 0.3\" />\n",
       "      </g>\n",
       "     </g>\n",
       "     <g id=\"text_2\">\n",
       "      \n",
       "      <g style=\"fill: #444443\" transform=\"translate(43.187109 78.56275) scale(0.08 -0.08)\">\n",
       "       <defs>\n",
       "        <path id=\"DejaVuSans-38\" d=\"M 2034 2216  Q 1584 2216 1326 1975  Q 1069 1734 1069 1313  Q 1069 891 1326 650  Q 1584 409 2034 409  Q 2484 409 2743 651  Q 3003 894 3003 1313  Q 3003 1734 2745 1975  Q 2488 2216 2034 2216  z M 1403 2484  Q 997 2584 770 2862  Q 544 3141 544 3541  Q 544 4100 942 4425  Q 1341 4750 2034 4750  Q 2731 4750 3128 4425  Q 3525 4100 3525 3541  Q 3525 3141 3298 2862  Q 3072 2584 2669 2484  Q 3125 2378 3379 2068  Q 3634 1759 3634 1313  Q 3634 634 3220 271  Q 2806 -91 2034 -91  Q 1263 -91 848 271  Q 434 634 434 1313  Q 434 1759 690 2068  Q 947 2378 1403 2484  z M 1172 3481  Q 1172 3119 1398 2916  Q 1625 2713 2034 2713  Q 2441 2713 2670 2916  Q 2900 3119 2900 3481  Q 2900 3844 2670 4047  Q 2441 4250 2034 4250  Q 1625 4250 1398 4047  Q 1172 3844 1172 3481  z \" transform=\"scale(0.015625)\" />\n",
       "        <path id=\"DejaVuSans-39\" d=\"M 703 97  L 703 672  Q 941 559 1184 500  Q 1428 441 1663 441  Q 2288 441 2617 861  Q 2947 1281 2994 2138  Q 2813 1869 2534 1725  Q 2256 1581 1919 1581  Q 1219 1581 811 2004  Q 403 2428 403 3163  Q 403 3881 828 4315  Q 1253 4750 1959 4750  Q 2769 4750 3195 4129  Q 3622 3509 3622 2328  Q 3622 1225 3098 567  Q 2575 -91 1691 -91  Q 1453 -91 1209 -44  Q 966 3 703 97  z M 1959 2075  Q 2384 2075 2632 2365  Q 2881 2656 2881 3163  Q 2881 3666 2632 3958  Q 2384 4250 1959 4250  Q 1534 4250 1286 3958  Q 1038 3666 1038 3163  Q 1038 2656 1286 2365  Q 1534 2075 1959 2075  z \" transform=\"scale(0.015625)\" />\n",
       "        <path id=\"DejaVuSans-35\" d=\"M 691 4666  L 3169 4666  L 3169 4134  L 1269 4134  L 1269 2991  Q 1406 3038 1543 3061  Q 1681 3084 1819 3084  Q 2600 3084 3056 2656  Q 3513 2228 3513 1497  Q 3513 744 3044 326  Q 2575 -91 1722 -91  Q 1428 -91 1123 -41  Q 819 9 494 109  L 494 744  Q 775 591 1075 516  Q 1375 441 1709 441  Q 2250 441 2565 725  Q 2881 1009 2881 1497  Q 2881 1984 2565 2268  Q 2250 2553 1709 2553  Q 1456 2553 1204 2497  Q 953 2441 691 2322  L 691 4666  z \" transform=\"scale(0.015625)\" />\n",
       "       </defs>\n",
       "       <use xlink:href=\"#DejaVuSans-38\" />\n",
       "       <use xlink:href=\"#DejaVuSans-39\" x=\"63.623047\" />\n",
       "       <use xlink:href=\"#DejaVuSans-35\" x=\"127.246094\" />\n",
       "       <use xlink:href=\"#DejaVuSans-30\" x=\"190.869141\" />\n",
       "      </g>\n",
       "     </g>\n",
       "    </g>\n",
       "    <g id=\"xtick_3\">\n",
       "     <g id=\"line2d_3\">\n",
       "      <g>\n",
       "       <use xlink:href=\"#mefa42f8a05\" x=\"156.68\" y=\"60.984\" style=\"stroke: #000000; stroke-width: 0.3\" />\n",
       "      </g>\n",
       "     </g>\n",
       "     <g id=\"text_3\">\n",
       "      \n",
       "      <g style=\"fill: #444443\" transform=\"translate(143.955 78.56275) scale(0.08 -0.08)\">\n",
       "       <defs>\n",
       "        <path id=\"DejaVuSans-33\" d=\"M 2597 2516  Q 3050 2419 3304 2112  Q 3559 1806 3559 1356  Q 3559 666 3084 287  Q 2609 -91 1734 -91  Q 1441 -91 1130 -33  Q 819 25 488 141  L 488 750  Q 750 597 1062 519  Q 1375 441 1716 441  Q 2309 441 2620 675  Q 2931 909 2931 1356  Q 2931 1769 2642 2001  Q 2353 2234 1838 2234  L 1294 2234  L 1294 2753  L 1863 2753  Q 2328 2753 2575 2939  Q 2822 3125 2822 3475  Q 2822 3834 2567 4026  Q 2313 4219 1838 4219  Q 1578 4219 1281 4162  Q 984 4106 628 3988  L 628 4550  Q 988 4650 1302 4700  Q 1616 4750 1894 4750  Q 2613 4750 3031 4423  Q 3450 4097 3450 3541  Q 3450 3153 3228 2886  Q 3006 2619 2597 2516  z \" transform=\"scale(0.015625)\" />\n",
       "        <path id=\"DejaVuSans-34\" d=\"M 2419 4116  L 825 1625  L 2419 1625  L 2419 4116  z M 2253 4666  L 3047 4666  L 3047 1625  L 3713 1625  L 3713 1100  L 3047 1100  L 3047 0  L 2419 0  L 2419 1100  L 313 1100  L 313 1709  L 2253 4666  z \" transform=\"scale(0.015625)\" />\n",
       "       </defs>\n",
       "       <use xlink:href=\"#DejaVuSans-33\" />\n",
       "       <use xlink:href=\"#DejaVuSans-34\" x=\"63.623047\" />\n",
       "       <use xlink:href=\"#DejaVuSans-35\" x=\"127.246094\" />\n",
       "       <use xlink:href=\"#DejaVuSans-30\" x=\"190.869141\" />\n",
       "       <use xlink:href=\"#DejaVuSans-30\" x=\"254.492188\" />\n",
       "      </g>\n",
       "     </g>\n",
       "    </g>\n",
       "    <g id=\"text_4\">\n",
       "     \n",
       "     <g style=\"fill: #444443\" transform=\"translate(67.01875 96.384) scale(0.16 -0.16)\">\n",
       "      <defs>\n",
       "       <path id=\"DejaVuSans-70\" d=\"M 1159 525  L 1159 -1331  L 581 -1331  L 581 3500  L 1159 3500  L 1159 2969  Q 1341 3281 1617 3432  Q 1894 3584 2278 3584  Q 2916 3584 3314 3078  Q 3713 2572 3713 1747  Q 3713 922 3314 415  Q 2916 -91 2278 -91  Q 1894 -91 1617 61  Q 1341 213 1159 525  z M 3116 1747  Q 3116 2381 2855 2742  Q 2594 3103 2138 3103  Q 1681 3103 1420 2742  Q 1159 2381 1159 1747  Q 1159 1113 1420 752  Q 1681 391 2138 391  Q 2594 391 2855 752  Q 3116 1113 3116 1747  z \" transform=\"scale(0.015625)\" />\n",
       "       <path id=\"DejaVuSans-72\" d=\"M 2631 2963  Q 2534 3019 2420 3045  Q 2306 3072 2169 3072  Q 1681 3072 1420 2755  Q 1159 2438 1159 1844  L 1159 0  L 581 0  L 581 3500  L 1159 3500  L 1159 2956  Q 1341 3275 1631 3429  Q 1922 3584 2338 3584  Q 2397 3584 2469 3576  Q 2541 3569 2628 3553  L 2631 2963  z \" transform=\"scale(0.015625)\" />\n",
       "       <path id=\"DejaVuSans-69\" d=\"M 603 3500  L 1178 3500  L 1178 0  L 603 0  L 603 3500  z M 603 4863  L 1178 4863  L 1178 4134  L 603 4134  L 603 4863  z \" transform=\"scale(0.015625)\" />\n",
       "       <path id=\"DejaVuSans-63\" d=\"M 3122 3366  L 3122 2828  Q 2878 2963 2633 3030  Q 2388 3097 2138 3097  Q 1578 3097 1268 2742  Q 959 2388 959 1747  Q 959 1106 1268 751  Q 1578 397 2138 397  Q 2388 397 2633 464  Q 2878 531 3122 666  L 3122 134  Q 2881 22 2623 -34  Q 2366 -91 2075 -91  Q 1284 -91 818 406  Q 353 903 353 1747  Q 353 2603 823 3093  Q 1294 3584 2113 3584  Q 2378 3584 2631 3529  Q 2884 3475 3122 3366  z \" transform=\"scale(0.015625)\" />\n",
       "       <path id=\"DejaVuSans-65\" d=\"M 3597 1894  L 3597 1613  L 953 1613  Q 991 1019 1311 708  Q 1631 397 2203 397  Q 2534 397 2845 478  Q 3156 559 3463 722  L 3463 178  Q 3153 47 2828 -22  Q 2503 -91 2169 -91  Q 1331 -91 842 396  Q 353 884 353 1716  Q 353 2575 817 3079  Q 1281 3584 2069 3584  Q 2775 3584 3186 3129  Q 3597 2675 3597 1894  z M 3022 2063  Q 3016 2534 2758 2815  Q 2500 3097 2075 3097  Q 1594 3097 1305 2825  Q 1016 2553 972 2059  L 3022 2063  z \" transform=\"scale(0.015625)\" />\n",
       "      </defs>\n",
       "      <use xlink:href=\"#DejaVuSans-70\" />\n",
       "      <use xlink:href=\"#DejaVuSans-72\" x=\"63.476562\" />\n",
       "      <use xlink:href=\"#DejaVuSans-69\" x=\"104.589844\" />\n",
       "      <use xlink:href=\"#DejaVuSans-63\" x=\"132.373047\" />\n",
       "      <use xlink:href=\"#DejaVuSans-65\" x=\"187.353516\" />\n",
       "     </g>\n",
       "    </g>\n",
       "   </g>\n",
       "   <g id=\"matplotlib.axis_2\">\n",
       "    <g id=\"ytick_1\">\n",
       "     <g id=\"line2d_4\">\n",
       "      <defs>\n",
       "       <path id=\"m1f532a80ea\" d=\"M 0 0  L -3.5 0  \" style=\"stroke: #000000; stroke-width: 0.3\" />\n",
       "      </defs>\n",
       "      <g>\n",
       "       <use xlink:href=\"#m1f532a80ea\" x=\"17.18\" y=\"60.984\" style=\"stroke: #000000; stroke-width: 0.3\" />\n",
       "      </g>\n",
       "     </g>\n",
       "     <g id=\"text_5\">\n",
       "      \n",
       "      <g style=\"fill: #444443\" transform=\"translate(5.09 64.023375) scale(0.08 -0.08)\">\n",
       "       <use xlink:href=\"#DejaVuSans-30\" />\n",
       "      </g>\n",
       "     </g>\n",
       "    </g>\n",
       "    <g id=\"ytick_2\">\n",
       "     <g id=\"line2d_5\">\n",
       "      <g>\n",
       "       <use xlink:href=\"#m1f532a80ea\" x=\"17.18\" y=\"25.100505\" style=\"stroke: #000000; stroke-width: 0.3\" />\n",
       "      </g>\n",
       "     </g>\n",
       "     <g id=\"text_6\">\n",
       "      \n",
       "      <g style=\"fill: #444443\" transform=\"translate(0 28.13988) scale(0.08 -0.08)\">\n",
       "       <defs>\n",
       "        <path id=\"DejaVuSans-32\" d=\"M 1228 531  L 3431 531  L 3431 0  L 469 0  L 469 531  Q 828 903 1448 1529  Q 2069 2156 2228 2338  Q 2531 2678 2651 2914  Q 2772 3150 2772 3378  Q 2772 3750 2511 3984  Q 2250 4219 1831 4219  Q 1534 4219 1204 4116  Q 875 4013 500 3803  L 500 4441  Q 881 4594 1212 4672  Q 1544 4750 1819 4750  Q 2544 4750 2975 4387  Q 3406 4025 3406 3419  Q 3406 3131 3298 2873  Q 3191 2616 2906 2266  Q 2828 2175 2409 1742  Q 1991 1309 1228 531  z \" transform=\"scale(0.015625)\" />\n",
       "       </defs>\n",
       "       <use xlink:href=\"#DejaVuSans-32\" />\n",
       "       <use xlink:href=\"#DejaVuSans-30\" x=\"63.623047\" />\n",
       "      </g>\n",
       "     </g>\n",
       "    </g>\n",
       "   </g>\n",
       "   <g id=\"line2d_6\">\n",
       "    <path d=\"M 17.18 40.47639  L 53.367109 40.47639  \" clip-path=\"url(#p729bfd2131)\" style=\"fill: none; stroke-dasharray: 3.7,1.6; stroke-dashoffset: 0; stroke: #444443\" />\n",
       "   </g>\n",
       "   <g id=\"line2d_7\">\n",
       "    <path d=\"M 53.367109 60.984  L 53.367109 0  \" clip-path=\"url(#p729bfd2131)\" style=\"fill: none; stroke-dasharray: 3.7,1.6; stroke-dashoffset: 0; stroke: #444443\" />\n",
       "   </g>\n",
       "   <g id=\"line2d_8\">\n",
       "    <path d=\"M 53.367109 42.524346  L 156.68 42.524346  \" clip-path=\"url(#p729bfd2131)\" style=\"fill: none; stroke-dasharray: 3.7,1.6; stroke-dashoffset: 0; stroke: #444443\" />\n",
       "   </g>\n",
       "   <g id=\"patch_4\">\n",
       "    <path d=\"M 17.18 60.984  L 17.18 0  \" style=\"fill: none; stroke: #444443; stroke-width: 0.3; stroke-linejoin: miter; stroke-linecap: square\" />\n",
       "   </g>\n",
       "   <g id=\"patch_5\">\n",
       "    <path d=\"M 17.18 60.984  L 156.68 60.984  \" style=\"fill: none; stroke: #444443; stroke-width: 0.3; stroke-linejoin: miter; stroke-linecap: square\" />\n",
       "   </g>\n",
       "  </g>\n",
       " </g>\n",
       " <defs>\n",
       "  <clipPath id=\"p729bfd2131\">\n",
       "   <rect x=\"17.18\" y=\"0\" width=\"139.5\" height=\"60.984\" />\n",
       "  </clipPath>\n",
       " </defs>\n",
       "</svg></g>\n",
       "\n",
       "\n",
       "<g id=\"node4\" class=\"node\">\n",
       "<title>leaf5</title>\n",
       "<polygon fill=\"none\" stroke=\"#444443\" stroke-width=\"0\" points=\"467.25,-308 342.25,-308 342.25,-240 467.25,-240 467.25,-308\" />\n",
       "<svg width=\"117px\" height=\"60px\" viewBox=\"0 0 156.79 79.9485\" version=\"1.1\" preserveAspectRatio=\"xMinYMin meet\" x=\"346.751\" y=\"-304\">\n",
       " <metadata>\n",
       "  <rdf:RDF>\n",
       "   <ns2:Work>\n",
       "    <dc:type rdf:resource=\"http://purl.org/dc/dcmitype/StillImage\" />\n",
       "    <dc:date>2023-04-07T10:03:54.165788</dc:date>\n",
       "    <dc:format>image/svg+xml</dc:format>\n",
       "    <dc:creator>\n",
       "     <ns2:Agent>\n",
       "      <dc:title>Matplotlib v3.7.0, https://matplotlib.org/</dc:title>\n",
       "     </ns2:Agent>\n",
       "    </dc:creator>\n",
       "   </ns2:Work>\n",
       "  </rdf:RDF>\n",
       " </metadata>\n",
       " <defs>\n",
       "  <style type=\"text/css\">*{stroke-linejoin: round; stroke-linecap: butt}</style>\n",
       " </defs>\n",
       " <g id=\"figure_1\">\n",
       "  <g id=\"patch_1\">\n",
       "   <path d=\"M -0 79.9485  L 156.79 79.9485  L 156.79 -0  L -0 -0  z \" style=\"fill: #ffffff\" />\n",
       "  </g>\n",
       "  <g id=\"axes_1\">\n",
       "   <g id=\"patch_2\">\n",
       "    <path d=\"M 56.97 44.352  L 98.82 44.352  L 98.82 -0  L 56.97 -0  z \" style=\"fill: #ffffff\" />\n",
       "   </g>\n",
       "   <g id=\"PathCollection_1\">\n",
       "    <defs>\n",
       "     <path id=\"m2e252839c7\" d=\"M 0 1.118034  C 0.296506 1.118034 0.580908 1.000231 0.790569 0.790569  C 1.000231 0.580908 1.118034 0.296506 1.118034 0  C 1.118034 -0.296506 1.000231 -0.580908 0.790569 -0.790569  C 0.580908 -1.000231 0.296506 -1.118034 0 -1.118034  C -0.296506 -1.118034 -0.580908 -1.000231 -0.790569 -0.790569  C -1.000231 -0.580908 -1.118034 -0.296506 -1.118034 0  C -1.118034 0.296506 -1.000231 0.580908 -0.790569 0.790569  C -0.580908 1.000231 -0.296506 1.118034 0 1.118034  z \" style=\"stroke: #4575b4; stroke-opacity: 0.7; stroke-width: 0.3\" />\n",
       "    </defs>\n",
       "    <g clip-path=\"url(#p6d0c7f219d)\">\n",
       "     <use xlink:href=\"#m2e252839c7\" x=\"87.015214\" y=\"23.47433\" style=\"fill: #4575b4; fill-opacity: 0.7; stroke: #4575b4; stroke-opacity: 0.7; stroke-width: 0.3\" />\n",
       "     <use xlink:href=\"#m2e252839c7\" x=\"81.166968\" y=\"20.864621\" style=\"fill: #4575b4; fill-opacity: 0.7; stroke: #4575b4; stroke-opacity: 0.7; stroke-width: 0.3\" />\n",
       "     <use xlink:href=\"#m2e252839c7\" x=\"78.168237\" y=\"40.437437\" style=\"fill: #4575b4; fill-opacity: 0.7; stroke: #4575b4; stroke-opacity: 0.7; stroke-width: 0.3\" />\n",
       "     <use xlink:href=\"#m2e252839c7\" x=\"76.015137\" y=\"44.352\" style=\"fill: #4575b4; fill-opacity: 0.7; stroke: #4575b4; stroke-opacity: 0.7; stroke-width: 0.3\" />\n",
       "     <use xlink:href=\"#m2e252839c7\" x=\"79.767991\" y=\"18.254913\" style=\"fill: #4575b4; fill-opacity: 0.7; stroke: #4575b4; stroke-opacity: 0.7; stroke-width: 0.3\" />\n",
       "     <use xlink:href=\"#m2e252839c7\" x=\"76.865921\" y=\"43.047146\" style=\"fill: #4575b4; fill-opacity: 0.7; stroke: #4575b4; stroke-opacity: 0.7; stroke-width: 0.3\" />\n",
       "     <use xlink:href=\"#m2e252839c7\" x=\"79.165623\" y=\"31.303456\" style=\"fill: #4575b4; fill-opacity: 0.7; stroke: #4575b4; stroke-opacity: 0.7; stroke-width: 0.3\" />\n",
       "     <use xlink:href=\"#m2e252839c7\" x=\"74.150645\" y=\"28.693748\" style=\"fill: #4575b4; fill-opacity: 0.7; stroke: #4575b4; stroke-opacity: 0.7; stroke-width: 0.3\" />\n",
       "     <use xlink:href=\"#m2e252839c7\" x=\"71.669156\" y=\"41.742291\" style=\"fill: #4575b4; fill-opacity: 0.7; stroke: #4575b4; stroke-opacity: 0.7; stroke-width: 0.3\" />\n",
       "     <use xlink:href=\"#m2e252839c7\" x=\"75.053733\" y=\"44.352\" style=\"fill: #4575b4; fill-opacity: 0.7; stroke: #4575b4; stroke-opacity: 0.7; stroke-width: 0.3\" />\n",
       "     <use xlink:href=\"#m2e252839c7\" x=\"77.531549\" y=\"44.352\" style=\"fill: #4575b4; fill-opacity: 0.7; stroke: #4575b4; stroke-opacity: 0.7; stroke-width: 0.3\" />\n",
       "     <use xlink:href=\"#m2e252839c7\" x=\"75.477236\" y=\"41.742291\" style=\"fill: #4575b4; fill-opacity: 0.7; stroke: #4575b4; stroke-opacity: 0.7; stroke-width: 0.3\" />\n",
       "     <use xlink:href=\"#m2e252839c7\" x=\"79.432033\" y=\"37.827728\" style=\"fill: #4575b4; fill-opacity: 0.7; stroke: #4575b4; stroke-opacity: 0.7; stroke-width: 0.3\" />\n",
       "     <use xlink:href=\"#m2e252839c7\" x=\"81.324943\" y=\"7.816078\" style=\"fill: #4575b4; fill-opacity: 0.7; stroke: #4575b4; stroke-opacity: 0.7; stroke-width: 0.3\" />\n",
       "     <use xlink:href=\"#m2e252839c7\" x=\"81.203394\" y=\"23.47433\" style=\"fill: #4575b4; fill-opacity: 0.7; stroke: #4575b4; stroke-opacity: 0.7; stroke-width: 0.3\" />\n",
       "     <use xlink:href=\"#m2e252839c7\" x=\"79.068274\" y=\"41.742291\" style=\"fill: #4575b4; fill-opacity: 0.7; stroke: #4575b4; stroke-opacity: 0.7; stroke-width: 0.3\" />\n",
       "     <use xlink:href=\"#m2e252839c7\" x=\"81.225372\" y=\"23.47433\" style=\"fill: #4575b4; fill-opacity: 0.7; stroke: #4575b4; stroke-opacity: 0.7; stroke-width: 0.3\" />\n",
       "     <use xlink:href=\"#m2e252839c7\" x=\"74.786282\" y=\"41.742291\" style=\"fill: #4575b4; fill-opacity: 0.7; stroke: #4575b4; stroke-opacity: 0.7; stroke-width: 0.3\" />\n",
       "     <use xlink:href=\"#m2e252839c7\" x=\"78.049559\" y=\"43.047146\" style=\"fill: #4575b4; fill-opacity: 0.7; stroke: #4575b4; stroke-opacity: 0.7; stroke-width: 0.3\" />\n",
       "     <use xlink:href=\"#m2e252839c7\" x=\"77.630363\" y=\"44.352\" style=\"fill: #4575b4; fill-opacity: 0.7; stroke: #4575b4; stroke-opacity: 0.7; stroke-width: 0.3\" />\n",
       "     <use xlink:href=\"#m2e252839c7\" x=\"75.969569\" y=\"41.742291\" style=\"fill: #4575b4; fill-opacity: 0.7; stroke: #4575b4; stroke-opacity: 0.7; stroke-width: 0.3\" />\n",
       "     <use xlink:href=\"#m2e252839c7\" x=\"71.942885\" y=\"6.511223\" style=\"fill: #4575b4; fill-opacity: 0.7; stroke: #4575b4; stroke-opacity: 0.7; stroke-width: 0.3\" />\n",
       "     <use xlink:href=\"#m2e252839c7\" x=\"78.097355\" y=\"37.827728\" style=\"fill: #4575b4; fill-opacity: 0.7; stroke: #4575b4; stroke-opacity: 0.7; stroke-width: 0.3\" />\n",
       "     <use xlink:href=\"#m2e252839c7\" x=\"78.01339\" y=\"41.742291\" style=\"fill: #4575b4; fill-opacity: 0.7; stroke: #4575b4; stroke-opacity: 0.7; stroke-width: 0.3\" />\n",
       "     <use xlink:href=\"#m2e252839c7\" x=\"71.576135\" y=\"16.950058\" style=\"fill: #4575b4; fill-opacity: 0.7; stroke: #4575b4; stroke-opacity: 0.7; stroke-width: 0.3\" />\n",
       "     <use xlink:href=\"#m2e252839c7\" x=\"79.302565\" y=\"32.608311\" style=\"fill: #4575b4; fill-opacity: 0.7; stroke: #4575b4; stroke-opacity: 0.7; stroke-width: 0.3\" />\n",
       "     <use xlink:href=\"#m2e252839c7\" x=\"84.869828\" y=\"44.352\" style=\"fill: #4575b4; fill-opacity: 0.7; stroke: #4575b4; stroke-opacity: 0.7; stroke-width: 0.3\" />\n",
       "     <use xlink:href=\"#m2e252839c7\" x=\"76.186398\" y=\"26.084039\" style=\"fill: #4575b4; fill-opacity: 0.7; stroke: #4575b4; stroke-opacity: 0.7; stroke-width: 0.3\" />\n",
       "     <use xlink:href=\"#m2e252839c7\" x=\"76.869162\" y=\"39.132583\" style=\"fill: #4575b4; fill-opacity: 0.7; stroke: #4575b4; stroke-opacity: 0.7; stroke-width: 0.3\" />\n",
       "     <use xlink:href=\"#m2e252839c7\" x=\"75.64975\" y=\"43.047146\" style=\"fill: #4575b4; fill-opacity: 0.7; stroke: #4575b4; stroke-opacity: 0.7; stroke-width: 0.3\" />\n",
       "     <use xlink:href=\"#m2e252839c7\" x=\"74.122131\" y=\"28.693748\" style=\"fill: #4575b4; fill-opacity: 0.7; stroke: #4575b4; stroke-opacity: 0.7; stroke-width: 0.3\" />\n",
       "     <use xlink:href=\"#m2e252839c7\" x=\"78.558729\" y=\"33.913165\" style=\"fill: #4575b4; fill-opacity: 0.7; stroke: #4575b4; stroke-opacity: 0.7; stroke-width: 0.3\" />\n",
       "     <use xlink:href=\"#m2e252839c7\" x=\"77.238194\" y=\"39.132583\" style=\"fill: #4575b4; fill-opacity: 0.7; stroke: #4575b4; stroke-opacity: 0.7; stroke-width: 0.3\" />\n",
       "     <use xlink:href=\"#m2e252839c7\" x=\"76.871493\" y=\"39.132583\" style=\"fill: #4575b4; fill-opacity: 0.7; stroke: #4575b4; stroke-opacity: 0.7; stroke-width: 0.3\" />\n",
       "     <use xlink:href=\"#m2e252839c7\" x=\"80.448053\" y=\"37.827728\" style=\"fill: #4575b4; fill-opacity: 0.7; stroke: #4575b4; stroke-opacity: 0.7; stroke-width: 0.3\" />\n",
       "     <use xlink:href=\"#m2e252839c7\" x=\"80.173853\" y=\"40.437437\" style=\"fill: #4575b4; fill-opacity: 0.7; stroke: #4575b4; stroke-opacity: 0.7; stroke-width: 0.3\" />\n",
       "     <use xlink:href=\"#m2e252839c7\" x=\"80.018381\" y=\"13.035495\" style=\"fill: #4575b4; fill-opacity: 0.7; stroke: #4575b4; stroke-opacity: 0.7; stroke-width: 0.3\" />\n",
       "     <use xlink:href=\"#m2e252839c7\" x=\"76.237414\" y=\"33.913165\" style=\"fill: #4575b4; fill-opacity: 0.7; stroke: #4575b4; stroke-opacity: 0.7; stroke-width: 0.3\" />\n",
       "     <use xlink:href=\"#m2e252839c7\" x=\"75.243123\" y=\"36.522874\" style=\"fill: #4575b4; fill-opacity: 0.7; stroke: #4575b4; stroke-opacity: 0.7; stroke-width: 0.3\" />\n",
       "     <use xlink:href=\"#m2e252839c7\" x=\"72.654292\" y=\"44.352\" style=\"fill: #4575b4; fill-opacity: 0.7; stroke: #4575b4; stroke-opacity: 0.7; stroke-width: 0.3\" />\n",
       "     <use xlink:href=\"#m2e252839c7\" x=\"69.796103\" y=\"26.084039\" style=\"fill: #4575b4; fill-opacity: 0.7; stroke: #4575b4; stroke-opacity: 0.7; stroke-width: 0.3\" />\n",
       "     <use xlink:href=\"#m2e252839c7\" x=\"75.656989\" y=\"44.352\" style=\"fill: #4575b4; fill-opacity: 0.7; stroke: #4575b4; stroke-opacity: 0.7; stroke-width: 0.3\" />\n",
       "     <use xlink:href=\"#m2e252839c7\" x=\"82.790042\" y=\"15.645204\" style=\"fill: #4575b4; fill-opacity: 0.7; stroke: #4575b4; stroke-opacity: 0.7; stroke-width: 0.3\" />\n",
       "     <use xlink:href=\"#m2e252839c7\" x=\"78.628624\" y=\"11.730641\" style=\"fill: #4575b4; fill-opacity: 0.7; stroke: #4575b4; stroke-opacity: 0.7; stroke-width: 0.3\" />\n",
       "     <use xlink:href=\"#m2e252839c7\" x=\"72.445836\" y=\"31.303456\" style=\"fill: #4575b4; fill-opacity: 0.7; stroke: #4575b4; stroke-opacity: 0.7; stroke-width: 0.3\" />\n",
       "     <use xlink:href=\"#m2e252839c7\" x=\"79.757036\" y=\"33.913165\" style=\"fill: #4575b4; fill-opacity: 0.7; stroke: #4575b4; stroke-opacity: 0.7; stroke-width: 0.3\" />\n",
       "     <use xlink:href=\"#m2e252839c7\" x=\"74.076868\" y=\"44.352\" style=\"fill: #4575b4; fill-opacity: 0.7; stroke: #4575b4; stroke-opacity: 0.7; stroke-width: 0.3\" />\n",
       "     <use xlink:href=\"#m2e252839c7\" x=\"79.010082\" y=\"44.352\" style=\"fill: #4575b4; fill-opacity: 0.7; stroke: #4575b4; stroke-opacity: 0.7; stroke-width: 0.3\" />\n",
       "     <use xlink:href=\"#m2e252839c7\" x=\"80.24813\" y=\"41.742291\" style=\"fill: #4575b4; fill-opacity: 0.7; stroke: #4575b4; stroke-opacity: 0.7; stroke-width: 0.3\" />\n",
       "     <use xlink:href=\"#m2e252839c7\" x=\"84.780528\" y=\"7.816078\" style=\"fill: #4575b4; fill-opacity: 0.7; stroke: #4575b4; stroke-opacity: 0.7; stroke-width: 0.3\" />\n",
       "     <use xlink:href=\"#m2e252839c7\" x=\"77.071348\" y=\"44.352\" style=\"fill: #4575b4; fill-opacity: 0.7; stroke: #4575b4; stroke-opacity: 0.7; stroke-width: 0.3\" />\n",
       "     <use xlink:href=\"#m2e252839c7\" x=\"75.829326\" y=\"26.084039\" style=\"fill: #4575b4; fill-opacity: 0.7; stroke: #4575b4; stroke-opacity: 0.7; stroke-width: 0.3\" />\n",
       "     <use xlink:href=\"#m2e252839c7\" x=\"82.890353\" y=\"41.742291\" style=\"fill: #4575b4; fill-opacity: 0.7; stroke: #4575b4; stroke-opacity: 0.7; stroke-width: 0.3\" />\n",
       "     <use xlink:href=\"#m2e252839c7\" x=\"72.89829\" y=\"3.901515\" style=\"fill: #4575b4; fill-opacity: 0.7; stroke: #4575b4; stroke-opacity: 0.7; stroke-width: 0.3\" />\n",
       "     <use xlink:href=\"#m2e252839c7\" x=\"76.145011\" y=\"20.864621\" style=\"fill: #4575b4; fill-opacity: 0.7; stroke: #4575b4; stroke-opacity: 0.7; stroke-width: 0.3\" />\n",
       "     <use xlink:href=\"#m2e252839c7\" x=\"77.131065\" y=\"44.352\" style=\"fill: #4575b4; fill-opacity: 0.7; stroke: #4575b4; stroke-opacity: 0.7; stroke-width: 0.3\" />\n",
       "     <use xlink:href=\"#m2e252839c7\" x=\"79.040113\" y=\"41.742291\" style=\"fill: #4575b4; fill-opacity: 0.7; stroke: #4575b4; stroke-opacity: 0.7; stroke-width: 0.3\" />\n",
       "     <use xlink:href=\"#m2e252839c7\" x=\"83.685068\" y=\"33.913165\" style=\"fill: #4575b4; fill-opacity: 0.7; stroke: #4575b4; stroke-opacity: 0.7; stroke-width: 0.3\" />\n",
       "     <use xlink:href=\"#m2e252839c7\" x=\"74.064134\" y=\"35.218019\" style=\"fill: #4575b4; fill-opacity: 0.7; stroke: #4575b4; stroke-opacity: 0.7; stroke-width: 0.3\" />\n",
       "     <use xlink:href=\"#m2e252839c7\" x=\"79.796669\" y=\"39.132583\" style=\"fill: #4575b4; fill-opacity: 0.7; stroke: #4575b4; stroke-opacity: 0.7; stroke-width: 0.3\" />\n",
       "     <use xlink:href=\"#m2e252839c7\" x=\"73.205992\" y=\"39.132583\" style=\"fill: #4575b4; fill-opacity: 0.7; stroke: #4575b4; stroke-opacity: 0.7; stroke-width: 0.3\" />\n",
       "     <use xlink:href=\"#m2e252839c7\" x=\"73.69181\" y=\"39.132583\" style=\"fill: #4575b4; fill-opacity: 0.7; stroke: #4575b4; stroke-opacity: 0.7; stroke-width: 0.3\" />\n",
       "     <use xlink:href=\"#m2e252839c7\" x=\"81.019203\" y=\"26.084039\" style=\"fill: #4575b4; fill-opacity: 0.7; stroke: #4575b4; stroke-opacity: 0.7; stroke-width: 0.3\" />\n",
       "     <use xlink:href=\"#m2e252839c7\" x=\"71.470463\" y=\"33.913165\" style=\"fill: #4575b4; fill-opacity: 0.7; stroke: #4575b4; stroke-opacity: 0.7; stroke-width: 0.3\" />\n",
       "     <use xlink:href=\"#m2e252839c7\" x=\"77.66909\" y=\"36.522874\" style=\"fill: #4575b4; fill-opacity: 0.7; stroke: #4575b4; stroke-opacity: 0.7; stroke-width: 0.3\" />\n",
       "     <use xlink:href=\"#m2e252839c7\" x=\"79.068829\" y=\"41.742291\" style=\"fill: #4575b4; fill-opacity: 0.7; stroke: #4575b4; stroke-opacity: 0.7; stroke-width: 0.3\" />\n",
       "     <use xlink:href=\"#m2e252839c7\" x=\"82.014212\" y=\"40.437437\" style=\"fill: #4575b4; fill-opacity: 0.7; stroke: #4575b4; stroke-opacity: 0.7; stroke-width: 0.3\" />\n",
       "     <use xlink:href=\"#m2e252839c7\" x=\"76.87773\" y=\"44.352\" style=\"fill: #4575b4; fill-opacity: 0.7; stroke: #4575b4; stroke-opacity: 0.7; stroke-width: 0.3\" />\n",
       "     <use xlink:href=\"#m2e252839c7\" x=\"71.506299\" y=\"36.522874\" style=\"fill: #4575b4; fill-opacity: 0.7; stroke: #4575b4; stroke-opacity: 0.7; stroke-width: 0.3\" />\n",
       "     <use xlink:href=\"#m2e252839c7\" x=\"80.476201\" y=\"24.779184\" style=\"fill: #4575b4; fill-opacity: 0.7; stroke: #4575b4; stroke-opacity: 0.7; stroke-width: 0.3\" />\n",
       "     <use xlink:href=\"#m2e252839c7\" x=\"86.392182\" y=\"26.084039\" style=\"fill: #4575b4; fill-opacity: 0.7; stroke: #4575b4; stroke-opacity: 0.7; stroke-width: 0.3\" />\n",
       "     <use xlink:href=\"#m2e252839c7\" x=\"78.488051\" y=\"39.132583\" style=\"fill: #4575b4; fill-opacity: 0.7; stroke: #4575b4; stroke-opacity: 0.7; stroke-width: 0.3\" />\n",
       "     <use xlink:href=\"#m2e252839c7\" x=\"81.244018\" y=\"28.693748\" style=\"fill: #4575b4; fill-opacity: 0.7; stroke: #4575b4; stroke-opacity: 0.7; stroke-width: 0.3\" />\n",
       "     <use xlink:href=\"#m2e252839c7\" x=\"71.78032\" y=\"33.913165\" style=\"fill: #4575b4; fill-opacity: 0.7; stroke: #4575b4; stroke-opacity: 0.7; stroke-width: 0.3\" />\n",
       "     <use xlink:href=\"#m2e252839c7\" x=\"76.636639\" y=\"33.913165\" style=\"fill: #4575b4; fill-opacity: 0.7; stroke: #4575b4; stroke-opacity: 0.7; stroke-width: 0.3\" />\n",
       "     <use xlink:href=\"#m2e252839c7\" x=\"75.244898\" y=\"15.645204\" style=\"fill: #4575b4; fill-opacity: 0.7; stroke: #4575b4; stroke-opacity: 0.7; stroke-width: 0.3\" />\n",
       "     <use xlink:href=\"#m2e252839c7\" x=\"77.268694\" y=\"39.132583\" style=\"fill: #4575b4; fill-opacity: 0.7; stroke: #4575b4; stroke-opacity: 0.7; stroke-width: 0.3\" />\n",
       "     <use xlink:href=\"#m2e252839c7\" x=\"81.121384\" y=\"40.437437\" style=\"fill: #4575b4; fill-opacity: 0.7; stroke: #4575b4; stroke-opacity: 0.7; stroke-width: 0.3\" />\n",
       "     <use xlink:href=\"#m2e252839c7\" x=\"74.88181\" y=\"36.522874\" style=\"fill: #4575b4; fill-opacity: 0.7; stroke: #4575b4; stroke-opacity: 0.7; stroke-width: 0.3\" />\n",
       "     <use xlink:href=\"#m2e252839c7\" x=\"79.523384\" y=\"36.522874\" style=\"fill: #4575b4; fill-opacity: 0.7; stroke: #4575b4; stroke-opacity: 0.7; stroke-width: 0.3\" />\n",
       "     <use xlink:href=\"#m2e252839c7\" x=\"79.567329\" y=\"39.132583\" style=\"fill: #4575b4; fill-opacity: 0.7; stroke: #4575b4; stroke-opacity: 0.7; stroke-width: 0.3\" />\n",
       "     <use xlink:href=\"#m2e252839c7\" x=\"80.805957\" y=\"44.352\" style=\"fill: #4575b4; fill-opacity: 0.7; stroke: #4575b4; stroke-opacity: 0.7; stroke-width: 0.3\" />\n",
       "     <use xlink:href=\"#m2e252839c7\" x=\"78.297795\" y=\"22.169476\" style=\"fill: #4575b4; fill-opacity: 0.7; stroke: #4575b4; stroke-opacity: 0.7; stroke-width: 0.3\" />\n",
       "     <use xlink:href=\"#m2e252839c7\" x=\"84.585384\" y=\"39.132583\" style=\"fill: #4575b4; fill-opacity: 0.7; stroke: #4575b4; stroke-opacity: 0.7; stroke-width: 0.3\" />\n",
       "     <use xlink:href=\"#m2e252839c7\" x=\"70.366905\" y=\"43.047146\" style=\"fill: #4575b4; fill-opacity: 0.7; stroke: #4575b4; stroke-opacity: 0.7; stroke-width: 0.3\" />\n",
       "     <use xlink:href=\"#m2e252839c7\" x=\"81.380366\" y=\"35.218019\" style=\"fill: #4575b4; fill-opacity: 0.7; stroke: #4575b4; stroke-opacity: 0.7; stroke-width: 0.3\" />\n",
       "     <use xlink:href=\"#m2e252839c7\" x=\"73.513758\" y=\"33.913165\" style=\"fill: #4575b4; fill-opacity: 0.7; stroke: #4575b4; stroke-opacity: 0.7; stroke-width: 0.3\" />\n",
       "     <use xlink:href=\"#m2e252839c7\" x=\"79.969409\" y=\"36.522874\" style=\"fill: #4575b4; fill-opacity: 0.7; stroke: #4575b4; stroke-opacity: 0.7; stroke-width: 0.3\" />\n",
       "     <use xlink:href=\"#m2e252839c7\" x=\"79.344165\" y=\"44.352\" style=\"fill: #4575b4; fill-opacity: 0.7; stroke: #4575b4; stroke-opacity: 0.7; stroke-width: 0.3\" />\n",
       "     <use xlink:href=\"#m2e252839c7\" x=\"83.922401\" y=\"41.742291\" style=\"fill: #4575b4; fill-opacity: 0.7; stroke: #4575b4; stroke-opacity: 0.7; stroke-width: 0.3\" />\n",
       "     <use xlink:href=\"#m2e252839c7\" x=\"76.226756\" y=\"15.645204\" style=\"fill: #4575b4; fill-opacity: 0.7; stroke: #4575b4; stroke-opacity: 0.7; stroke-width: 0.3\" />\n",
       "     <use xlink:href=\"#m2e252839c7\" x=\"76.025869\" y=\"6.511223\" style=\"fill: #4575b4; fill-opacity: 0.7; stroke: #4575b4; stroke-opacity: 0.7; stroke-width: 0.3\" />\n",
       "     <use xlink:href=\"#m2e252839c7\" x=\"80.090406\" y=\"28.693748\" style=\"fill: #4575b4; fill-opacity: 0.7; stroke: #4575b4; stroke-opacity: 0.7; stroke-width: 0.3\" />\n",
       "     <use xlink:href=\"#m2e252839c7\" x=\"76.090026\" y=\"36.522874\" style=\"fill: #4575b4; fill-opacity: 0.7; stroke: #4575b4; stroke-opacity: 0.7; stroke-width: 0.3\" />\n",
       "     <use xlink:href=\"#m2e252839c7\" x=\"79.4721\" y=\"43.047146\" style=\"fill: #4575b4; fill-opacity: 0.7; stroke: #4575b4; stroke-opacity: 0.7; stroke-width: 0.3\" />\n",
       "     <use xlink:href=\"#m2e252839c7\" x=\"75.870557\" y=\"29.998602\" style=\"fill: #4575b4; fill-opacity: 0.7; stroke: #4575b4; stroke-opacity: 0.7; stroke-width: 0.3\" />\n",
       "     <use xlink:href=\"#m2e252839c7\" x=\"82.139232\" y=\"44.352\" style=\"fill: #4575b4; fill-opacity: 0.7; stroke: #4575b4; stroke-opacity: 0.7; stroke-width: 0.3\" />\n",
       "     <use xlink:href=\"#m2e252839c7\" x=\"76.710846\" y=\"14.34035\" style=\"fill: #4575b4; fill-opacity: 0.7; stroke: #4575b4; stroke-opacity: 0.7; stroke-width: 0.3\" />\n",
       "     <use xlink:href=\"#m2e252839c7\" x=\"78.166201\" y=\"31.303456\" style=\"fill: #4575b4; fill-opacity: 0.7; stroke: #4575b4; stroke-opacity: 0.7; stroke-width: 0.3\" />\n",
       "     <use xlink:href=\"#m2e252839c7\" x=\"79.466074\" y=\"44.352\" style=\"fill: #4575b4; fill-opacity: 0.7; stroke: #4575b4; stroke-opacity: 0.7; stroke-width: 0.3\" />\n",
       "     <use xlink:href=\"#m2e252839c7\" x=\"75.380686\" y=\"26.084039\" style=\"fill: #4575b4; fill-opacity: 0.7; stroke: #4575b4; stroke-opacity: 0.7; stroke-width: 0.3\" />\n",
       "     <use xlink:href=\"#m2e252839c7\" x=\"67.493616\" y=\"44.352\" style=\"fill: #4575b4; fill-opacity: 0.7; stroke: #4575b4; stroke-opacity: 0.7; stroke-width: 0.3\" />\n",
       "     <use xlink:href=\"#m2e252839c7\" x=\"73.909847\" y=\"41.742291\" style=\"fill: #4575b4; fill-opacity: 0.7; stroke: #4575b4; stroke-opacity: 0.7; stroke-width: 0.3\" />\n",
       "     <use xlink:href=\"#m2e252839c7\" x=\"76.611772\" y=\"33.913165\" style=\"fill: #4575b4; fill-opacity: 0.7; stroke: #4575b4; stroke-opacity: 0.7; stroke-width: 0.3\" />\n",
       "     <use xlink:href=\"#m2e252839c7\" x=\"79.922079\" y=\"32.608311\" style=\"fill: #4575b4; fill-opacity: 0.7; stroke: #4575b4; stroke-opacity: 0.7; stroke-width: 0.3\" />\n",
       "     <use xlink:href=\"#m2e252839c7\" x=\"75.738893\" y=\"37.827728\" style=\"fill: #4575b4; fill-opacity: 0.7; stroke: #4575b4; stroke-opacity: 0.7; stroke-width: 0.3\" />\n",
       "     <use xlink:href=\"#m2e252839c7\" x=\"72.804646\" y=\"44.352\" style=\"fill: #4575b4; fill-opacity: 0.7; stroke: #4575b4; stroke-opacity: 0.7; stroke-width: 0.3\" />\n",
       "     <use xlink:href=\"#m2e252839c7\" x=\"81.237629\" y=\"44.352\" style=\"fill: #4575b4; fill-opacity: 0.7; stroke: #4575b4; stroke-opacity: 0.7; stroke-width: 0.3\" />\n",
       "     <use xlink:href=\"#m2e252839c7\" x=\"76.86157\" y=\"44.352\" style=\"fill: #4575b4; fill-opacity: 0.7; stroke: #4575b4; stroke-opacity: 0.7; stroke-width: 0.3\" />\n",
       "     <use xlink:href=\"#m2e252839c7\" x=\"73.989902\" y=\"29.998602\" style=\"fill: #4575b4; fill-opacity: 0.7; stroke: #4575b4; stroke-opacity: 0.7; stroke-width: 0.3\" />\n",
       "     <use xlink:href=\"#m2e252839c7\" x=\"80.475952\" y=\"16.950058\" style=\"fill: #4575b4; fill-opacity: 0.7; stroke: #4575b4; stroke-opacity: 0.7; stroke-width: 0.3\" />\n",
       "     <use xlink:href=\"#m2e252839c7\" x=\"70.465352\" y=\"24.779184\" style=\"fill: #4575b4; fill-opacity: 0.7; stroke: #4575b4; stroke-opacity: 0.7; stroke-width: 0.3\" />\n",
       "     <use xlink:href=\"#m2e252839c7\" x=\"77.585147\" y=\"26.084039\" style=\"fill: #4575b4; fill-opacity: 0.7; stroke: #4575b4; stroke-opacity: 0.7; stroke-width: 0.3\" />\n",
       "     <use xlink:href=\"#m2e252839c7\" x=\"75.098231\" y=\"44.352\" style=\"fill: #4575b4; fill-opacity: 0.7; stroke: #4575b4; stroke-opacity: 0.7; stroke-width: 0.3\" />\n",
       "     <use xlink:href=\"#m2e252839c7\" x=\"79.652366\" y=\"36.522874\" style=\"fill: #4575b4; fill-opacity: 0.7; stroke: #4575b4; stroke-opacity: 0.7; stroke-width: 0.3\" />\n",
       "     <use xlink:href=\"#m2e252839c7\" x=\"78.724155\" y=\"27.388893\" style=\"fill: #4575b4; fill-opacity: 0.7; stroke: #4575b4; stroke-opacity: 0.7; stroke-width: 0.3\" />\n",
       "     <use xlink:href=\"#m2e252839c7\" x=\"78.651578\" y=\"9.120932\" style=\"fill: #4575b4; fill-opacity: 0.7; stroke: #4575b4; stroke-opacity: 0.7; stroke-width: 0.3\" />\n",
       "     <use xlink:href=\"#m2e252839c7\" x=\"74.658743\" y=\"31.303456\" style=\"fill: #4575b4; fill-opacity: 0.7; stroke: #4575b4; stroke-opacity: 0.7; stroke-width: 0.3\" />\n",
       "     <use xlink:href=\"#m2e252839c7\" x=\"79.381845\" y=\"39.132583\" style=\"fill: #4575b4; fill-opacity: 0.7; stroke: #4575b4; stroke-opacity: 0.7; stroke-width: 0.3\" />\n",
       "     <use xlink:href=\"#m2e252839c7\" x=\"78.319674\" y=\"39.132583\" style=\"fill: #4575b4; fill-opacity: 0.7; stroke: #4575b4; stroke-opacity: 0.7; stroke-width: 0.3\" />\n",
       "     <use xlink:href=\"#m2e252839c7\" x=\"78.811711\" y=\"44.352\" style=\"fill: #4575b4; fill-opacity: 0.7; stroke: #4575b4; stroke-opacity: 0.7; stroke-width: 0.3\" />\n",
       "     <use xlink:href=\"#m2e252839c7\" x=\"75.03218\" y=\"5.206369\" style=\"fill: #4575b4; fill-opacity: 0.7; stroke: #4575b4; stroke-opacity: 0.7; stroke-width: 0.3\" />\n",
       "     <use xlink:href=\"#m2e252839c7\" x=\"75.634477\" y=\"35.218019\" style=\"fill: #4575b4; fill-opacity: 0.7; stroke: #4575b4; stroke-opacity: 0.7; stroke-width: 0.3\" />\n",
       "     <use xlink:href=\"#m2e252839c7\" x=\"83.901821\" y=\"41.742291\" style=\"fill: #4575b4; fill-opacity: 0.7; stroke: #4575b4; stroke-opacity: 0.7; stroke-width: 0.3\" />\n",
       "     <use xlink:href=\"#m2e252839c7\" x=\"78.671487\" y=\"36.522874\" style=\"fill: #4575b4; fill-opacity: 0.7; stroke: #4575b4; stroke-opacity: 0.7; stroke-width: 0.3\" />\n",
       "     <use xlink:href=\"#m2e252839c7\" x=\"71.8831\" y=\"36.522874\" style=\"fill: #4575b4; fill-opacity: 0.7; stroke: #4575b4; stroke-opacity: 0.7; stroke-width: 0.3\" />\n",
       "     <use xlink:href=\"#m2e252839c7\" x=\"83.090964\" y=\"44.352\" style=\"fill: #4575b4; fill-opacity: 0.7; stroke: #4575b4; stroke-opacity: 0.7; stroke-width: 0.3\" />\n",
       "     <use xlink:href=\"#m2e252839c7\" x=\"77.961004\" y=\"41.742291\" style=\"fill: #4575b4; fill-opacity: 0.7; stroke: #4575b4; stroke-opacity: 0.7; stroke-width: 0.3\" />\n",
       "     <use xlink:href=\"#m2e252839c7\" x=\"79.261398\" y=\"37.827728\" style=\"fill: #4575b4; fill-opacity: 0.7; stroke: #4575b4; stroke-opacity: 0.7; stroke-width: 0.3\" />\n",
       "     <use xlink:href=\"#m2e252839c7\" x=\"76.777821\" y=\"37.827728\" style=\"fill: #4575b4; fill-opacity: 0.7; stroke: #4575b4; stroke-opacity: 0.7; stroke-width: 0.3\" />\n",
       "     <use xlink:href=\"#m2e252839c7\" x=\"83.714683\" y=\"41.742291\" style=\"fill: #4575b4; fill-opacity: 0.7; stroke: #4575b4; stroke-opacity: 0.7; stroke-width: 0.3\" />\n",
       "     <use xlink:href=\"#m2e252839c7\" x=\"73.445117\" y=\"44.352\" style=\"fill: #4575b4; fill-opacity: 0.7; stroke: #4575b4; stroke-opacity: 0.7; stroke-width: 0.3\" />\n",
       "     <use xlink:href=\"#m2e252839c7\" x=\"73.907908\" y=\"22.169476\" style=\"fill: #4575b4; fill-opacity: 0.7; stroke: #4575b4; stroke-opacity: 0.7; stroke-width: 0.3\" />\n",
       "     <use xlink:href=\"#m2e252839c7\" x=\"78.507348\" y=\"23.47433\" style=\"fill: #4575b4; fill-opacity: 0.7; stroke: #4575b4; stroke-opacity: 0.7; stroke-width: 0.3\" />\n",
       "     <use xlink:href=\"#m2e252839c7\" x=\"75.020258\" y=\"5.206369\" style=\"fill: #4575b4; fill-opacity: 0.7; stroke: #4575b4; stroke-opacity: 0.7; stroke-width: 0.3\" />\n",
       "     <use xlink:href=\"#m2e252839c7\" x=\"79.545561\" y=\"40.437437\" style=\"fill: #4575b4; fill-opacity: 0.7; stroke: #4575b4; stroke-opacity: 0.7; stroke-width: 0.3\" />\n",
       "     <use xlink:href=\"#m2e252839c7\" x=\"76.874194\" y=\"6.511223\" style=\"fill: #4575b4; fill-opacity: 0.7; stroke: #4575b4; stroke-opacity: 0.7; stroke-width: 0.3\" />\n",
       "     <use xlink:href=\"#m2e252839c7\" x=\"74.334012\" y=\"35.218019\" style=\"fill: #4575b4; fill-opacity: 0.7; stroke: #4575b4; stroke-opacity: 0.7; stroke-width: 0.3\" />\n",
       "     <use xlink:href=\"#m2e252839c7\" x=\"79.40387\" y=\"39.132583\" style=\"fill: #4575b4; fill-opacity: 0.7; stroke: #4575b4; stroke-opacity: 0.7; stroke-width: 0.3\" />\n",
       "     <use xlink:href=\"#m2e252839c7\" x=\"77.165291\" y=\"40.437437\" style=\"fill: #4575b4; fill-opacity: 0.7; stroke: #4575b4; stroke-opacity: 0.7; stroke-width: 0.3\" />\n",
       "     <use xlink:href=\"#m2e252839c7\" x=\"84.77353\" y=\"41.742291\" style=\"fill: #4575b4; fill-opacity: 0.7; stroke: #4575b4; stroke-opacity: 0.7; stroke-width: 0.3\" />\n",
       "     <use xlink:href=\"#m2e252839c7\" x=\"79.19902\" y=\"39.132583\" style=\"fill: #4575b4; fill-opacity: 0.7; stroke: #4575b4; stroke-opacity: 0.7; stroke-width: 0.3\" />\n",
       "     <use xlink:href=\"#m2e252839c7\" x=\"84.890909\" y=\"40.437437\" style=\"fill: #4575b4; fill-opacity: 0.7; stroke: #4575b4; stroke-opacity: 0.7; stroke-width: 0.3\" />\n",
       "     <use xlink:href=\"#m2e252839c7\" x=\"74.553854\" y=\"14.34035\" style=\"fill: #4575b4; fill-opacity: 0.7; stroke: #4575b4; stroke-opacity: 0.7; stroke-width: 0.3\" />\n",
       "     <use xlink:href=\"#m2e252839c7\" x=\"75.825442\" y=\"36.522874\" style=\"fill: #4575b4; fill-opacity: 0.7; stroke: #4575b4; stroke-opacity: 0.7; stroke-width: 0.3\" />\n",
       "     <use xlink:href=\"#m2e252839c7\" x=\"74.27158\" y=\"36.522874\" style=\"fill: #4575b4; fill-opacity: 0.7; stroke: #4575b4; stroke-opacity: 0.7; stroke-width: 0.3\" />\n",
       "     <use xlink:href=\"#m2e252839c7\" x=\"73.968978\" y=\"3.901515\" style=\"fill: #4575b4; fill-opacity: 0.7; stroke: #4575b4; stroke-opacity: 0.7; stroke-width: 0.3\" />\n",
       "     <use xlink:href=\"#m2e252839c7\" x=\"74.08493\" y=\"33.913165\" style=\"fill: #4575b4; fill-opacity: 0.7; stroke: #4575b4; stroke-opacity: 0.7; stroke-width: 0.3\" />\n",
       "     <use xlink:href=\"#m2e252839c7\" x=\"79.85439\" y=\"41.742291\" style=\"fill: #4575b4; fill-opacity: 0.7; stroke: #4575b4; stroke-opacity: 0.7; stroke-width: 0.3\" />\n",
       "     <use xlink:href=\"#m2e252839c7\" x=\"79.350834\" y=\"43.047146\" style=\"fill: #4575b4; fill-opacity: 0.7; stroke: #4575b4; stroke-opacity: 0.7; stroke-width: 0.3\" />\n",
       "     <use xlink:href=\"#m2e252839c7\" x=\"79.353884\" y=\"36.522874\" style=\"fill: #4575b4; fill-opacity: 0.7; stroke: #4575b4; stroke-opacity: 0.7; stroke-width: 0.3\" />\n",
       "     <use xlink:href=\"#m2e252839c7\" x=\"76.649511\" y=\"39.132583\" style=\"fill: #4575b4; fill-opacity: 0.7; stroke: #4575b4; stroke-opacity: 0.7; stroke-width: 0.3\" />\n",
       "     <use xlink:href=\"#m2e252839c7\" x=\"75.756244\" y=\"41.742291\" style=\"fill: #4575b4; fill-opacity: 0.7; stroke: #4575b4; stroke-opacity: 0.7; stroke-width: 0.3\" />\n",
       "     <use xlink:href=\"#m2e252839c7\" x=\"77.307959\" y=\"23.47433\" style=\"fill: #4575b4; fill-opacity: 0.7; stroke: #4575b4; stroke-opacity: 0.7; stroke-width: 0.3\" />\n",
       "     <use xlink:href=\"#m2e252839c7\" x=\"75.818964\" y=\"39.132583\" style=\"fill: #4575b4; fill-opacity: 0.7; stroke: #4575b4; stroke-opacity: 0.7; stroke-width: 0.3\" />\n",
       "     <use xlink:href=\"#m2e252839c7\" x=\"80.775948\" y=\"13.035495\" style=\"fill: #4575b4; fill-opacity: 0.7; stroke: #4575b4; stroke-opacity: 0.7; stroke-width: 0.3\" />\n",
       "     <use xlink:href=\"#m2e252839c7\" x=\"83.014537\" y=\"44.352\" style=\"fill: #4575b4; fill-opacity: 0.7; stroke: #4575b4; stroke-opacity: 0.7; stroke-width: 0.3\" />\n",
       "     <use xlink:href=\"#m2e252839c7\" x=\"86.357494\" y=\"13.035495\" style=\"fill: #4575b4; fill-opacity: 0.7; stroke: #4575b4; stroke-opacity: 0.7; stroke-width: 0.3\" />\n",
       "     <use xlink:href=\"#m2e252839c7\" x=\"78.675328\" y=\"6.511223\" style=\"fill: #4575b4; fill-opacity: 0.7; stroke: #4575b4; stroke-opacity: 0.7; stroke-width: 0.3\" />\n",
       "     <use xlink:href=\"#m2e252839c7\" x=\"82.833709\" y=\"10.425786\" style=\"fill: #4575b4; fill-opacity: 0.7; stroke: #4575b4; stroke-opacity: 0.7; stroke-width: 0.3\" />\n",
       "     <use xlink:href=\"#m2e252839c7\" x=\"74.105323\" y=\"43.047146\" style=\"fill: #4575b4; fill-opacity: 0.7; stroke: #4575b4; stroke-opacity: 0.7; stroke-width: 0.3\" />\n",
       "     <use xlink:href=\"#m2e252839c7\" x=\"80.075132\" y=\"44.352\" style=\"fill: #4575b4; fill-opacity: 0.7; stroke: #4575b4; stroke-opacity: 0.7; stroke-width: 0.3\" />\n",
       "     <use xlink:href=\"#m2e252839c7\" x=\"78.378415\" y=\"20.864621\" style=\"fill: #4575b4; fill-opacity: 0.7; stroke: #4575b4; stroke-opacity: 0.7; stroke-width: 0.3\" />\n",
       "     <use xlink:href=\"#m2e252839c7\" x=\"87.246405\" y=\"41.742291\" style=\"fill: #4575b4; fill-opacity: 0.7; stroke: #4575b4; stroke-opacity: 0.7; stroke-width: 0.3\" />\n",
       "     <use xlink:href=\"#m2e252839c7\" x=\"76.370794\" y=\"18.254913\" style=\"fill: #4575b4; fill-opacity: 0.7; stroke: #4575b4; stroke-opacity: 0.7; stroke-width: 0.3\" />\n",
       "     <use xlink:href=\"#m2e252839c7\" x=\"72.00958\" y=\"27.388893\" style=\"fill: #4575b4; fill-opacity: 0.7; stroke: #4575b4; stroke-opacity: 0.7; stroke-width: 0.3\" />\n",
       "     <use xlink:href=\"#m2e252839c7\" x=\"81.586716\" y=\"41.742291\" style=\"fill: #4575b4; fill-opacity: 0.7; stroke: #4575b4; stroke-opacity: 0.7; stroke-width: 0.3\" />\n",
       "     <use xlink:href=\"#m2e252839c7\" x=\"76.570143\" y=\"43.047146\" style=\"fill: #4575b4; fill-opacity: 0.7; stroke: #4575b4; stroke-opacity: 0.7; stroke-width: 0.3\" />\n",
       "     <use xlink:href=\"#m2e252839c7\" x=\"77.751928\" y=\"41.742291\" style=\"fill: #4575b4; fill-opacity: 0.7; stroke: #4575b4; stroke-opacity: 0.7; stroke-width: 0.3\" />\n",
       "     <use xlink:href=\"#m2e252839c7\" x=\"80.850781\" y=\"44.352\" style=\"fill: #4575b4; fill-opacity: 0.7; stroke: #4575b4; stroke-opacity: 0.7; stroke-width: 0.3\" />\n",
       "     <use xlink:href=\"#m2e252839c7\" x=\"82.026247\" y=\"36.522874\" style=\"fill: #4575b4; fill-opacity: 0.7; stroke: #4575b4; stroke-opacity: 0.7; stroke-width: 0.3\" />\n",
       "     <use xlink:href=\"#m2e252839c7\" x=\"81.906404\" y=\"40.437437\" style=\"fill: #4575b4; fill-opacity: 0.7; stroke: #4575b4; stroke-opacity: 0.7; stroke-width: 0.3\" />\n",
       "     <use xlink:href=\"#m2e252839c7\" x=\"76.033114\" y=\"20.864621\" style=\"fill: #4575b4; fill-opacity: 0.7; stroke: #4575b4; stroke-opacity: 0.7; stroke-width: 0.3\" />\n",
       "     <use xlink:href=\"#m2e252839c7\" x=\"74.107727\" y=\"44.352\" style=\"fill: #4575b4; fill-opacity: 0.7; stroke: #4575b4; stroke-opacity: 0.7; stroke-width: 0.3\" />\n",
       "     <use xlink:href=\"#m2e252839c7\" x=\"79.695876\" y=\"40.437437\" style=\"fill: #4575b4; fill-opacity: 0.7; stroke: #4575b4; stroke-opacity: 0.7; stroke-width: 0.3\" />\n",
       "     <use xlink:href=\"#m2e252839c7\" x=\"83.316233\" y=\"27.388893\" style=\"fill: #4575b4; fill-opacity: 0.7; stroke: #4575b4; stroke-opacity: 0.7; stroke-width: 0.3\" />\n",
       "     <use xlink:href=\"#m2e252839c7\" x=\"79.189151\" y=\"41.742291\" style=\"fill: #4575b4; fill-opacity: 0.7; stroke: #4575b4; stroke-opacity: 0.7; stroke-width: 0.3\" />\n",
       "     <use xlink:href=\"#m2e252839c7\" x=\"77.91874\" y=\"44.352\" style=\"fill: #4575b4; fill-opacity: 0.7; stroke: #4575b4; stroke-opacity: 0.7; stroke-width: 0.3\" />\n",
       "     <use xlink:href=\"#m2e252839c7\" x=\"71.645903\" y=\"33.913165\" style=\"fill: #4575b4; fill-opacity: 0.7; stroke: #4575b4; stroke-opacity: 0.7; stroke-width: 0.3\" />\n",
       "     <use xlink:href=\"#m2e252839c7\" x=\"71.747851\" y=\"19.559767\" style=\"fill: #4575b4; fill-opacity: 0.7; stroke: #4575b4; stroke-opacity: 0.7; stroke-width: 0.3\" />\n",
       "     <use xlink:href=\"#m2e252839c7\" x=\"73.933487\" y=\"41.742291\" style=\"fill: #4575b4; fill-opacity: 0.7; stroke: #4575b4; stroke-opacity: 0.7; stroke-width: 0.3\" />\n",
       "     <use xlink:href=\"#m2e252839c7\" x=\"75.818487\" y=\"41.742291\" style=\"fill: #4575b4; fill-opacity: 0.7; stroke: #4575b4; stroke-opacity: 0.7; stroke-width: 0.3\" />\n",
       "     <use xlink:href=\"#m2e252839c7\" x=\"71.360075\" y=\"44.352\" style=\"fill: #4575b4; fill-opacity: 0.7; stroke: #4575b4; stroke-opacity: 0.7; stroke-width: 0.3\" />\n",
       "     <use xlink:href=\"#m2e252839c7\" x=\"76.350088\" y=\"27.388893\" style=\"fill: #4575b4; fill-opacity: 0.7; stroke: #4575b4; stroke-opacity: 0.7; stroke-width: 0.3\" />\n",
       "     <use xlink:href=\"#m2e252839c7\" x=\"77.800232\" y=\"40.437437\" style=\"fill: #4575b4; fill-opacity: 0.7; stroke: #4575b4; stroke-opacity: 0.7; stroke-width: 0.3\" />\n",
       "     <use xlink:href=\"#m2e252839c7\" x=\"78.18351\" y=\"41.742291\" style=\"fill: #4575b4; fill-opacity: 0.7; stroke: #4575b4; stroke-opacity: 0.7; stroke-width: 0.3\" />\n",
       "     <use xlink:href=\"#m2e252839c7\" x=\"75.648218\" y=\"44.352\" style=\"fill: #4575b4; fill-opacity: 0.7; stroke: #4575b4; stroke-opacity: 0.7; stroke-width: 0.3\" />\n",
       "     <use xlink:href=\"#m2e252839c7\" x=\"80.159669\" y=\"33.913165\" style=\"fill: #4575b4; fill-opacity: 0.7; stroke: #4575b4; stroke-opacity: 0.7; stroke-width: 0.3\" />\n",
       "     <use xlink:href=\"#m2e252839c7\" x=\"77.209538\" y=\"44.352\" style=\"fill: #4575b4; fill-opacity: 0.7; stroke: #4575b4; stroke-opacity: 0.7; stroke-width: 0.3\" />\n",
       "     <use xlink:href=\"#m2e252839c7\" x=\"82.375202\" y=\"44.352\" style=\"fill: #4575b4; fill-opacity: 0.7; stroke: #4575b4; stroke-opacity: 0.7; stroke-width: 0.3\" />\n",
       "     <use xlink:href=\"#m2e252839c7\" x=\"76.846926\" y=\"27.388893\" style=\"fill: #4575b4; fill-opacity: 0.7; stroke: #4575b4; stroke-opacity: 0.7; stroke-width: 0.3\" />\n",
       "     <use xlink:href=\"#m2e252839c7\" x=\"78.882704\" y=\"29.998602\" style=\"fill: #4575b4; fill-opacity: 0.7; stroke: #4575b4; stroke-opacity: 0.7; stroke-width: 0.3\" />\n",
       "     <use xlink:href=\"#m2e252839c7\" x=\"74.130926\" y=\"39.132583\" style=\"fill: #4575b4; fill-opacity: 0.7; stroke: #4575b4; stroke-opacity: 0.7; stroke-width: 0.3\" />\n",
       "     <use xlink:href=\"#m2e252839c7\" x=\"80.36259\" y=\"41.742291\" style=\"fill: #4575b4; fill-opacity: 0.7; stroke: #4575b4; stroke-opacity: 0.7; stroke-width: 0.3\" />\n",
       "     <use xlink:href=\"#m2e252839c7\" x=\"77.599624\" y=\"39.132583\" style=\"fill: #4575b4; fill-opacity: 0.7; stroke: #4575b4; stroke-opacity: 0.7; stroke-width: 0.3\" />\n",
       "     <use xlink:href=\"#m2e252839c7\" x=\"76.861338\" y=\"35.218019\" style=\"fill: #4575b4; fill-opacity: 0.7; stroke: #4575b4; stroke-opacity: 0.7; stroke-width: 0.3\" />\n",
       "     <use xlink:href=\"#m2e252839c7\" x=\"75.88243\" y=\"44.352\" style=\"fill: #4575b4; fill-opacity: 0.7; stroke: #4575b4; stroke-opacity: 0.7; stroke-width: 0.3\" />\n",
       "     <use xlink:href=\"#m2e252839c7\" x=\"78.210745\" y=\"43.047146\" style=\"fill: #4575b4; fill-opacity: 0.7; stroke: #4575b4; stroke-opacity: 0.7; stroke-width: 0.3\" />\n",
       "     <use xlink:href=\"#m2e252839c7\" x=\"78.668888\" y=\"43.047146\" style=\"fill: #4575b4; fill-opacity: 0.7; stroke: #4575b4; stroke-opacity: 0.7; stroke-width: 0.3\" />\n",
       "     <use xlink:href=\"#m2e252839c7\" x=\"83.444327\" y=\"40.437437\" style=\"fill: #4575b4; fill-opacity: 0.7; stroke: #4575b4; stroke-opacity: 0.7; stroke-width: 0.3\" />\n",
       "     <use xlink:href=\"#m2e252839c7\" x=\"75.275494\" y=\"36.522874\" style=\"fill: #4575b4; fill-opacity: 0.7; stroke: #4575b4; stroke-opacity: 0.7; stroke-width: 0.3\" />\n",
       "     <use xlink:href=\"#m2e252839c7\" x=\"77.680659\" y=\"43.047146\" style=\"fill: #4575b4; fill-opacity: 0.7; stroke: #4575b4; stroke-opacity: 0.7; stroke-width: 0.3\" />\n",
       "     <use xlink:href=\"#m2e252839c7\" x=\"71.068722\" y=\"24.779184\" style=\"fill: #4575b4; fill-opacity: 0.7; stroke: #4575b4; stroke-opacity: 0.7; stroke-width: 0.3\" />\n",
       "     <use xlink:href=\"#m2e252839c7\" x=\"74.74657\" y=\"31.303456\" style=\"fill: #4575b4; fill-opacity: 0.7; stroke: #4575b4; stroke-opacity: 0.7; stroke-width: 0.3\" />\n",
       "     <use xlink:href=\"#m2e252839c7\" x=\"79.124303\" y=\"23.47433\" style=\"fill: #4575b4; fill-opacity: 0.7; stroke: #4575b4; stroke-opacity: 0.7; stroke-width: 0.3\" />\n",
       "     <use xlink:href=\"#m2e252839c7\" x=\"76.994175\" y=\"44.352\" style=\"fill: #4575b4; fill-opacity: 0.7; stroke: #4575b4; stroke-opacity: 0.7; stroke-width: 0.3\" />\n",
       "     <use xlink:href=\"#m2e252839c7\" x=\"77.409156\" y=\"39.132583\" style=\"fill: #4575b4; fill-opacity: 0.7; stroke: #4575b4; stroke-opacity: 0.7; stroke-width: 0.3\" />\n",
       "     <use xlink:href=\"#m2e252839c7\" x=\"77.674687\" y=\"28.693748\" style=\"fill: #4575b4; fill-opacity: 0.7; stroke: #4575b4; stroke-opacity: 0.7; stroke-width: 0.3\" />\n",
       "     <use xlink:href=\"#m2e252839c7\" x=\"72.884599\" y=\"28.693748\" style=\"fill: #4575b4; fill-opacity: 0.7; stroke: #4575b4; stroke-opacity: 0.7; stroke-width: 0.3\" />\n",
       "     <use xlink:href=\"#m2e252839c7\" x=\"76.45767\" y=\"39.132583\" style=\"fill: #4575b4; fill-opacity: 0.7; stroke: #4575b4; stroke-opacity: 0.7; stroke-width: 0.3\" />\n",
       "     <use xlink:href=\"#m2e252839c7\" x=\"79.412961\" y=\"33.913165\" style=\"fill: #4575b4; fill-opacity: 0.7; stroke: #4575b4; stroke-opacity: 0.7; stroke-width: 0.3\" />\n",
       "     <use xlink:href=\"#m2e252839c7\" x=\"84.681418\" y=\"39.132583\" style=\"fill: #4575b4; fill-opacity: 0.7; stroke: #4575b4; stroke-opacity: 0.7; stroke-width: 0.3\" />\n",
       "     <use xlink:href=\"#m2e252839c7\" x=\"75.119283\" y=\"29.998602\" style=\"fill: #4575b4; fill-opacity: 0.7; stroke: #4575b4; stroke-opacity: 0.7; stroke-width: 0.3\" />\n",
       "     <use xlink:href=\"#m2e252839c7\" x=\"73.169606\" y=\"35.218019\" style=\"fill: #4575b4; fill-opacity: 0.7; stroke: #4575b4; stroke-opacity: 0.7; stroke-width: 0.3\" />\n",
       "     <use xlink:href=\"#m2e252839c7\" x=\"80.002428\" y=\"43.047146\" style=\"fill: #4575b4; fill-opacity: 0.7; stroke: #4575b4; stroke-opacity: 0.7; stroke-width: 0.3\" />\n",
       "     <use xlink:href=\"#m2e252839c7\" x=\"77.732024\" y=\"28.693748\" style=\"fill: #4575b4; fill-opacity: 0.7; stroke: #4575b4; stroke-opacity: 0.7; stroke-width: 0.3\" />\n",
       "     <use xlink:href=\"#m2e252839c7\" x=\"79.949241\" y=\"39.132583\" style=\"fill: #4575b4; fill-opacity: 0.7; stroke: #4575b4; stroke-opacity: 0.7; stroke-width: 0.3\" />\n",
       "     <use xlink:href=\"#m2e252839c7\" x=\"77.005671\" y=\"43.047146\" style=\"fill: #4575b4; fill-opacity: 0.7; stroke: #4575b4; stroke-opacity: 0.7; stroke-width: 0.3\" />\n",
       "     <use xlink:href=\"#m2e252839c7\" x=\"81.825938\" y=\"37.827728\" style=\"fill: #4575b4; fill-opacity: 0.7; stroke: #4575b4; stroke-opacity: 0.7; stroke-width: 0.3\" />\n",
       "     <use xlink:href=\"#m2e252839c7\" x=\"82.361455\" y=\"22.169476\" style=\"fill: #4575b4; fill-opacity: 0.7; stroke: #4575b4; stroke-opacity: 0.7; stroke-width: 0.3\" />\n",
       "     <use xlink:href=\"#m2e252839c7\" x=\"84.142731\" y=\"37.827728\" style=\"fill: #4575b4; fill-opacity: 0.7; stroke: #4575b4; stroke-opacity: 0.7; stroke-width: 0.3\" />\n",
       "     <use xlink:href=\"#m2e252839c7\" x=\"72.404353\" y=\"37.827728\" style=\"fill: #4575b4; fill-opacity: 0.7; stroke: #4575b4; stroke-opacity: 0.7; stroke-width: 0.3\" />\n",
       "     <use xlink:href=\"#m2e252839c7\" x=\"78.54442\" y=\"41.742291\" style=\"fill: #4575b4; fill-opacity: 0.7; stroke: #4575b4; stroke-opacity: 0.7; stroke-width: 0.3\" />\n",
       "     <use xlink:href=\"#m2e252839c7\" x=\"73.423378\" y=\"39.132583\" style=\"fill: #4575b4; fill-opacity: 0.7; stroke: #4575b4; stroke-opacity: 0.7; stroke-width: 0.3\" />\n",
       "     <use xlink:href=\"#m2e252839c7\" x=\"76.489458\" y=\"28.693748\" style=\"fill: #4575b4; fill-opacity: 0.7; stroke: #4575b4; stroke-opacity: 0.7; stroke-width: 0.3\" />\n",
       "    </g>\n",
       "   </g>\n",
       "   <g id=\"matplotlib.axis_1\" />\n",
       "   <g id=\"matplotlib.axis_2\">\n",
       "    <g id=\"ytick_1\">\n",
       "     <g id=\"line2d_1\">\n",
       "      <defs>\n",
       "       <path id=\"m2033bb86e5\" d=\"M 0 0  L -3.5 0  \" style=\"stroke: #000000; stroke-width: 0.3\" />\n",
       "      </defs>\n",
       "      <g>\n",
       "       <use xlink:href=\"#m2033bb86e5\" x=\"56.97\" y=\"44.352\" style=\"stroke: #000000; stroke-width: 0.3\" />\n",
       "      </g>\n",
       "     </g>\n",
       "     <g id=\"text_1\">\n",
       "      \n",
       "      <g style=\"fill: #444443\" transform=\"translate(44.88 47.391375) scale(0.08 -0.08)\">\n",
       "       <defs>\n",
       "        <path id=\"DejaVuSans-30\" d=\"M 2034 4250  Q 1547 4250 1301 3770  Q 1056 3291 1056 2328  Q 1056 1369 1301 889  Q 1547 409 2034 409  Q 2525 409 2770 889  Q 3016 1369 3016 2328  Q 3016 3291 2770 3770  Q 2525 4250 2034 4250  z M 2034 4750  Q 2819 4750 3233 4129  Q 3647 3509 3647 2328  Q 3647 1150 3233 529  Q 2819 -91 2034 -91  Q 1250 -91 836 529  Q 422 1150 422 2328  Q 422 3509 836 4129  Q 1250 4750 2034 4750  z \" transform=\"scale(0.015625)\" />\n",
       "       </defs>\n",
       "       <use xlink:href=\"#DejaVuSans-30\" />\n",
       "      </g>\n",
       "     </g>\n",
       "    </g>\n",
       "    <g id=\"ytick_2\">\n",
       "     <g id=\"line2d_2\">\n",
       "      <g>\n",
       "       <use xlink:href=\"#m2033bb86e5\" x=\"56.97\" y=\"18.254913\" style=\"stroke: #000000; stroke-width: 0.3\" />\n",
       "      </g>\n",
       "     </g>\n",
       "     <g id=\"text_2\">\n",
       "      \n",
       "      <g style=\"fill: #444443\" transform=\"translate(39.79 21.294288) scale(0.08 -0.08)\">\n",
       "       <defs>\n",
       "        <path id=\"DejaVuSans-32\" d=\"M 1228 531  L 3431 531  L 3431 0  L 469 0  L 469 531  Q 828 903 1448 1529  Q 2069 2156 2228 2338  Q 2531 2678 2651 2914  Q 2772 3150 2772 3378  Q 2772 3750 2511 3984  Q 2250 4219 1831 4219  Q 1534 4219 1204 4116  Q 875 4013 500 3803  L 500 4441  Q 881 4594 1212 4672  Q 1544 4750 1819 4750  Q 2544 4750 2975 4387  Q 3406 4025 3406 3419  Q 3406 3131 3298 2873  Q 3191 2616 2906 2266  Q 2828 2175 2409 1742  Q 1991 1309 1228 531  z \" transform=\"scale(0.015625)\" />\n",
       "       </defs>\n",
       "       <use xlink:href=\"#DejaVuSans-32\" />\n",
       "       <use xlink:href=\"#DejaVuSans-30\" x=\"63.623047\" />\n",
       "      </g>\n",
       "     </g>\n",
       "    </g>\n",
       "   </g>\n",
       "   <g id=\"line2d_3\">\n",
       "    <path d=\"M 56.97 34.116142  L 157.79 34.116142  \" clip-path=\"url(#p6d0c7f219d)\" style=\"fill: none; stroke-dasharray: 3.7,1.6; stroke-dashoffset: 0; stroke: #444443\" />\n",
       "   </g>\n",
       "   <g id=\"patch_3\">\n",
       "    <path d=\"M 56.97 44.352  L 56.97 -0  \" style=\"fill: none; stroke: #444443; stroke-width: 0.3; stroke-linejoin: miter; stroke-linecap: square\" />\n",
       "   </g>\n",
       "   <g id=\"text_3\">\n",
       "    \n",
       "    <g style=\"fill: #444443\" transform=\"translate(0 58.2595) scale(0.16 -0.16)\">\n",
       "     <defs>\n",
       "      <path id=\"DejaVuSans-73\" d=\"M 2834 3397  L 2834 2853  Q 2591 2978 2328 3040  Q 2066 3103 1784 3103  Q 1356 3103 1142 2972  Q 928 2841 928 2578  Q 928 2378 1081 2264  Q 1234 2150 1697 2047  L 1894 2003  Q 2506 1872 2764 1633  Q 3022 1394 3022 966  Q 3022 478 2636 193  Q 2250 -91 1575 -91  Q 1294 -91 989 -36  Q 684 19 347 128  L 347 722  Q 666 556 975 473  Q 1284 391 1588 391  Q 1994 391 2212 530  Q 2431 669 2431 922  Q 2431 1156 2273 1281  Q 2116 1406 1581 1522  L 1381 1569  Q 847 1681 609 1914  Q 372 2147 372 2553  Q 372 3047 722 3315  Q 1072 3584 1716 3584  Q 2034 3584 2315 3537  Q 2597 3491 2834 3397  z \" transform=\"scale(0.015625)\" />\n",
       "      <path id=\"DejaVuSans-61\" d=\"M 2194 1759  Q 1497 1759 1228 1600  Q 959 1441 959 1056  Q 959 750 1161 570  Q 1363 391 1709 391  Q 2188 391 2477 730  Q 2766 1069 2766 1631  L 2766 1759  L 2194 1759  z M 3341 1997  L 3341 0  L 2766 0  L 2766 531  Q 2569 213 2275 61  Q 1981 -91 1556 -91  Q 1019 -91 701 211  Q 384 513 384 1019  Q 384 1609 779 1909  Q 1175 2209 1959 2209  L 2766 2209  L 2766 2266  Q 2766 2663 2505 2880  Q 2244 3097 1772 3097  Q 1472 3097 1187 3025  Q 903 2953 641 2809  L 641 3341  Q 956 3463 1253 3523  Q 1550 3584 1831 3584  Q 2591 3584 2966 3190  Q 3341 2797 3341 1997  z \" transform=\"scale(0.015625)\" />\n",
       "      <path id=\"DejaVuSans-6c\" d=\"M 603 4863  L 1178 4863  L 1178 0  L 603 0  L 603 4863  z \" transform=\"scale(0.015625)\" />\n",
       "      <path id=\"DejaVuSans-65\" d=\"M 3597 1894  L 3597 1613  L 953 1613  Q 991 1019 1311 708  Q 1631 397 2203 397  Q 2534 397 2845 478  Q 3156 559 3463 722  L 3463 178  Q 3153 47 2828 -22  Q 2503 -91 2169 -91  Q 1331 -91 842 396  Q 353 884 353 1716  Q 353 2575 817 3079  Q 1281 3584 2069 3584  Q 2775 3584 3186 3129  Q 3597 2675 3597 1894  z M 3022 2063  Q 3016 2534 2758 2815  Q 2500 3097 2075 3097  Q 1594 3097 1305 2825  Q 1016 2553 972 2059  L 3022 2063  z \" transform=\"scale(0.015625)\" />\n",
       "      <path id=\"DejaVuSans-5f\" d=\"M 3263 -1063  L 3263 -1509  L -63 -1509  L -63 -1063  L 3263 -1063  z \" transform=\"scale(0.015625)\" />\n",
       "      <path id=\"DejaVuSans-64\" d=\"M 2906 2969  L 2906 4863  L 3481 4863  L 3481 0  L 2906 0  L 2906 525  Q 2725 213 2448 61  Q 2172 -91 1784 -91  Q 1150 -91 751 415  Q 353 922 353 1747  Q 353 2572 751 3078  Q 1150 3584 1784 3584  Q 2172 3584 2448 3432  Q 2725 3281 2906 2969  z M 947 1747  Q 947 1113 1208 752  Q 1469 391 1925 391  Q 2381 391 2643 752  Q 2906 1113 2906 1747  Q 2906 2381 2643 2742  Q 2381 3103 1925 3103  Q 1469 3103 1208 2742  Q 947 2381 947 1747  z \" transform=\"scale(0.015625)\" />\n",
       "      <path id=\"DejaVuSans-75\" d=\"M 544 1381  L 544 3500  L 1119 3500  L 1119 1403  Q 1119 906 1312 657  Q 1506 409 1894 409  Q 2359 409 2629 706  Q 2900 1003 2900 1516  L 2900 3500  L 3475 3500  L 3475 0  L 2900 0  L 2900 538  Q 2691 219 2414 64  Q 2138 -91 1772 -91  Q 1169 -91 856 284  Q 544 659 544 1381  z M 1991 3584  L 1991 3584  z \" transform=\"scale(0.015625)\" />\n",
       "      <path id=\"DejaVuSans-72\" d=\"M 2631 2963  Q 2534 3019 2420 3045  Q 2306 3072 2169 3072  Q 1681 3072 1420 2755  Q 1159 2438 1159 1844  L 1159 0  L 581 0  L 581 3500  L 1159 3500  L 1159 2956  Q 1341 3275 1631 3429  Q 1922 3584 2338 3584  Q 2397 3584 2469 3576  Q 2541 3569 2628 3553  L 2631 2963  z \" transform=\"scale(0.015625)\" />\n",
       "      <path id=\"DejaVuSans-74\" d=\"M 1172 4494  L 1172 3500  L 2356 3500  L 2356 3053  L 1172 3053  L 1172 1153  Q 1172 725 1289 603  Q 1406 481 1766 481  L 2356 481  L 2356 0  L 1766 0  Q 1100 0 847 248  Q 594 497 594 1153  L 594 3053  L 172 3053  L 172 3500  L 594 3500  L 594 4494  L 1172 4494  z \" transform=\"scale(0.015625)\" />\n",
       "      <path id=\"DejaVuSans-69\" d=\"M 603 3500  L 1178 3500  L 1178 0  L 603 0  L 603 3500  z M 603 4863  L 1178 4863  L 1178 4134  L 603 4134  L 603 4863  z \" transform=\"scale(0.015625)\" />\n",
       "      <path id=\"DejaVuSans-6f\" d=\"M 1959 3097  Q 1497 3097 1228 2736  Q 959 2375 959 1747  Q 959 1119 1226 758  Q 1494 397 1959 397  Q 2419 397 2687 759  Q 2956 1122 2956 1747  Q 2956 2369 2687 2733  Q 2419 3097 1959 3097  z M 1959 3584  Q 2709 3584 3137 3096  Q 3566 2609 3566 1747  Q 3566 888 3137 398  Q 2709 -91 1959 -91  Q 1206 -91 779 398  Q 353 888 353 1747  Q 353 2609 779 3096  Q 1206 3584 1959 3584  z \" transform=\"scale(0.015625)\" />\n",
       "      <path id=\"DejaVuSans-6e\" d=\"M 3513 2113  L 3513 0  L 2938 0  L 2938 2094  Q 2938 2591 2744 2837  Q 2550 3084 2163 3084  Q 1697 3084 1428 2787  Q 1159 2491 1159 1978  L 1159 0  L 581 0  L 581 3500  L 1159 3500  L 1159 2956  Q 1366 3272 1645 3428  Q 1925 3584 2291 3584  Q 2894 3584 3203 3211  Q 3513 2838 3513 2113  z \" transform=\"scale(0.015625)\" />\n",
       "      <path id=\"DejaVuSans-3d\" d=\"M 678 2906  L 4684 2906  L 4684 2381  L 678 2381  L 678 2906  z M 678 1631  L 4684 1631  L 4684 1100  L 678 1100  L 678 1631  z \" transform=\"scale(0.015625)\" />\n",
       "      <path id=\"DejaVuSans-37\" d=\"M 525 4666  L 3525 4666  L 3525 4397  L 1831 0  L 1172 0  L 2766 4134  L 525 4134  L 525 4666  z \" transform=\"scale(0.015625)\" />\n",
       "      <path id=\"DejaVuSans-2e\" d=\"M 684 794  L 1344 794  L 1344 0  L 684 0  L 684 794  z \" transform=\"scale(0.015625)\" />\n",
       "      <path id=\"DejaVuSans-38\" d=\"M 2034 2216  Q 1584 2216 1326 1975  Q 1069 1734 1069 1313  Q 1069 891 1326 650  Q 1584 409 2034 409  Q 2484 409 2743 651  Q 3003 894 3003 1313  Q 3003 1734 2745 1975  Q 2488 2216 2034 2216  z M 1403 2484  Q 997 2584 770 2862  Q 544 3141 544 3541  Q 544 4100 942 4425  Q 1341 4750 2034 4750  Q 2731 4750 3128 4425  Q 3525 4100 3525 3541  Q 3525 3141 3298 2862  Q 3072 2584 2669 2484  Q 3125 2378 3379 2068  Q 3634 1759 3634 1313  Q 3634 634 3220 271  Q 2806 -91 2034 -91  Q 1263 -91 848 271  Q 434 634 434 1313  Q 434 1759 690 2068  Q 947 2378 1403 2484  z M 1172 3481  Q 1172 3119 1398 2916  Q 1625 2713 2034 2713  Q 2441 2713 2670 2916  Q 2900 3119 2900 3481  Q 2900 3844 2670 4047  Q 2441 4250 2034 4250  Q 1625 4250 1398 4047  Q 1172 3844 1172 3481  z \" transform=\"scale(0.015625)\" />\n",
       "      <path id=\"DejaVuSans-34\" d=\"M 2419 4116  L 825 1625  L 2419 1625  L 2419 4116  z M 2253 4666  L 3047 4666  L 3047 1625  L 3713 1625  L 3713 1100  L 3047 1100  L 3047 0  L 2419 0  L 2419 1100  L 313 1100  L 313 1709  L 2253 4666  z \" transform=\"scale(0.015625)\" />\n",
       "     </defs>\n",
       "     <use xlink:href=\"#DejaVuSans-73\" />\n",
       "     <use xlink:href=\"#DejaVuSans-61\" x=\"52.099609\" />\n",
       "     <use xlink:href=\"#DejaVuSans-6c\" x=\"113.378906\" />\n",
       "     <use xlink:href=\"#DejaVuSans-65\" x=\"141.162109\" />\n",
       "     <use xlink:href=\"#DejaVuSans-5f\" x=\"202.685547\" />\n",
       "     <use xlink:href=\"#DejaVuSans-64\" x=\"252.685547\" />\n",
       "     <use xlink:href=\"#DejaVuSans-75\" x=\"316.162109\" />\n",
       "     <use xlink:href=\"#DejaVuSans-72\" x=\"379.541016\" />\n",
       "     <use xlink:href=\"#DejaVuSans-61\" x=\"420.654297\" />\n",
       "     <use xlink:href=\"#DejaVuSans-74\" x=\"481.933594\" />\n",
       "     <use xlink:href=\"#DejaVuSans-69\" x=\"521.142578\" />\n",
       "     <use xlink:href=\"#DejaVuSans-6f\" x=\"548.925781\" />\n",
       "     <use xlink:href=\"#DejaVuSans-6e\" x=\"610.107422\" />\n",
       "     <use xlink:href=\"#DejaVuSans-3d\" x=\"673.486328\" />\n",
       "     <use xlink:href=\"#DejaVuSans-37\" x=\"757.275391\" />\n",
       "     <use xlink:href=\"#DejaVuSans-2e\" x=\"820.898438\" />\n",
       "     <use xlink:href=\"#DejaVuSans-38\" x=\"852.685547\" />\n",
       "     <use xlink:href=\"#DejaVuSans-34\" x=\"916.308594\" />\n",
       "    </g>\n",
       "    \n",
       "    <g style=\"fill: #444443\" transform=\"translate(51.35125 76.621) scale(0.16 -0.16)\">\n",
       "     <defs>\n",
       "      <path id=\"DejaVuSans-35\" d=\"M 691 4666  L 3169 4666  L 3169 4134  L 1269 4134  L 1269 2991  Q 1406 3038 1543 3061  Q 1681 3084 1819 3084  Q 2600 3084 3056 2656  Q 3513 2228 3513 1497  Q 3513 744 3044 326  Q 2575 -91 1722 -91  Q 1428 -91 1123 -41  Q 819 9 494 109  L 494 744  Q 775 591 1075 516  Q 1375 441 1709 441  Q 2250 441 2565 725  Q 2881 1009 2881 1497  Q 2881 1984 2565 2268  Q 2250 2553 1709 2553  Q 1456 2553 1204 2497  Q 953 2441 691 2322  L 691 4666  z \" transform=\"scale(0.015625)\" />\n",
       "     </defs>\n",
       "     <use xlink:href=\"#DejaVuSans-6e\" />\n",
       "     <use xlink:href=\"#DejaVuSans-3d\" x=\"63.378906\" />\n",
       "     <use xlink:href=\"#DejaVuSans-32\" x=\"147.167969\" />\n",
       "     <use xlink:href=\"#DejaVuSans-32\" x=\"210.791016\" />\n",
       "     <use xlink:href=\"#DejaVuSans-35\" x=\"274.414062\" />\n",
       "    </g>\n",
       "   </g>\n",
       "  </g>\n",
       " </g>\n",
       " <defs>\n",
       "  <clipPath id=\"p6d0c7f219d\">\n",
       "   <rect x=\"56.97\" y=\"-0\" width=\"41.85\" height=\"44.352\" />\n",
       "  </clipPath>\n",
       " </defs>\n",
       "</svg></g>\n",
       "\n",
       "<g id=\"edge1\" class=\"edge\">\n",
       "<title>node1-&gt;leaf5</title>\n",
       "<path fill=\"none\" stroke=\"#444443\" stroke-width=\"0.3\" d=\"M321.68,-235.31C327.2,-237.92 332.78,-240.55 338.3,-243.15\" />\n",
       "<polygon fill=\"#444443\" stroke=\"#444443\" stroke-width=\"0.3\" points=\"337.89,-244.5 342.1,-244.94 339.08,-241.97 337.89,-244.5\" />\n",
       "</g>\n",
       "\n",
       "<g id=\"node5\" class=\"node\">\n",
       "<title>leaf6</title>\n",
       "<polygon fill=\"none\" stroke=\"#444443\" stroke-width=\"0\" points=\"467.25,-226 342.25,-226 342.25,-158 467.25,-158 467.25,-226\" />\n",
       "<svg width=\"117px\" height=\"60px\" viewBox=\"0 0 156.79 79.9485\" version=\"1.1\" preserveAspectRatio=\"xMinYMin meet\" x=\"346.751\" y=\"-222\">\n",
       " <metadata>\n",
       "  <rdf:RDF>\n",
       "   <ns2:Work>\n",
       "    <dc:type rdf:resource=\"http://purl.org/dc/dcmitype/StillImage\" />\n",
       "    <dc:date>2023-04-07T10:03:54.245625</dc:date>\n",
       "    <dc:format>image/svg+xml</dc:format>\n",
       "    <dc:creator>\n",
       "     <ns2:Agent>\n",
       "      <dc:title>Matplotlib v3.7.0, https://matplotlib.org/</dc:title>\n",
       "     </ns2:Agent>\n",
       "    </dc:creator>\n",
       "   </ns2:Work>\n",
       "  </rdf:RDF>\n",
       " </metadata>\n",
       " <defs>\n",
       "  <style type=\"text/css\">*{stroke-linejoin: round; stroke-linecap: butt}</style>\n",
       " </defs>\n",
       " <g id=\"figure_1\">\n",
       "  <g id=\"patch_1\">\n",
       "   <path d=\"M -0 79.9485  L 156.79 79.9485  L 156.79 -0  L -0 -0  z \" style=\"fill: #ffffff\" />\n",
       "  </g>\n",
       "  <g id=\"axes_1\">\n",
       "   <g id=\"patch_2\">\n",
       "    <path d=\"M 56.97 44.352  L 98.82 44.352  L 98.82 -0  L 56.97 -0  z \" style=\"fill: #ffffff\" />\n",
       "   </g>\n",
       "   <g id=\"PathCollection_1\">\n",
       "    <defs>\n",
       "     <path id=\"m7c979ba5c1\" d=\"M 0 1.118034  C 0.296506 1.118034 0.580908 1.000231 0.790569 0.790569  C 1.000231 0.580908 1.118034 0.296506 1.118034 0  C 1.118034 -0.296506 1.000231 -0.580908 0.790569 -0.790569  C 0.580908 -1.000231 0.296506 -1.118034 0 -1.118034  C -0.296506 -1.118034 -0.580908 -1.000231 -0.790569 -0.790569  C -1.000231 -0.580908 -1.118034 -0.296506 -1.118034 0  C -1.118034 0.296506 -1.000231 0.580908 -0.790569 0.790569  C -0.580908 1.000231 -0.296506 1.118034 0 1.118034  z \" style=\"stroke: #4575b4; stroke-opacity: 0.7; stroke-width: 0.3\" />\n",
       "    </defs>\n",
       "    <g clip-path=\"url(#p8d57f51e14)\">\n",
       "     <use xlink:href=\"#m7c979ba5c1\" x=\"82.067251\" y=\"44.352\" style=\"fill: #4575b4; fill-opacity: 0.7; stroke: #4575b4; stroke-opacity: 0.7; stroke-width: 0.3\" />\n",
       "     <use xlink:href=\"#m7c979ba5c1\" x=\"81.42222\" y=\"33.913165\" style=\"fill: #4575b4; fill-opacity: 0.7; stroke: #4575b4; stroke-opacity: 0.7; stroke-width: 0.3\" />\n",
       "     <use xlink:href=\"#m7c979ba5c1\" x=\"81.773321\" y=\"41.742291\" style=\"fill: #4575b4; fill-opacity: 0.7; stroke: #4575b4; stroke-opacity: 0.7; stroke-width: 0.3\" />\n",
       "     <use xlink:href=\"#m7c979ba5c1\" x=\"70.394788\" y=\"44.352\" style=\"fill: #4575b4; fill-opacity: 0.7; stroke: #4575b4; stroke-opacity: 0.7; stroke-width: 0.3\" />\n",
       "     <use xlink:href=\"#m7c979ba5c1\" x=\"83.427132\" y=\"35.218019\" style=\"fill: #4575b4; fill-opacity: 0.7; stroke: #4575b4; stroke-opacity: 0.7; stroke-width: 0.3\" />\n",
       "     <use xlink:href=\"#m7c979ba5c1\" x=\"78.177301\" y=\"27.388893\" style=\"fill: #4575b4; fill-opacity: 0.7; stroke: #4575b4; stroke-opacity: 0.7; stroke-width: 0.3\" />\n",
       "     <use xlink:href=\"#m7c979ba5c1\" x=\"83.916705\" y=\"44.352\" style=\"fill: #4575b4; fill-opacity: 0.7; stroke: #4575b4; stroke-opacity: 0.7; stroke-width: 0.3\" />\n",
       "     <use xlink:href=\"#m7c979ba5c1\" x=\"73.317026\" y=\"32.608311\" style=\"fill: #4575b4; fill-opacity: 0.7; stroke: #4575b4; stroke-opacity: 0.7; stroke-width: 0.3\" />\n",
       "     <use xlink:href=\"#m7c979ba5c1\" x=\"83.971648\" y=\"40.437437\" style=\"fill: #4575b4; fill-opacity: 0.7; stroke: #4575b4; stroke-opacity: 0.7; stroke-width: 0.3\" />\n",
       "     <use xlink:href=\"#m7c979ba5c1\" x=\"81.40834\" y=\"44.352\" style=\"fill: #4575b4; fill-opacity: 0.7; stroke: #4575b4; stroke-opacity: 0.7; stroke-width: 0.3\" />\n",
       "     <use xlink:href=\"#m7c979ba5c1\" x=\"76.539342\" y=\"39.132583\" style=\"fill: #4575b4; fill-opacity: 0.7; stroke: #4575b4; stroke-opacity: 0.7; stroke-width: 0.3\" />\n",
       "     <use xlink:href=\"#m7c979ba5c1\" x=\"77.021594\" y=\"44.352\" style=\"fill: #4575b4; fill-opacity: 0.7; stroke: #4575b4; stroke-opacity: 0.7; stroke-width: 0.3\" />\n",
       "     <use xlink:href=\"#m7c979ba5c1\" x=\"75.901707\" y=\"39.132583\" style=\"fill: #4575b4; fill-opacity: 0.7; stroke: #4575b4; stroke-opacity: 0.7; stroke-width: 0.3\" />\n",
       "     <use xlink:href=\"#m7c979ba5c1\" x=\"74.39203\" y=\"43.047146\" style=\"fill: #4575b4; fill-opacity: 0.7; stroke: #4575b4; stroke-opacity: 0.7; stroke-width: 0.3\" />\n",
       "     <use xlink:href=\"#m7c979ba5c1\" x=\"78.654629\" y=\"41.742291\" style=\"fill: #4575b4; fill-opacity: 0.7; stroke: #4575b4; stroke-opacity: 0.7; stroke-width: 0.3\" />\n",
       "     <use xlink:href=\"#m7c979ba5c1\" x=\"78.873465\" y=\"43.047146\" style=\"fill: #4575b4; fill-opacity: 0.7; stroke: #4575b4; stroke-opacity: 0.7; stroke-width: 0.3\" />\n",
       "     <use xlink:href=\"#m7c979ba5c1\" x=\"67.402945\" y=\"26.084039\" style=\"fill: #4575b4; fill-opacity: 0.7; stroke: #4575b4; stroke-opacity: 0.7; stroke-width: 0.3\" />\n",
       "     <use xlink:href=\"#m7c979ba5c1\" x=\"77.559858\" y=\"39.132583\" style=\"fill: #4575b4; fill-opacity: 0.7; stroke: #4575b4; stroke-opacity: 0.7; stroke-width: 0.3\" />\n",
       "     <use xlink:href=\"#m7c979ba5c1\" x=\"78.617182\" y=\"5.206369\" style=\"fill: #4575b4; fill-opacity: 0.7; stroke: #4575b4; stroke-opacity: 0.7; stroke-width: 0.3\" />\n",
       "     <use xlink:href=\"#m7c979ba5c1\" x=\"76.227799\" y=\"5.206369\" style=\"fill: #4575b4; fill-opacity: 0.7; stroke: #4575b4; stroke-opacity: 0.7; stroke-width: 0.3\" />\n",
       "     <use xlink:href=\"#m7c979ba5c1\" x=\"74.696491\" y=\"35.218019\" style=\"fill: #4575b4; fill-opacity: 0.7; stroke: #4575b4; stroke-opacity: 0.7; stroke-width: 0.3\" />\n",
       "     <use xlink:href=\"#m7c979ba5c1\" x=\"75.394479\" y=\"40.437437\" style=\"fill: #4575b4; fill-opacity: 0.7; stroke: #4575b4; stroke-opacity: 0.7; stroke-width: 0.3\" />\n",
       "     <use xlink:href=\"#m7c979ba5c1\" x=\"71.449722\" y=\"22.169476\" style=\"fill: #4575b4; fill-opacity: 0.7; stroke: #4575b4; stroke-opacity: 0.7; stroke-width: 0.3\" />\n",
       "     <use xlink:href=\"#m7c979ba5c1\" x=\"79.202318\" y=\"27.388893\" style=\"fill: #4575b4; fill-opacity: 0.7; stroke: #4575b4; stroke-opacity: 0.7; stroke-width: 0.3\" />\n",
       "     <use xlink:href=\"#m7c979ba5c1\" x=\"75.30241\" y=\"41.742291\" style=\"fill: #4575b4; fill-opacity: 0.7; stroke: #4575b4; stroke-opacity: 0.7; stroke-width: 0.3\" />\n",
       "     <use xlink:href=\"#m7c979ba5c1\" x=\"81.351506\" y=\"24.779184\" style=\"fill: #4575b4; fill-opacity: 0.7; stroke: #4575b4; stroke-opacity: 0.7; stroke-width: 0.3\" />\n",
       "     <use xlink:href=\"#m7c979ba5c1\" x=\"77.664187\" y=\"28.693748\" style=\"fill: #4575b4; fill-opacity: 0.7; stroke: #4575b4; stroke-opacity: 0.7; stroke-width: 0.3\" />\n",
       "     <use xlink:href=\"#m7c979ba5c1\" x=\"81.438445\" y=\"28.693748\" style=\"fill: #4575b4; fill-opacity: 0.7; stroke: #4575b4; stroke-opacity: 0.7; stroke-width: 0.3\" />\n",
       "     <use xlink:href=\"#m7c979ba5c1\" x=\"78.184781\" y=\"44.352\" style=\"fill: #4575b4; fill-opacity: 0.7; stroke: #4575b4; stroke-opacity: 0.7; stroke-width: 0.3\" />\n",
       "     <use xlink:href=\"#m7c979ba5c1\" x=\"79.099145\" y=\"41.742291\" style=\"fill: #4575b4; fill-opacity: 0.7; stroke: #4575b4; stroke-opacity: 0.7; stroke-width: 0.3\" />\n",
       "     <use xlink:href=\"#m7c979ba5c1\" x=\"80.715412\" y=\"44.352\" style=\"fill: #4575b4; fill-opacity: 0.7; stroke: #4575b4; stroke-opacity: 0.7; stroke-width: 0.3\" />\n",
       "     <use xlink:href=\"#m7c979ba5c1\" x=\"73.723821\" y=\"33.913165\" style=\"fill: #4575b4; fill-opacity: 0.7; stroke: #4575b4; stroke-opacity: 0.7; stroke-width: 0.3\" />\n",
       "     <use xlink:href=\"#m7c979ba5c1\" x=\"76.384723\" y=\"3.901515\" style=\"fill: #4575b4; fill-opacity: 0.7; stroke: #4575b4; stroke-opacity: 0.7; stroke-width: 0.3\" />\n",
       "     <use xlink:href=\"#m7c979ba5c1\" x=\"82.530169\" y=\"37.827728\" style=\"fill: #4575b4; fill-opacity: 0.7; stroke: #4575b4; stroke-opacity: 0.7; stroke-width: 0.3\" />\n",
       "     <use xlink:href=\"#m7c979ba5c1\" x=\"79.258273\" y=\"37.827728\" style=\"fill: #4575b4; fill-opacity: 0.7; stroke: #4575b4; stroke-opacity: 0.7; stroke-width: 0.3\" />\n",
       "     <use xlink:href=\"#m7c979ba5c1\" x=\"80.269699\" y=\"33.913165\" style=\"fill: #4575b4; fill-opacity: 0.7; stroke: #4575b4; stroke-opacity: 0.7; stroke-width: 0.3\" />\n",
       "     <use xlink:href=\"#m7c979ba5c1\" x=\"73.723573\" y=\"41.742291\" style=\"fill: #4575b4; fill-opacity: 0.7; stroke: #4575b4; stroke-opacity: 0.7; stroke-width: 0.3\" />\n",
       "     <use xlink:href=\"#m7c979ba5c1\" x=\"80.584779\" y=\"26.084039\" style=\"fill: #4575b4; fill-opacity: 0.7; stroke: #4575b4; stroke-opacity: 0.7; stroke-width: 0.3\" />\n",
       "     <use xlink:href=\"#m7c979ba5c1\" x=\"80.066137\" y=\"20.864621\" style=\"fill: #4575b4; fill-opacity: 0.7; stroke: #4575b4; stroke-opacity: 0.7; stroke-width: 0.3\" />\n",
       "     <use xlink:href=\"#m7c979ba5c1\" x=\"73.489707\" y=\"28.693748\" style=\"fill: #4575b4; fill-opacity: 0.7; stroke: #4575b4; stroke-opacity: 0.7; stroke-width: 0.3\" />\n",
       "     <use xlink:href=\"#m7c979ba5c1\" x=\"78.160047\" y=\"41.742291\" style=\"fill: #4575b4; fill-opacity: 0.7; stroke: #4575b4; stroke-opacity: 0.7; stroke-width: 0.3\" />\n",
       "     <use xlink:href=\"#m7c979ba5c1\" x=\"80.310326\" y=\"16.950058\" style=\"fill: #4575b4; fill-opacity: 0.7; stroke: #4575b4; stroke-opacity: 0.7; stroke-width: 0.3\" />\n",
       "     <use xlink:href=\"#m7c979ba5c1\" x=\"80.48309\" y=\"6.511223\" style=\"fill: #4575b4; fill-opacity: 0.7; stroke: #4575b4; stroke-opacity: 0.7; stroke-width: 0.3\" />\n",
       "     <use xlink:href=\"#m7c979ba5c1\" x=\"75.400107\" y=\"41.742291\" style=\"fill: #4575b4; fill-opacity: 0.7; stroke: #4575b4; stroke-opacity: 0.7; stroke-width: 0.3\" />\n",
       "     <use xlink:href=\"#m7c979ba5c1\" x=\"79.159657\" y=\"41.742291\" style=\"fill: #4575b4; fill-opacity: 0.7; stroke: #4575b4; stroke-opacity: 0.7; stroke-width: 0.3\" />\n",
       "     <use xlink:href=\"#m7c979ba5c1\" x=\"75.750419\" y=\"26.084039\" style=\"fill: #4575b4; fill-opacity: 0.7; stroke: #4575b4; stroke-opacity: 0.7; stroke-width: 0.3\" />\n",
       "     <use xlink:href=\"#m7c979ba5c1\" x=\"78.415285\" y=\"36.522874\" style=\"fill: #4575b4; fill-opacity: 0.7; stroke: #4575b4; stroke-opacity: 0.7; stroke-width: 0.3\" />\n",
       "     <use xlink:href=\"#m7c979ba5c1\" x=\"76.049769\" y=\"41.742291\" style=\"fill: #4575b4; fill-opacity: 0.7; stroke: #4575b4; stroke-opacity: 0.7; stroke-width: 0.3\" />\n",
       "     <use xlink:href=\"#m7c979ba5c1\" x=\"79.291219\" y=\"43.047146\" style=\"fill: #4575b4; fill-opacity: 0.7; stroke: #4575b4; stroke-opacity: 0.7; stroke-width: 0.3\" />\n",
       "     <use xlink:href=\"#m7c979ba5c1\" x=\"71.434346\" y=\"32.608311\" style=\"fill: #4575b4; fill-opacity: 0.7; stroke: #4575b4; stroke-opacity: 0.7; stroke-width: 0.3\" />\n",
       "     <use xlink:href=\"#m7c979ba5c1\" x=\"79.731953\" y=\"24.779184\" style=\"fill: #4575b4; fill-opacity: 0.7; stroke: #4575b4; stroke-opacity: 0.7; stroke-width: 0.3\" />\n",
       "     <use xlink:href=\"#m7c979ba5c1\" x=\"78.941787\" y=\"41.742291\" style=\"fill: #4575b4; fill-opacity: 0.7; stroke: #4575b4; stroke-opacity: 0.7; stroke-width: 0.3\" />\n",
       "     <use xlink:href=\"#m7c979ba5c1\" x=\"78.041073\" y=\"15.645204\" style=\"fill: #4575b4; fill-opacity: 0.7; stroke: #4575b4; stroke-opacity: 0.7; stroke-width: 0.3\" />\n",
       "     <use xlink:href=\"#m7c979ba5c1\" x=\"77.702358\" y=\"44.352\" style=\"fill: #4575b4; fill-opacity: 0.7; stroke: #4575b4; stroke-opacity: 0.7; stroke-width: 0.3\" />\n",
       "     <use xlink:href=\"#m7c979ba5c1\" x=\"79.006942\" y=\"44.352\" style=\"fill: #4575b4; fill-opacity: 0.7; stroke: #4575b4; stroke-opacity: 0.7; stroke-width: 0.3\" />\n",
       "     <use xlink:href=\"#m7c979ba5c1\" x=\"81.506536\" y=\"20.864621\" style=\"fill: #4575b4; fill-opacity: 0.7; stroke: #4575b4; stroke-opacity: 0.7; stroke-width: 0.3\" />\n",
       "     <use xlink:href=\"#m7c979ba5c1\" x=\"73.952664\" y=\"15.645204\" style=\"fill: #4575b4; fill-opacity: 0.7; stroke: #4575b4; stroke-opacity: 0.7; stroke-width: 0.3\" />\n",
       "     <use xlink:href=\"#m7c979ba5c1\" x=\"77.772742\" y=\"19.559767\" style=\"fill: #4575b4; fill-opacity: 0.7; stroke: #4575b4; stroke-opacity: 0.7; stroke-width: 0.3\" />\n",
       "     <use xlink:href=\"#m7c979ba5c1\" x=\"81.585019\" y=\"10.425786\" style=\"fill: #4575b4; fill-opacity: 0.7; stroke: #4575b4; stroke-opacity: 0.7; stroke-width: 0.3\" />\n",
       "     <use xlink:href=\"#m7c979ba5c1\" x=\"77.587213\" y=\"6.511223\" style=\"fill: #4575b4; fill-opacity: 0.7; stroke: #4575b4; stroke-opacity: 0.7; stroke-width: 0.3\" />\n",
       "     <use xlink:href=\"#m7c979ba5c1\" x=\"81.357819\" y=\"44.352\" style=\"fill: #4575b4; fill-opacity: 0.7; stroke: #4575b4; stroke-opacity: 0.7; stroke-width: 0.3\" />\n",
       "     <use xlink:href=\"#m7c979ba5c1\" x=\"78.183468\" y=\"41.742291\" style=\"fill: #4575b4; fill-opacity: 0.7; stroke: #4575b4; stroke-opacity: 0.7; stroke-width: 0.3\" />\n",
       "     <use xlink:href=\"#m7c979ba5c1\" x=\"80.130124\" y=\"44.352\" style=\"fill: #4575b4; fill-opacity: 0.7; stroke: #4575b4; stroke-opacity: 0.7; stroke-width: 0.3\" />\n",
       "     <use xlink:href=\"#m7c979ba5c1\" x=\"77.908448\" y=\"44.352\" style=\"fill: #4575b4; fill-opacity: 0.7; stroke: #4575b4; stroke-opacity: 0.7; stroke-width: 0.3\" />\n",
       "     <use xlink:href=\"#m7c979ba5c1\" x=\"80.693515\" y=\"41.742291\" style=\"fill: #4575b4; fill-opacity: 0.7; stroke: #4575b4; stroke-opacity: 0.7; stroke-width: 0.3\" />\n",
       "     <use xlink:href=\"#m7c979ba5c1\" x=\"79.715948\" y=\"31.303456\" style=\"fill: #4575b4; fill-opacity: 0.7; stroke: #4575b4; stroke-opacity: 0.7; stroke-width: 0.3\" />\n",
       "     <use xlink:href=\"#m7c979ba5c1\" x=\"78.392625\" y=\"26.084039\" style=\"fill: #4575b4; fill-opacity: 0.7; stroke: #4575b4; stroke-opacity: 0.7; stroke-width: 0.3\" />\n",
       "     <use xlink:href=\"#m7c979ba5c1\" x=\"76.744819\" y=\"36.522874\" style=\"fill: #4575b4; fill-opacity: 0.7; stroke: #4575b4; stroke-opacity: 0.7; stroke-width: 0.3\" />\n",
       "     <use xlink:href=\"#m7c979ba5c1\" x=\"79.105752\" y=\"29.998602\" style=\"fill: #4575b4; fill-opacity: 0.7; stroke: #4575b4; stroke-opacity: 0.7; stroke-width: 0.3\" />\n",
       "     <use xlink:href=\"#m7c979ba5c1\" x=\"76.398615\" y=\"39.132583\" style=\"fill: #4575b4; fill-opacity: 0.7; stroke: #4575b4; stroke-opacity: 0.7; stroke-width: 0.3\" />\n",
       "     <use xlink:href=\"#m7c979ba5c1\" x=\"81.921028\" y=\"26.084039\" style=\"fill: #4575b4; fill-opacity: 0.7; stroke: #4575b4; stroke-opacity: 0.7; stroke-width: 0.3\" />\n",
       "     <use xlink:href=\"#m7c979ba5c1\" x=\"78.243412\" y=\"37.827728\" style=\"fill: #4575b4; fill-opacity: 0.7; stroke: #4575b4; stroke-opacity: 0.7; stroke-width: 0.3\" />\n",
       "     <use xlink:href=\"#m7c979ba5c1\" x=\"77.244619\" y=\"19.559767\" style=\"fill: #4575b4; fill-opacity: 0.7; stroke: #4575b4; stroke-opacity: 0.7; stroke-width: 0.3\" />\n",
       "     <use xlink:href=\"#m7c979ba5c1\" x=\"73.675323\" y=\"15.645204\" style=\"fill: #4575b4; fill-opacity: 0.7; stroke: #4575b4; stroke-opacity: 0.7; stroke-width: 0.3\" />\n",
       "     <use xlink:href=\"#m7c979ba5c1\" x=\"82.687534\" y=\"36.522874\" style=\"fill: #4575b4; fill-opacity: 0.7; stroke: #4575b4; stroke-opacity: 0.7; stroke-width: 0.3\" />\n",
       "     <use xlink:href=\"#m7c979ba5c1\" x=\"84.346191\" y=\"14.34035\" style=\"fill: #4575b4; fill-opacity: 0.7; stroke: #4575b4; stroke-opacity: 0.7; stroke-width: 0.3\" />\n",
       "     <use xlink:href=\"#m7c979ba5c1\" x=\"77.330305\" y=\"20.864621\" style=\"fill: #4575b4; fill-opacity: 0.7; stroke: #4575b4; stroke-opacity: 0.7; stroke-width: 0.3\" />\n",
       "     <use xlink:href=\"#m7c979ba5c1\" x=\"71.718052\" y=\"32.608311\" style=\"fill: #4575b4; fill-opacity: 0.7; stroke: #4575b4; stroke-opacity: 0.7; stroke-width: 0.3\" />\n",
       "     <use xlink:href=\"#m7c979ba5c1\" x=\"75.333769\" y=\"26.084039\" style=\"fill: #4575b4; fill-opacity: 0.7; stroke: #4575b4; stroke-opacity: 0.7; stroke-width: 0.3\" />\n",
       "     <use xlink:href=\"#m7c979ba5c1\" x=\"77.053846\" y=\"29.998602\" style=\"fill: #4575b4; fill-opacity: 0.7; stroke: #4575b4; stroke-opacity: 0.7; stroke-width: 0.3\" />\n",
       "     <use xlink:href=\"#m7c979ba5c1\" x=\"82.14135\" y=\"43.047146\" style=\"fill: #4575b4; fill-opacity: 0.7; stroke: #4575b4; stroke-opacity: 0.7; stroke-width: 0.3\" />\n",
       "     <use xlink:href=\"#m7c979ba5c1\" x=\"76.566363\" y=\"39.132583\" style=\"fill: #4575b4; fill-opacity: 0.7; stroke: #4575b4; stroke-opacity: 0.7; stroke-width: 0.3\" />\n",
       "     <use xlink:href=\"#m7c979ba5c1\" x=\"75.265111\" y=\"32.608311\" style=\"fill: #4575b4; fill-opacity: 0.7; stroke: #4575b4; stroke-opacity: 0.7; stroke-width: 0.3\" />\n",
       "     <use xlink:href=\"#m7c979ba5c1\" x=\"77.271825\" y=\"40.437437\" style=\"fill: #4575b4; fill-opacity: 0.7; stroke: #4575b4; stroke-opacity: 0.7; stroke-width: 0.3\" />\n",
       "     <use xlink:href=\"#m7c979ba5c1\" x=\"78.371531\" y=\"36.522874\" style=\"fill: #4575b4; fill-opacity: 0.7; stroke: #4575b4; stroke-opacity: 0.7; stroke-width: 0.3\" />\n",
       "    </g>\n",
       "   </g>\n",
       "   <g id=\"matplotlib.axis_1\" />\n",
       "   <g id=\"matplotlib.axis_2\">\n",
       "    <g id=\"ytick_1\">\n",
       "     <g id=\"line2d_1\">\n",
       "      <defs>\n",
       "       <path id=\"ma45477835a\" d=\"M 0 0  L -3.5 0  \" style=\"stroke: #000000; stroke-width: 0.3\" />\n",
       "      </defs>\n",
       "      <g>\n",
       "       <use xlink:href=\"#ma45477835a\" x=\"56.97\" y=\"44.352\" style=\"stroke: #000000; stroke-width: 0.3\" />\n",
       "      </g>\n",
       "     </g>\n",
       "     <g id=\"text_1\">\n",
       "      \n",
       "      <g style=\"fill: #444443\" transform=\"translate(44.88 47.391375) scale(0.08 -0.08)\">\n",
       "       <defs>\n",
       "        <path id=\"DejaVuSans-30\" d=\"M 2034 4250  Q 1547 4250 1301 3770  Q 1056 3291 1056 2328  Q 1056 1369 1301 889  Q 1547 409 2034 409  Q 2525 409 2770 889  Q 3016 1369 3016 2328  Q 3016 3291 2770 3770  Q 2525 4250 2034 4250  z M 2034 4750  Q 2819 4750 3233 4129  Q 3647 3509 3647 2328  Q 3647 1150 3233 529  Q 2819 -91 2034 -91  Q 1250 -91 836 529  Q 422 1150 422 2328  Q 422 3509 836 4129  Q 1250 4750 2034 4750  z \" transform=\"scale(0.015625)\" />\n",
       "       </defs>\n",
       "       <use xlink:href=\"#DejaVuSans-30\" />\n",
       "      </g>\n",
       "     </g>\n",
       "    </g>\n",
       "    <g id=\"ytick_2\">\n",
       "     <g id=\"line2d_2\">\n",
       "      <g>\n",
       "       <use xlink:href=\"#ma45477835a\" x=\"56.97\" y=\"18.254913\" style=\"stroke: #000000; stroke-width: 0.3\" />\n",
       "      </g>\n",
       "     </g>\n",
       "     <g id=\"text_2\">\n",
       "      \n",
       "      <g style=\"fill: #444443\" transform=\"translate(39.79 21.294288) scale(0.08 -0.08)\">\n",
       "       <defs>\n",
       "        <path id=\"DejaVuSans-32\" d=\"M 1228 531  L 3431 531  L 3431 0  L 469 0  L 469 531  Q 828 903 1448 1529  Q 2069 2156 2228 2338  Q 2531 2678 2651 2914  Q 2772 3150 2772 3378  Q 2772 3750 2511 3984  Q 2250 4219 1831 4219  Q 1534 4219 1204 4116  Q 875 4013 500 3803  L 500 4441  Q 881 4594 1212 4672  Q 1544 4750 1819 4750  Q 2544 4750 2975 4387  Q 3406 4025 3406 3419  Q 3406 3131 3298 2873  Q 3191 2616 2906 2266  Q 2828 2175 2409 1742  Q 1991 1309 1228 531  z \" transform=\"scale(0.015625)\" />\n",
       "       </defs>\n",
       "       <use xlink:href=\"#DejaVuSans-32\" />\n",
       "       <use xlink:href=\"#DejaVuSans-30\" x=\"63.623047\" />\n",
       "      </g>\n",
       "     </g>\n",
       "    </g>\n",
       "   </g>\n",
       "   <g id=\"line2d_3\">\n",
       "    <path d=\"M 56.97 32.500852  L 157.79 32.500852  \" clip-path=\"url(#p8d57f51e14)\" style=\"fill: none; stroke-dasharray: 3.7,1.6; stroke-dashoffset: 0; stroke: #444443\" />\n",
       "   </g>\n",
       "   <g id=\"patch_3\">\n",
       "    <path d=\"M 56.97 44.352  L 56.97 -0  \" style=\"fill: none; stroke: #444443; stroke-width: 0.3; stroke-linejoin: miter; stroke-linecap: square\" />\n",
       "   </g>\n",
       "   <g id=\"text_3\">\n",
       "    \n",
       "    <g style=\"fill: #444443\" transform=\"translate(0 58.2595) scale(0.16 -0.16)\">\n",
       "     <defs>\n",
       "      <path id=\"DejaVuSans-73\" d=\"M 2834 3397  L 2834 2853  Q 2591 2978 2328 3040  Q 2066 3103 1784 3103  Q 1356 3103 1142 2972  Q 928 2841 928 2578  Q 928 2378 1081 2264  Q 1234 2150 1697 2047  L 1894 2003  Q 2506 1872 2764 1633  Q 3022 1394 3022 966  Q 3022 478 2636 193  Q 2250 -91 1575 -91  Q 1294 -91 989 -36  Q 684 19 347 128  L 347 722  Q 666 556 975 473  Q 1284 391 1588 391  Q 1994 391 2212 530  Q 2431 669 2431 922  Q 2431 1156 2273 1281  Q 2116 1406 1581 1522  L 1381 1569  Q 847 1681 609 1914  Q 372 2147 372 2553  Q 372 3047 722 3315  Q 1072 3584 1716 3584  Q 2034 3584 2315 3537  Q 2597 3491 2834 3397  z \" transform=\"scale(0.015625)\" />\n",
       "      <path id=\"DejaVuSans-61\" d=\"M 2194 1759  Q 1497 1759 1228 1600  Q 959 1441 959 1056  Q 959 750 1161 570  Q 1363 391 1709 391  Q 2188 391 2477 730  Q 2766 1069 2766 1631  L 2766 1759  L 2194 1759  z M 3341 1997  L 3341 0  L 2766 0  L 2766 531  Q 2569 213 2275 61  Q 1981 -91 1556 -91  Q 1019 -91 701 211  Q 384 513 384 1019  Q 384 1609 779 1909  Q 1175 2209 1959 2209  L 2766 2209  L 2766 2266  Q 2766 2663 2505 2880  Q 2244 3097 1772 3097  Q 1472 3097 1187 3025  Q 903 2953 641 2809  L 641 3341  Q 956 3463 1253 3523  Q 1550 3584 1831 3584  Q 2591 3584 2966 3190  Q 3341 2797 3341 1997  z \" transform=\"scale(0.015625)\" />\n",
       "      <path id=\"DejaVuSans-6c\" d=\"M 603 4863  L 1178 4863  L 1178 0  L 603 0  L 603 4863  z \" transform=\"scale(0.015625)\" />\n",
       "      <path id=\"DejaVuSans-65\" d=\"M 3597 1894  L 3597 1613  L 953 1613  Q 991 1019 1311 708  Q 1631 397 2203 397  Q 2534 397 2845 478  Q 3156 559 3463 722  L 3463 178  Q 3153 47 2828 -22  Q 2503 -91 2169 -91  Q 1331 -91 842 396  Q 353 884 353 1716  Q 353 2575 817 3079  Q 1281 3584 2069 3584  Q 2775 3584 3186 3129  Q 3597 2675 3597 1894  z M 3022 2063  Q 3016 2534 2758 2815  Q 2500 3097 2075 3097  Q 1594 3097 1305 2825  Q 1016 2553 972 2059  L 3022 2063  z \" transform=\"scale(0.015625)\" />\n",
       "      <path id=\"DejaVuSans-5f\" d=\"M 3263 -1063  L 3263 -1509  L -63 -1509  L -63 -1063  L 3263 -1063  z \" transform=\"scale(0.015625)\" />\n",
       "      <path id=\"DejaVuSans-64\" d=\"M 2906 2969  L 2906 4863  L 3481 4863  L 3481 0  L 2906 0  L 2906 525  Q 2725 213 2448 61  Q 2172 -91 1784 -91  Q 1150 -91 751 415  Q 353 922 353 1747  Q 353 2572 751 3078  Q 1150 3584 1784 3584  Q 2172 3584 2448 3432  Q 2725 3281 2906 2969  z M 947 1747  Q 947 1113 1208 752  Q 1469 391 1925 391  Q 2381 391 2643 752  Q 2906 1113 2906 1747  Q 2906 2381 2643 2742  Q 2381 3103 1925 3103  Q 1469 3103 1208 2742  Q 947 2381 947 1747  z \" transform=\"scale(0.015625)\" />\n",
       "      <path id=\"DejaVuSans-75\" d=\"M 544 1381  L 544 3500  L 1119 3500  L 1119 1403  Q 1119 906 1312 657  Q 1506 409 1894 409  Q 2359 409 2629 706  Q 2900 1003 2900 1516  L 2900 3500  L 3475 3500  L 3475 0  L 2900 0  L 2900 538  Q 2691 219 2414 64  Q 2138 -91 1772 -91  Q 1169 -91 856 284  Q 544 659 544 1381  z M 1991 3584  L 1991 3584  z \" transform=\"scale(0.015625)\" />\n",
       "      <path id=\"DejaVuSans-72\" d=\"M 2631 2963  Q 2534 3019 2420 3045  Q 2306 3072 2169 3072  Q 1681 3072 1420 2755  Q 1159 2438 1159 1844  L 1159 0  L 581 0  L 581 3500  L 1159 3500  L 1159 2956  Q 1341 3275 1631 3429  Q 1922 3584 2338 3584  Q 2397 3584 2469 3576  Q 2541 3569 2628 3553  L 2631 2963  z \" transform=\"scale(0.015625)\" />\n",
       "      <path id=\"DejaVuSans-74\" d=\"M 1172 4494  L 1172 3500  L 2356 3500  L 2356 3053  L 1172 3053  L 1172 1153  Q 1172 725 1289 603  Q 1406 481 1766 481  L 2356 481  L 2356 0  L 1766 0  Q 1100 0 847 248  Q 594 497 594 1153  L 594 3053  L 172 3053  L 172 3500  L 594 3500  L 594 4494  L 1172 4494  z \" transform=\"scale(0.015625)\" />\n",
       "      <path id=\"DejaVuSans-69\" d=\"M 603 3500  L 1178 3500  L 1178 0  L 603 0  L 603 3500  z M 603 4863  L 1178 4863  L 1178 4134  L 603 4134  L 603 4863  z \" transform=\"scale(0.015625)\" />\n",
       "      <path id=\"DejaVuSans-6f\" d=\"M 1959 3097  Q 1497 3097 1228 2736  Q 959 2375 959 1747  Q 959 1119 1226 758  Q 1494 397 1959 397  Q 2419 397 2687 759  Q 2956 1122 2956 1747  Q 2956 2369 2687 2733  Q 2419 3097 1959 3097  z M 1959 3584  Q 2709 3584 3137 3096  Q 3566 2609 3566 1747  Q 3566 888 3137 398  Q 2709 -91 1959 -91  Q 1206 -91 779 398  Q 353 888 353 1747  Q 353 2609 779 3096  Q 1206 3584 1959 3584  z \" transform=\"scale(0.015625)\" />\n",
       "      <path id=\"DejaVuSans-6e\" d=\"M 3513 2113  L 3513 0  L 2938 0  L 2938 2094  Q 2938 2591 2744 2837  Q 2550 3084 2163 3084  Q 1697 3084 1428 2787  Q 1159 2491 1159 1978  L 1159 0  L 581 0  L 581 3500  L 1159 3500  L 1159 2956  Q 1366 3272 1645 3428  Q 1925 3584 2291 3584  Q 2894 3584 3203 3211  Q 3513 2838 3513 2113  z \" transform=\"scale(0.015625)\" />\n",
       "      <path id=\"DejaVuSans-3d\" d=\"M 678 2906  L 4684 2906  L 4684 2381  L 678 2381  L 678 2906  z M 678 1631  L 4684 1631  L 4684 1100  L 678 1100  L 678 1631  z \" transform=\"scale(0.015625)\" />\n",
       "      <path id=\"DejaVuSans-39\" d=\"M 703 97  L 703 672  Q 941 559 1184 500  Q 1428 441 1663 441  Q 2288 441 2617 861  Q 2947 1281 2994 2138  Q 2813 1869 2534 1725  Q 2256 1581 1919 1581  Q 1219 1581 811 2004  Q 403 2428 403 3163  Q 403 3881 828 4315  Q 1253 4750 1959 4750  Q 2769 4750 3195 4129  Q 3622 3509 3622 2328  Q 3622 1225 3098 567  Q 2575 -91 1691 -91  Q 1453 -91 1209 -44  Q 966 3 703 97  z M 1959 2075  Q 2384 2075 2632 2365  Q 2881 2656 2881 3163  Q 2881 3666 2632 3958  Q 2384 4250 1959 4250  Q 1534 4250 1286 3958  Q 1038 3666 1038 3163  Q 1038 2656 1286 2365  Q 1534 2075 1959 2075  z \" transform=\"scale(0.015625)\" />\n",
       "      <path id=\"DejaVuSans-2e\" d=\"M 684 794  L 1344 794  L 1344 0  L 684 0  L 684 794  z \" transform=\"scale(0.015625)\" />\n",
       "      <path id=\"DejaVuSans-38\" d=\"M 2034 2216  Q 1584 2216 1326 1975  Q 1069 1734 1069 1313  Q 1069 891 1326 650  Q 1584 409 2034 409  Q 2484 409 2743 651  Q 3003 894 3003 1313  Q 3003 1734 2745 1975  Q 2488 2216 2034 2216  z M 1403 2484  Q 997 2584 770 2862  Q 544 3141 544 3541  Q 544 4100 942 4425  Q 1341 4750 2034 4750  Q 2731 4750 3128 4425  Q 3525 4100 3525 3541  Q 3525 3141 3298 2862  Q 3072 2584 2669 2484  Q 3125 2378 3379 2068  Q 3634 1759 3634 1313  Q 3634 634 3220 271  Q 2806 -91 2034 -91  Q 1263 -91 848 271  Q 434 634 434 1313  Q 434 1759 690 2068  Q 947 2378 1403 2484  z M 1172 3481  Q 1172 3119 1398 2916  Q 1625 2713 2034 2713  Q 2441 2713 2670 2916  Q 2900 3119 2900 3481  Q 2900 3844 2670 4047  Q 2441 4250 2034 4250  Q 1625 4250 1398 4047  Q 1172 3844 1172 3481  z \" transform=\"scale(0.015625)\" />\n",
       "     </defs>\n",
       "     <use xlink:href=\"#DejaVuSans-73\" />\n",
       "     <use xlink:href=\"#DejaVuSans-61\" x=\"52.099609\" />\n",
       "     <use xlink:href=\"#DejaVuSans-6c\" x=\"113.378906\" />\n",
       "     <use xlink:href=\"#DejaVuSans-65\" x=\"141.162109\" />\n",
       "     <use xlink:href=\"#DejaVuSans-5f\" x=\"202.685547\" />\n",
       "     <use xlink:href=\"#DejaVuSans-64\" x=\"252.685547\" />\n",
       "     <use xlink:href=\"#DejaVuSans-75\" x=\"316.162109\" />\n",
       "     <use xlink:href=\"#DejaVuSans-72\" x=\"379.541016\" />\n",
       "     <use xlink:href=\"#DejaVuSans-61\" x=\"420.654297\" />\n",
       "     <use xlink:href=\"#DejaVuSans-74\" x=\"481.933594\" />\n",
       "     <use xlink:href=\"#DejaVuSans-69\" x=\"521.142578\" />\n",
       "     <use xlink:href=\"#DejaVuSans-6f\" x=\"548.925781\" />\n",
       "     <use xlink:href=\"#DejaVuSans-6e\" x=\"610.107422\" />\n",
       "     <use xlink:href=\"#DejaVuSans-3d\" x=\"673.486328\" />\n",
       "     <use xlink:href=\"#DejaVuSans-39\" x=\"757.275391\" />\n",
       "     <use xlink:href=\"#DejaVuSans-2e\" x=\"820.898438\" />\n",
       "     <use xlink:href=\"#DejaVuSans-30\" x=\"852.685547\" />\n",
       "     <use xlink:href=\"#DejaVuSans-38\" x=\"916.308594\" />\n",
       "    </g>\n",
       "    \n",
       "    <g style=\"fill: #444443\" transform=\"translate(56.44125 76.621) scale(0.16 -0.16)\">\n",
       "     <defs>\n",
       "      <path id=\"DejaVuSans-35\" d=\"M 691 4666  L 3169 4666  L 3169 4134  L 1269 4134  L 1269 2991  Q 1406 3038 1543 3061  Q 1681 3084 1819 3084  Q 2600 3084 3056 2656  Q 3513 2228 3513 1497  Q 3513 744 3044 326  Q 2575 -91 1722 -91  Q 1428 -91 1123 -41  Q 819 9 494 109  L 494 744  Q 775 591 1075 516  Q 1375 441 1709 441  Q 2250 441 2565 725  Q 2881 1009 2881 1497  Q 2881 1984 2565 2268  Q 2250 2553 1709 2553  Q 1456 2553 1204 2497  Q 953 2441 691 2322  L 691 4666  z \" transform=\"scale(0.015625)\" />\n",
       "     </defs>\n",
       "     <use xlink:href=\"#DejaVuSans-6e\" />\n",
       "     <use xlink:href=\"#DejaVuSans-3d\" x=\"63.378906\" />\n",
       "     <use xlink:href=\"#DejaVuSans-38\" x=\"147.167969\" />\n",
       "     <use xlink:href=\"#DejaVuSans-35\" x=\"210.791016\" />\n",
       "    </g>\n",
       "   </g>\n",
       "  </g>\n",
       " </g>\n",
       " <defs>\n",
       "  <clipPath id=\"p8d57f51e14\">\n",
       "   <rect x=\"56.97\" y=\"-0\" width=\"41.85\" height=\"44.352\" />\n",
       "  </clipPath>\n",
       " </defs>\n",
       "</svg></g>\n",
       "\n",
       "<g id=\"edge2\" class=\"edge\">\n",
       "<title>node1-&gt;leaf6</title>\n",
       "<path fill=\"none\" stroke=\"#444443\" stroke-width=\"0.3\" d=\"M321.68,-198.63C327.1,-198.19 332.57,-197.75 337.98,-197.31\" />\n",
       "<polygon fill=\"#444443\" stroke=\"#444443\" stroke-width=\"0.3\" points=\"338.23,-198.7 342.1,-196.98 338,-195.91 338.23,-198.7\" />\n",
       "</g>\n",
       "\n",
       "<g id=\"node6\" class=\"node\">\n",
       "<title>leaf3</title>\n",
       "<polygon fill=\"none\" stroke=\"#444443\" stroke-width=\"0\" points=\"471.25,-150 338.25,-150 338.25,-82 471.25,-82 471.25,-150\" />\n",
       "<svg width=\"125px\" height=\"60px\" viewBox=\"0 0 166.97 79.9485\" version=\"1.1\" preserveAspectRatio=\"xMinYMin meet\" x=\"342.751\" y=\"-146\">\n",
       " <metadata>\n",
       "  <rdf:RDF>\n",
       "   <ns2:Work>\n",
       "    <dc:type rdf:resource=\"http://purl.org/dc/dcmitype/StillImage\" />\n",
       "    <dc:date>2023-04-07T10:03:54.324677</dc:date>\n",
       "    <dc:format>image/svg+xml</dc:format>\n",
       "    <dc:creator>\n",
       "     <ns2:Agent>\n",
       "      <dc:title>Matplotlib v3.7.0, https://matplotlib.org/</dc:title>\n",
       "     </ns2:Agent>\n",
       "    </dc:creator>\n",
       "   </ns2:Work>\n",
       "  </rdf:RDF>\n",
       " </metadata>\n",
       " <defs>\n",
       "  <style type=\"text/css\">*{stroke-linejoin: round; stroke-linecap: butt}</style>\n",
       " </defs>\n",
       " <g id=\"figure_1\">\n",
       "  <g id=\"patch_1\">\n",
       "   <path d=\"M -0 79.9485  L 166.97 79.9485  L 166.97 -0  L -0 -0  z \" style=\"fill: #ffffff\" />\n",
       "  </g>\n",
       "  <g id=\"axes_1\">\n",
       "   <g id=\"patch_2\">\n",
       "    <path d=\"M 62.06 44.352  L 103.91 44.352  L 103.91 -0  L 62.06 -0  z \" style=\"fill: #ffffff\" />\n",
       "   </g>\n",
       "   <g id=\"PathCollection_1\">\n",
       "    <defs>\n",
       "     <path id=\"m59427a358b\" d=\"M 0 1.118034  C 0.296506 1.118034 0.580908 1.000231 0.790569 0.790569  C 1.000231 0.580908 1.118034 0.296506 1.118034 0  C 1.118034 -0.296506 1.000231 -0.580908 0.790569 -0.790569  C 0.580908 -1.000231 0.296506 -1.118034 0 -1.118034  C -0.296506 -1.118034 -0.580908 -1.000231 -0.790569 -0.790569  C -1.000231 -0.580908 -1.118034 -0.296506 -1.118034 0  C -1.118034 0.296506 -1.000231 0.580908 -0.790569 0.790569  C -0.580908 1.000231 -0.296506 1.118034 0 1.118034  z \" style=\"stroke: #4575b4; stroke-opacity: 0.7; stroke-width: 0.3\" />\n",
       "    </defs>\n",
       "    <g clip-path=\"url(#p1d439a948a)\">\n",
       "     <use xlink:href=\"#m59427a358b\" x=\"83.377775\" y=\"43.047146\" style=\"fill: #4575b4; fill-opacity: 0.7; stroke: #4575b4; stroke-opacity: 0.7; stroke-width: 0.3\" />\n",
       "     <use xlink:href=\"#m59427a358b\" x=\"88.72303\" y=\"20.864621\" style=\"fill: #4575b4; fill-opacity: 0.7; stroke: #4575b4; stroke-opacity: 0.7; stroke-width: 0.3\" />\n",
       "     <use xlink:href=\"#m59427a358b\" x=\"82.497416\" y=\"35.218019\" style=\"fill: #4575b4; fill-opacity: 0.7; stroke: #4575b4; stroke-opacity: 0.7; stroke-width: 0.3\" />\n",
       "     <use xlink:href=\"#m59427a358b\" x=\"83.995907\" y=\"44.352\" style=\"fill: #4575b4; fill-opacity: 0.7; stroke: #4575b4; stroke-opacity: 0.7; stroke-width: 0.3\" />\n",
       "     <use xlink:href=\"#m59427a358b\" x=\"80.559838\" y=\"37.827728\" style=\"fill: #4575b4; fill-opacity: 0.7; stroke: #4575b4; stroke-opacity: 0.7; stroke-width: 0.3\" />\n",
       "     <use xlink:href=\"#m59427a358b\" x=\"82.645912\" y=\"26.084039\" style=\"fill: #4575b4; fill-opacity: 0.7; stroke: #4575b4; stroke-opacity: 0.7; stroke-width: 0.3\" />\n",
       "     <use xlink:href=\"#m59427a358b\" x=\"84.476003\" y=\"26.084039\" style=\"fill: #4575b4; fill-opacity: 0.7; stroke: #4575b4; stroke-opacity: 0.7; stroke-width: 0.3\" />\n",
       "     <use xlink:href=\"#m59427a358b\" x=\"86.931423\" y=\"39.132583\" style=\"fill: #4575b4; fill-opacity: 0.7; stroke: #4575b4; stroke-opacity: 0.7; stroke-width: 0.3\" />\n",
       "     <use xlink:href=\"#m59427a358b\" x=\"83.979466\" y=\"33.913165\" style=\"fill: #4575b4; fill-opacity: 0.7; stroke: #4575b4; stroke-opacity: 0.7; stroke-width: 0.3\" />\n",
       "     <use xlink:href=\"#m59427a358b\" x=\"79.325644\" y=\"11.730641\" style=\"fill: #4575b4; fill-opacity: 0.7; stroke: #4575b4; stroke-opacity: 0.7; stroke-width: 0.3\" />\n",
       "     <use xlink:href=\"#m59427a358b\" x=\"86.160402\" y=\"10.425786\" style=\"fill: #4575b4; fill-opacity: 0.7; stroke: #4575b4; stroke-opacity: 0.7; stroke-width: 0.3\" />\n",
       "     <use xlink:href=\"#m59427a358b\" x=\"78.637846\" y=\"39.132583\" style=\"fill: #4575b4; fill-opacity: 0.7; stroke: #4575b4; stroke-opacity: 0.7; stroke-width: 0.3\" />\n",
       "     <use xlink:href=\"#m59427a358b\" x=\"88.546159\" y=\"14.34035\" style=\"fill: #4575b4; fill-opacity: 0.7; stroke: #4575b4; stroke-opacity: 0.7; stroke-width: 0.3\" />\n",
       "     <use xlink:href=\"#m59427a358b\" x=\"83.035816\" y=\"26.084039\" style=\"fill: #4575b4; fill-opacity: 0.7; stroke: #4575b4; stroke-opacity: 0.7; stroke-width: 0.3\" />\n",
       "     <use xlink:href=\"#m59427a358b\" x=\"85.599231\" y=\"35.218019\" style=\"fill: #4575b4; fill-opacity: 0.7; stroke: #4575b4; stroke-opacity: 0.7; stroke-width: 0.3\" />\n",
       "     <use xlink:href=\"#m59427a358b\" x=\"83.210745\" y=\"16.950058\" style=\"fill: #4575b4; fill-opacity: 0.7; stroke: #4575b4; stroke-opacity: 0.7; stroke-width: 0.3\" />\n",
       "     <use xlink:href=\"#m59427a358b\" x=\"88.14978\" y=\"41.742291\" style=\"fill: #4575b4; fill-opacity: 0.7; stroke: #4575b4; stroke-opacity: 0.7; stroke-width: 0.3\" />\n",
       "     <use xlink:href=\"#m59427a358b\" x=\"77.705308\" y=\"31.303456\" style=\"fill: #4575b4; fill-opacity: 0.7; stroke: #4575b4; stroke-opacity: 0.7; stroke-width: 0.3\" />\n",
       "     <use xlink:href=\"#m59427a358b\" x=\"76.168008\" y=\"33.913165\" style=\"fill: #4575b4; fill-opacity: 0.7; stroke: #4575b4; stroke-opacity: 0.7; stroke-width: 0.3\" />\n",
       "     <use xlink:href=\"#m59427a358b\" x=\"81.819374\" y=\"41.742291\" style=\"fill: #4575b4; fill-opacity: 0.7; stroke: #4575b4; stroke-opacity: 0.7; stroke-width: 0.3\" />\n",
       "     <use xlink:href=\"#m59427a358b\" x=\"81.390903\" y=\"39.132583\" style=\"fill: #4575b4; fill-opacity: 0.7; stroke: #4575b4; stroke-opacity: 0.7; stroke-width: 0.3\" />\n",
       "     <use xlink:href=\"#m59427a358b\" x=\"83.534367\" y=\"40.437437\" style=\"fill: #4575b4; fill-opacity: 0.7; stroke: #4575b4; stroke-opacity: 0.7; stroke-width: 0.3\" />\n",
       "     <use xlink:href=\"#m59427a358b\" x=\"86.217882\" y=\"43.047146\" style=\"fill: #4575b4; fill-opacity: 0.7; stroke: #4575b4; stroke-opacity: 0.7; stroke-width: 0.3\" />\n",
       "     <use xlink:href=\"#m59427a358b\" x=\"85.424258\" y=\"2.59666\" style=\"fill: #4575b4; fill-opacity: 0.7; stroke: #4575b4; stroke-opacity: 0.7; stroke-width: 0.3\" />\n",
       "     <use xlink:href=\"#m59427a358b\" x=\"77.066412\" y=\"27.388893\" style=\"fill: #4575b4; fill-opacity: 0.7; stroke: #4575b4; stroke-opacity: 0.7; stroke-width: 0.3\" />\n",
       "     <use xlink:href=\"#m59427a358b\" x=\"80.74557\" y=\"31.303456\" style=\"fill: #4575b4; fill-opacity: 0.7; stroke: #4575b4; stroke-opacity: 0.7; stroke-width: 0.3\" />\n",
       "     <use xlink:href=\"#m59427a358b\" x=\"83.704191\" y=\"28.693748\" style=\"fill: #4575b4; fill-opacity: 0.7; stroke: #4575b4; stroke-opacity: 0.7; stroke-width: 0.3\" />\n",
       "     <use xlink:href=\"#m59427a358b\" x=\"88.547415\" y=\"39.132583\" style=\"fill: #4575b4; fill-opacity: 0.7; stroke: #4575b4; stroke-opacity: 0.7; stroke-width: 0.3\" />\n",
       "     <use xlink:href=\"#m59427a358b\" x=\"84.075671\" y=\"39.132583\" style=\"fill: #4575b4; fill-opacity: 0.7; stroke: #4575b4; stroke-opacity: 0.7; stroke-width: 0.3\" />\n",
       "     <use xlink:href=\"#m59427a358b\" x=\"78.839153\" y=\"24.779184\" style=\"fill: #4575b4; fill-opacity: 0.7; stroke: #4575b4; stroke-opacity: 0.7; stroke-width: 0.3\" />\n",
       "     <use xlink:href=\"#m59427a358b\" x=\"79.261688\" y=\"44.352\" style=\"fill: #4575b4; fill-opacity: 0.7; stroke: #4575b4; stroke-opacity: 0.7; stroke-width: 0.3\" />\n",
       "     <use xlink:href=\"#m59427a358b\" x=\"86.878156\" y=\"40.437437\" style=\"fill: #4575b4; fill-opacity: 0.7; stroke: #4575b4; stroke-opacity: 0.7; stroke-width: 0.3\" />\n",
       "     <use xlink:href=\"#m59427a358b\" x=\"85.549751\" y=\"24.779184\" style=\"fill: #4575b4; fill-opacity: 0.7; stroke: #4575b4; stroke-opacity: 0.7; stroke-width: 0.3\" />\n",
       "     <use xlink:href=\"#m59427a358b\" x=\"83.435175\" y=\"22.169476\" style=\"fill: #4575b4; fill-opacity: 0.7; stroke: #4575b4; stroke-opacity: 0.7; stroke-width: 0.3\" />\n",
       "     <use xlink:href=\"#m59427a358b\" x=\"85.856648\" y=\"13.035495\" style=\"fill: #4575b4; fill-opacity: 0.7; stroke: #4575b4; stroke-opacity: 0.7; stroke-width: 0.3\" />\n",
       "     <use xlink:href=\"#m59427a358b\" x=\"90.649132\" y=\"7.816078\" style=\"fill: #4575b4; fill-opacity: 0.7; stroke: #4575b4; stroke-opacity: 0.7; stroke-width: 0.3\" />\n",
       "     <use xlink:href=\"#m59427a358b\" x=\"88.400611\" y=\"13.035495\" style=\"fill: #4575b4; fill-opacity: 0.7; stroke: #4575b4; stroke-opacity: 0.7; stroke-width: 0.3\" />\n",
       "     <use xlink:href=\"#m59427a358b\" x=\"77.389984\" y=\"1.291806\" style=\"fill: #4575b4; fill-opacity: 0.7; stroke: #4575b4; stroke-opacity: 0.7; stroke-width: 0.3\" />\n",
       "     <use xlink:href=\"#m59427a358b\" x=\"83.56601\" y=\"13.035495\" style=\"fill: #4575b4; fill-opacity: 0.7; stroke: #4575b4; stroke-opacity: 0.7; stroke-width: 0.3\" />\n",
       "     <use xlink:href=\"#m59427a358b\" x=\"85.734959\" y=\"23.47433\" style=\"fill: #4575b4; fill-opacity: 0.7; stroke: #4575b4; stroke-opacity: 0.7; stroke-width: 0.3\" />\n",
       "     <use xlink:href=\"#m59427a358b\" x=\"83.909854\" y=\"44.352\" style=\"fill: #4575b4; fill-opacity: 0.7; stroke: #4575b4; stroke-opacity: 0.7; stroke-width: 0.3\" />\n",
       "     <use xlink:href=\"#m59427a358b\" x=\"77.876128\" y=\"28.693748\" style=\"fill: #4575b4; fill-opacity: 0.7; stroke: #4575b4; stroke-opacity: 0.7; stroke-width: 0.3\" />\n",
       "     <use xlink:href=\"#m59427a358b\" x=\"78.633735\" y=\"44.352\" style=\"fill: #4575b4; fill-opacity: 0.7; stroke: #4575b4; stroke-opacity: 0.7; stroke-width: 0.3\" />\n",
       "     <use xlink:href=\"#m59427a358b\" x=\"84.387868\" y=\"31.303456\" style=\"fill: #4575b4; fill-opacity: 0.7; stroke: #4575b4; stroke-opacity: 0.7; stroke-width: 0.3\" />\n",
       "     <use xlink:href=\"#m59427a358b\" x=\"79.319558\" y=\"41.742291\" style=\"fill: #4575b4; fill-opacity: 0.7; stroke: #4575b4; stroke-opacity: 0.7; stroke-width: 0.3\" />\n",
       "     <use xlink:href=\"#m59427a358b\" x=\"83.025963\" y=\"16.950058\" style=\"fill: #4575b4; fill-opacity: 0.7; stroke: #4575b4; stroke-opacity: 0.7; stroke-width: 0.3\" />\n",
       "     <use xlink:href=\"#m59427a358b\" x=\"78.609766\" y=\"5.206369\" style=\"fill: #4575b4; fill-opacity: 0.7; stroke: #4575b4; stroke-opacity: 0.7; stroke-width: 0.3\" />\n",
       "     <use xlink:href=\"#m59427a358b\" x=\"88.041537\" y=\"32.608311\" style=\"fill: #4575b4; fill-opacity: 0.7; stroke: #4575b4; stroke-opacity: 0.7; stroke-width: 0.3\" />\n",
       "     <use xlink:href=\"#m59427a358b\" x=\"76.866755\" y=\"40.437437\" style=\"fill: #4575b4; fill-opacity: 0.7; stroke: #4575b4; stroke-opacity: 0.7; stroke-width: 0.3\" />\n",
       "     <use xlink:href=\"#m59427a358b\" x=\"81.324065\" y=\"40.437437\" style=\"fill: #4575b4; fill-opacity: 0.7; stroke: #4575b4; stroke-opacity: 0.7; stroke-width: 0.3\" />\n",
       "     <use xlink:href=\"#m59427a358b\" x=\"79.009126\" y=\"16.950058\" style=\"fill: #4575b4; fill-opacity: 0.7; stroke: #4575b4; stroke-opacity: 0.7; stroke-width: 0.3\" />\n",
       "     <use xlink:href=\"#m59427a358b\" x=\"79.66573\" y=\"43.047146\" style=\"fill: #4575b4; fill-opacity: 0.7; stroke: #4575b4; stroke-opacity: 0.7; stroke-width: 0.3\" />\n",
       "     <use xlink:href=\"#m59427a358b\" x=\"85.7555\" y=\"28.693748\" style=\"fill: #4575b4; fill-opacity: 0.7; stroke: #4575b4; stroke-opacity: 0.7; stroke-width: 0.3\" />\n",
       "     <use xlink:href=\"#m59427a358b\" x=\"79.11825\" y=\"39.132583\" style=\"fill: #4575b4; fill-opacity: 0.7; stroke: #4575b4; stroke-opacity: 0.7; stroke-width: 0.3\" />\n",
       "     <use xlink:href=\"#m59427a358b\" x=\"84.167339\" y=\"41.742291\" style=\"fill: #4575b4; fill-opacity: 0.7; stroke: #4575b4; stroke-opacity: 0.7; stroke-width: 0.3\" />\n",
       "     <use xlink:href=\"#m59427a358b\" x=\"84.591034\" y=\"36.522874\" style=\"fill: #4575b4; fill-opacity: 0.7; stroke: #4575b4; stroke-opacity: 0.7; stroke-width: 0.3\" />\n",
       "     <use xlink:href=\"#m59427a358b\" x=\"86.046035\" y=\"44.352\" style=\"fill: #4575b4; fill-opacity: 0.7; stroke: #4575b4; stroke-opacity: 0.7; stroke-width: 0.3\" />\n",
       "     <use xlink:href=\"#m59427a358b\" x=\"79.540026\" y=\"43.047146\" style=\"fill: #4575b4; fill-opacity: 0.7; stroke: #4575b4; stroke-opacity: 0.7; stroke-width: 0.3\" />\n",
       "     <use xlink:href=\"#m59427a358b\" x=\"77.969888\" y=\"29.998602\" style=\"fill: #4575b4; fill-opacity: 0.7; stroke: #4575b4; stroke-opacity: 0.7; stroke-width: 0.3\" />\n",
       "     <use xlink:href=\"#m59427a358b\" x=\"84.163619\" y=\"23.47433\" style=\"fill: #4575b4; fill-opacity: 0.7; stroke: #4575b4; stroke-opacity: 0.7; stroke-width: 0.3\" />\n",
       "     <use xlink:href=\"#m59427a358b\" x=\"77.530074\" y=\"29.998602\" style=\"fill: #4575b4; fill-opacity: 0.7; stroke: #4575b4; stroke-opacity: 0.7; stroke-width: 0.3\" />\n",
       "     <use xlink:href=\"#m59427a358b\" x=\"84.526629\" y=\"29.998602\" style=\"fill: #4575b4; fill-opacity: 0.7; stroke: #4575b4; stroke-opacity: 0.7; stroke-width: 0.3\" />\n",
       "     <use xlink:href=\"#m59427a358b\" x=\"80.145148\" y=\"39.132583\" style=\"fill: #4575b4; fill-opacity: 0.7; stroke: #4575b4; stroke-opacity: 0.7; stroke-width: 0.3\" />\n",
       "     <use xlink:href=\"#m59427a358b\" x=\"85.649657\" y=\"43.047146\" style=\"fill: #4575b4; fill-opacity: 0.7; stroke: #4575b4; stroke-opacity: 0.7; stroke-width: 0.3\" />\n",
       "     <use xlink:href=\"#m59427a358b\" x=\"85.255808\" y=\"7.816078\" style=\"fill: #4575b4; fill-opacity: 0.7; stroke: #4575b4; stroke-opacity: 0.7; stroke-width: 0.3\" />\n",
       "     <use xlink:href=\"#m59427a358b\" x=\"83.608855\" y=\"3.901515\" style=\"fill: #4575b4; fill-opacity: 0.7; stroke: #4575b4; stroke-opacity: 0.7; stroke-width: 0.3\" />\n",
       "     <use xlink:href=\"#m59427a358b\" x=\"86.04656\" y=\"6.511223\" style=\"fill: #4575b4; fill-opacity: 0.7; stroke: #4575b4; stroke-opacity: 0.7; stroke-width: 0.3\" />\n",
       "     <use xlink:href=\"#m59427a358b\" x=\"84.687823\" y=\"36.522874\" style=\"fill: #4575b4; fill-opacity: 0.7; stroke: #4575b4; stroke-opacity: 0.7; stroke-width: 0.3\" />\n",
       "     <use xlink:href=\"#m59427a358b\" x=\"76.314167\" y=\"43.047146\" style=\"fill: #4575b4; fill-opacity: 0.7; stroke: #4575b4; stroke-opacity: 0.7; stroke-width: 0.3\" />\n",
       "     <use xlink:href=\"#m59427a358b\" x=\"83.327549\" y=\"26.084039\" style=\"fill: #4575b4; fill-opacity: 0.7; stroke: #4575b4; stroke-opacity: 0.7; stroke-width: 0.3\" />\n",
       "     <use xlink:href=\"#m59427a358b\" x=\"86.780745\" y=\"40.437437\" style=\"fill: #4575b4; fill-opacity: 0.7; stroke: #4575b4; stroke-opacity: 0.7; stroke-width: 0.3\" />\n",
       "     <use xlink:href=\"#m59427a358b\" x=\"84.388202\" y=\"41.742291\" style=\"fill: #4575b4; fill-opacity: 0.7; stroke: #4575b4; stroke-opacity: 0.7; stroke-width: 0.3\" />\n",
       "     <use xlink:href=\"#m59427a358b\" x=\"82.623049\" y=\"33.913165\" style=\"fill: #4575b4; fill-opacity: 0.7; stroke: #4575b4; stroke-opacity: 0.7; stroke-width: 0.3\" />\n",
       "     <use xlink:href=\"#m59427a358b\" x=\"80.131198\" y=\"1.291806\" style=\"fill: #4575b4; fill-opacity: 0.7; stroke: #4575b4; stroke-opacity: 0.7; stroke-width: 0.3\" />\n",
       "     <use xlink:href=\"#m59427a358b\" x=\"84.496624\" y=\"31.303456\" style=\"fill: #4575b4; fill-opacity: 0.7; stroke: #4575b4; stroke-opacity: 0.7; stroke-width: 0.3\" />\n",
       "     <use xlink:href=\"#m59427a358b\" x=\"78.900285\" y=\"37.827728\" style=\"fill: #4575b4; fill-opacity: 0.7; stroke: #4575b4; stroke-opacity: 0.7; stroke-width: 0.3\" />\n",
       "     <use xlink:href=\"#m59427a358b\" x=\"82.108074\" y=\"19.559767\" style=\"fill: #4575b4; fill-opacity: 0.7; stroke: #4575b4; stroke-opacity: 0.7; stroke-width: 0.3\" />\n",
       "     <use xlink:href=\"#m59427a358b\" x=\"86.169366\" y=\"33.913165\" style=\"fill: #4575b4; fill-opacity: 0.7; stroke: #4575b4; stroke-opacity: 0.7; stroke-width: 0.3\" />\n",
       "     <use xlink:href=\"#m59427a358b\" x=\"88.322851\" y=\"14.34035\" style=\"fill: #4575b4; fill-opacity: 0.7; stroke: #4575b4; stroke-opacity: 0.7; stroke-width: 0.3\" />\n",
       "     <use xlink:href=\"#m59427a358b\" x=\"85.851737\" y=\"39.132583\" style=\"fill: #4575b4; fill-opacity: 0.7; stroke: #4575b4; stroke-opacity: 0.7; stroke-width: 0.3\" />\n",
       "     <use xlink:href=\"#m59427a358b\" x=\"84.74732\" y=\"16.950058\" style=\"fill: #4575b4; fill-opacity: 0.7; stroke: #4575b4; stroke-opacity: 0.7; stroke-width: 0.3\" />\n",
       "     <use xlink:href=\"#m59427a358b\" x=\"80.58094\" y=\"41.742291\" style=\"fill: #4575b4; fill-opacity: 0.7; stroke: #4575b4; stroke-opacity: 0.7; stroke-width: 0.3\" />\n",
       "     <use xlink:href=\"#m59427a358b\" x=\"90.031675\" y=\"23.47433\" style=\"fill: #4575b4; fill-opacity: 0.7; stroke: #4575b4; stroke-opacity: 0.7; stroke-width: 0.3\" />\n",
       "     <use xlink:href=\"#m59427a358b\" x=\"85.776792\" y=\"27.388893\" style=\"fill: #4575b4; fill-opacity: 0.7; stroke: #4575b4; stroke-opacity: 0.7; stroke-width: 0.3\" />\n",
       "     <use xlink:href=\"#m59427a358b\" x=\"84.229731\" y=\"24.779184\" style=\"fill: #4575b4; fill-opacity: 0.7; stroke: #4575b4; stroke-opacity: 0.7; stroke-width: 0.3\" />\n",
       "     <use xlink:href=\"#m59427a358b\" x=\"79.34511\" y=\"31.303456\" style=\"fill: #4575b4; fill-opacity: 0.7; stroke: #4575b4; stroke-opacity: 0.7; stroke-width: 0.3\" />\n",
       "     <use xlink:href=\"#m59427a358b\" x=\"84.242561\" y=\"41.742291\" style=\"fill: #4575b4; fill-opacity: 0.7; stroke: #4575b4; stroke-opacity: 0.7; stroke-width: 0.3\" />\n",
       "     <use xlink:href=\"#m59427a358b\" x=\"84.324221\" y=\"40.437437\" style=\"fill: #4575b4; fill-opacity: 0.7; stroke: #4575b4; stroke-opacity: 0.7; stroke-width: 0.3\" />\n",
       "     <use xlink:href=\"#m59427a358b\" x=\"85.001463\" y=\"19.559767\" style=\"fill: #4575b4; fill-opacity: 0.7; stroke: #4575b4; stroke-opacity: 0.7; stroke-width: 0.3\" />\n",
       "     <use xlink:href=\"#m59427a358b\" x=\"85.471504\" y=\"13.035495\" style=\"fill: #4575b4; fill-opacity: 0.7; stroke: #4575b4; stroke-opacity: 0.7; stroke-width: 0.3\" />\n",
       "     <use xlink:href=\"#m59427a358b\" x=\"80.287908\" y=\"43.047146\" style=\"fill: #4575b4; fill-opacity: 0.7; stroke: #4575b4; stroke-opacity: 0.7; stroke-width: 0.3\" />\n",
       "     <use xlink:href=\"#m59427a358b\" x=\"82.363183\" y=\"22.169476\" style=\"fill: #4575b4; fill-opacity: 0.7; stroke: #4575b4; stroke-opacity: 0.7; stroke-width: 0.3\" />\n",
       "     <use xlink:href=\"#m59427a358b\" x=\"81.727525\" y=\"31.303456\" style=\"fill: #4575b4; fill-opacity: 0.7; stroke: #4575b4; stroke-opacity: 0.7; stroke-width: 0.3\" />\n",
       "    </g>\n",
       "   </g>\n",
       "   <g id=\"matplotlib.axis_1\" />\n",
       "   <g id=\"matplotlib.axis_2\">\n",
       "    <g id=\"ytick_1\">\n",
       "     <g id=\"line2d_1\">\n",
       "      <defs>\n",
       "       <path id=\"m1df2eff145\" d=\"M 0 0  L -3.5 0  \" style=\"stroke: #000000; stroke-width: 0.3\" />\n",
       "      </defs>\n",
       "      <g>\n",
       "       <use xlink:href=\"#m1df2eff145\" x=\"62.06\" y=\"44.352\" style=\"stroke: #000000; stroke-width: 0.3\" />\n",
       "      </g>\n",
       "     </g>\n",
       "     <g id=\"text_1\">\n",
       "      \n",
       "      <g style=\"fill: #444443\" transform=\"translate(49.97 47.391375) scale(0.08 -0.08)\">\n",
       "       <defs>\n",
       "        <path id=\"DejaVuSans-30\" d=\"M 2034 4250  Q 1547 4250 1301 3770  Q 1056 3291 1056 2328  Q 1056 1369 1301 889  Q 1547 409 2034 409  Q 2525 409 2770 889  Q 3016 1369 3016 2328  Q 3016 3291 2770 3770  Q 2525 4250 2034 4250  z M 2034 4750  Q 2819 4750 3233 4129  Q 3647 3509 3647 2328  Q 3647 1150 3233 529  Q 2819 -91 2034 -91  Q 1250 -91 836 529  Q 422 1150 422 2328  Q 422 3509 836 4129  Q 1250 4750 2034 4750  z \" transform=\"scale(0.015625)\" />\n",
       "       </defs>\n",
       "       <use xlink:href=\"#DejaVuSans-30\" />\n",
       "      </g>\n",
       "     </g>\n",
       "    </g>\n",
       "    <g id=\"ytick_2\">\n",
       "     <g id=\"line2d_2\">\n",
       "      <g>\n",
       "       <use xlink:href=\"#m1df2eff145\" x=\"62.06\" y=\"18.254913\" style=\"stroke: #000000; stroke-width: 0.3\" />\n",
       "      </g>\n",
       "     </g>\n",
       "     <g id=\"text_2\">\n",
       "      \n",
       "      <g style=\"fill: #444443\" transform=\"translate(44.88 21.294288) scale(0.08 -0.08)\">\n",
       "       <defs>\n",
       "        <path id=\"DejaVuSans-32\" d=\"M 1228 531  L 3431 531  L 3431 0  L 469 0  L 469 531  Q 828 903 1448 1529  Q 2069 2156 2228 2338  Q 2531 2678 2651 2914  Q 2772 3150 2772 3378  Q 2772 3750 2511 3984  Q 2250 4219 1831 4219  Q 1534 4219 1204 4116  Q 875 4013 500 3803  L 500 4441  Q 881 4594 1212 4672  Q 1544 4750 1819 4750  Q 2544 4750 2975 4387  Q 3406 4025 3406 3419  Q 3406 3131 3298 2873  Q 3191 2616 2906 2266  Q 2828 2175 2409 1742  Q 1991 1309 1228 531  z \" transform=\"scale(0.015625)\" />\n",
       "       </defs>\n",
       "       <use xlink:href=\"#DejaVuSans-32\" />\n",
       "       <use xlink:href=\"#DejaVuSans-30\" x=\"63.623047\" />\n",
       "      </g>\n",
       "     </g>\n",
       "    </g>\n",
       "   </g>\n",
       "   <g id=\"line2d_3\">\n",
       "    <path d=\"M 62.06 29.437374  L 167.97 29.437374  \" clip-path=\"url(#p1d439a948a)\" style=\"fill: none; stroke-dasharray: 3.7,1.6; stroke-dashoffset: 0; stroke: #444443\" />\n",
       "   </g>\n",
       "   <g id=\"patch_3\">\n",
       "    <path d=\"M 62.06 44.352  L 62.06 -0  \" style=\"fill: none; stroke: #444443; stroke-width: 0.3; stroke-linejoin: miter; stroke-linecap: square\" />\n",
       "   </g>\n",
       "   <g id=\"text_3\">\n",
       "    \n",
       "    <g style=\"fill: #444443\" transform=\"translate(0 58.2595) scale(0.16 -0.16)\">\n",
       "     <defs>\n",
       "      <path id=\"DejaVuSans-73\" d=\"M 2834 3397  L 2834 2853  Q 2591 2978 2328 3040  Q 2066 3103 1784 3103  Q 1356 3103 1142 2972  Q 928 2841 928 2578  Q 928 2378 1081 2264  Q 1234 2150 1697 2047  L 1894 2003  Q 2506 1872 2764 1633  Q 3022 1394 3022 966  Q 3022 478 2636 193  Q 2250 -91 1575 -91  Q 1294 -91 989 -36  Q 684 19 347 128  L 347 722  Q 666 556 975 473  Q 1284 391 1588 391  Q 1994 391 2212 530  Q 2431 669 2431 922  Q 2431 1156 2273 1281  Q 2116 1406 1581 1522  L 1381 1569  Q 847 1681 609 1914  Q 372 2147 372 2553  Q 372 3047 722 3315  Q 1072 3584 1716 3584  Q 2034 3584 2315 3537  Q 2597 3491 2834 3397  z \" transform=\"scale(0.015625)\" />\n",
       "      <path id=\"DejaVuSans-61\" d=\"M 2194 1759  Q 1497 1759 1228 1600  Q 959 1441 959 1056  Q 959 750 1161 570  Q 1363 391 1709 391  Q 2188 391 2477 730  Q 2766 1069 2766 1631  L 2766 1759  L 2194 1759  z M 3341 1997  L 3341 0  L 2766 0  L 2766 531  Q 2569 213 2275 61  Q 1981 -91 1556 -91  Q 1019 -91 701 211  Q 384 513 384 1019  Q 384 1609 779 1909  Q 1175 2209 1959 2209  L 2766 2209  L 2766 2266  Q 2766 2663 2505 2880  Q 2244 3097 1772 3097  Q 1472 3097 1187 3025  Q 903 2953 641 2809  L 641 3341  Q 956 3463 1253 3523  Q 1550 3584 1831 3584  Q 2591 3584 2966 3190  Q 3341 2797 3341 1997  z \" transform=\"scale(0.015625)\" />\n",
       "      <path id=\"DejaVuSans-6c\" d=\"M 603 4863  L 1178 4863  L 1178 0  L 603 0  L 603 4863  z \" transform=\"scale(0.015625)\" />\n",
       "      <path id=\"DejaVuSans-65\" d=\"M 3597 1894  L 3597 1613  L 953 1613  Q 991 1019 1311 708  Q 1631 397 2203 397  Q 2534 397 2845 478  Q 3156 559 3463 722  L 3463 178  Q 3153 47 2828 -22  Q 2503 -91 2169 -91  Q 1331 -91 842 396  Q 353 884 353 1716  Q 353 2575 817 3079  Q 1281 3584 2069 3584  Q 2775 3584 3186 3129  Q 3597 2675 3597 1894  z M 3022 2063  Q 3016 2534 2758 2815  Q 2500 3097 2075 3097  Q 1594 3097 1305 2825  Q 1016 2553 972 2059  L 3022 2063  z \" transform=\"scale(0.015625)\" />\n",
       "      <path id=\"DejaVuSans-5f\" d=\"M 3263 -1063  L 3263 -1509  L -63 -1509  L -63 -1063  L 3263 -1063  z \" transform=\"scale(0.015625)\" />\n",
       "      <path id=\"DejaVuSans-64\" d=\"M 2906 2969  L 2906 4863  L 3481 4863  L 3481 0  L 2906 0  L 2906 525  Q 2725 213 2448 61  Q 2172 -91 1784 -91  Q 1150 -91 751 415  Q 353 922 353 1747  Q 353 2572 751 3078  Q 1150 3584 1784 3584  Q 2172 3584 2448 3432  Q 2725 3281 2906 2969  z M 947 1747  Q 947 1113 1208 752  Q 1469 391 1925 391  Q 2381 391 2643 752  Q 2906 1113 2906 1747  Q 2906 2381 2643 2742  Q 2381 3103 1925 3103  Q 1469 3103 1208 2742  Q 947 2381 947 1747  z \" transform=\"scale(0.015625)\" />\n",
       "      <path id=\"DejaVuSans-75\" d=\"M 544 1381  L 544 3500  L 1119 3500  L 1119 1403  Q 1119 906 1312 657  Q 1506 409 1894 409  Q 2359 409 2629 706  Q 2900 1003 2900 1516  L 2900 3500  L 3475 3500  L 3475 0  L 2900 0  L 2900 538  Q 2691 219 2414 64  Q 2138 -91 1772 -91  Q 1169 -91 856 284  Q 544 659 544 1381  z M 1991 3584  L 1991 3584  z \" transform=\"scale(0.015625)\" />\n",
       "      <path id=\"DejaVuSans-72\" d=\"M 2631 2963  Q 2534 3019 2420 3045  Q 2306 3072 2169 3072  Q 1681 3072 1420 2755  Q 1159 2438 1159 1844  L 1159 0  L 581 0  L 581 3500  L 1159 3500  L 1159 2956  Q 1341 3275 1631 3429  Q 1922 3584 2338 3584  Q 2397 3584 2469 3576  Q 2541 3569 2628 3553  L 2631 2963  z \" transform=\"scale(0.015625)\" />\n",
       "      <path id=\"DejaVuSans-74\" d=\"M 1172 4494  L 1172 3500  L 2356 3500  L 2356 3053  L 1172 3053  L 1172 1153  Q 1172 725 1289 603  Q 1406 481 1766 481  L 2356 481  L 2356 0  L 1766 0  Q 1100 0 847 248  Q 594 497 594 1153  L 594 3053  L 172 3053  L 172 3500  L 594 3500  L 594 4494  L 1172 4494  z \" transform=\"scale(0.015625)\" />\n",
       "      <path id=\"DejaVuSans-69\" d=\"M 603 3500  L 1178 3500  L 1178 0  L 603 0  L 603 3500  z M 603 4863  L 1178 4863  L 1178 4134  L 603 4134  L 603 4863  z \" transform=\"scale(0.015625)\" />\n",
       "      <path id=\"DejaVuSans-6f\" d=\"M 1959 3097  Q 1497 3097 1228 2736  Q 959 2375 959 1747  Q 959 1119 1226 758  Q 1494 397 1959 397  Q 2419 397 2687 759  Q 2956 1122 2956 1747  Q 2956 2369 2687 2733  Q 2419 3097 1959 3097  z M 1959 3584  Q 2709 3584 3137 3096  Q 3566 2609 3566 1747  Q 3566 888 3137 398  Q 2709 -91 1959 -91  Q 1206 -91 779 398  Q 353 888 353 1747  Q 353 2609 779 3096  Q 1206 3584 1959 3584  z \" transform=\"scale(0.015625)\" />\n",
       "      <path id=\"DejaVuSans-6e\" d=\"M 3513 2113  L 3513 0  L 2938 0  L 2938 2094  Q 2938 2591 2744 2837  Q 2550 3084 2163 3084  Q 1697 3084 1428 2787  Q 1159 2491 1159 1978  L 1159 0  L 581 0  L 581 3500  L 1159 3500  L 1159 2956  Q 1366 3272 1645 3428  Q 1925 3584 2291 3584  Q 2894 3584 3203 3211  Q 3513 2838 3513 2113  z \" transform=\"scale(0.015625)\" />\n",
       "      <path id=\"DejaVuSans-3d\" d=\"M 678 2906  L 4684 2906  L 4684 2381  L 678 2381  L 678 2906  z M 678 1631  L 4684 1631  L 4684 1100  L 678 1100  L 678 1631  z \" transform=\"scale(0.015625)\" />\n",
       "      <path id=\"DejaVuSans-31\" d=\"M 794 531  L 1825 531  L 1825 4091  L 703 3866  L 703 4441  L 1819 4666  L 2450 4666  L 2450 531  L 3481 531  L 3481 0  L 794 0  L 794 531  z \" transform=\"scale(0.015625)\" />\n",
       "      <path id=\"DejaVuSans-2e\" d=\"M 684 794  L 1344 794  L 1344 0  L 684 0  L 684 794  z \" transform=\"scale(0.015625)\" />\n",
       "      <path id=\"DejaVuSans-34\" d=\"M 2419 4116  L 825 1625  L 2419 1625  L 2419 4116  z M 2253 4666  L 3047 4666  L 3047 1625  L 3713 1625  L 3713 1100  L 3047 1100  L 3047 0  L 2419 0  L 2419 1100  L 313 1100  L 313 1709  L 2253 4666  z \" transform=\"scale(0.015625)\" />\n",
       "      <path id=\"DejaVuSans-33\" d=\"M 2597 2516  Q 3050 2419 3304 2112  Q 3559 1806 3559 1356  Q 3559 666 3084 287  Q 2609 -91 1734 -91  Q 1441 -91 1130 -33  Q 819 25 488 141  L 488 750  Q 750 597 1062 519  Q 1375 441 1716 441  Q 2309 441 2620 675  Q 2931 909 2931 1356  Q 2931 1769 2642 2001  Q 2353 2234 1838 2234  L 1294 2234  L 1294 2753  L 1863 2753  Q 2328 2753 2575 2939  Q 2822 3125 2822 3475  Q 2822 3834 2567 4026  Q 2313 4219 1838 4219  Q 1578 4219 1281 4162  Q 984 4106 628 3988  L 628 4550  Q 988 4650 1302 4700  Q 1616 4750 1894 4750  Q 2613 4750 3031 4423  Q 3450 4097 3450 3541  Q 3450 3153 3228 2886  Q 3006 2619 2597 2516  z \" transform=\"scale(0.015625)\" />\n",
       "     </defs>\n",
       "     <use xlink:href=\"#DejaVuSans-73\" />\n",
       "     <use xlink:href=\"#DejaVuSans-61\" x=\"52.099609\" />\n",
       "     <use xlink:href=\"#DejaVuSans-6c\" x=\"113.378906\" />\n",
       "     <use xlink:href=\"#DejaVuSans-65\" x=\"141.162109\" />\n",
       "     <use xlink:href=\"#DejaVuSans-5f\" x=\"202.685547\" />\n",
       "     <use xlink:href=\"#DejaVuSans-64\" x=\"252.685547\" />\n",
       "     <use xlink:href=\"#DejaVuSans-75\" x=\"316.162109\" />\n",
       "     <use xlink:href=\"#DejaVuSans-72\" x=\"379.541016\" />\n",
       "     <use xlink:href=\"#DejaVuSans-61\" x=\"420.654297\" />\n",
       "     <use xlink:href=\"#DejaVuSans-74\" x=\"481.933594\" />\n",
       "     <use xlink:href=\"#DejaVuSans-69\" x=\"521.142578\" />\n",
       "     <use xlink:href=\"#DejaVuSans-6f\" x=\"548.925781\" />\n",
       "     <use xlink:href=\"#DejaVuSans-6e\" x=\"610.107422\" />\n",
       "     <use xlink:href=\"#DejaVuSans-3d\" x=\"673.486328\" />\n",
       "     <use xlink:href=\"#DejaVuSans-31\" x=\"757.275391\" />\n",
       "     <use xlink:href=\"#DejaVuSans-31\" x=\"820.898438\" />\n",
       "     <use xlink:href=\"#DejaVuSans-2e\" x=\"884.521484\" />\n",
       "     <use xlink:href=\"#DejaVuSans-34\" x=\"916.308594\" />\n",
       "     <use xlink:href=\"#DejaVuSans-33\" x=\"979.931641\" />\n",
       "    </g>\n",
       "    \n",
       "    <g style=\"fill: #444443\" transform=\"translate(61.53125 76.621) scale(0.16 -0.16)\">\n",
       "     <defs>\n",
       "      <path id=\"DejaVuSans-39\" d=\"M 703 97  L 703 672  Q 941 559 1184 500  Q 1428 441 1663 441  Q 2288 441 2617 861  Q 2947 1281 2994 2138  Q 2813 1869 2534 1725  Q 2256 1581 1919 1581  Q 1219 1581 811 2004  Q 403 2428 403 3163  Q 403 3881 828 4315  Q 1253 4750 1959 4750  Q 2769 4750 3195 4129  Q 3622 3509 3622 2328  Q 3622 1225 3098 567  Q 2575 -91 1691 -91  Q 1453 -91 1209 -44  Q 966 3 703 97  z M 1959 2075  Q 2384 2075 2632 2365  Q 2881 2656 2881 3163  Q 2881 3666 2632 3958  Q 2384 4250 1959 4250  Q 1534 4250 1286 3958  Q 1038 3666 1038 3163  Q 1038 2656 1286 2365  Q 1534 2075 1959 2075  z \" transform=\"scale(0.015625)\" />\n",
       "     </defs>\n",
       "     <use xlink:href=\"#DejaVuSans-6e\" />\n",
       "     <use xlink:href=\"#DejaVuSans-3d\" x=\"63.378906\" />\n",
       "     <use xlink:href=\"#DejaVuSans-39\" x=\"147.167969\" />\n",
       "     <use xlink:href=\"#DejaVuSans-33\" x=\"210.791016\" />\n",
       "    </g>\n",
       "   </g>\n",
       "  </g>\n",
       " </g>\n",
       " <defs>\n",
       "  <clipPath id=\"p1d439a948a\">\n",
       "   <rect x=\"62.06\" y=\"-0\" width=\"41.85\" height=\"44.352\" />\n",
       "  </clipPath>\n",
       " </defs>\n",
       "</svg></g>\n",
       "\n",
       "<g id=\"edge4\" class=\"edge\">\n",
       "<title>node2-&gt;leaf3</title>\n",
       "<path fill=\"none\" stroke=\"#444443\" stroke-width=\"0.3\" d=\"M321.68,-111.03C325.74,-111.27 329.82,-111.52 333.89,-111.77\" />\n",
       "<polygon fill=\"#444443\" stroke=\"#444443\" stroke-width=\"0.3\" points=\"333.87,-113.17 337.95,-112.01 334.04,-110.37 333.87,-113.17\" />\n",
       "</g>\n",
       "\n",
       "<g id=\"node7\" class=\"node\">\n",
       "<title>leaf4</title>\n",
       "<polygon fill=\"none\" stroke=\"#444443\" stroke-width=\"0\" points=\"471.25,-68 338.25,-68 338.25,0 471.25,0 471.25,-68\" />\n",
       "<svg width=\"125px\" height=\"60px\" viewBox=\"0 0 166.97 79.9485\" version=\"1.1\" preserveAspectRatio=\"xMinYMin meet\" x=\"342.751\" y=\"-64\">\n",
       " <metadata>\n",
       "  <rdf:RDF>\n",
       "   <ns2:Work>\n",
       "    <dc:type rdf:resource=\"http://purl.org/dc/dcmitype/StillImage\" />\n",
       "    <dc:date>2023-04-07T10:03:54.423140</dc:date>\n",
       "    <dc:format>image/svg+xml</dc:format>\n",
       "    <dc:creator>\n",
       "     <ns2:Agent>\n",
       "      <dc:title>Matplotlib v3.7.0, https://matplotlib.org/</dc:title>\n",
       "     </ns2:Agent>\n",
       "    </dc:creator>\n",
       "   </ns2:Work>\n",
       "  </rdf:RDF>\n",
       " </metadata>\n",
       " <defs>\n",
       "  <style type=\"text/css\">*{stroke-linejoin: round; stroke-linecap: butt}</style>\n",
       " </defs>\n",
       " <g id=\"figure_1\">\n",
       "  <g id=\"patch_1\">\n",
       "   <path d=\"M -0 79.9485  L 166.97 79.9485  L 166.97 -0  L -0 -0  z \" style=\"fill: #ffffff\" />\n",
       "  </g>\n",
       "  <g id=\"axes_1\">\n",
       "   <g id=\"patch_2\">\n",
       "    <path d=\"M 62.06 44.352  L 103.91 44.352  L 103.91 -0  L 62.06 -0  z \" style=\"fill: #ffffff\" />\n",
       "   </g>\n",
       "   <g id=\"PathCollection_1\">\n",
       "    <defs>\n",
       "     <path id=\"mb28bf527d3\" d=\"M 0 1.118034  C 0.296506 1.118034 0.580908 1.000231 0.790569 0.790569  C 1.000231 0.580908 1.118034 0.296506 1.118034 0  C 1.118034 -0.296506 1.000231 -0.580908 0.790569 -0.790569  C 0.580908 -1.000231 0.296506 -1.118034 0 -1.118034  C -0.296506 -1.118034 -0.580908 -1.000231 -0.790569 -0.790569  C -1.000231 -0.580908 -1.118034 -0.296506 -1.118034 0  C -1.118034 0.296506 -1.000231 0.580908 -0.790569 0.790569  C -0.580908 1.000231 -0.296506 1.118034 0 1.118034  z \" style=\"stroke: #4575b4; stroke-opacity: 0.7; stroke-width: 0.3\" />\n",
       "    </defs>\n",
       "    <g clip-path=\"url(#pffe8260ef2)\">\n",
       "     <use xlink:href=\"#mb28bf527d3\" x=\"82.862731\" y=\"31.303456\" style=\"fill: #4575b4; fill-opacity: 0.7; stroke: #4575b4; stroke-opacity: 0.7; stroke-width: 0.3\" />\n",
       "     <use xlink:href=\"#mb28bf527d3\" x=\"85.062369\" y=\"41.742291\" style=\"fill: #4575b4; fill-opacity: 0.7; stroke: #4575b4; stroke-opacity: 0.7; stroke-width: 0.3\" />\n",
       "     <use xlink:href=\"#mb28bf527d3\" x=\"77.473784\" y=\"44.352\" style=\"fill: #4575b4; fill-opacity: 0.7; stroke: #4575b4; stroke-opacity: 0.7; stroke-width: 0.3\" />\n",
       "     <use xlink:href=\"#mb28bf527d3\" x=\"77.677585\" y=\"22.169476\" style=\"fill: #4575b4; fill-opacity: 0.7; stroke: #4575b4; stroke-opacity: 0.7; stroke-width: 0.3\" />\n",
       "     <use xlink:href=\"#mb28bf527d3\" x=\"81.661976\" y=\"36.522874\" style=\"fill: #4575b4; fill-opacity: 0.7; stroke: #4575b4; stroke-opacity: 0.7; stroke-width: 0.3\" />\n",
       "     <use xlink:href=\"#mb28bf527d3\" x=\"85.77576\" y=\"41.742291\" style=\"fill: #4575b4; fill-opacity: 0.7; stroke: #4575b4; stroke-opacity: 0.7; stroke-width: 0.3\" />\n",
       "     <use xlink:href=\"#mb28bf527d3\" x=\"83.972065\" y=\"26.084039\" style=\"fill: #4575b4; fill-opacity: 0.7; stroke: #4575b4; stroke-opacity: 0.7; stroke-width: 0.3\" />\n",
       "     <use xlink:href=\"#mb28bf527d3\" x=\"84.913498\" y=\"32.608311\" style=\"fill: #4575b4; fill-opacity: 0.7; stroke: #4575b4; stroke-opacity: 0.7; stroke-width: 0.3\" />\n",
       "     <use xlink:href=\"#mb28bf527d3\" x=\"81.365853\" y=\"28.693748\" style=\"fill: #4575b4; fill-opacity: 0.7; stroke: #4575b4; stroke-opacity: 0.7; stroke-width: 0.3\" />\n",
       "     <use xlink:href=\"#mb28bf527d3\" x=\"80.848826\" y=\"11.730641\" style=\"fill: #4575b4; fill-opacity: 0.7; stroke: #4575b4; stroke-opacity: 0.7; stroke-width: 0.3\" />\n",
       "     <use xlink:href=\"#mb28bf527d3\" x=\"78.565322\" y=\"40.437437\" style=\"fill: #4575b4; fill-opacity: 0.7; stroke: #4575b4; stroke-opacity: 0.7; stroke-width: 0.3\" />\n",
       "     <use xlink:href=\"#mb28bf527d3\" x=\"83.754478\" y=\"36.522874\" style=\"fill: #4575b4; fill-opacity: 0.7; stroke: #4575b4; stroke-opacity: 0.7; stroke-width: 0.3\" />\n",
       "     <use xlink:href=\"#mb28bf527d3\" x=\"87.27092\" y=\"44.352\" style=\"fill: #4575b4; fill-opacity: 0.7; stroke: #4575b4; stroke-opacity: 0.7; stroke-width: 0.3\" />\n",
       "     <use xlink:href=\"#mb28bf527d3\" x=\"80.067385\" y=\"39.132583\" style=\"fill: #4575b4; fill-opacity: 0.7; stroke: #4575b4; stroke-opacity: 0.7; stroke-width: 0.3\" />\n",
       "     <use xlink:href=\"#mb28bf527d3\" x=\"85.331819\" y=\"44.352\" style=\"fill: #4575b4; fill-opacity: 0.7; stroke: #4575b4; stroke-opacity: 0.7; stroke-width: 0.3\" />\n",
       "     <use xlink:href=\"#mb28bf527d3\" x=\"89.357556\" y=\"44.352\" style=\"fill: #4575b4; fill-opacity: 0.7; stroke: #4575b4; stroke-opacity: 0.7; stroke-width: 0.3\" />\n",
       "     <use xlink:href=\"#mb28bf527d3\" x=\"85.363043\" y=\"33.913165\" style=\"fill: #4575b4; fill-opacity: 0.7; stroke: #4575b4; stroke-opacity: 0.7; stroke-width: 0.3\" />\n",
       "     <use xlink:href=\"#mb28bf527d3\" x=\"81.91058\" y=\"41.742291\" style=\"fill: #4575b4; fill-opacity: 0.7; stroke: #4575b4; stroke-opacity: 0.7; stroke-width: 0.3\" />\n",
       "     <use xlink:href=\"#mb28bf527d3\" x=\"79.637089\" y=\"36.522874\" style=\"fill: #4575b4; fill-opacity: 0.7; stroke: #4575b4; stroke-opacity: 0.7; stroke-width: 0.3\" />\n",
       "     <use xlink:href=\"#mb28bf527d3\" x=\"83.196459\" y=\"15.645204\" style=\"fill: #4575b4; fill-opacity: 0.7; stroke: #4575b4; stroke-opacity: 0.7; stroke-width: 0.3\" />\n",
       "     <use xlink:href=\"#mb28bf527d3\" x=\"84.764171\" y=\"41.742291\" style=\"fill: #4575b4; fill-opacity: 0.7; stroke: #4575b4; stroke-opacity: 0.7; stroke-width: 0.3\" />\n",
       "     <use xlink:href=\"#mb28bf527d3\" x=\"83.501681\" y=\"3.901515\" style=\"fill: #4575b4; fill-opacity: 0.7; stroke: #4575b4; stroke-opacity: 0.7; stroke-width: 0.3\" />\n",
       "     <use xlink:href=\"#mb28bf527d3\" x=\"81.461387\" y=\"35.218019\" style=\"fill: #4575b4; fill-opacity: 0.7; stroke: #4575b4; stroke-opacity: 0.7; stroke-width: 0.3\" />\n",
       "     <use xlink:href=\"#mb28bf527d3\" x=\"87.200687\" y=\"39.132583\" style=\"fill: #4575b4; fill-opacity: 0.7; stroke: #4575b4; stroke-opacity: 0.7; stroke-width: 0.3\" />\n",
       "     <use xlink:href=\"#mb28bf527d3\" x=\"81.931301\" y=\"39.132583\" style=\"fill: #4575b4; fill-opacity: 0.7; stroke: #4575b4; stroke-opacity: 0.7; stroke-width: 0.3\" />\n",
       "     <use xlink:href=\"#mb28bf527d3\" x=\"89.786312\" y=\"22.169476\" style=\"fill: #4575b4; fill-opacity: 0.7; stroke: #4575b4; stroke-opacity: 0.7; stroke-width: 0.3\" />\n",
       "     <use xlink:href=\"#mb28bf527d3\" x=\"81.274119\" y=\"44.352\" style=\"fill: #4575b4; fill-opacity: 0.7; stroke: #4575b4; stroke-opacity: 0.7; stroke-width: 0.3\" />\n",
       "     <use xlink:href=\"#mb28bf527d3\" x=\"82.947719\" y=\"26.084039\" style=\"fill: #4575b4; fill-opacity: 0.7; stroke: #4575b4; stroke-opacity: 0.7; stroke-width: 0.3\" />\n",
       "     <use xlink:href=\"#mb28bf527d3\" x=\"85.159006\" y=\"41.742291\" style=\"fill: #4575b4; fill-opacity: 0.7; stroke: #4575b4; stroke-opacity: 0.7; stroke-width: 0.3\" />\n",
       "     <use xlink:href=\"#mb28bf527d3\" x=\"83.423\" y=\"32.608311\" style=\"fill: #4575b4; fill-opacity: 0.7; stroke: #4575b4; stroke-opacity: 0.7; stroke-width: 0.3\" />\n",
       "     <use xlink:href=\"#mb28bf527d3\" x=\"86.656916\" y=\"44.352\" style=\"fill: #4575b4; fill-opacity: 0.7; stroke: #4575b4; stroke-opacity: 0.7; stroke-width: 0.3\" />\n",
       "     <use xlink:href=\"#mb28bf527d3\" x=\"84.828797\" y=\"33.913165\" style=\"fill: #4575b4; fill-opacity: 0.7; stroke: #4575b4; stroke-opacity: 0.7; stroke-width: 0.3\" />\n",
       "     <use xlink:href=\"#mb28bf527d3\" x=\"81.544124\" y=\"31.303456\" style=\"fill: #4575b4; fill-opacity: 0.7; stroke: #4575b4; stroke-opacity: 0.7; stroke-width: 0.3\" />\n",
       "     <use xlink:href=\"#mb28bf527d3\" x=\"84.723397\" y=\"40.437437\" style=\"fill: #4575b4; fill-opacity: 0.7; stroke: #4575b4; stroke-opacity: 0.7; stroke-width: 0.3\" />\n",
       "     <use xlink:href=\"#mb28bf527d3\" x=\"81.484081\" y=\"36.522874\" style=\"fill: #4575b4; fill-opacity: 0.7; stroke: #4575b4; stroke-opacity: 0.7; stroke-width: 0.3\" />\n",
       "     <use xlink:href=\"#mb28bf527d3\" x=\"83.988453\" y=\"20.864621\" style=\"fill: #4575b4; fill-opacity: 0.7; stroke: #4575b4; stroke-opacity: 0.7; stroke-width: 0.3\" />\n",
       "     <use xlink:href=\"#mb28bf527d3\" x=\"80.285822\" y=\"40.437437\" style=\"fill: #4575b4; fill-opacity: 0.7; stroke: #4575b4; stroke-opacity: 0.7; stroke-width: 0.3\" />\n",
       "     <use xlink:href=\"#mb28bf527d3\" x=\"85.07263\" y=\"22.169476\" style=\"fill: #4575b4; fill-opacity: 0.7; stroke: #4575b4; stroke-opacity: 0.7; stroke-width: 0.3\" />\n",
       "     <use xlink:href=\"#mb28bf527d3\" x=\"83.694491\" y=\"16.950058\" style=\"fill: #4575b4; fill-opacity: 0.7; stroke: #4575b4; stroke-opacity: 0.7; stroke-width: 0.3\" />\n",
       "     <use xlink:href=\"#mb28bf527d3\" x=\"82.406504\" y=\"18.254913\" style=\"fill: #4575b4; fill-opacity: 0.7; stroke: #4575b4; stroke-opacity: 0.7; stroke-width: 0.3\" />\n",
       "     <use xlink:href=\"#mb28bf527d3\" x=\"80.432601\" y=\"27.388893\" style=\"fill: #4575b4; fill-opacity: 0.7; stroke: #4575b4; stroke-opacity: 0.7; stroke-width: 0.3\" />\n",
       "     <use xlink:href=\"#mb28bf527d3\" x=\"82.866598\" y=\"43.047146\" style=\"fill: #4575b4; fill-opacity: 0.7; stroke: #4575b4; stroke-opacity: 0.7; stroke-width: 0.3\" />\n",
       "     <use xlink:href=\"#mb28bf527d3\" x=\"86.0215\" y=\"43.047146\" style=\"fill: #4575b4; fill-opacity: 0.7; stroke: #4575b4; stroke-opacity: 0.7; stroke-width: 0.3\" />\n",
       "     <use xlink:href=\"#mb28bf527d3\" x=\"80.069956\" y=\"29.998602\" style=\"fill: #4575b4; fill-opacity: 0.7; stroke: #4575b4; stroke-opacity: 0.7; stroke-width: 0.3\" />\n",
       "     <use xlink:href=\"#mb28bf527d3\" x=\"77.975508\" y=\"39.132583\" style=\"fill: #4575b4; fill-opacity: 0.7; stroke: #4575b4; stroke-opacity: 0.7; stroke-width: 0.3\" />\n",
       "     <use xlink:href=\"#mb28bf527d3\" x=\"84.083384\" y=\"9.120932\" style=\"fill: #4575b4; fill-opacity: 0.7; stroke: #4575b4; stroke-opacity: 0.7; stroke-width: 0.3\" />\n",
       "     <use xlink:href=\"#mb28bf527d3\" x=\"79.559091\" y=\"33.913165\" style=\"fill: #4575b4; fill-opacity: 0.7; stroke: #4575b4; stroke-opacity: 0.7; stroke-width: 0.3\" />\n",
       "     <use xlink:href=\"#mb28bf527d3\" x=\"83.740301\" y=\"20.864621\" style=\"fill: #4575b4; fill-opacity: 0.7; stroke: #4575b4; stroke-opacity: 0.7; stroke-width: 0.3\" />\n",
       "     <use xlink:href=\"#mb28bf527d3\" x=\"81.953462\" y=\"32.608311\" style=\"fill: #4575b4; fill-opacity: 0.7; stroke: #4575b4; stroke-opacity: 0.7; stroke-width: 0.3\" />\n",
       "     <use xlink:href=\"#mb28bf527d3\" x=\"79.361061\" y=\"33.913165\" style=\"fill: #4575b4; fill-opacity: 0.7; stroke: #4575b4; stroke-opacity: 0.7; stroke-width: 0.3\" />\n",
       "     <use xlink:href=\"#mb28bf527d3\" x=\"84.067903\" y=\"31.303456\" style=\"fill: #4575b4; fill-opacity: 0.7; stroke: #4575b4; stroke-opacity: 0.7; stroke-width: 0.3\" />\n",
       "     <use xlink:href=\"#mb28bf527d3\" x=\"78.39894\" y=\"36.522874\" style=\"fill: #4575b4; fill-opacity: 0.7; stroke: #4575b4; stroke-opacity: 0.7; stroke-width: 0.3\" />\n",
       "     <use xlink:href=\"#mb28bf527d3\" x=\"82.507707\" y=\"7.816078\" style=\"fill: #4575b4; fill-opacity: 0.7; stroke: #4575b4; stroke-opacity: 0.7; stroke-width: 0.3\" />\n",
       "     <use xlink:href=\"#mb28bf527d3\" x=\"78.666545\" y=\"22.169476\" style=\"fill: #4575b4; fill-opacity: 0.7; stroke: #4575b4; stroke-opacity: 0.7; stroke-width: 0.3\" />\n",
       "     <use xlink:href=\"#mb28bf527d3\" x=\"82.221938\" y=\"41.742291\" style=\"fill: #4575b4; fill-opacity: 0.7; stroke: #4575b4; stroke-opacity: 0.7; stroke-width: 0.3\" />\n",
       "     <use xlink:href=\"#mb28bf527d3\" x=\"79.737784\" y=\"5.206369\" style=\"fill: #4575b4; fill-opacity: 0.7; stroke: #4575b4; stroke-opacity: 0.7; stroke-width: 0.3\" />\n",
       "     <use xlink:href=\"#mb28bf527d3\" x=\"81.987549\" y=\"31.303456\" style=\"fill: #4575b4; fill-opacity: 0.7; stroke: #4575b4; stroke-opacity: 0.7; stroke-width: 0.3\" />\n",
       "     <use xlink:href=\"#mb28bf527d3\" x=\"79.840234\" y=\"39.132583\" style=\"fill: #4575b4; fill-opacity: 0.7; stroke: #4575b4; stroke-opacity: 0.7; stroke-width: 0.3\" />\n",
       "     <use xlink:href=\"#mb28bf527d3\" x=\"83.737176\" y=\"32.608311\" style=\"fill: #4575b4; fill-opacity: 0.7; stroke: #4575b4; stroke-opacity: 0.7; stroke-width: 0.3\" />\n",
       "     <use xlink:href=\"#mb28bf527d3\" x=\"76.639859\" y=\"39.132583\" style=\"fill: #4575b4; fill-opacity: 0.7; stroke: #4575b4; stroke-opacity: 0.7; stroke-width: 0.3\" />\n",
       "     <use xlink:href=\"#mb28bf527d3\" x=\"85.219978\" y=\"6.511223\" style=\"fill: #4575b4; fill-opacity: 0.7; stroke: #4575b4; stroke-opacity: 0.7; stroke-width: 0.3\" />\n",
       "     <use xlink:href=\"#mb28bf527d3\" x=\"84.05456\" y=\"27.388893\" style=\"fill: #4575b4; fill-opacity: 0.7; stroke: #4575b4; stroke-opacity: 0.7; stroke-width: 0.3\" />\n",
       "     <use xlink:href=\"#mb28bf527d3\" x=\"84.00582\" y=\"32.608311\" style=\"fill: #4575b4; fill-opacity: 0.7; stroke: #4575b4; stroke-opacity: 0.7; stroke-width: 0.3\" />\n",
       "     <use xlink:href=\"#mb28bf527d3\" x=\"81.349144\" y=\"35.218019\" style=\"fill: #4575b4; fill-opacity: 0.7; stroke: #4575b4; stroke-opacity: 0.7; stroke-width: 0.3\" />\n",
       "     <use xlink:href=\"#mb28bf527d3\" x=\"82.797179\" y=\"39.132583\" style=\"fill: #4575b4; fill-opacity: 0.7; stroke: #4575b4; stroke-opacity: 0.7; stroke-width: 0.3\" />\n",
       "     <use xlink:href=\"#mb28bf527d3\" x=\"79.734727\" y=\"33.913165\" style=\"fill: #4575b4; fill-opacity: 0.7; stroke: #4575b4; stroke-opacity: 0.7; stroke-width: 0.3\" />\n",
       "     <use xlink:href=\"#mb28bf527d3\" x=\"86.994974\" y=\"18.254913\" style=\"fill: #4575b4; fill-opacity: 0.7; stroke: #4575b4; stroke-opacity: 0.7; stroke-width: 0.3\" />\n",
       "     <use xlink:href=\"#mb28bf527d3\" x=\"80.5648\" y=\"39.132583\" style=\"fill: #4575b4; fill-opacity: 0.7; stroke: #4575b4; stroke-opacity: 0.7; stroke-width: 0.3\" />\n",
       "     <use xlink:href=\"#mb28bf527d3\" x=\"82.082787\" y=\"16.950058\" style=\"fill: #4575b4; fill-opacity: 0.7; stroke: #4575b4; stroke-opacity: 0.7; stroke-width: 0.3\" />\n",
       "     <use xlink:href=\"#mb28bf527d3\" x=\"80.224663\" y=\"44.352\" style=\"fill: #4575b4; fill-opacity: 0.7; stroke: #4575b4; stroke-opacity: 0.7; stroke-width: 0.3\" />\n",
       "     <use xlink:href=\"#mb28bf527d3\" x=\"85.805049\" y=\"37.827728\" style=\"fill: #4575b4; fill-opacity: 0.7; stroke: #4575b4; stroke-opacity: 0.7; stroke-width: 0.3\" />\n",
       "     <use xlink:href=\"#mb28bf527d3\" x=\"79.154165\" y=\"14.34035\" style=\"fill: #4575b4; fill-opacity: 0.7; stroke: #4575b4; stroke-opacity: 0.7; stroke-width: 0.3\" />\n",
       "     <use xlink:href=\"#mb28bf527d3\" x=\"84.669248\" y=\"29.998602\" style=\"fill: #4575b4; fill-opacity: 0.7; stroke: #4575b4; stroke-opacity: 0.7; stroke-width: 0.3\" />\n",
       "     <use xlink:href=\"#mb28bf527d3\" x=\"82.209942\" y=\"43.047146\" style=\"fill: #4575b4; fill-opacity: 0.7; stroke: #4575b4; stroke-opacity: 0.7; stroke-width: 0.3\" />\n",
       "     <use xlink:href=\"#mb28bf527d3\" x=\"85.322208\" y=\"33.913165\" style=\"fill: #4575b4; fill-opacity: 0.7; stroke: #4575b4; stroke-opacity: 0.7; stroke-width: 0.3\" />\n",
       "     <use xlink:href=\"#mb28bf527d3\" x=\"82.669726\" y=\"33.913165\" style=\"fill: #4575b4; fill-opacity: 0.7; stroke: #4575b4; stroke-opacity: 0.7; stroke-width: 0.3\" />\n",
       "     <use xlink:href=\"#mb28bf527d3\" x=\"85.91162\" y=\"23.47433\" style=\"fill: #4575b4; fill-opacity: 0.7; stroke: #4575b4; stroke-opacity: 0.7; stroke-width: 0.3\" />\n",
       "     <use xlink:href=\"#mb28bf527d3\" x=\"83.061929\" y=\"37.827728\" style=\"fill: #4575b4; fill-opacity: 0.7; stroke: #4575b4; stroke-opacity: 0.7; stroke-width: 0.3\" />\n",
       "     <use xlink:href=\"#mb28bf527d3\" x=\"90.920762\" y=\"27.388893\" style=\"fill: #4575b4; fill-opacity: 0.7; stroke: #4575b4; stroke-opacity: 0.7; stroke-width: 0.3\" />\n",
       "     <use xlink:href=\"#mb28bf527d3\" x=\"82.922283\" y=\"39.132583\" style=\"fill: #4575b4; fill-opacity: 0.7; stroke: #4575b4; stroke-opacity: 0.7; stroke-width: 0.3\" />\n",
       "     <use xlink:href=\"#mb28bf527d3\" x=\"79.415579\" y=\"33.913165\" style=\"fill: #4575b4; fill-opacity: 0.7; stroke: #4575b4; stroke-opacity: 0.7; stroke-width: 0.3\" />\n",
       "     <use xlink:href=\"#mb28bf527d3\" x=\"82.970257\" y=\"33.913165\" style=\"fill: #4575b4; fill-opacity: 0.7; stroke: #4575b4; stroke-opacity: 0.7; stroke-width: 0.3\" />\n",
       "     <use xlink:href=\"#mb28bf527d3\" x=\"81.089568\" y=\"19.559767\" style=\"fill: #4575b4; fill-opacity: 0.7; stroke: #4575b4; stroke-opacity: 0.7; stroke-width: 0.3\" />\n",
       "     <use xlink:href=\"#mb28bf527d3\" x=\"86.779186\" y=\"16.950058\" style=\"fill: #4575b4; fill-opacity: 0.7; stroke: #4575b4; stroke-opacity: 0.7; stroke-width: 0.3\" />\n",
       "     <use xlink:href=\"#mb28bf527d3\" x=\"87.042811\" y=\"6.511223\" style=\"fill: #4575b4; fill-opacity: 0.7; stroke: #4575b4; stroke-opacity: 0.7; stroke-width: 0.3\" />\n",
       "     <use xlink:href=\"#mb28bf527d3\" x=\"85.564537\" y=\"36.522874\" style=\"fill: #4575b4; fill-opacity: 0.7; stroke: #4575b4; stroke-opacity: 0.7; stroke-width: 0.3\" />\n",
       "     <use xlink:href=\"#mb28bf527d3\" x=\"83.858092\" y=\"28.693748\" style=\"fill: #4575b4; fill-opacity: 0.7; stroke: #4575b4; stroke-opacity: 0.7; stroke-width: 0.3\" />\n",
       "     <use xlink:href=\"#mb28bf527d3\" x=\"81.983594\" y=\"15.645204\" style=\"fill: #4575b4; fill-opacity: 0.7; stroke: #4575b4; stroke-opacity: 0.7; stroke-width: 0.3\" />\n",
       "     <use xlink:href=\"#mb28bf527d3\" x=\"83.111135\" y=\"44.352\" style=\"fill: #4575b4; fill-opacity: 0.7; stroke: #4575b4; stroke-opacity: 0.7; stroke-width: 0.3\" />\n",
       "     <use xlink:href=\"#mb28bf527d3\" x=\"77.451084\" y=\"33.913165\" style=\"fill: #4575b4; fill-opacity: 0.7; stroke: #4575b4; stroke-opacity: 0.7; stroke-width: 0.3\" />\n",
       "     <use xlink:href=\"#mb28bf527d3\" x=\"81.426463\" y=\"36.522874\" style=\"fill: #4575b4; fill-opacity: 0.7; stroke: #4575b4; stroke-opacity: 0.7; stroke-width: 0.3\" />\n",
       "     <use xlink:href=\"#mb28bf527d3\" x=\"83.710938\" y=\"29.998602\" style=\"fill: #4575b4; fill-opacity: 0.7; stroke: #4575b4; stroke-opacity: 0.7; stroke-width: 0.3\" />\n",
       "     <use xlink:href=\"#mb28bf527d3\" x=\"85.335492\" y=\"10.425786\" style=\"fill: #4575b4; fill-opacity: 0.7; stroke: #4575b4; stroke-opacity: 0.7; stroke-width: 0.3\" />\n",
       "     <use xlink:href=\"#mb28bf527d3\" x=\"84.820153\" y=\"43.047146\" style=\"fill: #4575b4; fill-opacity: 0.7; stroke: #4575b4; stroke-opacity: 0.7; stroke-width: 0.3\" />\n",
       "     <use xlink:href=\"#mb28bf527d3\" x=\"85.432494\" y=\"6.511223\" style=\"fill: #4575b4; fill-opacity: 0.7; stroke: #4575b4; stroke-opacity: 0.7; stroke-width: 0.3\" />\n",
       "     <use xlink:href=\"#mb28bf527d3\" x=\"81.877781\" y=\"36.522874\" style=\"fill: #4575b4; fill-opacity: 0.7; stroke: #4575b4; stroke-opacity: 0.7; stroke-width: 0.3\" />\n",
       "     <use xlink:href=\"#mb28bf527d3\" x=\"81.398335\" y=\"27.388893\" style=\"fill: #4575b4; fill-opacity: 0.7; stroke: #4575b4; stroke-opacity: 0.7; stroke-width: 0.3\" />\n",
       "    </g>\n",
       "   </g>\n",
       "   <g id=\"matplotlib.axis_1\" />\n",
       "   <g id=\"matplotlib.axis_2\">\n",
       "    <g id=\"ytick_1\">\n",
       "     <g id=\"line2d_1\">\n",
       "      <defs>\n",
       "       <path id=\"m59506c693e\" d=\"M 0 0  L -3.5 0  \" style=\"stroke: #000000; stroke-width: 0.3\" />\n",
       "      </defs>\n",
       "      <g>\n",
       "       <use xlink:href=\"#m59506c693e\" x=\"62.06\" y=\"44.352\" style=\"stroke: #000000; stroke-width: 0.3\" />\n",
       "      </g>\n",
       "     </g>\n",
       "     <g id=\"text_1\">\n",
       "      \n",
       "      <g style=\"fill: #444443\" transform=\"translate(49.97 47.391375) scale(0.08 -0.08)\">\n",
       "       <defs>\n",
       "        <path id=\"DejaVuSans-30\" d=\"M 2034 4250  Q 1547 4250 1301 3770  Q 1056 3291 1056 2328  Q 1056 1369 1301 889  Q 1547 409 2034 409  Q 2525 409 2770 889  Q 3016 1369 3016 2328  Q 3016 3291 2770 3770  Q 2525 4250 2034 4250  z M 2034 4750  Q 2819 4750 3233 4129  Q 3647 3509 3647 2328  Q 3647 1150 3233 529  Q 2819 -91 2034 -91  Q 1250 -91 836 529  Q 422 1150 422 2328  Q 422 3509 836 4129  Q 1250 4750 2034 4750  z \" transform=\"scale(0.015625)\" />\n",
       "       </defs>\n",
       "       <use xlink:href=\"#DejaVuSans-30\" />\n",
       "      </g>\n",
       "     </g>\n",
       "    </g>\n",
       "    <g id=\"ytick_2\">\n",
       "     <g id=\"line2d_2\">\n",
       "      <g>\n",
       "       <use xlink:href=\"#m59506c693e\" x=\"62.06\" y=\"18.254913\" style=\"stroke: #000000; stroke-width: 0.3\" />\n",
       "      </g>\n",
       "     </g>\n",
       "     <g id=\"text_2\">\n",
       "      \n",
       "      <g style=\"fill: #444443\" transform=\"translate(44.88 21.294288) scale(0.08 -0.08)\">\n",
       "       <defs>\n",
       "        <path id=\"DejaVuSans-32\" d=\"M 1228 531  L 3431 531  L 3431 0  L 469 0  L 469 531  Q 828 903 1448 1529  Q 2069 2156 2228 2338  Q 2531 2678 2651 2914  Q 2772 3150 2772 3378  Q 2772 3750 2511 3984  Q 2250 4219 1831 4219  Q 1534 4219 1204 4116  Q 875 4013 500 3803  L 500 4441  Q 881 4594 1212 4672  Q 1544 4750 1819 4750  Q 2544 4750 2975 4387  Q 3406 4025 3406 3419  Q 3406 3131 3298 2873  Q 3191 2616 2906 2266  Q 2828 2175 2409 1742  Q 1991 1309 1228 531  z \" transform=\"scale(0.015625)\" />\n",
       "       </defs>\n",
       "       <use xlink:href=\"#DejaVuSans-32\" />\n",
       "       <use xlink:href=\"#DejaVuSans-30\" x=\"63.623047\" />\n",
       "      </g>\n",
       "     </g>\n",
       "    </g>\n",
       "   </g>\n",
       "   <g id=\"line2d_3\">\n",
       "    <path d=\"M 62.06 30.926797  L 167.97 30.926797  \" clip-path=\"url(#pffe8260ef2)\" style=\"fill: none; stroke-dasharray: 3.7,1.6; stroke-dashoffset: 0; stroke: #444443\" />\n",
       "   </g>\n",
       "   <g id=\"patch_3\">\n",
       "    <path d=\"M 62.06 44.352  L 62.06 -0  \" style=\"fill: none; stroke: #444443; stroke-width: 0.3; stroke-linejoin: miter; stroke-linecap: square\" />\n",
       "   </g>\n",
       "   <g id=\"text_3\">\n",
       "    \n",
       "    <g style=\"fill: #444443\" transform=\"translate(0 58.2595) scale(0.16 -0.16)\">\n",
       "     <defs>\n",
       "      <path id=\"DejaVuSans-73\" d=\"M 2834 3397  L 2834 2853  Q 2591 2978 2328 3040  Q 2066 3103 1784 3103  Q 1356 3103 1142 2972  Q 928 2841 928 2578  Q 928 2378 1081 2264  Q 1234 2150 1697 2047  L 1894 2003  Q 2506 1872 2764 1633  Q 3022 1394 3022 966  Q 3022 478 2636 193  Q 2250 -91 1575 -91  Q 1294 -91 989 -36  Q 684 19 347 128  L 347 722  Q 666 556 975 473  Q 1284 391 1588 391  Q 1994 391 2212 530  Q 2431 669 2431 922  Q 2431 1156 2273 1281  Q 2116 1406 1581 1522  L 1381 1569  Q 847 1681 609 1914  Q 372 2147 372 2553  Q 372 3047 722 3315  Q 1072 3584 1716 3584  Q 2034 3584 2315 3537  Q 2597 3491 2834 3397  z \" transform=\"scale(0.015625)\" />\n",
       "      <path id=\"DejaVuSans-61\" d=\"M 2194 1759  Q 1497 1759 1228 1600  Q 959 1441 959 1056  Q 959 750 1161 570  Q 1363 391 1709 391  Q 2188 391 2477 730  Q 2766 1069 2766 1631  L 2766 1759  L 2194 1759  z M 3341 1997  L 3341 0  L 2766 0  L 2766 531  Q 2569 213 2275 61  Q 1981 -91 1556 -91  Q 1019 -91 701 211  Q 384 513 384 1019  Q 384 1609 779 1909  Q 1175 2209 1959 2209  L 2766 2209  L 2766 2266  Q 2766 2663 2505 2880  Q 2244 3097 1772 3097  Q 1472 3097 1187 3025  Q 903 2953 641 2809  L 641 3341  Q 956 3463 1253 3523  Q 1550 3584 1831 3584  Q 2591 3584 2966 3190  Q 3341 2797 3341 1997  z \" transform=\"scale(0.015625)\" />\n",
       "      <path id=\"DejaVuSans-6c\" d=\"M 603 4863  L 1178 4863  L 1178 0  L 603 0  L 603 4863  z \" transform=\"scale(0.015625)\" />\n",
       "      <path id=\"DejaVuSans-65\" d=\"M 3597 1894  L 3597 1613  L 953 1613  Q 991 1019 1311 708  Q 1631 397 2203 397  Q 2534 397 2845 478  Q 3156 559 3463 722  L 3463 178  Q 3153 47 2828 -22  Q 2503 -91 2169 -91  Q 1331 -91 842 396  Q 353 884 353 1716  Q 353 2575 817 3079  Q 1281 3584 2069 3584  Q 2775 3584 3186 3129  Q 3597 2675 3597 1894  z M 3022 2063  Q 3016 2534 2758 2815  Q 2500 3097 2075 3097  Q 1594 3097 1305 2825  Q 1016 2553 972 2059  L 3022 2063  z \" transform=\"scale(0.015625)\" />\n",
       "      <path id=\"DejaVuSans-5f\" d=\"M 3263 -1063  L 3263 -1509  L -63 -1509  L -63 -1063  L 3263 -1063  z \" transform=\"scale(0.015625)\" />\n",
       "      <path id=\"DejaVuSans-64\" d=\"M 2906 2969  L 2906 4863  L 3481 4863  L 3481 0  L 2906 0  L 2906 525  Q 2725 213 2448 61  Q 2172 -91 1784 -91  Q 1150 -91 751 415  Q 353 922 353 1747  Q 353 2572 751 3078  Q 1150 3584 1784 3584  Q 2172 3584 2448 3432  Q 2725 3281 2906 2969  z M 947 1747  Q 947 1113 1208 752  Q 1469 391 1925 391  Q 2381 391 2643 752  Q 2906 1113 2906 1747  Q 2906 2381 2643 2742  Q 2381 3103 1925 3103  Q 1469 3103 1208 2742  Q 947 2381 947 1747  z \" transform=\"scale(0.015625)\" />\n",
       "      <path id=\"DejaVuSans-75\" d=\"M 544 1381  L 544 3500  L 1119 3500  L 1119 1403  Q 1119 906 1312 657  Q 1506 409 1894 409  Q 2359 409 2629 706  Q 2900 1003 2900 1516  L 2900 3500  L 3475 3500  L 3475 0  L 2900 0  L 2900 538  Q 2691 219 2414 64  Q 2138 -91 1772 -91  Q 1169 -91 856 284  Q 544 659 544 1381  z M 1991 3584  L 1991 3584  z \" transform=\"scale(0.015625)\" />\n",
       "      <path id=\"DejaVuSans-72\" d=\"M 2631 2963  Q 2534 3019 2420 3045  Q 2306 3072 2169 3072  Q 1681 3072 1420 2755  Q 1159 2438 1159 1844  L 1159 0  L 581 0  L 581 3500  L 1159 3500  L 1159 2956  Q 1341 3275 1631 3429  Q 1922 3584 2338 3584  Q 2397 3584 2469 3576  Q 2541 3569 2628 3553  L 2631 2963  z \" transform=\"scale(0.015625)\" />\n",
       "      <path id=\"DejaVuSans-74\" d=\"M 1172 4494  L 1172 3500  L 2356 3500  L 2356 3053  L 1172 3053  L 1172 1153  Q 1172 725 1289 603  Q 1406 481 1766 481  L 2356 481  L 2356 0  L 1766 0  Q 1100 0 847 248  Q 594 497 594 1153  L 594 3053  L 172 3053  L 172 3500  L 594 3500  L 594 4494  L 1172 4494  z \" transform=\"scale(0.015625)\" />\n",
       "      <path id=\"DejaVuSans-69\" d=\"M 603 3500  L 1178 3500  L 1178 0  L 603 0  L 603 3500  z M 603 4863  L 1178 4863  L 1178 4134  L 603 4134  L 603 4863  z \" transform=\"scale(0.015625)\" />\n",
       "      <path id=\"DejaVuSans-6f\" d=\"M 1959 3097  Q 1497 3097 1228 2736  Q 959 2375 959 1747  Q 959 1119 1226 758  Q 1494 397 1959 397  Q 2419 397 2687 759  Q 2956 1122 2956 1747  Q 2956 2369 2687 2733  Q 2419 3097 1959 3097  z M 1959 3584  Q 2709 3584 3137 3096  Q 3566 2609 3566 1747  Q 3566 888 3137 398  Q 2709 -91 1959 -91  Q 1206 -91 779 398  Q 353 888 353 1747  Q 353 2609 779 3096  Q 1206 3584 1959 3584  z \" transform=\"scale(0.015625)\" />\n",
       "      <path id=\"DejaVuSans-6e\" d=\"M 3513 2113  L 3513 0  L 2938 0  L 2938 2094  Q 2938 2591 2744 2837  Q 2550 3084 2163 3084  Q 1697 3084 1428 2787  Q 1159 2491 1159 1978  L 1159 0  L 581 0  L 581 3500  L 1159 3500  L 1159 2956  Q 1366 3272 1645 3428  Q 1925 3584 2291 3584  Q 2894 3584 3203 3211  Q 3513 2838 3513 2113  z \" transform=\"scale(0.015625)\" />\n",
       "      <path id=\"DejaVuSans-3d\" d=\"M 678 2906  L 4684 2906  L 4684 2381  L 678 2381  L 678 2906  z M 678 1631  L 4684 1631  L 4684 1100  L 678 1100  L 678 1631  z \" transform=\"scale(0.015625)\" />\n",
       "      <path id=\"DejaVuSans-31\" d=\"M 794 531  L 1825 531  L 1825 4091  L 703 3866  L 703 4441  L 1819 4666  L 2450 4666  L 2450 531  L 3481 531  L 3481 0  L 794 0  L 794 531  z \" transform=\"scale(0.015625)\" />\n",
       "      <path id=\"DejaVuSans-2e\" d=\"M 684 794  L 1344 794  L 1344 0  L 684 0  L 684 794  z \" transform=\"scale(0.015625)\" />\n",
       "      <path id=\"DejaVuSans-39\" d=\"M 703 97  L 703 672  Q 941 559 1184 500  Q 1428 441 1663 441  Q 2288 441 2617 861  Q 2947 1281 2994 2138  Q 2813 1869 2534 1725  Q 2256 1581 1919 1581  Q 1219 1581 811 2004  Q 403 2428 403 3163  Q 403 3881 828 4315  Q 1253 4750 1959 4750  Q 2769 4750 3195 4129  Q 3622 3509 3622 2328  Q 3622 1225 3098 567  Q 2575 -91 1691 -91  Q 1453 -91 1209 -44  Q 966 3 703 97  z M 1959 2075  Q 2384 2075 2632 2365  Q 2881 2656 2881 3163  Q 2881 3666 2632 3958  Q 2384 4250 1959 4250  Q 1534 4250 1286 3958  Q 1038 3666 1038 3163  Q 1038 2656 1286 2365  Q 1534 2075 1959 2075  z \" transform=\"scale(0.015625)\" />\n",
       "     </defs>\n",
       "     <use xlink:href=\"#DejaVuSans-73\" />\n",
       "     <use xlink:href=\"#DejaVuSans-61\" x=\"52.099609\" />\n",
       "     <use xlink:href=\"#DejaVuSans-6c\" x=\"113.378906\" />\n",
       "     <use xlink:href=\"#DejaVuSans-65\" x=\"141.162109\" />\n",
       "     <use xlink:href=\"#DejaVuSans-5f\" x=\"202.685547\" />\n",
       "     <use xlink:href=\"#DejaVuSans-64\" x=\"252.685547\" />\n",
       "     <use xlink:href=\"#DejaVuSans-75\" x=\"316.162109\" />\n",
       "     <use xlink:href=\"#DejaVuSans-72\" x=\"379.541016\" />\n",
       "     <use xlink:href=\"#DejaVuSans-61\" x=\"420.654297\" />\n",
       "     <use xlink:href=\"#DejaVuSans-74\" x=\"481.933594\" />\n",
       "     <use xlink:href=\"#DejaVuSans-69\" x=\"521.142578\" />\n",
       "     <use xlink:href=\"#DejaVuSans-6f\" x=\"548.925781\" />\n",
       "     <use xlink:href=\"#DejaVuSans-6e\" x=\"610.107422\" />\n",
       "     <use xlink:href=\"#DejaVuSans-3d\" x=\"673.486328\" />\n",
       "     <use xlink:href=\"#DejaVuSans-31\" x=\"757.275391\" />\n",
       "     <use xlink:href=\"#DejaVuSans-30\" x=\"820.898438\" />\n",
       "     <use xlink:href=\"#DejaVuSans-2e\" x=\"884.521484\" />\n",
       "     <use xlink:href=\"#DejaVuSans-32\" x=\"916.308594\" />\n",
       "     <use xlink:href=\"#DejaVuSans-39\" x=\"979.931641\" />\n",
       "    </g>\n",
       "    \n",
       "    <g style=\"fill: #444443\" transform=\"translate(61.53125 76.621) scale(0.16 -0.16)\">\n",
       "     <defs>\n",
       "      <path id=\"DejaVuSans-37\" d=\"M 525 4666  L 3525 4666  L 3525 4397  L 1831 0  L 1172 0  L 2766 4134  L 525 4134  L 525 4666  z \" transform=\"scale(0.015625)\" />\n",
       "     </defs>\n",
       "     <use xlink:href=\"#DejaVuSans-6e\" />\n",
       "     <use xlink:href=\"#DejaVuSans-3d\" x=\"63.378906\" />\n",
       "     <use xlink:href=\"#DejaVuSans-39\" x=\"147.167969\" />\n",
       "     <use xlink:href=\"#DejaVuSans-37\" x=\"210.791016\" />\n",
       "    </g>\n",
       "   </g>\n",
       "  </g>\n",
       " </g>\n",
       " <defs>\n",
       "  <clipPath id=\"pffe8260ef2\">\n",
       "   <rect x=\"62.06\" y=\"-0\" width=\"41.85\" height=\"44.352\" />\n",
       "  </clipPath>\n",
       " </defs>\n",
       "</svg></g>\n",
       "\n",
       "<g id=\"edge5\" class=\"edge\">\n",
       "<title>node2-&gt;leaf4</title>\n",
       "<path fill=\"none\" stroke=\"#444443\" stroke-width=\"0.3\" d=\"M321.68,-74.34C325.82,-72.31 329.99,-70.26 334.15,-68.22\" />\n",
       "<polygon fill=\"#444443\" stroke=\"#444443\" stroke-width=\"0.3\" points=\"334.98,-69.37 337.95,-66.35 333.74,-66.85 334.98,-69.37\" />\n",
       "</g>\n",
       "\n",
       "<g id=\"node3\" class=\"node\">\n",
       "<title>node0</title>\n",
       "<svg width=\"141px\" height=\"75px\" viewBox=\"0 0 189.335 99.7115\" version=\"1.1\" preserveAspectRatio=\"xMinYMin meet\" x=\"4.5\" y=\"-192\">\n",
       " <metadata>\n",
       "  <rdf:RDF>\n",
       "   <ns2:Work>\n",
       "    <dc:type rdf:resource=\"http://purl.org/dc/dcmitype/StillImage\" />\n",
       "    <dc:date>2023-04-07T10:03:54.045062</dc:date>\n",
       "    <dc:format>image/svg+xml</dc:format>\n",
       "    <dc:creator>\n",
       "     <ns2:Agent>\n",
       "      <dc:title>Matplotlib v3.7.0, https://matplotlib.org/</dc:title>\n",
       "     </ns2:Agent>\n",
       "    </dc:creator>\n",
       "   </ns2:Work>\n",
       "  </rdf:RDF>\n",
       " </metadata>\n",
       " <defs>\n",
       "  <style type=\"text/css\">*{stroke-linejoin: round; stroke-linecap: butt}</style>\n",
       " </defs>\n",
       " <g id=\"figure_1\">\n",
       "  <g id=\"patch_1\">\n",
       "   <path d=\"M -0 99.7115  L 189.335 99.7115  L 189.335 0  L -0 0  z \" style=\"fill: #ffffff\" />\n",
       "  </g>\n",
       "  <g id=\"axes_1\">\n",
       "   <g id=\"patch_2\">\n",
       "    <path d=\"M 37.11 60.984  L 176.61 60.984  L 176.61 0  L 37.11 0  z \" style=\"fill: #ffffff\" />\n",
       "   </g>\n",
       "   <g id=\"PathCollection_1\">\n",
       "    <defs>\n",
       "     <path id=\"ma857b1959f\" d=\"M 0 1.118034  C 0.296506 1.118034 0.580908 1.000231 0.790569 0.790569  C 1.000231 0.580908 1.118034 0.296506 1.118034 0  C 1.118034 -0.296506 1.000231 -0.580908 0.790569 -0.790569  C 0.580908 -1.000231 0.296506 -1.118034 0 -1.118034  C -0.296506 -1.118034 -0.580908 -1.000231 -0.790569 -0.790569  C -1.000231 -0.580908 -1.118034 -0.296506 -1.118034 0  C -1.118034 0.296506 -1.000231 0.580908 -0.790569 0.790569  C -0.580908 1.000231 -0.296506 1.118034 0 1.118034  z \" style=\"stroke: #4575b4; stroke-opacity: 0.7; stroke-width: 0.3\" />\n",
       "    </defs>\n",
       "    <g clip-path=\"url(#pd9a0e4de24)\">\n",
       "     <use xlink:href=\"#ma857b1959f\" x=\"83.61\" y=\"43.042252\" style=\"fill: #4575b4; fill-opacity: 0.7; stroke: #4575b4; stroke-opacity: 0.7; stroke-width: 0.3\" />\n",
       "     <use xlink:href=\"#ma857b1959f\" x=\"54.901304\" y=\"60.984\" style=\"fill: #4575b4; fill-opacity: 0.7; stroke: #4575b4; stroke-opacity: 0.7; stroke-width: 0.3\" />\n",
       "     <use xlink:href=\"#ma857b1959f\" x=\"62.175522\" y=\"59.189825\" style=\"fill: #4575b4; fill-opacity: 0.7; stroke: #4575b4; stroke-opacity: 0.7; stroke-width: 0.3\" />\n",
       "     <use xlink:href=\"#ma857b1959f\" x=\"142.038261\" y=\"57.39565\" style=\"fill: #4575b4; fill-opacity: 0.7; stroke: #4575b4; stroke-opacity: 0.7; stroke-width: 0.3\" />\n",
       "     <use xlink:href=\"#ma857b1959f\" x=\"75.523043\" y=\"60.984\" style=\"fill: #4575b4; fill-opacity: 0.7; stroke: #4575b4; stroke-opacity: 0.7; stroke-width: 0.3\" />\n",
       "     <use xlink:href=\"#ma857b1959f\" x=\"77.540739\" y=\"30.483029\" style=\"fill: #4575b4; fill-opacity: 0.7; stroke: #4575b4; stroke-opacity: 0.7; stroke-width: 0.3\" />\n",
       "     <use xlink:href=\"#ma857b1959f\" x=\"105.84913\" y=\"50.218951\" style=\"fill: #4575b4; fill-opacity: 0.7; stroke: #4575b4; stroke-opacity: 0.7; stroke-width: 0.3\" />\n",
       "     <use xlink:href=\"#ma857b1959f\" x=\"40.74913\" y=\"32.277204\" style=\"fill: #4575b4; fill-opacity: 0.7; stroke: #4575b4; stroke-opacity: 0.7; stroke-width: 0.3\" />\n",
       "     <use xlink:href=\"#ma857b1959f\" x=\"49.240435\" y=\"46.630602\" style=\"fill: #4575b4; fill-opacity: 0.7; stroke: #4575b4; stroke-opacity: 0.7; stroke-width: 0.3\" />\n",
       "     <use xlink:href=\"#ma857b1959f\" x=\"47.218696\" y=\"28.688854\" style=\"fill: #4575b4; fill-opacity: 0.7; stroke: #4575b4; stroke-opacity: 0.7; stroke-width: 0.3\" />\n",
       "     <use xlink:href=\"#ma857b1959f\" x=\"41.95813\" y=\"55.601476\" style=\"fill: #4575b4; fill-opacity: 0.7; stroke: #4575b4; stroke-opacity: 0.7; stroke-width: 0.3\" />\n",
       "     <use xlink:href=\"#ma857b1959f\" x=\"111.910304\" y=\"57.39565\" style=\"fill: #4575b4; fill-opacity: 0.7; stroke: #4575b4; stroke-opacity: 0.7; stroke-width: 0.3\" />\n",
       "     <use xlink:href=\"#ma857b1959f\" x=\"45.601304\" y=\"60.984\" style=\"fill: #4575b4; fill-opacity: 0.7; stroke: #4575b4; stroke-opacity: 0.7; stroke-width: 0.3\" />\n",
       "     <use xlink:href=\"#ma857b1959f\" x=\"37.114043\" y=\"25.100505\" style=\"fill: #4575b4; fill-opacity: 0.7; stroke: #4575b4; stroke-opacity: 0.7; stroke-width: 0.3\" />\n",
       "     <use xlink:href=\"#ma857b1959f\" x=\"52.066826\" y=\"57.39565\" style=\"fill: #4575b4; fill-opacity: 0.7; stroke: #4575b4; stroke-opacity: 0.7; stroke-width: 0.3\" />\n",
       "     <use xlink:href=\"#ma857b1959f\" x=\"99.783913\" y=\"35.865553\" style=\"fill: #4575b4; fill-opacity: 0.7; stroke: #4575b4; stroke-opacity: 0.7; stroke-width: 0.3\" />\n",
       "     <use xlink:href=\"#ma857b1959f\" x=\"57.327391\" y=\"28.688854\" style=\"fill: #4575b4; fill-opacity: 0.7; stroke: #4575b4; stroke-opacity: 0.7; stroke-width: 0.3\" />\n",
       "     <use xlink:href=\"#ma857b1959f\" x=\"51.262174\" y=\"60.984\" style=\"fill: #4575b4; fill-opacity: 0.7; stroke: #4575b4; stroke-opacity: 0.7; stroke-width: 0.3\" />\n",
       "     <use xlink:href=\"#ma857b1959f\" x=\"47.016522\" y=\"59.189825\" style=\"fill: #4575b4; fill-opacity: 0.7; stroke: #4575b4; stroke-opacity: 0.7; stroke-width: 0.3\" />\n",
       "     <use xlink:href=\"#ma857b1959f\" x=\"80.779565\" y=\"44.836427\" style=\"fill: #4575b4; fill-opacity: 0.7; stroke: #4575b4; stroke-opacity: 0.7; stroke-width: 0.3\" />\n",
       "     <use xlink:href=\"#ma857b1959f\" x=\"60.562174\" y=\"48.424777\" style=\"fill: #4575b4; fill-opacity: 0.7; stroke: #4575b4; stroke-opacity: 0.7; stroke-width: 0.3\" />\n",
       "     <use xlink:href=\"#ma857b1959f\" x=\"42.77087\" y=\"43.042252\" style=\"fill: #4575b4; fill-opacity: 0.7; stroke: #4575b4; stroke-opacity: 0.7; stroke-width: 0.3\" />\n",
       "     <use xlink:href=\"#ma857b1959f\" x=\"41.962174\" y=\"39.453903\" style=\"fill: #4575b4; fill-opacity: 0.7; stroke: #4575b4; stroke-opacity: 0.7; stroke-width: 0.3\" />\n",
       "     <use xlink:href=\"#ma857b1959f\" x=\"43.377391\" y=\"57.39565\" style=\"fill: #4575b4; fill-opacity: 0.7; stroke: #4575b4; stroke-opacity: 0.7; stroke-width: 0.3\" />\n",
       "     <use xlink:href=\"#ma857b1959f\" x=\"81.584217\" y=\"39.453903\" style=\"fill: #4575b4; fill-opacity: 0.7; stroke: #4575b4; stroke-opacity: 0.7; stroke-width: 0.3\" />\n",
       "     <use xlink:href=\"#ma857b1959f\" x=\"37.114043\" y=\"60.984\" style=\"fill: #4575b4; fill-opacity: 0.7; stroke: #4575b4; stroke-opacity: 0.7; stroke-width: 0.3\" />\n",
       "     <use xlink:href=\"#ma857b1959f\" x=\"45.196957\" y=\"60.984\" style=\"fill: #4575b4; fill-opacity: 0.7; stroke: #4575b4; stroke-opacity: 0.7; stroke-width: 0.3\" />\n",
       "     <use xlink:href=\"#ma857b1959f\" x=\"40.745087\" y=\"57.39565\" style=\"fill: #4575b4; fill-opacity: 0.7; stroke: #4575b4; stroke-opacity: 0.7; stroke-width: 0.3\" />\n",
       "     <use xlink:href=\"#ma857b1959f\" x=\"42.362478\" y=\"52.013126\" style=\"fill: #4575b4; fill-opacity: 0.7; stroke: #4575b4; stroke-opacity: 0.7; stroke-width: 0.3\" />\n",
       "     <use xlink:href=\"#ma857b1959f\" x=\"41.962174\" y=\"10.747107\" style=\"fill: #4575b4; fill-opacity: 0.7; stroke: #4575b4; stroke-opacity: 0.7; stroke-width: 0.3\" />\n",
       "     <use xlink:href=\"#ma857b1959f\" x=\"54.294783\" y=\"48.424777\" style=\"fill: #4575b4; fill-opacity: 0.7; stroke: #4575b4; stroke-opacity: 0.7; stroke-width: 0.3\" />\n",
       "     <use xlink:href=\"#ma857b1959f\" x=\"39.738261\" y=\"32.277204\" style=\"fill: #4575b4; fill-opacity: 0.7; stroke: #4575b4; stroke-opacity: 0.7; stroke-width: 0.3\" />\n",
       "     <use xlink:href=\"#ma857b1959f\" x=\"44.590435\" y=\"57.39565\" style=\"fill: #4575b4; fill-opacity: 0.7; stroke: #4575b4; stroke-opacity: 0.7; stroke-width: 0.3\" />\n",
       "     <use xlink:href=\"#ma857b1959f\" x=\"41.153478\" y=\"32.277204\" style=\"fill: #4575b4; fill-opacity: 0.7; stroke: #4575b4; stroke-opacity: 0.7; stroke-width: 0.3\" />\n",
       "     <use xlink:href=\"#ma857b1959f\" x=\"38.723348\" y=\"57.39565\" style=\"fill: #4575b4; fill-opacity: 0.7; stroke: #4575b4; stroke-opacity: 0.7; stroke-width: 0.3\" />\n",
       "     <use xlink:href=\"#ma857b1959f\" x=\"52.677391\" y=\"37.659728\" style=\"fill: #4575b4; fill-opacity: 0.7; stroke: #4575b4; stroke-opacity: 0.7; stroke-width: 0.3\" />\n",
       "     <use xlink:href=\"#ma857b1959f\" x=\"104.191304\" y=\"16.129631\" style=\"fill: #4575b4; fill-opacity: 0.7; stroke: #4575b4; stroke-opacity: 0.7; stroke-width: 0.3\" />\n",
       "     <use xlink:href=\"#ma857b1959f\" x=\"59.34913\" y=\"60.984\" style=\"fill: #4575b4; fill-opacity: 0.7; stroke: #4575b4; stroke-opacity: 0.7; stroke-width: 0.3\" />\n",
       "     <use xlink:href=\"#ma857b1959f\" x=\"60.562174\" y=\"52.013126\" style=\"fill: #4575b4; fill-opacity: 0.7; stroke: #4575b4; stroke-opacity: 0.7; stroke-width: 0.3\" />\n",
       "     <use xlink:href=\"#ma857b1959f\" x=\"133.223478\" y=\"55.601476\" style=\"fill: #4575b4; fill-opacity: 0.7; stroke: #4575b4; stroke-opacity: 0.7; stroke-width: 0.3\" />\n",
       "     <use xlink:href=\"#ma857b1959f\" x=\"59.34913\" y=\"35.865553\" style=\"fill: #4575b4; fill-opacity: 0.7; stroke: #4575b4; stroke-opacity: 0.7; stroke-width: 0.3\" />\n",
       "     <use xlink:href=\"#ma857b1959f\" x=\"37.11\" y=\"59.189825\" style=\"fill: #4575b4; fill-opacity: 0.7; stroke: #4575b4; stroke-opacity: 0.7; stroke-width: 0.3\" />\n",
       "     <use xlink:href=\"#ma857b1959f\" x=\"44.792609\" y=\"60.984\" style=\"fill: #4575b4; fill-opacity: 0.7; stroke: #4575b4; stroke-opacity: 0.7; stroke-width: 0.3\" />\n",
       "     <use xlink:href=\"#ma857b1959f\" x=\"55.305652\" y=\"60.984\" style=\"fill: #4575b4; fill-opacity: 0.7; stroke: #4575b4; stroke-opacity: 0.7; stroke-width: 0.3\" />\n",
       "     <use xlink:href=\"#ma857b1959f\" x=\"39.35413\" y=\"57.39565\" style=\"fill: #4575b4; fill-opacity: 0.7; stroke: #4575b4; stroke-opacity: 0.7; stroke-width: 0.3\" />\n",
       "     <use xlink:href=\"#ma857b1959f\" x=\"54.416087\" y=\"44.836427\" style=\"fill: #4575b4; fill-opacity: 0.7; stroke: #4575b4; stroke-opacity: 0.7; stroke-width: 0.3\" />\n",
       "     <use xlink:href=\"#ma857b1959f\" x=\"43.175217\" y=\"8.952932\" style=\"fill: #4575b4; fill-opacity: 0.7; stroke: #4575b4; stroke-opacity: 0.7; stroke-width: 0.3\" />\n",
       "     <use xlink:href=\"#ma857b1959f\" x=\"54.496957\" y=\"55.601476\" style=\"fill: #4575b4; fill-opacity: 0.7; stroke: #4575b4; stroke-opacity: 0.7; stroke-width: 0.3\" />\n",
       "     <use xlink:href=\"#ma857b1959f\" x=\"37.11\" y=\"52.013126\" style=\"fill: #4575b4; fill-opacity: 0.7; stroke: #4575b4; stroke-opacity: 0.7; stroke-width: 0.3\" />\n",
       "     <use xlink:href=\"#ma857b1959f\" x=\"44.388261\" y=\"57.39565\" style=\"fill: #4575b4; fill-opacity: 0.7; stroke: #4575b4; stroke-opacity: 0.7; stroke-width: 0.3\" />\n",
       "     <use xlink:href=\"#ma857b1959f\" x=\"41.149435\" y=\"23.30633\" style=\"fill: #4575b4; fill-opacity: 0.7; stroke: #4575b4; stroke-opacity: 0.7; stroke-width: 0.3\" />\n",
       "     <use xlink:href=\"#ma857b1959f\" x=\"41.557826\" y=\"44.836427\" style=\"fill: #4575b4; fill-opacity: 0.7; stroke: #4575b4; stroke-opacity: 0.7; stroke-width: 0.3\" />\n",
       "     <use xlink:href=\"#ma857b1959f\" x=\"53.243478\" y=\"60.984\" style=\"fill: #4575b4; fill-opacity: 0.7; stroke: #4575b4; stroke-opacity: 0.7; stroke-width: 0.3\" />\n",
       "     <use xlink:href=\"#ma857b1959f\" x=\"46.814348\" y=\"60.984\" style=\"fill: #4575b4; fill-opacity: 0.7; stroke: #4575b4; stroke-opacity: 0.7; stroke-width: 0.3\" />\n",
       "     <use xlink:href=\"#ma857b1959f\" x=\"61.168696\" y=\"35.865553\" style=\"fill: #4575b4; fill-opacity: 0.7; stroke: #4575b4; stroke-opacity: 0.7; stroke-width: 0.3\" />\n",
       "     <use xlink:href=\"#ma857b1959f\" x=\"50.008696\" y=\"53.807301\" style=\"fill: #4575b4; fill-opacity: 0.7; stroke: #4575b4; stroke-opacity: 0.7; stroke-width: 0.3\" />\n",
       "     <use xlink:href=\"#ma857b1959f\" x=\"98.975217\" y=\"50.218951\" style=\"fill: #4575b4; fill-opacity: 0.7; stroke: #4575b4; stroke-opacity: 0.7; stroke-width: 0.3\" />\n",
       "     <use xlink:href=\"#ma857b1959f\" x=\"85.429565\" y=\"60.984\" style=\"fill: #4575b4; fill-opacity: 0.7; stroke: #4575b4; stroke-opacity: 0.7; stroke-width: 0.3\" />\n",
       "     <use xlink:href=\"#ma857b1959f\" x=\"38.929565\" y=\"35.865553\" style=\"fill: #4575b4; fill-opacity: 0.7; stroke: #4575b4; stroke-opacity: 0.7; stroke-width: 0.3\" />\n",
       "     <use xlink:href=\"#ma857b1959f\" x=\"105.84913\" y=\"53.807301\" style=\"fill: #4575b4; fill-opacity: 0.7; stroke: #4575b4; stroke-opacity: 0.7; stroke-width: 0.3\" />\n",
       "     <use xlink:href=\"#ma857b1959f\" x=\"39.131739\" y=\"53.807301\" style=\"fill: #4575b4; fill-opacity: 0.7; stroke: #4575b4; stroke-opacity: 0.7; stroke-width: 0.3\" />\n",
       "     <use xlink:href=\"#ma857b1959f\" x=\"73.048435\" y=\"53.807301\" style=\"fill: #4575b4; fill-opacity: 0.7; stroke: #4575b4; stroke-opacity: 0.7; stroke-width: 0.3\" />\n",
       "     <use xlink:href=\"#ma857b1959f\" x=\"75.482609\" y=\"60.984\" style=\"fill: #4575b4; fill-opacity: 0.7; stroke: #4575b4; stroke-opacity: 0.7; stroke-width: 0.3\" />\n",
       "     <use xlink:href=\"#ma857b1959f\" x=\"46.41\" y=\"59.189825\" style=\"fill: #4575b4; fill-opacity: 0.7; stroke: #4575b4; stroke-opacity: 0.7; stroke-width: 0.3\" />\n",
       "     <use xlink:href=\"#ma857b1959f\" x=\"49.644783\" y=\"60.984\" style=\"fill: #4575b4; fill-opacity: 0.7; stroke: #4575b4; stroke-opacity: 0.7; stroke-width: 0.3\" />\n",
       "     <use xlink:href=\"#ma857b1959f\" x=\"65.212174\" y=\"46.630602\" style=\"fill: #4575b4; fill-opacity: 0.7; stroke: #4575b4; stroke-opacity: 0.7; stroke-width: 0.3\" />\n",
       "     <use xlink:href=\"#ma857b1959f\" x=\"40.74913\" y=\"39.453903\" style=\"fill: #4575b4; fill-opacity: 0.7; stroke: #4575b4; stroke-opacity: 0.7; stroke-width: 0.3\" />\n",
       "     <use xlink:href=\"#ma857b1959f\" x=\"68.244783\" y=\"16.129631\" style=\"fill: #4575b4; fill-opacity: 0.7; stroke: #4575b4; stroke-opacity: 0.7; stroke-width: 0.3\" />\n",
       "     <use xlink:href=\"#ma857b1959f\" x=\"95.081348\" y=\"60.984\" style=\"fill: #4575b4; fill-opacity: 0.7; stroke: #4575b4; stroke-opacity: 0.7; stroke-width: 0.3\" />\n",
       "     <use xlink:href=\"#ma857b1959f\" x=\"39.131739\" y=\"46.630602\" style=\"fill: #4575b4; fill-opacity: 0.7; stroke: #4575b4; stroke-opacity: 0.7; stroke-width: 0.3\" />\n",
       "     <use xlink:href=\"#ma857b1959f\" x=\"67.436087\" y=\"14.335456\" style=\"fill: #4575b4; fill-opacity: 0.7; stroke: #4575b4; stroke-opacity: 0.7; stroke-width: 0.3\" />\n",
       "     <use xlink:href=\"#ma857b1959f\" x=\"54.092609\" y=\"53.807301\" style=\"fill: #4575b4; fill-opacity: 0.7; stroke: #4575b4; stroke-opacity: 0.7; stroke-width: 0.3\" />\n",
       "     <use xlink:href=\"#ma857b1959f\" x=\"101.801609\" y=\"46.630602\" style=\"fill: #4575b4; fill-opacity: 0.7; stroke: #4575b4; stroke-opacity: 0.7; stroke-width: 0.3\" />\n",
       "     <use xlink:href=\"#ma857b1959f\" x=\"59.34913\" y=\"53.807301\" style=\"fill: #4575b4; fill-opacity: 0.7; stroke: #4575b4; stroke-opacity: 0.7; stroke-width: 0.3\" />\n",
       "     <use xlink:href=\"#ma857b1959f\" x=\"37.11\" y=\"53.807301\" style=\"fill: #4575b4; fill-opacity: 0.7; stroke: #4575b4; stroke-opacity: 0.7; stroke-width: 0.3\" />\n",
       "     <use xlink:href=\"#ma857b1959f\" x=\"85.627696\" y=\"57.39565\" style=\"fill: #4575b4; fill-opacity: 0.7; stroke: #4575b4; stroke-opacity: 0.7; stroke-width: 0.3\" />\n",
       "     <use xlink:href=\"#ma857b1959f\" x=\"56.518696\" y=\"19.717981\" style=\"fill: #4575b4; fill-opacity: 0.7; stroke: #4575b4; stroke-opacity: 0.7; stroke-width: 0.3\" />\n",
       "     <use xlink:href=\"#ma857b1959f\" x=\"39.131739\" y=\"53.807301\" style=\"fill: #4575b4; fill-opacity: 0.7; stroke: #4575b4; stroke-opacity: 0.7; stroke-width: 0.3\" />\n",
       "     <use xlink:href=\"#ma857b1959f\" x=\"39.536087\" y=\"52.013126\" style=\"fill: #4575b4; fill-opacity: 0.7; stroke: #4575b4; stroke-opacity: 0.7; stroke-width: 0.3\" />\n",
       "     <use xlink:href=\"#ma857b1959f\" x=\"76.736087\" y=\"50.218951\" style=\"fill: #4575b4; fill-opacity: 0.7; stroke: #4575b4; stroke-opacity: 0.7; stroke-width: 0.3\" />\n",
       "     <use xlink:href=\"#ma857b1959f\" x=\"46.814348\" y=\"55.601476\" style=\"fill: #4575b4; fill-opacity: 0.7; stroke: #4575b4; stroke-opacity: 0.7; stroke-width: 0.3\" />\n",
       "     <use xlink:href=\"#ma857b1959f\" x=\"41.355652\" y=\"17.923806\" style=\"fill: #4575b4; fill-opacity: 0.7; stroke: #4575b4; stroke-opacity: 0.7; stroke-width: 0.3\" />\n",
       "     <use xlink:href=\"#ma857b1959f\" x=\"50.251304\" y=\"59.189825\" style=\"fill: #4575b4; fill-opacity: 0.7; stroke: #4575b4; stroke-opacity: 0.7; stroke-width: 0.3\" />\n",
       "     <use xlink:href=\"#ma857b1959f\" x=\"93.714652\" y=\"21.512155\" style=\"fill: #4575b4; fill-opacity: 0.7; stroke: #4575b4; stroke-opacity: 0.7; stroke-width: 0.3\" />\n",
       "     <use xlink:href=\"#ma857b1959f\" x=\"95.740435\" y=\"57.39565\" style=\"fill: #4575b4; fill-opacity: 0.7; stroke: #4575b4; stroke-opacity: 0.7; stroke-width: 0.3\" />\n",
       "     <use xlink:href=\"#ma857b1959f\" x=\"41.962174\" y=\"46.630602\" style=\"fill: #4575b4; fill-opacity: 0.7; stroke: #4575b4; stroke-opacity: 0.7; stroke-width: 0.3\" />\n",
       "     <use xlink:href=\"#ma857b1959f\" x=\"87.649435\" y=\"5.364583\" style=\"fill: #4575b4; fill-opacity: 0.7; stroke: #4575b4; stroke-opacity: 0.7; stroke-width: 0.3\" />\n",
       "     <use xlink:href=\"#ma857b1959f\" x=\"38.525217\" y=\"50.218951\" style=\"fill: #4575b4; fill-opacity: 0.7; stroke: #4575b4; stroke-opacity: 0.7; stroke-width: 0.3\" />\n",
       "     <use xlink:href=\"#ma857b1959f\" x=\"89.473043\" y=\"48.424777\" style=\"fill: #4575b4; fill-opacity: 0.7; stroke: #4575b4; stroke-opacity: 0.7; stroke-width: 0.3\" />\n",
       "     <use xlink:href=\"#ma857b1959f\" x=\"38.323043\" y=\"60.984\" style=\"fill: #4575b4; fill-opacity: 0.7; stroke: #4575b4; stroke-opacity: 0.7; stroke-width: 0.3\" />\n",
       "     <use xlink:href=\"#ma857b1959f\" x=\"41.355652\" y=\"35.865553\" style=\"fill: #4575b4; fill-opacity: 0.7; stroke: #4575b4; stroke-opacity: 0.7; stroke-width: 0.3\" />\n",
       "     <use xlink:href=\"#ma857b1959f\" x=\"42.362478\" y=\"60.984\" style=\"fill: #4575b4; fill-opacity: 0.7; stroke: #4575b4; stroke-opacity: 0.7; stroke-width: 0.3\" />\n",
       "     <use xlink:href=\"#ma857b1959f\" x=\"48.229565\" y=\"21.512155\" style=\"fill: #4575b4; fill-opacity: 0.7; stroke: #4575b4; stroke-opacity: 0.7; stroke-width: 0.3\" />\n",
       "     <use xlink:href=\"#ma857b1959f\" x=\"45.196957\" y=\"16.129631\" style=\"fill: #4575b4; fill-opacity: 0.7; stroke: #4575b4; stroke-opacity: 0.7; stroke-width: 0.3\" />\n",
       "     <use xlink:href=\"#ma857b1959f\" x=\"39.333913\" y=\"43.042252\" style=\"fill: #4575b4; fill-opacity: 0.7; stroke: #4575b4; stroke-opacity: 0.7; stroke-width: 0.3\" />\n",
       "     <use xlink:href=\"#ma857b1959f\" x=\"67.031739\" y=\"35.865553\" style=\"fill: #4575b4; fill-opacity: 0.7; stroke: #4575b4; stroke-opacity: 0.7; stroke-width: 0.3\" />\n",
       "     <use xlink:href=\"#ma857b1959f\" x=\"54.496957\" y=\"57.39565\" style=\"fill: #4575b4; fill-opacity: 0.7; stroke: #4575b4; stroke-opacity: 0.7; stroke-width: 0.3\" />\n",
       "     <use xlink:href=\"#ma857b1959f\" x=\"107.87087\" y=\"53.807301\" style=\"fill: #4575b4; fill-opacity: 0.7; stroke: #4575b4; stroke-opacity: 0.7; stroke-width: 0.3\" />\n",
       "     <use xlink:href=\"#ma857b1959f\" x=\"49.240435\" y=\"59.189825\" style=\"fill: #4575b4; fill-opacity: 0.7; stroke: #4575b4; stroke-opacity: 0.7; stroke-width: 0.3\" />\n",
       "     <use xlink:href=\"#ma857b1959f\" x=\"48.836087\" y=\"35.865553\" style=\"fill: #4575b4; fill-opacity: 0.7; stroke: #4575b4; stroke-opacity: 0.7; stroke-width: 0.3\" />\n",
       "     <use xlink:href=\"#ma857b1959f\" x=\"41.153478\" y=\"46.630602\" style=\"fill: #4575b4; fill-opacity: 0.7; stroke: #4575b4; stroke-opacity: 0.7; stroke-width: 0.3\" />\n",
       "     <use xlink:href=\"#ma857b1959f\" x=\"71.883913\" y=\"48.424777\" style=\"fill: #4575b4; fill-opacity: 0.7; stroke: #4575b4; stroke-opacity: 0.7; stroke-width: 0.3\" />\n",
       "     <use xlink:href=\"#ma857b1959f\" x=\"37.11\" y=\"60.984\" style=\"fill: #4575b4; fill-opacity: 0.7; stroke: #4575b4; stroke-opacity: 0.7; stroke-width: 0.3\" />\n",
       "     <use xlink:href=\"#ma857b1959f\" x=\"37.918696\" y=\"60.984\" style=\"fill: #4575b4; fill-opacity: 0.7; stroke: #4575b4; stroke-opacity: 0.7; stroke-width: 0.3\" />\n",
       "     <use xlink:href=\"#ma857b1959f\" x=\"48.027391\" y=\"57.39565\" style=\"fill: #4575b4; fill-opacity: 0.7; stroke: #4575b4; stroke-opacity: 0.7; stroke-width: 0.3\" />\n",
       "     <use xlink:href=\"#ma857b1959f\" x=\"128.088261\" y=\"53.807301\" style=\"fill: #4575b4; fill-opacity: 0.7; stroke: #4575b4; stroke-opacity: 0.7; stroke-width: 0.3\" />\n",
       "     <use xlink:href=\"#ma857b1959f\" x=\"99.581739\" y=\"30.483029\" style=\"fill: #4575b4; fill-opacity: 0.7; stroke: #4575b4; stroke-opacity: 0.7; stroke-width: 0.3\" />\n",
       "     <use xlink:href=\"#ma857b1959f\" x=\"57.323348\" y=\"23.30633\" style=\"fill: #4575b4; fill-opacity: 0.7; stroke: #4575b4; stroke-opacity: 0.7; stroke-width: 0.3\" />\n",
       "     <use xlink:href=\"#ma857b1959f\" x=\"96.751304\" y=\"60.984\" style=\"fill: #4575b4; fill-opacity: 0.7; stroke: #4575b4; stroke-opacity: 0.7; stroke-width: 0.3\" />\n",
       "     <use xlink:href=\"#ma857b1959f\" x=\"68.446957\" y=\"57.39565\" style=\"fill: #4575b4; fill-opacity: 0.7; stroke: #4575b4; stroke-opacity: 0.7; stroke-width: 0.3\" />\n",
       "     <use xlink:href=\"#ma857b1959f\" x=\"43.498696\" y=\"10.747107\" style=\"fill: #4575b4; fill-opacity: 0.7; stroke: #4575b4; stroke-opacity: 0.7; stroke-width: 0.3\" />\n",
       "     <use xlink:href=\"#ma857b1959f\" x=\"48.836087\" y=\"53.807301\" style=\"fill: #4575b4; fill-opacity: 0.7; stroke: #4575b4; stroke-opacity: 0.7; stroke-width: 0.3\" />\n",
       "     <use xlink:href=\"#ma857b1959f\" x=\"79.162174\" y=\"35.865553\" style=\"fill: #4575b4; fill-opacity: 0.7; stroke: #4575b4; stroke-opacity: 0.7; stroke-width: 0.3\" />\n",
       "     <use xlink:href=\"#ma857b1959f\" x=\"70.266522\" y=\"43.042252\" style=\"fill: #4575b4; fill-opacity: 0.7; stroke: #4575b4; stroke-opacity: 0.7; stroke-width: 0.3\" />\n",
       "     <use xlink:href=\"#ma857b1959f\" x=\"53.081739\" y=\"7.158757\" style=\"fill: #4575b4; fill-opacity: 0.7; stroke: #4575b4; stroke-opacity: 0.7; stroke-width: 0.3\" />\n",
       "     <use xlink:href=\"#ma857b1959f\" x=\"40.142609\" y=\"60.984\" style=\"fill: #4575b4; fill-opacity: 0.7; stroke: #4575b4; stroke-opacity: 0.7; stroke-width: 0.3\" />\n",
       "     <use xlink:href=\"#ma857b1959f\" x=\"71.479565\" y=\"46.630602\" style=\"fill: #4575b4; fill-opacity: 0.7; stroke: #4575b4; stroke-opacity: 0.7; stroke-width: 0.3\" />\n",
       "     <use xlink:href=\"#ma857b1959f\" x=\"45.192913\" y=\"35.865553\" style=\"fill: #4575b4; fill-opacity: 0.7; stroke: #4575b4; stroke-opacity: 0.7; stroke-width: 0.3\" />\n",
       "     <use xlink:href=\"#ma857b1959f\" x=\"75.519\" y=\"57.39565\" style=\"fill: #4575b4; fill-opacity: 0.7; stroke: #4575b4; stroke-opacity: 0.7; stroke-width: 0.3\" />\n",
       "     <use xlink:href=\"#ma857b1959f\" x=\"38.525217\" y=\"57.39565\" style=\"fill: #4575b4; fill-opacity: 0.7; stroke: #4575b4; stroke-opacity: 0.7; stroke-width: 0.3\" />\n",
       "     <use xlink:href=\"#ma857b1959f\" x=\"45.924783\" y=\"5.364583\" style=\"fill: #4575b4; fill-opacity: 0.7; stroke: #4575b4; stroke-opacity: 0.7; stroke-width: 0.3\" />\n",
       "     <use xlink:href=\"#ma857b1959f\" x=\"59.34913\" y=\"57.39565\" style=\"fill: #4575b4; fill-opacity: 0.7; stroke: #4575b4; stroke-opacity: 0.7; stroke-width: 0.3\" />\n",
       "     <use xlink:href=\"#ma857b1959f\" x=\"44.590435\" y=\"28.688854\" style=\"fill: #4575b4; fill-opacity: 0.7; stroke: #4575b4; stroke-opacity: 0.7; stroke-width: 0.3\" />\n",
       "     <use xlink:href=\"#ma857b1959f\" x=\"37.11\" y=\"60.984\" style=\"fill: #4575b4; fill-opacity: 0.7; stroke: #4575b4; stroke-opacity: 0.7; stroke-width: 0.3\" />\n",
       "     <use xlink:href=\"#ma857b1959f\" x=\"126.066522\" y=\"44.836427\" style=\"fill: #4575b4; fill-opacity: 0.7; stroke: #4575b4; stroke-opacity: 0.7; stroke-width: 0.3\" />\n",
       "     <use xlink:href=\"#ma857b1959f\" x=\"41.153478\" y=\"57.39565\" style=\"fill: #4575b4; fill-opacity: 0.7; stroke: #4575b4; stroke-opacity: 0.7; stroke-width: 0.3\" />\n",
       "     <use xlink:href=\"#ma857b1959f\" x=\"97.357826\" y=\"60.984\" style=\"fill: #4575b4; fill-opacity: 0.7; stroke: #4575b4; stroke-opacity: 0.7; stroke-width: 0.3\" />\n",
       "     <use xlink:href=\"#ma857b1959f\" x=\"60.157826\" y=\"53.807301\" style=\"fill: #4575b4; fill-opacity: 0.7; stroke: #4575b4; stroke-opacity: 0.7; stroke-width: 0.3\" />\n",
       "     <use xlink:href=\"#ma857b1959f\" x=\"41.149435\" y=\"46.630602\" style=\"fill: #4575b4; fill-opacity: 0.7; stroke: #4575b4; stroke-opacity: 0.7; stroke-width: 0.3\" />\n",
       "     <use xlink:href=\"#ma857b1959f\" x=\"75.523043\" y=\"46.630602\" style=\"fill: #4575b4; fill-opacity: 0.7; stroke: #4575b4; stroke-opacity: 0.7; stroke-width: 0.3\" />\n",
       "     <use xlink:href=\"#ma857b1959f\" x=\"64.605652\" y=\"55.601476\" style=\"fill: #4575b4; fill-opacity: 0.7; stroke: #4575b4; stroke-opacity: 0.7; stroke-width: 0.3\" />\n",
       "     <use xlink:href=\"#ma857b1959f\" x=\"53.27987\" y=\"7.158757\" style=\"fill: #4575b4; fill-opacity: 0.7; stroke: #4575b4; stroke-opacity: 0.7; stroke-width: 0.3\" />\n",
       "     <use xlink:href=\"#ma857b1959f\" x=\"105.808696\" y=\"43.042252\" style=\"fill: #4575b4; fill-opacity: 0.7; stroke: #4575b4; stroke-opacity: 0.7; stroke-width: 0.3\" />\n",
       "     <use xlink:href=\"#ma857b1959f\" x=\"48.836087\" y=\"48.424777\" style=\"fill: #4575b4; fill-opacity: 0.7; stroke: #4575b4; stroke-opacity: 0.7; stroke-width: 0.3\" />\n",
       "     <use xlink:href=\"#ma857b1959f\" x=\"38.12087\" y=\"48.424777\" style=\"fill: #4575b4; fill-opacity: 0.7; stroke: #4575b4; stroke-opacity: 0.7; stroke-width: 0.3\" />\n",
       "     <use xlink:href=\"#ma857b1959f\" x=\"91.692913\" y=\"55.601476\" style=\"fill: #4575b4; fill-opacity: 0.7; stroke: #4575b4; stroke-opacity: 0.7; stroke-width: 0.3\" />\n",
       "     <use xlink:href=\"#ma857b1959f\" x=\"57.327391\" y=\"59.189825\" style=\"fill: #4575b4; fill-opacity: 0.7; stroke: #4575b4; stroke-opacity: 0.7; stroke-width: 0.3\" />\n",
       "     <use xlink:href=\"#ma857b1959f\" x=\"156.392609\" y=\"50.218951\" style=\"fill: #4575b4; fill-opacity: 0.7; stroke: #4575b4; stroke-opacity: 0.7; stroke-width: 0.3\" />\n",
       "     <use xlink:href=\"#ma857b1959f\" x=\"44.994783\" y=\"53.807301\" style=\"fill: #4575b4; fill-opacity: 0.7; stroke: #4575b4; stroke-opacity: 0.7; stroke-width: 0.3\" />\n",
       "     <use xlink:href=\"#ma857b1959f\" x=\"49.038261\" y=\"55.601476\" style=\"fill: #4575b4; fill-opacity: 0.7; stroke: #4575b4; stroke-opacity: 0.7; stroke-width: 0.3\" />\n",
       "     <use xlink:href=\"#ma857b1959f\" x=\"55.305652\" y=\"30.483029\" style=\"fill: #4575b4; fill-opacity: 0.7; stroke: #4575b4; stroke-opacity: 0.7; stroke-width: 0.3\" />\n",
       "     <use xlink:href=\"#ma857b1959f\" x=\"50.453478\" y=\"37.659728\" style=\"fill: #4575b4; fill-opacity: 0.7; stroke: #4575b4; stroke-opacity: 0.7; stroke-width: 0.3\" />\n",
       "     <use xlink:href=\"#ma857b1959f\" x=\"102.614348\" y=\"28.688854\" style=\"fill: #4575b4; fill-opacity: 0.7; stroke: #4575b4; stroke-opacity: 0.7; stroke-width: 0.3\" />\n",
       "     <use xlink:href=\"#ma857b1959f\" x=\"67.436087\" y=\"3.570408\" style=\"fill: #4575b4; fill-opacity: 0.7; stroke: #4575b4; stroke-opacity: 0.7; stroke-width: 0.3\" />\n",
       "     <use xlink:href=\"#ma857b1959f\" x=\"95.740435\" y=\"55.601476\" style=\"fill: #4575b4; fill-opacity: 0.7; stroke: #4575b4; stroke-opacity: 0.7; stroke-width: 0.3\" />\n",
       "     <use xlink:href=\"#ma857b1959f\" x=\"40.951304\" y=\"53.807301\" style=\"fill: #4575b4; fill-opacity: 0.7; stroke: #4575b4; stroke-opacity: 0.7; stroke-width: 0.3\" />\n",
       "     <use xlink:href=\"#ma857b1959f\" x=\"42.766826\" y=\"53.807301\" style=\"fill: #4575b4; fill-opacity: 0.7; stroke: #4575b4; stroke-opacity: 0.7; stroke-width: 0.3\" />\n",
       "     <use xlink:href=\"#ma857b1959f\" x=\"50.453478\" y=\"57.39565\" style=\"fill: #4575b4; fill-opacity: 0.7; stroke: #4575b4; stroke-opacity: 0.7; stroke-width: 0.3\" />\n",
       "     <use xlink:href=\"#ma857b1959f\" x=\"44.388261\" y=\"35.865553\" style=\"fill: #4575b4; fill-opacity: 0.7; stroke: #4575b4; stroke-opacity: 0.7; stroke-width: 0.3\" />\n",
       "     <use xlink:href=\"#ma857b1959f\" x=\"67.436087\" y=\"37.659728\" style=\"fill: #4575b4; fill-opacity: 0.7; stroke: #4575b4; stroke-opacity: 0.7; stroke-width: 0.3\" />\n",
       "     <use xlink:href=\"#ma857b1959f\" x=\"77.342609\" y=\"30.483029\" style=\"fill: #4575b4; fill-opacity: 0.7; stroke: #4575b4; stroke-opacity: 0.7; stroke-width: 0.3\" />\n",
       "     <use xlink:href=\"#ma857b1959f\" x=\"48.027391\" y=\"46.630602\" style=\"fill: #4575b4; fill-opacity: 0.7; stroke: #4575b4; stroke-opacity: 0.7; stroke-width: 0.3\" />\n",
       "     <use xlink:href=\"#ma857b1959f\" x=\"54.092609\" y=\"34.071379\" style=\"fill: #4575b4; fill-opacity: 0.7; stroke: #4575b4; stroke-opacity: 0.7; stroke-width: 0.3\" />\n",
       "     <use xlink:href=\"#ma857b1959f\" x=\"41.153478\" y=\"50.218951\" style=\"fill: #4575b4; fill-opacity: 0.7; stroke: #4575b4; stroke-opacity: 0.7; stroke-width: 0.3\" />\n",
       "     <use xlink:href=\"#ma857b1959f\" x=\"53.684217\" y=\"39.453903\" style=\"fill: #4575b4; fill-opacity: 0.7; stroke: #4575b4; stroke-opacity: 0.7; stroke-width: 0.3\" />\n",
       "     <use xlink:href=\"#ma857b1959f\" x=\"68.204348\" y=\"43.042252\" style=\"fill: #4575b4; fill-opacity: 0.7; stroke: #4575b4; stroke-opacity: 0.7; stroke-width: 0.3\" />\n",
       "     <use xlink:href=\"#ma857b1959f\" x=\"43.175217\" y=\"57.39565\" style=\"fill: #4575b4; fill-opacity: 0.7; stroke: #4575b4; stroke-opacity: 0.7; stroke-width: 0.3\" />\n",
       "     <use xlink:href=\"#ma857b1959f\" x=\"37.11\" y=\"55.601476\" style=\"fill: #4575b4; fill-opacity: 0.7; stroke: #4575b4; stroke-opacity: 0.7; stroke-width: 0.3\" />\n",
       "     <use xlink:href=\"#ma857b1959f\" x=\"59.34913\" y=\"39.453903\" style=\"fill: #4575b4; fill-opacity: 0.7; stroke: #4575b4; stroke-opacity: 0.7; stroke-width: 0.3\" />\n",
       "     <use xlink:href=\"#ma857b1959f\" x=\"62.175522\" y=\"53.807301\" style=\"fill: #4575b4; fill-opacity: 0.7; stroke: #4575b4; stroke-opacity: 0.7; stroke-width: 0.3\" />\n",
       "     <use xlink:href=\"#ma857b1959f\" x=\"54.092609\" y=\"39.453903\" style=\"fill: #4575b4; fill-opacity: 0.7; stroke: #4575b4; stroke-opacity: 0.7; stroke-width: 0.3\" />\n",
       "     <use xlink:href=\"#ma857b1959f\" x=\"49.2\" y=\"60.984\" style=\"fill: #4575b4; fill-opacity: 0.7; stroke: #4575b4; stroke-opacity: 0.7; stroke-width: 0.3\" />\n",
       "     <use xlink:href=\"#ma857b1959f\" x=\"50.853783\" y=\"57.39565\" style=\"fill: #4575b4; fill-opacity: 0.7; stroke: #4575b4; stroke-opacity: 0.7; stroke-width: 0.3\" />\n",
       "     <use xlink:href=\"#ma857b1959f\" x=\"38.727391\" y=\"60.984\" style=\"fill: #4575b4; fill-opacity: 0.7; stroke: #4575b4; stroke-opacity: 0.7; stroke-width: 0.3\" />\n",
       "     <use xlink:href=\"#ma857b1959f\" x=\"98.166522\" y=\"23.30633\" style=\"fill: #4575b4; fill-opacity: 0.7; stroke: #4575b4; stroke-opacity: 0.7; stroke-width: 0.3\" />\n",
       "     <use xlink:href=\"#ma857b1959f\" x=\"44.994783\" y=\"50.218951\" style=\"fill: #4575b4; fill-opacity: 0.7; stroke: #4575b4; stroke-opacity: 0.7; stroke-width: 0.3\" />\n",
       "     <use xlink:href=\"#ma857b1959f\" x=\"38.323043\" y=\"34.071379\" style=\"fill: #4575b4; fill-opacity: 0.7; stroke: #4575b4; stroke-opacity: 0.7; stroke-width: 0.3\" />\n",
       "     <use xlink:href=\"#ma857b1959f\" x=\"48.836087\" y=\"60.984\" style=\"fill: #4575b4; fill-opacity: 0.7; stroke: #4575b4; stroke-opacity: 0.7; stroke-width: 0.3\" />\n",
       "     <use xlink:href=\"#ma857b1959f\" x=\"54.092609\" y=\"46.630602\" style=\"fill: #4575b4; fill-opacity: 0.7; stroke: #4575b4; stroke-opacity: 0.7; stroke-width: 0.3\" />\n",
       "     <use xlink:href=\"#ma857b1959f\" x=\"40.74913\" y=\"35.865553\" style=\"fill: #4575b4; fill-opacity: 0.7; stroke: #4575b4; stroke-opacity: 0.7; stroke-width: 0.3\" />\n",
       "     <use xlink:href=\"#ma857b1959f\" x=\"41.113043\" y=\"53.807301\" style=\"fill: #4575b4; fill-opacity: 0.7; stroke: #4575b4; stroke-opacity: 0.7; stroke-width: 0.3\" />\n",
       "     <use xlink:href=\"#ma857b1959f\" x=\"48.836087\" y=\"5.364583\" style=\"fill: #4575b4; fill-opacity: 0.7; stroke: #4575b4; stroke-opacity: 0.7; stroke-width: 0.3\" />\n",
       "     <use xlink:href=\"#ma857b1959f\" x=\"39.536087\" y=\"39.453903\" style=\"fill: #4575b4; fill-opacity: 0.7; stroke: #4575b4; stroke-opacity: 0.7; stroke-width: 0.3\" />\n",
       "     <use xlink:href=\"#ma857b1959f\" x=\"54.496957\" y=\"52.013126\" style=\"fill: #4575b4; fill-opacity: 0.7; stroke: #4575b4; stroke-opacity: 0.7; stroke-width: 0.3\" />\n",
       "     <use xlink:href=\"#ma857b1959f\" x=\"91.696957\" y=\"25.100505\" style=\"fill: #4575b4; fill-opacity: 0.7; stroke: #4575b4; stroke-opacity: 0.7; stroke-width: 0.3\" />\n",
       "     <use xlink:href=\"#ma857b1959f\" x=\"53.283913\" y=\"52.013126\" style=\"fill: #4575b4; fill-opacity: 0.7; stroke: #4575b4; stroke-opacity: 0.7; stroke-width: 0.3\" />\n",
       "     <use xlink:href=\"#ma857b1959f\" x=\"38.319\" y=\"46.630602\" style=\"fill: #4575b4; fill-opacity: 0.7; stroke: #4575b4; stroke-opacity: 0.7; stroke-width: 0.3\" />\n",
       "     <use xlink:href=\"#ma857b1959f\" x=\"41.962174\" y=\"46.630602\" style=\"fill: #4575b4; fill-opacity: 0.7; stroke: #4575b4; stroke-opacity: 0.7; stroke-width: 0.3\" />\n",
       "     <use xlink:href=\"#ma857b1959f\" x=\"69.457826\" y=\"53.807301\" style=\"fill: #4575b4; fill-opacity: 0.7; stroke: #4575b4; stroke-opacity: 0.7; stroke-width: 0.3\" />\n",
       "     <use xlink:href=\"#ma857b1959f\" x=\"39.131739\" y=\"21.512155\" style=\"fill: #4575b4; fill-opacity: 0.7; stroke: #4575b4; stroke-opacity: 0.7; stroke-width: 0.3\" />\n",
       "     <use xlink:href=\"#ma857b1959f\" x=\"53.243478\" y=\"46.630602\" style=\"fill: #4575b4; fill-opacity: 0.7; stroke: #4575b4; stroke-opacity: 0.7; stroke-width: 0.3\" />\n",
       "     <use xlink:href=\"#ma857b1959f\" x=\"42.164348\" y=\"53.807301\" style=\"fill: #4575b4; fill-opacity: 0.7; stroke: #4575b4; stroke-opacity: 0.7; stroke-width: 0.3\" />\n",
       "     <use xlink:href=\"#ma857b1959f\" x=\"70.67087\" y=\"34.071379\" style=\"fill: #4575b4; fill-opacity: 0.7; stroke: #4575b4; stroke-opacity: 0.7; stroke-width: 0.3\" />\n",
       "     <use xlink:href=\"#ma857b1959f\" x=\"39.131739\" y=\"55.601476\" style=\"fill: #4575b4; fill-opacity: 0.7; stroke: #4575b4; stroke-opacity: 0.7; stroke-width: 0.3\" />\n",
       "     <use xlink:href=\"#ma857b1959f\" x=\"37.11\" y=\"50.218951\" style=\"fill: #4575b4; fill-opacity: 0.7; stroke: #4575b4; stroke-opacity: 0.7; stroke-width: 0.3\" />\n",
       "     <use xlink:href=\"#ma857b1959f\" x=\"42.164348\" y=\"50.218951\" style=\"fill: #4575b4; fill-opacity: 0.7; stroke: #4575b4; stroke-opacity: 0.7; stroke-width: 0.3\" />\n",
       "     <use xlink:href=\"#ma857b1959f\" x=\"54.294783\" y=\"57.39565\" style=\"fill: #4575b4; fill-opacity: 0.7; stroke: #4575b4; stroke-opacity: 0.7; stroke-width: 0.3\" />\n",
       "     <use xlink:href=\"#ma857b1959f\" x=\"42.973043\" y=\"53.807301\" style=\"fill: #4575b4; fill-opacity: 0.7; stroke: #4575b4; stroke-opacity: 0.7; stroke-width: 0.3\" />\n",
       "     <use xlink:href=\"#ma857b1959f\" x=\"50.857826\" y=\"35.865553\" style=\"fill: #4575b4; fill-opacity: 0.7; stroke: #4575b4; stroke-opacity: 0.7; stroke-width: 0.3\" />\n",
       "     <use xlink:href=\"#ma857b1959f\" x=\"39.131739\" y=\"60.984\" style=\"fill: #4575b4; fill-opacity: 0.7; stroke: #4575b4; stroke-opacity: 0.7; stroke-width: 0.3\" />\n",
       "     <use xlink:href=\"#ma857b1959f\" x=\"40.745087\" y=\"30.483029\" style=\"fill: #4575b4; fill-opacity: 0.7; stroke: #4575b4; stroke-opacity: 0.7; stroke-width: 0.3\" />\n",
       "     <use xlink:href=\"#ma857b1959f\" x=\"38.727391\" y=\"53.807301\" style=\"fill: #4575b4; fill-opacity: 0.7; stroke: #4575b4; stroke-opacity: 0.7; stroke-width: 0.3\" />\n",
       "     <use xlink:href=\"#ma857b1959f\" x=\"43.175217\" y=\"59.189825\" style=\"fill: #4575b4; fill-opacity: 0.7; stroke: #4575b4; stroke-opacity: 0.7; stroke-width: 0.3\" />\n",
       "     <use xlink:href=\"#ma857b1959f\" x=\"41.149435\" y=\"48.424777\" style=\"fill: #4575b4; fill-opacity: 0.7; stroke: #4575b4; stroke-opacity: 0.7; stroke-width: 0.3\" />\n",
       "     <use xlink:href=\"#ma857b1959f\" x=\"45.176739\" y=\"46.630602\" style=\"fill: #4575b4; fill-opacity: 0.7; stroke: #4575b4; stroke-opacity: 0.7; stroke-width: 0.3\" />\n",
       "     <use xlink:href=\"#ma857b1959f\" x=\"47.016522\" y=\"50.218951\" style=\"fill: #4575b4; fill-opacity: 0.7; stroke: #4575b4; stroke-opacity: 0.7; stroke-width: 0.3\" />\n",
       "     <use xlink:href=\"#ma857b1959f\" x=\"38.929565\" y=\"60.984\" style=\"fill: #4575b4; fill-opacity: 0.7; stroke: #4575b4; stroke-opacity: 0.7; stroke-width: 0.3\" />\n",
       "     <use xlink:href=\"#ma857b1959f\" x=\"44.384217\" y=\"57.39565\" style=\"fill: #4575b4; fill-opacity: 0.7; stroke: #4575b4; stroke-opacity: 0.7; stroke-width: 0.3\" />\n",
       "     <use xlink:href=\"#ma857b1959f\" x=\"64.605652\" y=\"60.984\" style=\"fill: #4575b4; fill-opacity: 0.7; stroke: #4575b4; stroke-opacity: 0.7; stroke-width: 0.3\" />\n",
       "     <use xlink:href=\"#ma857b1959f\" x=\"45.196957\" y=\"21.512155\" style=\"fill: #4575b4; fill-opacity: 0.7; stroke: #4575b4; stroke-opacity: 0.7; stroke-width: 0.3\" />\n",
       "     <use xlink:href=\"#ma857b1959f\" x=\"40.142609\" y=\"8.952932\" style=\"fill: #4575b4; fill-opacity: 0.7; stroke: #4575b4; stroke-opacity: 0.7; stroke-width: 0.3\" />\n",
       "     <use xlink:href=\"#ma857b1959f\" x=\"61.573043\" y=\"55.601476\" style=\"fill: #4575b4; fill-opacity: 0.7; stroke: #4575b4; stroke-opacity: 0.7; stroke-width: 0.3\" />\n",
       "     <use xlink:href=\"#ma857b1959f\" x=\"68.446957\" y=\"34.071379\" style=\"fill: #4575b4; fill-opacity: 0.7; stroke: #4575b4; stroke-opacity: 0.7; stroke-width: 0.3\" />\n",
       "     <use xlink:href=\"#ma857b1959f\" x=\"48.836087\" y=\"28.688854\" style=\"fill: #4575b4; fill-opacity: 0.7; stroke: #4575b4; stroke-opacity: 0.7; stroke-width: 0.3\" />\n",
       "     <use xlink:href=\"#ma857b1959f\" x=\"109.892609\" y=\"37.659728\" style=\"fill: #4575b4; fill-opacity: 0.7; stroke: #4575b4; stroke-opacity: 0.7; stroke-width: 0.3\" />\n",
       "     <use xlink:href=\"#ma857b1959f\" x=\"43.781739\" y=\"39.453903\" style=\"fill: #4575b4; fill-opacity: 0.7; stroke: #4575b4; stroke-opacity: 0.7; stroke-width: 0.3\" />\n",
       "     <use xlink:href=\"#ma857b1959f\" x=\"44.590435\" y=\"50.218951\" style=\"fill: #4575b4; fill-opacity: 0.7; stroke: #4575b4; stroke-opacity: 0.7; stroke-width: 0.3\" />\n",
       "     <use xlink:href=\"#ma857b1959f\" x=\"66.627391\" y=\"30.483029\" style=\"fill: #4575b4; fill-opacity: 0.7; stroke: #4575b4; stroke-opacity: 0.7; stroke-width: 0.3\" />\n",
       "     <use xlink:href=\"#ma857b1959f\" x=\"73.096957\" y=\"17.923806\" style=\"fill: #4575b4; fill-opacity: 0.7; stroke: #4575b4; stroke-opacity: 0.7; stroke-width: 0.3\" />\n",
       "     <use xlink:href=\"#ma857b1959f\" x=\"49.236391\" y=\"39.453903\" style=\"fill: #4575b4; fill-opacity: 0.7; stroke: #4575b4; stroke-opacity: 0.7; stroke-width: 0.3\" />\n",
       "     <use xlink:href=\"#ma857b1959f\" x=\"44.788565\" y=\"59.189825\" style=\"fill: #4575b4; fill-opacity: 0.7; stroke: #4575b4; stroke-opacity: 0.7; stroke-width: 0.3\" />\n",
       "     <use xlink:href=\"#ma857b1959f\" x=\"41.557826\" y=\"41.248078\" style=\"fill: #4575b4; fill-opacity: 0.7; stroke: #4575b4; stroke-opacity: 0.7; stroke-width: 0.3\" />\n",
       "     <use xlink:href=\"#ma857b1959f\" x=\"39.333913\" y=\"60.984\" style=\"fill: #4575b4; fill-opacity: 0.7; stroke: #4575b4; stroke-opacity: 0.7; stroke-width: 0.3\" />\n",
       "     <use xlink:href=\"#ma857b1959f\" x=\"39.738261\" y=\"19.717981\" style=\"fill: #4575b4; fill-opacity: 0.7; stroke: #4575b4; stroke-opacity: 0.7; stroke-width: 0.3\" />\n",
       "     <use xlink:href=\"#ma857b1959f\" x=\"41.113043\" y=\"43.042252\" style=\"fill: #4575b4; fill-opacity: 0.7; stroke: #4575b4; stroke-opacity: 0.7; stroke-width: 0.3\" />\n",
       "     <use xlink:href=\"#ma857b1959f\" x=\"77.540739\" y=\"59.189825\" style=\"fill: #4575b4; fill-opacity: 0.7; stroke: #4575b4; stroke-opacity: 0.7; stroke-width: 0.3\" />\n",
       "     <use xlink:href=\"#ma857b1959f\" x=\"91.696957\" y=\"59.189825\" style=\"fill: #4575b4; fill-opacity: 0.7; stroke: #4575b4; stroke-opacity: 0.7; stroke-width: 0.3\" />\n",
       "     <use xlink:href=\"#ma857b1959f\" x=\"67.436087\" y=\"10.747107\" style=\"fill: #4575b4; fill-opacity: 0.7; stroke: #4575b4; stroke-opacity: 0.7; stroke-width: 0.3\" />\n",
       "     <use xlink:href=\"#ma857b1959f\" x=\"52.879565\" y=\"57.39565\" style=\"fill: #4575b4; fill-opacity: 0.7; stroke: #4575b4; stroke-opacity: 0.7; stroke-width: 0.3\" />\n",
       "     <use xlink:href=\"#ma857b1959f\" x=\"62.947826\" y=\"17.923806\" style=\"fill: #4575b4; fill-opacity: 0.7; stroke: #4575b4; stroke-opacity: 0.7; stroke-width: 0.3\" />\n",
       "     <use xlink:href=\"#ma857b1959f\" x=\"39.410739\" y=\"60.984\" style=\"fill: #4575b4; fill-opacity: 0.7; stroke: #4575b4; stroke-opacity: 0.7; stroke-width: 0.3\" />\n",
       "     <use xlink:href=\"#ma857b1959f\" x=\"49.2\" y=\"23.30633\" style=\"fill: #4575b4; fill-opacity: 0.7; stroke: #4575b4; stroke-opacity: 0.7; stroke-width: 0.3\" />\n",
       "     <use xlink:href=\"#ma857b1959f\" x=\"77.504348\" y=\"41.248078\" style=\"fill: #4575b4; fill-opacity: 0.7; stroke: #4575b4; stroke-opacity: 0.7; stroke-width: 0.3\" />\n",
       "     <use xlink:href=\"#ma857b1959f\" x=\"115.14913\" y=\"53.807301\" style=\"fill: #4575b4; fill-opacity: 0.7; stroke: #4575b4; stroke-opacity: 0.7; stroke-width: 0.3\" />\n",
       "     <use xlink:href=\"#ma857b1959f\" x=\"42.77087\" y=\"35.865553\" style=\"fill: #4575b4; fill-opacity: 0.7; stroke: #4575b4; stroke-opacity: 0.7; stroke-width: 0.3\" />\n",
       "     <use xlink:href=\"#ma857b1959f\" x=\"43.175217\" y=\"60.984\" style=\"fill: #4575b4; fill-opacity: 0.7; stroke: #4575b4; stroke-opacity: 0.7; stroke-width: 0.3\" />\n",
       "     <use xlink:href=\"#ma857b1959f\" x=\"39.9\" y=\"57.39565\" style=\"fill: #4575b4; fill-opacity: 0.7; stroke: #4575b4; stroke-opacity: 0.7; stroke-width: 0.3\" />\n",
       "     <use xlink:href=\"#ma857b1959f\" x=\"52.030435\" y=\"8.952932\" style=\"fill: #4575b4; fill-opacity: 0.7; stroke: #4575b4; stroke-opacity: 0.7; stroke-width: 0.3\" />\n",
       "     <use xlink:href=\"#ma857b1959f\" x=\"168.523043\" y=\"12.541282\" style=\"fill: #4575b4; fill-opacity: 0.7; stroke: #4575b4; stroke-opacity: 0.7; stroke-width: 0.3\" />\n",
       "     <use xlink:href=\"#ma857b1959f\" x=\"110.701304\" y=\"46.630602\" style=\"fill: #4575b4; fill-opacity: 0.7; stroke: #4575b4; stroke-opacity: 0.7; stroke-width: 0.3\" />\n",
       "     <use xlink:href=\"#ma857b1959f\" x=\"40.74913\" y=\"46.630602\" style=\"fill: #4575b4; fill-opacity: 0.7; stroke: #4575b4; stroke-opacity: 0.7; stroke-width: 0.3\" />\n",
       "     <use xlink:href=\"#ma857b1959f\" x=\"41.072609\" y=\"44.836427\" style=\"fill: #4575b4; fill-opacity: 0.7; stroke: #4575b4; stroke-opacity: 0.7; stroke-width: 0.3\" />\n",
       "     <use xlink:href=\"#ma857b1959f\" x=\"43.134783\" y=\"52.013126\" style=\"fill: #4575b4; fill-opacity: 0.7; stroke: #4575b4; stroke-opacity: 0.7; stroke-width: 0.3\" />\n",
       "     <use xlink:href=\"#ma857b1959f\" x=\"43.377391\" y=\"60.984\" style=\"fill: #4575b4; fill-opacity: 0.7; stroke: #4575b4; stroke-opacity: 0.7; stroke-width: 0.3\" />\n",
       "     <use xlink:href=\"#ma857b1959f\" x=\"52.475217\" y=\"57.39565\" style=\"fill: #4575b4; fill-opacity: 0.7; stroke: #4575b4; stroke-opacity: 0.7; stroke-width: 0.3\" />\n",
       "     <use xlink:href=\"#ma857b1959f\" x=\"47.214652\" y=\"60.984\" style=\"fill: #4575b4; fill-opacity: 0.7; stroke: #4575b4; stroke-opacity: 0.7; stroke-width: 0.3\" />\n",
       "     <use xlink:href=\"#ma857b1959f\" x=\"38.686957\" y=\"60.984\" style=\"fill: #4575b4; fill-opacity: 0.7; stroke: #4575b4; stroke-opacity: 0.7; stroke-width: 0.3\" />\n",
       "     <use xlink:href=\"#ma857b1959f\" x=\"70.67087\" y=\"1.776233\" style=\"fill: #4575b4; fill-opacity: 0.7; stroke: #4575b4; stroke-opacity: 0.7; stroke-width: 0.3\" />\n",
       "     <use xlink:href=\"#ma857b1959f\" x=\"49.240435\" y=\"57.39565\" style=\"fill: #4575b4; fill-opacity: 0.7; stroke: #4575b4; stroke-opacity: 0.7; stroke-width: 0.3\" />\n",
       "     <use xlink:href=\"#ma857b1959f\" x=\"72.284217\" y=\"17.923806\" style=\"fill: #4575b4; fill-opacity: 0.7; stroke: #4575b4; stroke-opacity: 0.7; stroke-width: 0.3\" />\n",
       "     <use xlink:href=\"#ma857b1959f\" x=\"51.262174\" y=\"35.865553\" style=\"fill: #4575b4; fill-opacity: 0.7; stroke: #4575b4; stroke-opacity: 0.7; stroke-width: 0.3\" />\n",
       "     <use xlink:href=\"#ma857b1959f\" x=\"40.951304\" y=\"41.248078\" style=\"fill: #4575b4; fill-opacity: 0.7; stroke: #4575b4; stroke-opacity: 0.7; stroke-width: 0.3\" />\n",
       "     <use xlink:href=\"#ma857b1959f\" x=\"43.575522\" y=\"23.30633\" style=\"fill: #4575b4; fill-opacity: 0.7; stroke: #4575b4; stroke-opacity: 0.7; stroke-width: 0.3\" />\n",
       "     <use xlink:href=\"#ma857b1959f\" x=\"57.327391\" y=\"32.277204\" style=\"fill: #4575b4; fill-opacity: 0.7; stroke: #4575b4; stroke-opacity: 0.7; stroke-width: 0.3\" />\n",
       "     <use xlink:href=\"#ma857b1959f\" x=\"94.527391\" y=\"28.688854\" style=\"fill: #4575b4; fill-opacity: 0.7; stroke: #4575b4; stroke-opacity: 0.7; stroke-width: 0.3\" />\n",
       "     <use xlink:href=\"#ma857b1959f\" x=\"67.031739\" y=\"60.984\" style=\"fill: #4575b4; fill-opacity: 0.7; stroke: #4575b4; stroke-opacity: 0.7; stroke-width: 0.3\" />\n",
       "     <use xlink:href=\"#ma857b1959f\" x=\"40.344783\" y=\"34.071379\" style=\"fill: #4575b4; fill-opacity: 0.7; stroke: #4575b4; stroke-opacity: 0.7; stroke-width: 0.3\" />\n",
       "     <use xlink:href=\"#ma857b1959f\" x=\"40.648043\" y=\"35.865553\" style=\"fill: #4575b4; fill-opacity: 0.7; stroke: #4575b4; stroke-opacity: 0.7; stroke-width: 0.3\" />\n",
       "     <use xlink:href=\"#ma857b1959f\" x=\"43.134783\" y=\"60.984\" style=\"fill: #4575b4; fill-opacity: 0.7; stroke: #4575b4; stroke-opacity: 0.7; stroke-width: 0.3\" />\n",
       "     <use xlink:href=\"#ma857b1959f\" x=\"40.74913\" y=\"50.218951\" style=\"fill: #4575b4; fill-opacity: 0.7; stroke: #4575b4; stroke-opacity: 0.7; stroke-width: 0.3\" />\n",
       "     <use xlink:href=\"#ma857b1959f\" x=\"47.42087\" y=\"37.659728\" style=\"fill: #4575b4; fill-opacity: 0.7; stroke: #4575b4; stroke-opacity: 0.7; stroke-width: 0.3\" />\n",
       "     <use xlink:href=\"#ma857b1959f\" x=\"50.453478\" y=\"50.218951\" style=\"fill: #4575b4; fill-opacity: 0.7; stroke: #4575b4; stroke-opacity: 0.7; stroke-width: 0.3\" />\n",
       "     <use xlink:href=\"#ma857b1959f\" x=\"45.196957\" y=\"12.541282\" style=\"fill: #4575b4; fill-opacity: 0.7; stroke: #4575b4; stroke-opacity: 0.7; stroke-width: 0.3\" />\n",
       "     <use xlink:href=\"#ma857b1959f\" x=\"48.836087\" y=\"57.39565\" style=\"fill: #4575b4; fill-opacity: 0.7; stroke: #4575b4; stroke-opacity: 0.7; stroke-width: 0.3\" />\n",
       "     <use xlink:href=\"#ma857b1959f\" x=\"43.983913\" y=\"43.042252\" style=\"fill: #4575b4; fill-opacity: 0.7; stroke: #4575b4; stroke-opacity: 0.7; stroke-width: 0.3\" />\n",
       "     <use xlink:href=\"#ma857b1959f\" x=\"47.623043\" y=\"53.807301\" style=\"fill: #4575b4; fill-opacity: 0.7; stroke: #4575b4; stroke-opacity: 0.7; stroke-width: 0.3\" />\n",
       "     <use xlink:href=\"#ma857b1959f\" x=\"39.333913\" y=\"53.807301\" style=\"fill: #4575b4; fill-opacity: 0.7; stroke: #4575b4; stroke-opacity: 0.7; stroke-width: 0.3\" />\n",
       "     <use xlink:href=\"#ma857b1959f\" x=\"65.410304\" y=\"39.453903\" style=\"fill: #4575b4; fill-opacity: 0.7; stroke: #4575b4; stroke-opacity: 0.7; stroke-width: 0.3\" />\n",
       "     <use xlink:href=\"#ma857b1959f\" x=\"61.37087\" y=\"60.984\" style=\"fill: #4575b4; fill-opacity: 0.7; stroke: #4575b4; stroke-opacity: 0.7; stroke-width: 0.3\" />\n",
       "     <use xlink:href=\"#ma857b1959f\" x=\"48.027391\" y=\"60.984\" style=\"fill: #4575b4; fill-opacity: 0.7; stroke: #4575b4; stroke-opacity: 0.7; stroke-width: 0.3\" />\n",
       "     <use xlink:href=\"#ma857b1959f\" x=\"68.244783\" y=\"43.042252\" style=\"fill: #4575b4; fill-opacity: 0.7; stroke: #4575b4; stroke-opacity: 0.7; stroke-width: 0.3\" />\n",
       "     <use xlink:href=\"#ma857b1959f\" x=\"79.566522\" y=\"44.836427\" style=\"fill: #4575b4; fill-opacity: 0.7; stroke: #4575b4; stroke-opacity: 0.7; stroke-width: 0.3\" />\n",
       "     <use xlink:href=\"#ma857b1959f\" x=\"176.61\" y=\"46.630602\" style=\"fill: #4575b4; fill-opacity: 0.7; stroke: #4575b4; stroke-opacity: 0.7; stroke-width: 0.3\" />\n",
       "     <use xlink:href=\"#ma857b1959f\" x=\"41.149435\" y=\"7.158757\" style=\"fill: #4575b4; fill-opacity: 0.7; stroke: #4575b4; stroke-opacity: 0.7; stroke-width: 0.3\" />\n",
       "     <use xlink:href=\"#ma857b1959f\" x=\"65.410304\" y=\"57.39565\" style=\"fill: #4575b4; fill-opacity: 0.7; stroke: #4575b4; stroke-opacity: 0.7; stroke-width: 0.3\" />\n",
       "     <use xlink:href=\"#ma857b1959f\" x=\"52.475217\" y=\"59.189825\" style=\"fill: #4575b4; fill-opacity: 0.7; stroke: #4575b4; stroke-opacity: 0.7; stroke-width: 0.3\" />\n",
       "     <use xlink:href=\"#ma857b1959f\" x=\"37.150435\" y=\"48.424777\" style=\"fill: #4575b4; fill-opacity: 0.7; stroke: #4575b4; stroke-opacity: 0.7; stroke-width: 0.3\" />\n",
       "     <use xlink:href=\"#ma857b1959f\" x=\"113.733913\" y=\"43.042252\" style=\"fill: #4575b4; fill-opacity: 0.7; stroke: #4575b4; stroke-opacity: 0.7; stroke-width: 0.3\" />\n",
       "     <use xlink:href=\"#ma857b1959f\" x=\"44.380174\" y=\"57.39565\" style=\"fill: #4575b4; fill-opacity: 0.7; stroke: #4575b4; stroke-opacity: 0.7; stroke-width: 0.3\" />\n",
       "     <use xlink:href=\"#ma857b1959f\" x=\"75.523043\" y=\"50.218951\" style=\"fill: #4575b4; fill-opacity: 0.7; stroke: #4575b4; stroke-opacity: 0.7; stroke-width: 0.3\" />\n",
       "     <use xlink:href=\"#ma857b1959f\" x=\"141.633913\" y=\"10.747107\" style=\"fill: #4575b4; fill-opacity: 0.7; stroke: #4575b4; stroke-opacity: 0.7; stroke-width: 0.3\" />\n",
       "     <use xlink:href=\"#ma857b1959f\" x=\"99.581739\" y=\"30.483029\" style=\"fill: #4575b4; fill-opacity: 0.7; stroke: #4575b4; stroke-opacity: 0.7; stroke-width: 0.3\" />\n",
       "     <use xlink:href=\"#ma857b1959f\" x=\"57.327391\" y=\"23.30633\" style=\"fill: #4575b4; fill-opacity: 0.7; stroke: #4575b4; stroke-opacity: 0.7; stroke-width: 0.3\" />\n",
       "     <use xlink:href=\"#ma857b1959f\" x=\"42.77087\" y=\"50.218951\" style=\"fill: #4575b4; fill-opacity: 0.7; stroke: #4575b4; stroke-opacity: 0.7; stroke-width: 0.3\" />\n",
       "     <use xlink:href=\"#ma857b1959f\" x=\"152.34913\" y=\"57.39565\" style=\"fill: #4575b4; fill-opacity: 0.7; stroke: #4575b4; stroke-opacity: 0.7; stroke-width: 0.3\" />\n",
       "     <use xlink:href=\"#ma857b1959f\" x=\"49.236391\" y=\"44.836427\" style=\"fill: #4575b4; fill-opacity: 0.7; stroke: #4575b4; stroke-opacity: 0.7; stroke-width: 0.3\" />\n",
       "     <use xlink:href=\"#ma857b1959f\" x=\"46.005652\" y=\"50.218951\" style=\"fill: #4575b4; fill-opacity: 0.7; stroke: #4575b4; stroke-opacity: 0.7; stroke-width: 0.3\" />\n",
       "     <use xlink:href=\"#ma857b1959f\" x=\"69.053478\" y=\"7.158757\" style=\"fill: #4575b4; fill-opacity: 0.7; stroke: #4575b4; stroke-opacity: 0.7; stroke-width: 0.3\" />\n",
       "     <use xlink:href=\"#ma857b1959f\" x=\"127.886087\" y=\"7.158757\" style=\"fill: #4575b4; fill-opacity: 0.7; stroke: #4575b4; stroke-opacity: 0.7; stroke-width: 0.3\" />\n",
       "     <use xlink:href=\"#ma857b1959f\" x=\"95.740435\" y=\"43.042252\" style=\"fill: #4575b4; fill-opacity: 0.7; stroke: #4575b4; stroke-opacity: 0.7; stroke-width: 0.3\" />\n",
       "     <use xlink:href=\"#ma857b1959f\" x=\"99.783913\" y=\"53.807301\" style=\"fill: #4575b4; fill-opacity: 0.7; stroke: #4575b4; stroke-opacity: 0.7; stroke-width: 0.3\" />\n",
       "     <use xlink:href=\"#ma857b1959f\" x=\"40.546957\" y=\"60.984\" style=\"fill: #4575b4; fill-opacity: 0.7; stroke: #4575b4; stroke-opacity: 0.7; stroke-width: 0.3\" />\n",
       "     <use xlink:href=\"#ma857b1959f\" x=\"52.07087\" y=\"34.071379\" style=\"fill: #4575b4; fill-opacity: 0.7; stroke: #4575b4; stroke-opacity: 0.7; stroke-width: 0.3\" />\n",
       "     <use xlink:href=\"#ma857b1959f\" x=\"47.218696\" y=\"57.39565\" style=\"fill: #4575b4; fill-opacity: 0.7; stroke: #4575b4; stroke-opacity: 0.7; stroke-width: 0.3\" />\n",
       "     <use xlink:href=\"#ma857b1959f\" x=\"105.845087\" y=\"44.836427\" style=\"fill: #4575b4; fill-opacity: 0.7; stroke: #4575b4; stroke-opacity: 0.7; stroke-width: 0.3\" />\n",
       "     <use xlink:href=\"#ma857b1959f\" x=\"38.525217\" y=\"52.013126\" style=\"fill: #4575b4; fill-opacity: 0.7; stroke: #4575b4; stroke-opacity: 0.7; stroke-width: 0.3\" />\n",
       "     <use xlink:href=\"#ma857b1959f\" x=\"72.692609\" y=\"44.836427\" style=\"fill: #4575b4; fill-opacity: 0.7; stroke: #4575b4; stroke-opacity: 0.7; stroke-width: 0.3\" />\n",
       "     <use xlink:href=\"#ma857b1959f\" x=\"43.175217\" y=\"52.013126\" style=\"fill: #4575b4; fill-opacity: 0.7; stroke: #4575b4; stroke-opacity: 0.7; stroke-width: 0.3\" />\n",
       "     <use xlink:href=\"#ma857b1959f\" x=\"61.330435\" y=\"55.601476\" style=\"fill: #4575b4; fill-opacity: 0.7; stroke: #4575b4; stroke-opacity: 0.7; stroke-width: 0.3\" />\n",
       "     <use xlink:href=\"#ma857b1959f\" x=\"41.557826\" y=\"57.39565\" style=\"fill: #4575b4; fill-opacity: 0.7; stroke: #4575b4; stroke-opacity: 0.7; stroke-width: 0.3\" />\n",
       "     <use xlink:href=\"#ma857b1959f\" x=\"41.557826\" y=\"60.984\" style=\"fill: #4575b4; fill-opacity: 0.7; stroke: #4575b4; stroke-opacity: 0.7; stroke-width: 0.3\" />\n",
       "     <use xlink:href=\"#ma857b1959f\" x=\"37.11\" y=\"30.483029\" style=\"fill: #4575b4; fill-opacity: 0.7; stroke: #4575b4; stroke-opacity: 0.7; stroke-width: 0.3\" />\n",
       "     <use xlink:href=\"#ma857b1959f\" x=\"60.157826\" y=\"55.601476\" style=\"fill: #4575b4; fill-opacity: 0.7; stroke: #4575b4; stroke-opacity: 0.7; stroke-width: 0.3\" />\n",
       "     <use xlink:href=\"#ma857b1959f\" x=\"62.57987\" y=\"23.30633\" style=\"fill: #4575b4; fill-opacity: 0.7; stroke: #4575b4; stroke-opacity: 0.7; stroke-width: 0.3\" />\n",
       "     <use xlink:href=\"#ma857b1959f\" x=\"51.262174\" y=\"57.39565\" style=\"fill: #4575b4; fill-opacity: 0.7; stroke: #4575b4; stroke-opacity: 0.7; stroke-width: 0.3\" />\n",
       "     <use xlink:href=\"#ma857b1959f\" x=\"44.788565\" y=\"32.277204\" style=\"fill: #4575b4; fill-opacity: 0.7; stroke: #4575b4; stroke-opacity: 0.7; stroke-width: 0.3\" />\n",
       "     <use xlink:href=\"#ma857b1959f\" x=\"67.436087\" y=\"59.189825\" style=\"fill: #4575b4; fill-opacity: 0.7; stroke: #4575b4; stroke-opacity: 0.7; stroke-width: 0.3\" />\n",
       "     <use xlink:href=\"#ma857b1959f\" x=\"62.988261\" y=\"39.453903\" style=\"fill: #4575b4; fill-opacity: 0.7; stroke: #4575b4; stroke-opacity: 0.7; stroke-width: 0.3\" />\n",
       "     <use xlink:href=\"#ma857b1959f\" x=\"44.994783\" y=\"7.158757\" style=\"fill: #4575b4; fill-opacity: 0.7; stroke: #4575b4; stroke-opacity: 0.7; stroke-width: 0.3\" />\n",
       "     <use xlink:href=\"#ma857b1959f\" x=\"81.584217\" y=\"53.807301\" style=\"fill: #4575b4; fill-opacity: 0.7; stroke: #4575b4; stroke-opacity: 0.7; stroke-width: 0.3\" />\n",
       "     <use xlink:href=\"#ma857b1959f\" x=\"61.366826\" y=\"53.807301\" style=\"fill: #4575b4; fill-opacity: 0.7; stroke: #4575b4; stroke-opacity: 0.7; stroke-width: 0.3\" />\n",
       "     <use xlink:href=\"#ma857b1959f\" x=\"147.86087\" y=\"8.952932\" style=\"fill: #4575b4; fill-opacity: 0.7; stroke: #4575b4; stroke-opacity: 0.7; stroke-width: 0.3\" />\n",
       "     <use xlink:href=\"#ma857b1959f\" x=\"37.11\" y=\"55.601476\" style=\"fill: #4575b4; fill-opacity: 0.7; stroke: #4575b4; stroke-opacity: 0.7; stroke-width: 0.3\" />\n",
       "     <use xlink:href=\"#ma857b1959f\" x=\"70.67087\" y=\"57.39565\" style=\"fill: #4575b4; fill-opacity: 0.7; stroke: #4575b4; stroke-opacity: 0.7; stroke-width: 0.3\" />\n",
       "     <use xlink:href=\"#ma857b1959f\" x=\"90.884217\" y=\"37.659728\" style=\"fill: #4575b4; fill-opacity: 0.7; stroke: #4575b4; stroke-opacity: 0.7; stroke-width: 0.3\" />\n",
       "     <use xlink:href=\"#ma857b1959f\" x=\"73.096957\" y=\"50.218951\" style=\"fill: #4575b4; fill-opacity: 0.7; stroke: #4575b4; stroke-opacity: 0.7; stroke-width: 0.3\" />\n",
       "     <use xlink:href=\"#ma857b1959f\" x=\"75.523043\" y=\"44.836427\" style=\"fill: #4575b4; fill-opacity: 0.7; stroke: #4575b4; stroke-opacity: 0.7; stroke-width: 0.3\" />\n",
       "     <use xlink:href=\"#ma857b1959f\" x=\"47.42087\" y=\"8.952932\" style=\"fill: #4575b4; fill-opacity: 0.7; stroke: #4575b4; stroke-opacity: 0.7; stroke-width: 0.3\" />\n",
       "     <use xlink:href=\"#ma857b1959f\" x=\"47.218696\" y=\"48.424777\" style=\"fill: #4575b4; fill-opacity: 0.7; stroke: #4575b4; stroke-opacity: 0.7; stroke-width: 0.3\" />\n",
       "     <use xlink:href=\"#ma857b1959f\" x=\"40.478217\" y=\"53.807301\" style=\"fill: #4575b4; fill-opacity: 0.7; stroke: #4575b4; stroke-opacity: 0.7; stroke-width: 0.3\" />\n",
       "     <use xlink:href=\"#ma857b1959f\" x=\"40.142609\" y=\"55.601476\" style=\"fill: #4575b4; fill-opacity: 0.7; stroke: #4575b4; stroke-opacity: 0.7; stroke-width: 0.3\" />\n",
       "     <use xlink:href=\"#ma857b1959f\" x=\"40.745087\" y=\"57.39565\" style=\"fill: #4575b4; fill-opacity: 0.7; stroke: #4575b4; stroke-opacity: 0.7; stroke-width: 0.3\" />\n",
       "     <use xlink:href=\"#ma857b1959f\" x=\"50.251304\" y=\"21.512155\" style=\"fill: #4575b4; fill-opacity: 0.7; stroke: #4575b4; stroke-opacity: 0.7; stroke-width: 0.3\" />\n",
       "     <use xlink:href=\"#ma857b1959f\" x=\"42.973043\" y=\"53.807301\" style=\"fill: #4575b4; fill-opacity: 0.7; stroke: #4575b4; stroke-opacity: 0.7; stroke-width: 0.3\" />\n",
       "     <use xlink:href=\"#ma857b1959f\" x=\"47.416826\" y=\"55.601476\" style=\"fill: #4575b4; fill-opacity: 0.7; stroke: #4575b4; stroke-opacity: 0.7; stroke-width: 0.3\" />\n",
       "     <use xlink:href=\"#ma857b1959f\" x=\"37.11\" y=\"19.717981\" style=\"fill: #4575b4; fill-opacity: 0.7; stroke: #4575b4; stroke-opacity: 0.7; stroke-width: 0.3\" />\n",
       "     <use xlink:href=\"#ma857b1959f\" x=\"41.149435\" y=\"50.218951\" style=\"fill: #4575b4; fill-opacity: 0.7; stroke: #4575b4; stroke-opacity: 0.7; stroke-width: 0.3\" />\n",
       "     <use xlink:href=\"#ma857b1959f\" x=\"37.918696\" y=\"50.218951\" style=\"fill: #4575b4; fill-opacity: 0.7; stroke: #4575b4; stroke-opacity: 0.7; stroke-width: 0.3\" />\n",
       "     <use xlink:href=\"#ma857b1959f\" x=\"63.392609\" y=\"60.984\" style=\"fill: #4575b4; fill-opacity: 0.7; stroke: #4575b4; stroke-opacity: 0.7; stroke-width: 0.3\" />\n",
       "     <use xlink:href=\"#ma857b1959f\" x=\"42.973043\" y=\"5.364583\" style=\"fill: #4575b4; fill-opacity: 0.7; stroke: #4575b4; stroke-opacity: 0.7; stroke-width: 0.3\" />\n",
       "     <use xlink:href=\"#ma857b1959f\" x=\"69.013043\" y=\"59.189825\" style=\"fill: #4575b4; fill-opacity: 0.7; stroke: #4575b4; stroke-opacity: 0.7; stroke-width: 0.3\" />\n",
       "     <use xlink:href=\"#ma857b1959f\" x=\"45.799435\" y=\"46.630602\" style=\"fill: #4575b4; fill-opacity: 0.7; stroke: #4575b4; stroke-opacity: 0.7; stroke-width: 0.3\" />\n",
       "     <use xlink:href=\"#ma857b1959f\" x=\"44.388261\" y=\"57.39565\" style=\"fill: #4575b4; fill-opacity: 0.7; stroke: #4575b4; stroke-opacity: 0.7; stroke-width: 0.3\" />\n",
       "     <use xlink:href=\"#ma857b1959f\" x=\"38.929565\" y=\"59.189825\" style=\"fill: #4575b4; fill-opacity: 0.7; stroke: #4575b4; stroke-opacity: 0.7; stroke-width: 0.3\" />\n",
       "     <use xlink:href=\"#ma857b1959f\" x=\"40.74913\" y=\"50.218951\" style=\"fill: #4575b4; fill-opacity: 0.7; stroke: #4575b4; stroke-opacity: 0.7; stroke-width: 0.3\" />\n",
       "     <use xlink:href=\"#ma857b1959f\" x=\"73.497261\" y=\"48.424777\" style=\"fill: #4575b4; fill-opacity: 0.7; stroke: #4575b4; stroke-opacity: 0.7; stroke-width: 0.3\" />\n",
       "     <use xlink:href=\"#ma857b1959f\" x=\"38.565652\" y=\"53.807301\" style=\"fill: #4575b4; fill-opacity: 0.7; stroke: #4575b4; stroke-opacity: 0.7; stroke-width: 0.3\" />\n",
       "     <use xlink:href=\"#ma857b1959f\" x=\"49.220217\" y=\"60.984\" style=\"fill: #4575b4; fill-opacity: 0.7; stroke: #4575b4; stroke-opacity: 0.7; stroke-width: 0.3\" />\n",
       "     <use xlink:href=\"#ma857b1959f\" x=\"50.453478\" y=\"60.984\" style=\"fill: #4575b4; fill-opacity: 0.7; stroke: #4575b4; stroke-opacity: 0.7; stroke-width: 0.3\" />\n",
       "     <use xlink:href=\"#ma857b1959f\" x=\"69.457826\" y=\"41.248078\" style=\"fill: #4575b4; fill-opacity: 0.7; stroke: #4575b4; stroke-opacity: 0.7; stroke-width: 0.3\" />\n",
       "     <use xlink:href=\"#ma857b1959f\" x=\"51.262174\" y=\"28.688854\" style=\"fill: #4575b4; fill-opacity: 0.7; stroke: #4575b4; stroke-opacity: 0.7; stroke-width: 0.3\" />\n",
       "     <use xlink:href=\"#ma857b1959f\" x=\"41.153478\" y=\"57.39565\" style=\"fill: #4575b4; fill-opacity: 0.7; stroke: #4575b4; stroke-opacity: 0.7; stroke-width: 0.3\" />\n",
       "     <use xlink:href=\"#ma857b1959f\" x=\"39.536087\" y=\"32.277204\" style=\"fill: #4575b4; fill-opacity: 0.7; stroke: #4575b4; stroke-opacity: 0.7; stroke-width: 0.3\" />\n",
       "     <use xlink:href=\"#ma857b1959f\" x=\"37.11\" y=\"53.807301\" style=\"fill: #4575b4; fill-opacity: 0.7; stroke: #4575b4; stroke-opacity: 0.7; stroke-width: 0.3\" />\n",
       "     <use xlink:href=\"#ma857b1959f\" x=\"48.427696\" y=\"17.923806\" style=\"fill: #4575b4; fill-opacity: 0.7; stroke: #4575b4; stroke-opacity: 0.7; stroke-width: 0.3\" />\n",
       "     <use xlink:href=\"#ma857b1959f\" x=\"40.74913\" y=\"60.984\" style=\"fill: #4575b4; fill-opacity: 0.7; stroke: #4575b4; stroke-opacity: 0.7; stroke-width: 0.3\" />\n",
       "     <use xlink:href=\"#ma857b1959f\" x=\"106.657826\" y=\"53.807301\" style=\"fill: #4575b4; fill-opacity: 0.7; stroke: #4575b4; stroke-opacity: 0.7; stroke-width: 0.3\" />\n",
       "     <use xlink:href=\"#ma857b1959f\" x=\"79.566522\" y=\"46.630602\" style=\"fill: #4575b4; fill-opacity: 0.7; stroke: #4575b4; stroke-opacity: 0.7; stroke-width: 0.3\" />\n",
       "     <use xlink:href=\"#ma857b1959f\" x=\"37.11\" y=\"17.923806\" style=\"fill: #4575b4; fill-opacity: 0.7; stroke: #4575b4; stroke-opacity: 0.7; stroke-width: 0.3\" />\n",
       "     <use xlink:href=\"#ma857b1959f\" x=\"39.131739\" y=\"8.952932\" style=\"fill: #4575b4; fill-opacity: 0.7; stroke: #4575b4; stroke-opacity: 0.7; stroke-width: 0.3\" />\n",
       "     <use xlink:href=\"#ma857b1959f\" x=\"45.192913\" y=\"14.335456\" style=\"fill: #4575b4; fill-opacity: 0.7; stroke: #4575b4; stroke-opacity: 0.7; stroke-width: 0.3\" />\n",
       "     <use xlink:href=\"#ma857b1959f\" x=\"41.962174\" y=\"59.189825\" style=\"fill: #4575b4; fill-opacity: 0.7; stroke: #4575b4; stroke-opacity: 0.7; stroke-width: 0.3\" />\n",
       "     <use xlink:href=\"#ma857b1959f\" x=\"57.327391\" y=\"32.277204\" style=\"fill: #4575b4; fill-opacity: 0.7; stroke: #4575b4; stroke-opacity: 0.7; stroke-width: 0.3\" />\n",
       "     <use xlink:href=\"#ma857b1959f\" x=\"37.837826\" y=\"60.984\" style=\"fill: #4575b4; fill-opacity: 0.7; stroke: #4575b4; stroke-opacity: 0.7; stroke-width: 0.3\" />\n",
       "     <use xlink:href=\"#ma857b1959f\" x=\"42.568696\" y=\"28.688854\" style=\"fill: #4575b4; fill-opacity: 0.7; stroke: #4575b4; stroke-opacity: 0.7; stroke-width: 0.3\" />\n",
       "     <use xlink:href=\"#ma857b1959f\" x=\"105.84913\" y=\"25.100505\" style=\"fill: #4575b4; fill-opacity: 0.7; stroke: #4575b4; stroke-opacity: 0.7; stroke-width: 0.3\" />\n",
       "     <use xlink:href=\"#ma857b1959f\" x=\"47.178261\" y=\"57.39565\" style=\"fill: #4575b4; fill-opacity: 0.7; stroke: #4575b4; stroke-opacity: 0.7; stroke-width: 0.3\" />\n",
       "     <use xlink:href=\"#ma857b1959f\" x=\"45.196957\" y=\"25.100505\" style=\"fill: #4575b4; fill-opacity: 0.7; stroke: #4575b4; stroke-opacity: 0.7; stroke-width: 0.3\" />\n",
       "     <use xlink:href=\"#ma857b1959f\" x=\"85.627696\" y=\"53.807301\" style=\"fill: #4575b4; fill-opacity: 0.7; stroke: #4575b4; stroke-opacity: 0.7; stroke-width: 0.3\" />\n",
       "     <use xlink:href=\"#ma857b1959f\" x=\"45.192913\" y=\"37.659728\" style=\"fill: #4575b4; fill-opacity: 0.7; stroke: #4575b4; stroke-opacity: 0.7; stroke-width: 0.3\" />\n",
       "     <use xlink:href=\"#ma857b1959f\" x=\"51.262174\" y=\"21.512155\" style=\"fill: #4575b4; fill-opacity: 0.7; stroke: #4575b4; stroke-opacity: 0.7; stroke-width: 0.3\" />\n",
       "     <use xlink:href=\"#ma857b1959f\" x=\"72.631957\" y=\"41.248078\" style=\"fill: #4575b4; fill-opacity: 0.7; stroke: #4575b4; stroke-opacity: 0.7; stroke-width: 0.3\" />\n",
       "     <use xlink:href=\"#ma857b1959f\" x=\"89.675217\" y=\"23.30633\" style=\"fill: #4575b4; fill-opacity: 0.7; stroke: #4575b4; stroke-opacity: 0.7; stroke-width: 0.3\" />\n",
       "     <use xlink:href=\"#ma857b1959f\" x=\"40.44587\" y=\"57.39565\" style=\"fill: #4575b4; fill-opacity: 0.7; stroke: #4575b4; stroke-opacity: 0.7; stroke-width: 0.3\" />\n",
       "     <use xlink:href=\"#ma857b1959f\" x=\"41.76\" y=\"59.189825\" style=\"fill: #4575b4; fill-opacity: 0.7; stroke: #4575b4; stroke-opacity: 0.7; stroke-width: 0.3\" />\n",
       "     <use xlink:href=\"#ma857b1959f\" x=\"38.525217\" y=\"57.39565\" style=\"fill: #4575b4; fill-opacity: 0.7; stroke: #4575b4; stroke-opacity: 0.7; stroke-width: 0.3\" />\n",
       "     <use xlink:href=\"#ma857b1959f\" x=\"46.005652\" y=\"60.984\" style=\"fill: #4575b4; fill-opacity: 0.7; stroke: #4575b4; stroke-opacity: 0.7; stroke-width: 0.3\" />\n",
       "     <use xlink:href=\"#ma857b1959f\" x=\"40.344783\" y=\"50.218951\" style=\"fill: #4575b4; fill-opacity: 0.7; stroke: #4575b4; stroke-opacity: 0.7; stroke-width: 0.3\" />\n",
       "     <use xlink:href=\"#ma857b1959f\" x=\"62.57987\" y=\"41.248078\" style=\"fill: #4575b4; fill-opacity: 0.7; stroke: #4575b4; stroke-opacity: 0.7; stroke-width: 0.3\" />\n",
       "     <use xlink:href=\"#ma857b1959f\" x=\"41.557826\" y=\"55.601476\" style=\"fill: #4575b4; fill-opacity: 0.7; stroke: #4575b4; stroke-opacity: 0.7; stroke-width: 0.3\" />\n",
       "     <use xlink:href=\"#ma857b1959f\" x=\"69.049435\" y=\"53.807301\" style=\"fill: #4575b4; fill-opacity: 0.7; stroke: #4575b4; stroke-opacity: 0.7; stroke-width: 0.3\" />\n",
       "     <use xlink:href=\"#ma857b1959f\" x=\"37.11\" y=\"28.688854\" style=\"fill: #4575b4; fill-opacity: 0.7; stroke: #4575b4; stroke-opacity: 0.7; stroke-width: 0.3\" />\n",
       "     <use xlink:href=\"#ma857b1959f\" x=\"102.21\" y=\"60.984\" style=\"fill: #4575b4; fill-opacity: 0.7; stroke: #4575b4; stroke-opacity: 0.7; stroke-width: 0.3\" />\n",
       "     <use xlink:href=\"#ma857b1959f\" x=\"62.381739\" y=\"59.189825\" style=\"fill: #4575b4; fill-opacity: 0.7; stroke: #4575b4; stroke-opacity: 0.7; stroke-width: 0.3\" />\n",
       "     <use xlink:href=\"#ma857b1959f\" x=\"75.523043\" y=\"52.013126\" style=\"fill: #4575b4; fill-opacity: 0.7; stroke: #4575b4; stroke-opacity: 0.7; stroke-width: 0.3\" />\n",
       "     <use xlink:href=\"#ma857b1959f\" x=\"49.236391\" y=\"26.89468\" style=\"fill: #4575b4; fill-opacity: 0.7; stroke: #4575b4; stroke-opacity: 0.7; stroke-width: 0.3\" />\n",
       "     <use xlink:href=\"#ma857b1959f\" x=\"40.74913\" y=\"60.984\" style=\"fill: #4575b4; fill-opacity: 0.7; stroke: #4575b4; stroke-opacity: 0.7; stroke-width: 0.3\" />\n",
       "     <use xlink:href=\"#ma857b1959f\" x=\"57.286957\" y=\"10.747107\" style=\"fill: #4575b4; fill-opacity: 0.7; stroke: #4575b4; stroke-opacity: 0.7; stroke-width: 0.3\" />\n",
       "     <use xlink:href=\"#ma857b1959f\" x=\"39.333913\" y=\"55.601476\" style=\"fill: #4575b4; fill-opacity: 0.7; stroke: #4575b4; stroke-opacity: 0.7; stroke-width: 0.3\" />\n",
       "     <use xlink:href=\"#ma857b1959f\" x=\"142.240435\" y=\"19.717981\" style=\"fill: #4575b4; fill-opacity: 0.7; stroke: #4575b4; stroke-opacity: 0.7; stroke-width: 0.3\" />\n",
       "     <use xlink:href=\"#ma857b1959f\" x=\"45.156522\" y=\"37.659728\" style=\"fill: #4575b4; fill-opacity: 0.7; stroke: #4575b4; stroke-opacity: 0.7; stroke-width: 0.3\" />\n",
       "     <use xlink:href=\"#ma857b1959f\" x=\"37.11\" y=\"57.39565\" style=\"fill: #4575b4; fill-opacity: 0.7; stroke: #4575b4; stroke-opacity: 0.7; stroke-width: 0.3\" />\n",
       "     <use xlink:href=\"#ma857b1959f\" x=\"52.475217\" y=\"14.335456\" style=\"fill: #4575b4; fill-opacity: 0.7; stroke: #4575b4; stroke-opacity: 0.7; stroke-width: 0.3\" />\n",
       "     <use xlink:href=\"#ma857b1959f\" x=\"41.557826\" y=\"60.984\" style=\"fill: #4575b4; fill-opacity: 0.7; stroke: #4575b4; stroke-opacity: 0.7; stroke-width: 0.3\" />\n",
       "     <use xlink:href=\"#ma857b1959f\" x=\"54.496957\" y=\"8.952932\" style=\"fill: #4575b4; fill-opacity: 0.7; stroke: #4575b4; stroke-opacity: 0.7; stroke-width: 0.3\" />\n",
       "     <use xlink:href=\"#ma857b1959f\" x=\"51.262174\" y=\"60.984\" style=\"fill: #4575b4; fill-opacity: 0.7; stroke: #4575b4; stroke-opacity: 0.7; stroke-width: 0.3\" />\n",
       "     <use xlink:href=\"#ma857b1959f\" x=\"75.519\" y=\"41.248078\" style=\"fill: #4575b4; fill-opacity: 0.7; stroke: #4575b4; stroke-opacity: 0.7; stroke-width: 0.3\" />\n",
       "     <use xlink:href=\"#ma857b1959f\" x=\"69.862174\" y=\"5.364583\" style=\"fill: #4575b4; fill-opacity: 0.7; stroke: #4575b4; stroke-opacity: 0.7; stroke-width: 0.3\" />\n",
       "     <use xlink:href=\"#ma857b1959f\" x=\"62.583913\" y=\"8.952932\" style=\"fill: #4575b4; fill-opacity: 0.7; stroke: #4575b4; stroke-opacity: 0.7; stroke-width: 0.3\" />\n",
       "     <use xlink:href=\"#ma857b1959f\" x=\"113.932043\" y=\"59.189825\" style=\"fill: #4575b4; fill-opacity: 0.7; stroke: #4575b4; stroke-opacity: 0.7; stroke-width: 0.3\" />\n",
       "     <use xlink:href=\"#ma857b1959f\" x=\"39.738261\" y=\"46.630602\" style=\"fill: #4575b4; fill-opacity: 0.7; stroke: #4575b4; stroke-opacity: 0.7; stroke-width: 0.3\" />\n",
       "     <use xlink:href=\"#ma857b1959f\" x=\"61.37087\" y=\"50.218951\" style=\"fill: #4575b4; fill-opacity: 0.7; stroke: #4575b4; stroke-opacity: 0.7; stroke-width: 0.3\" />\n",
       "     <use xlink:href=\"#ma857b1959f\" x=\"49.240435\" y=\"57.39565\" style=\"fill: #4575b4; fill-opacity: 0.7; stroke: #4575b4; stroke-opacity: 0.7; stroke-width: 0.3\" />\n",
       "     <use xlink:href=\"#ma857b1959f\" x=\"64.201304\" y=\"59.189825\" style=\"fill: #4575b4; fill-opacity: 0.7; stroke: #4575b4; stroke-opacity: 0.7; stroke-width: 0.3\" />\n",
       "     <use xlink:href=\"#ma857b1959f\" x=\"98.975217\" y=\"46.630602\" style=\"fill: #4575b4; fill-opacity: 0.7; stroke: #4575b4; stroke-opacity: 0.7; stroke-width: 0.3\" />\n",
       "     <use xlink:href=\"#ma857b1959f\" x=\"69.453783\" y=\"35.865553\" style=\"fill: #4575b4; fill-opacity: 0.7; stroke: #4575b4; stroke-opacity: 0.7; stroke-width: 0.3\" />\n",
       "     <use xlink:href=\"#ma857b1959f\" x=\"109.807696\" y=\"46.630602\" style=\"fill: #4575b4; fill-opacity: 0.7; stroke: #4575b4; stroke-opacity: 0.7; stroke-width: 0.3\" />\n",
       "     <use xlink:href=\"#ma857b1959f\" x=\"43.175217\" y=\"26.89468\" style=\"fill: #4575b4; fill-opacity: 0.7; stroke: #4575b4; stroke-opacity: 0.7; stroke-width: 0.3\" />\n",
       "     <use xlink:href=\"#ma857b1959f\" x=\"49.842913\" y=\"60.984\" style=\"fill: #4575b4; fill-opacity: 0.7; stroke: #4575b4; stroke-opacity: 0.7; stroke-width: 0.3\" />\n",
       "     <use xlink:href=\"#ma857b1959f\" x=\"103.423043\" y=\"32.277204\" style=\"fill: #4575b4; fill-opacity: 0.7; stroke: #4575b4; stroke-opacity: 0.7; stroke-width: 0.3\" />\n",
       "     <use xlink:href=\"#ma857b1959f\" x=\"57.125217\" y=\"55.601476\" style=\"fill: #4575b4; fill-opacity: 0.7; stroke: #4575b4; stroke-opacity: 0.7; stroke-width: 0.3\" />\n",
       "     <use xlink:href=\"#ma857b1959f\" x=\"37.514348\" y=\"57.39565\" style=\"fill: #4575b4; fill-opacity: 0.7; stroke: #4575b4; stroke-opacity: 0.7; stroke-width: 0.3\" />\n",
       "     <use xlink:href=\"#ma857b1959f\" x=\"43.983913\" y=\"57.39565\" style=\"fill: #4575b4; fill-opacity: 0.7; stroke: #4575b4; stroke-opacity: 0.7; stroke-width: 0.3\" />\n",
       "     <use xlink:href=\"#ma857b1959f\" x=\"59.34913\" y=\"57.39565\" style=\"fill: #4575b4; fill-opacity: 0.7; stroke: #4575b4; stroke-opacity: 0.7; stroke-width: 0.3\" />\n",
       "     <use xlink:href=\"#ma857b1959f\" x=\"64.16087\" y=\"46.630602\" style=\"fill: #4575b4; fill-opacity: 0.7; stroke: #4575b4; stroke-opacity: 0.7; stroke-width: 0.3\" />\n",
       "     <use xlink:href=\"#ma857b1959f\" x=\"55.305652\" y=\"60.984\" style=\"fill: #4575b4; fill-opacity: 0.7; stroke: #4575b4; stroke-opacity: 0.7; stroke-width: 0.3\" />\n",
       "     <use xlink:href=\"#ma857b1959f\" x=\"44.388261\" y=\"60.984\" style=\"fill: #4575b4; fill-opacity: 0.7; stroke: #4575b4; stroke-opacity: 0.7; stroke-width: 0.3\" />\n",
       "     <use xlink:href=\"#ma857b1959f\" x=\"37.11\" y=\"37.659728\" style=\"fill: #4575b4; fill-opacity: 0.7; stroke: #4575b4; stroke-opacity: 0.7; stroke-width: 0.3\" />\n",
       "     <use xlink:href=\"#ma857b1959f\" x=\"51.25813\" y=\"57.39565\" style=\"fill: #4575b4; fill-opacity: 0.7; stroke: #4575b4; stroke-opacity: 0.7; stroke-width: 0.3\" />\n",
       "     <use xlink:href=\"#ma857b1959f\" x=\"43.781739\" y=\"55.601476\" style=\"fill: #4575b4; fill-opacity: 0.7; stroke: #4575b4; stroke-opacity: 0.7; stroke-width: 0.3\" />\n",
       "     <use xlink:href=\"#ma857b1959f\" x=\"51.868696\" y=\"43.042252\" style=\"fill: #4575b4; fill-opacity: 0.7; stroke: #4575b4; stroke-opacity: 0.7; stroke-width: 0.3\" />\n",
       "     <use xlink:href=\"#ma857b1959f\" x=\"55.71\" y=\"35.865553\" style=\"fill: #4575b4; fill-opacity: 0.7; stroke: #4575b4; stroke-opacity: 0.7; stroke-width: 0.3\" />\n",
       "     <use xlink:href=\"#ma857b1959f\" x=\"47.986957\" y=\"57.39565\" style=\"fill: #4575b4; fill-opacity: 0.7; stroke: #4575b4; stroke-opacity: 0.7; stroke-width: 0.3\" />\n",
       "     <use xlink:href=\"#ma857b1959f\" x=\"81.183913\" y=\"52.013126\" style=\"fill: #4575b4; fill-opacity: 0.7; stroke: #4575b4; stroke-opacity: 0.7; stroke-width: 0.3\" />\n",
       "     <use xlink:href=\"#ma857b1959f\" x=\"91.696957\" y=\"37.659728\" style=\"fill: #4575b4; fill-opacity: 0.7; stroke: #4575b4; stroke-opacity: 0.7; stroke-width: 0.3\" />\n",
       "     <use xlink:href=\"#ma857b1959f\" x=\"50.04913\" y=\"50.218951\" style=\"fill: #4575b4; fill-opacity: 0.7; stroke: #4575b4; stroke-opacity: 0.7; stroke-width: 0.3\" />\n",
       "     <use xlink:href=\"#ma857b1959f\" x=\"41.95813\" y=\"60.984\" style=\"fill: #4575b4; fill-opacity: 0.7; stroke: #4575b4; stroke-opacity: 0.7; stroke-width: 0.3\" />\n",
       "     <use xlink:href=\"#ma857b1959f\" x=\"59.34913\" y=\"1.776233\" style=\"fill: #4575b4; fill-opacity: 0.7; stroke: #4575b4; stroke-opacity: 0.7; stroke-width: 0.3\" />\n",
       "     <use xlink:href=\"#ma857b1959f\" x=\"44.388261\" y=\"46.630602\" style=\"fill: #4575b4; fill-opacity: 0.7; stroke: #4575b4; stroke-opacity: 0.7; stroke-width: 0.3\" />\n",
       "     <use xlink:href=\"#ma857b1959f\" x=\"93.314348\" y=\"53.807301\" style=\"fill: #4575b4; fill-opacity: 0.7; stroke: #4575b4; stroke-opacity: 0.7; stroke-width: 0.3\" />\n",
       "     <use xlink:href=\"#ma857b1959f\" x=\"107.87087\" y=\"46.630602\" style=\"fill: #4575b4; fill-opacity: 0.7; stroke: #4575b4; stroke-opacity: 0.7; stroke-width: 0.3\" />\n",
       "     <use xlink:href=\"#ma857b1959f\" x=\"85.631739\" y=\"46.630602\" style=\"fill: #4575b4; fill-opacity: 0.7; stroke: #4575b4; stroke-opacity: 0.7; stroke-width: 0.3\" />\n",
       "     <use xlink:href=\"#ma857b1959f\" x=\"51.262174\" y=\"41.248078\" style=\"fill: #4575b4; fill-opacity: 0.7; stroke: #4575b4; stroke-opacity: 0.7; stroke-width: 0.3\" />\n",
       "     <use xlink:href=\"#ma857b1959f\" x=\"95.942609\" y=\"26.89468\" style=\"fill: #4575b4; fill-opacity: 0.7; stroke: #4575b4; stroke-opacity: 0.7; stroke-width: 0.3\" />\n",
       "     <use xlink:href=\"#ma857b1959f\" x=\"37.11\" y=\"60.984\" style=\"fill: #4575b4; fill-opacity: 0.7; stroke: #4575b4; stroke-opacity: 0.7; stroke-width: 0.3\" />\n",
       "     <use xlink:href=\"#ma857b1959f\" x=\"51.666522\" y=\"53.807301\" style=\"fill: #4575b4; fill-opacity: 0.7; stroke: #4575b4; stroke-opacity: 0.7; stroke-width: 0.3\" />\n",
       "     <use xlink:href=\"#ma857b1959f\" x=\"39.9\" y=\"60.984\" style=\"fill: #4575b4; fill-opacity: 0.7; stroke: #4575b4; stroke-opacity: 0.7; stroke-width: 0.3\" />\n",
       "     <use xlink:href=\"#ma857b1959f\" x=\"49.240435\" y=\"35.865553\" style=\"fill: #4575b4; fill-opacity: 0.7; stroke: #4575b4; stroke-opacity: 0.7; stroke-width: 0.3\" />\n",
       "     <use xlink:href=\"#ma857b1959f\" x=\"51.262174\" y=\"52.013126\" style=\"fill: #4575b4; fill-opacity: 0.7; stroke: #4575b4; stroke-opacity: 0.7; stroke-width: 0.3\" />\n",
       "     <use xlink:href=\"#ma857b1959f\" x=\"164.43913\" y=\"23.30633\" style=\"fill: #4575b4; fill-opacity: 0.7; stroke: #4575b4; stroke-opacity: 0.7; stroke-width: 0.3\" />\n",
       "     <use xlink:href=\"#ma857b1959f\" x=\"43.175217\" y=\"37.659728\" style=\"fill: #4575b4; fill-opacity: 0.7; stroke: #4575b4; stroke-opacity: 0.7; stroke-width: 0.3\" />\n",
       "     <use xlink:href=\"#ma857b1959f\" x=\"49.236391\" y=\"26.89468\" style=\"fill: #4575b4; fill-opacity: 0.7; stroke: #4575b4; stroke-opacity: 0.7; stroke-width: 0.3\" />\n",
       "     <use xlink:href=\"#ma857b1959f\" x=\"39.131739\" y=\"41.248078\" style=\"fill: #4575b4; fill-opacity: 0.7; stroke: #4575b4; stroke-opacity: 0.7; stroke-width: 0.3\" />\n",
       "     <use xlink:href=\"#ma857b1959f\" x=\"105.444783\" y=\"8.952932\" style=\"fill: #4575b4; fill-opacity: 0.7; stroke: #4575b4; stroke-opacity: 0.7; stroke-width: 0.3\" />\n",
       "     <use xlink:href=\"#ma857b1959f\" x=\"49.240435\" y=\"21.512155\" style=\"fill: #4575b4; fill-opacity: 0.7; stroke: #4575b4; stroke-opacity: 0.7; stroke-width: 0.3\" />\n",
       "     <use xlink:href=\"#ma857b1959f\" x=\"37.716522\" y=\"53.807301\" style=\"fill: #4575b4; fill-opacity: 0.7; stroke: #4575b4; stroke-opacity: 0.7; stroke-width: 0.3\" />\n",
       "     <use xlink:href=\"#ma857b1959f\" x=\"51.666522\" y=\"50.218951\" style=\"fill: #4575b4; fill-opacity: 0.7; stroke: #4575b4; stroke-opacity: 0.7; stroke-width: 0.3\" />\n",
       "     <use xlink:href=\"#ma857b1959f\" x=\"48.229565\" y=\"57.39565\" style=\"fill: #4575b4; fill-opacity: 0.7; stroke: #4575b4; stroke-opacity: 0.7; stroke-width: 0.3\" />\n",
       "     <use xlink:href=\"#ma857b1959f\" x=\"40.142609\" y=\"53.807301\" style=\"fill: #4575b4; fill-opacity: 0.7; stroke: #4575b4; stroke-opacity: 0.7; stroke-width: 0.3\" />\n",
       "     <use xlink:href=\"#ma857b1959f\" x=\"57.327391\" y=\"43.042252\" style=\"fill: #4575b4; fill-opacity: 0.7; stroke: #4575b4; stroke-opacity: 0.7; stroke-width: 0.3\" />\n",
       "     <use xlink:href=\"#ma857b1959f\" x=\"55.305652\" y=\"19.717981\" style=\"fill: #4575b4; fill-opacity: 0.7; stroke: #4575b4; stroke-opacity: 0.7; stroke-width: 0.3\" />\n",
       "     <use xlink:href=\"#ma857b1959f\" x=\"56.923043\" y=\"52.013126\" style=\"fill: #4575b4; fill-opacity: 0.7; stroke: #4575b4; stroke-opacity: 0.7; stroke-width: 0.3\" />\n",
       "     <use xlink:href=\"#ma857b1959f\" x=\"69.457826\" y=\"26.89468\" style=\"fill: #4575b4; fill-opacity: 0.7; stroke: #4575b4; stroke-opacity: 0.7; stroke-width: 0.3\" />\n",
       "     <use xlink:href=\"#ma857b1959f\" x=\"47.623043\" y=\"48.424777\" style=\"fill: #4575b4; fill-opacity: 0.7; stroke: #4575b4; stroke-opacity: 0.7; stroke-width: 0.3\" />\n",
       "     <use xlink:href=\"#ma857b1959f\" x=\"56.923043\" y=\"46.630602\" style=\"fill: #4575b4; fill-opacity: 0.7; stroke: #4575b4; stroke-opacity: 0.7; stroke-width: 0.3\" />\n",
       "     <use xlink:href=\"#ma857b1959f\" x=\"44.788565\" y=\"60.984\" style=\"fill: #4575b4; fill-opacity: 0.7; stroke: #4575b4; stroke-opacity: 0.7; stroke-width: 0.3\" />\n",
       "     <use xlink:href=\"#ma857b1959f\" x=\"91.385609\" y=\"50.218951\" style=\"fill: #4575b4; fill-opacity: 0.7; stroke: #4575b4; stroke-opacity: 0.7; stroke-width: 0.3\" />\n",
       "     <use xlink:href=\"#ma857b1959f\" x=\"96.953478\" y=\"39.453903\" style=\"fill: #4575b4; fill-opacity: 0.7; stroke: #4575b4; stroke-opacity: 0.7; stroke-width: 0.3\" />\n",
       "     <use xlink:href=\"#ma857b1959f\" x=\"42.973043\" y=\"59.189825\" style=\"fill: #4575b4; fill-opacity: 0.7; stroke: #4575b4; stroke-opacity: 0.7; stroke-width: 0.3\" />\n",
       "     <use xlink:href=\"#ma857b1959f\" x=\"166.501304\" y=\"21.512155\" style=\"fill: #4575b4; fill-opacity: 0.7; stroke: #4575b4; stroke-opacity: 0.7; stroke-width: 0.3\" />\n",
       "     <use xlink:href=\"#ma857b1959f\" x=\"85.631739\" y=\"60.984\" style=\"fill: #4575b4; fill-opacity: 0.7; stroke: #4575b4; stroke-opacity: 0.7; stroke-width: 0.3\" />\n",
       "     <use xlink:href=\"#ma857b1959f\" x=\"40.142609\" y=\"59.189825\" style=\"fill: #4575b4; fill-opacity: 0.7; stroke: #4575b4; stroke-opacity: 0.7; stroke-width: 0.3\" />\n",
       "     <use xlink:href=\"#ma857b1959f\" x=\"57.323348\" y=\"19.717981\" style=\"fill: #4575b4; fill-opacity: 0.7; stroke: #4575b4; stroke-opacity: 0.7; stroke-width: 0.3\" />\n",
       "     <use xlink:href=\"#ma857b1959f\" x=\"57.327391\" y=\"53.807301\" style=\"fill: #4575b4; fill-opacity: 0.7; stroke: #4575b4; stroke-opacity: 0.7; stroke-width: 0.3\" />\n",
       "     <use xlink:href=\"#ma857b1959f\" x=\"57.327391\" y=\"23.30633\" style=\"fill: #4575b4; fill-opacity: 0.7; stroke: #4575b4; stroke-opacity: 0.7; stroke-width: 0.3\" />\n",
       "     <use xlink:href=\"#ma857b1959f\" x=\"48.836087\" y=\"28.688854\" style=\"fill: #4575b4; fill-opacity: 0.7; stroke: #4575b4; stroke-opacity: 0.7; stroke-width: 0.3\" />\n",
       "     <use xlink:href=\"#ma857b1959f\" x=\"40.344783\" y=\"55.601476\" style=\"fill: #4575b4; fill-opacity: 0.7; stroke: #4575b4; stroke-opacity: 0.7; stroke-width: 0.3\" />\n",
       "     <use xlink:href=\"#ma857b1959f\" x=\"41.921739\" y=\"50.218951\" style=\"fill: #4575b4; fill-opacity: 0.7; stroke: #4575b4; stroke-opacity: 0.7; stroke-width: 0.3\" />\n",
       "     <use xlink:href=\"#ma857b1959f\" x=\"39.333913\" y=\"59.189825\" style=\"fill: #4575b4; fill-opacity: 0.7; stroke: #4575b4; stroke-opacity: 0.7; stroke-width: 0.3\" />\n",
       "     <use xlink:href=\"#ma857b1959f\" x=\"121.982609\" y=\"46.630602\" style=\"fill: #4575b4; fill-opacity: 0.7; stroke: #4575b4; stroke-opacity: 0.7; stroke-width: 0.3\" />\n",
       "     <use xlink:href=\"#ma857b1959f\" x=\"48.229565\" y=\"34.071379\" style=\"fill: #4575b4; fill-opacity: 0.7; stroke: #4575b4; stroke-opacity: 0.7; stroke-width: 0.3\" />\n",
       "     <use xlink:href=\"#ma857b1959f\" x=\"38.319\" y=\"43.042252\" style=\"fill: #4575b4; fill-opacity: 0.7; stroke: #4575b4; stroke-opacity: 0.7; stroke-width: 0.3\" />\n",
       "     <use xlink:href=\"#ma857b1959f\" x=\"41.149435\" y=\"32.277204\" style=\"fill: #4575b4; fill-opacity: 0.7; stroke: #4575b4; stroke-opacity: 0.7; stroke-width: 0.3\" />\n",
       "     <use xlink:href=\"#ma857b1959f\" x=\"47.218696\" y=\"60.984\" style=\"fill: #4575b4; fill-opacity: 0.7; stroke: #4575b4; stroke-opacity: 0.7; stroke-width: 0.3\" />\n",
       "     <use xlink:href=\"#ma857b1959f\" x=\"53.081739\" y=\"44.836427\" style=\"fill: #4575b4; fill-opacity: 0.7; stroke: #4575b4; stroke-opacity: 0.7; stroke-width: 0.3\" />\n",
       "     <use xlink:href=\"#ma857b1959f\" x=\"62.179565\" y=\"57.39565\" style=\"fill: #4575b4; fill-opacity: 0.7; stroke: #4575b4; stroke-opacity: 0.7; stroke-width: 0.3\" />\n",
       "     <use xlink:href=\"#ma857b1959f\" x=\"46.005652\" y=\"53.807301\" style=\"fill: #4575b4; fill-opacity: 0.7; stroke: #4575b4; stroke-opacity: 0.7; stroke-width: 0.3\" />\n",
       "     <use xlink:href=\"#ma857b1959f\" x=\"40.951304\" y=\"39.453903\" style=\"fill: #4575b4; fill-opacity: 0.7; stroke: #4575b4; stroke-opacity: 0.7; stroke-width: 0.3\" />\n",
       "     <use xlink:href=\"#ma857b1959f\" x=\"58.136087\" y=\"32.277204\" style=\"fill: #4575b4; fill-opacity: 0.7; stroke: #4575b4; stroke-opacity: 0.7; stroke-width: 0.3\" />\n",
       "     <use xlink:href=\"#ma857b1959f\" x=\"70.468696\" y=\"37.659728\" style=\"fill: #4575b4; fill-opacity: 0.7; stroke: #4575b4; stroke-opacity: 0.7; stroke-width: 0.3\" />\n",
       "     <use xlink:href=\"#ma857b1959f\" x=\"43.579565\" y=\"39.453903\" style=\"fill: #4575b4; fill-opacity: 0.7; stroke: #4575b4; stroke-opacity: 0.7; stroke-width: 0.3\" />\n",
       "     <use xlink:href=\"#ma857b1959f\" x=\"67.436087\" y=\"34.071379\" style=\"fill: #4575b4; fill-opacity: 0.7; stroke: #4575b4; stroke-opacity: 0.7; stroke-width: 0.3\" />\n",
       "     <use xlink:href=\"#ma857b1959f\" x=\"37.11\" y=\"53.807301\" style=\"fill: #4575b4; fill-opacity: 0.7; stroke: #4575b4; stroke-opacity: 0.7; stroke-width: 0.3\" />\n",
       "     <use xlink:href=\"#ma857b1959f\" x=\"52.879565\" y=\"35.865553\" style=\"fill: #4575b4; fill-opacity: 0.7; stroke: #4575b4; stroke-opacity: 0.7; stroke-width: 0.3\" />\n",
       "     <use xlink:href=\"#ma857b1959f\" x=\"67.432043\" y=\"43.042252\" style=\"fill: #4575b4; fill-opacity: 0.7; stroke: #4575b4; stroke-opacity: 0.7; stroke-width: 0.3\" />\n",
       "     <use xlink:href=\"#ma857b1959f\" x=\"44.347826\" y=\"46.630602\" style=\"fill: #4575b4; fill-opacity: 0.7; stroke: #4575b4; stroke-opacity: 0.7; stroke-width: 0.3\" />\n",
       "     <use xlink:href=\"#ma857b1959f\" x=\"103.15213\" y=\"50.218951\" style=\"fill: #4575b4; fill-opacity: 0.7; stroke: #4575b4; stroke-opacity: 0.7; stroke-width: 0.3\" />\n",
       "     <use xlink:href=\"#ma857b1959f\" x=\"81.584217\" y=\"41.248078\" style=\"fill: #4575b4; fill-opacity: 0.7; stroke: #4575b4; stroke-opacity: 0.7; stroke-width: 0.3\" />\n",
       "     <use xlink:href=\"#ma857b1959f\" x=\"43.781739\" y=\"53.807301\" style=\"fill: #4575b4; fill-opacity: 0.7; stroke: #4575b4; stroke-opacity: 0.7; stroke-width: 0.3\" />\n",
       "     <use xlink:href=\"#ma857b1959f\" x=\"54.69913\" y=\"41.248078\" style=\"fill: #4575b4; fill-opacity: 0.7; stroke: #4575b4; stroke-opacity: 0.7; stroke-width: 0.3\" />\n",
       "     <use xlink:href=\"#ma857b1959f\" x=\"37.918696\" y=\"41.248078\" style=\"fill: #4575b4; fill-opacity: 0.7; stroke: #4575b4; stroke-opacity: 0.7; stroke-width: 0.3\" />\n",
       "     <use xlink:href=\"#ma857b1959f\" x=\"44.388261\" y=\"48.424777\" style=\"fill: #4575b4; fill-opacity: 0.7; stroke: #4575b4; stroke-opacity: 0.7; stroke-width: 0.3\" />\n",
       "     <use xlink:href=\"#ma857b1959f\" x=\"75.523043\" y=\"14.335456\" style=\"fill: #4575b4; fill-opacity: 0.7; stroke: #4575b4; stroke-opacity: 0.7; stroke-width: 0.3\" />\n",
       "     <use xlink:href=\"#ma857b1959f\" x=\"41.149435\" y=\"59.189825\" style=\"fill: #4575b4; fill-opacity: 0.7; stroke: #4575b4; stroke-opacity: 0.7; stroke-width: 0.3\" />\n",
       "     <use xlink:href=\"#ma857b1959f\" x=\"45.803478\" y=\"39.453903\" style=\"fill: #4575b4; fill-opacity: 0.7; stroke: #4575b4; stroke-opacity: 0.7; stroke-width: 0.3\" />\n",
       "     <use xlink:href=\"#ma857b1959f\" x=\"39.127696\" y=\"53.807301\" style=\"fill: #4575b4; fill-opacity: 0.7; stroke: #4575b4; stroke-opacity: 0.7; stroke-width: 0.3\" />\n",
       "     <use xlink:href=\"#ma857b1959f\" x=\"46.814348\" y=\"59.189825\" style=\"fill: #4575b4; fill-opacity: 0.7; stroke: #4575b4; stroke-opacity: 0.7; stroke-width: 0.3\" />\n",
       "     <use xlink:href=\"#ma857b1959f\" x=\"72.288261\" y=\"57.39565\" style=\"fill: #4575b4; fill-opacity: 0.7; stroke: #4575b4; stroke-opacity: 0.7; stroke-width: 0.3\" />\n",
       "     <use xlink:href=\"#ma857b1959f\" x=\"69.453783\" y=\"55.601476\" style=\"fill: #4575b4; fill-opacity: 0.7; stroke: #4575b4; stroke-opacity: 0.7; stroke-width: 0.3\" />\n",
       "     <use xlink:href=\"#ma857b1959f\" x=\"101.805652\" y=\"59.189825\" style=\"fill: #4575b4; fill-opacity: 0.7; stroke: #4575b4; stroke-opacity: 0.7; stroke-width: 0.3\" />\n",
       "     <use xlink:href=\"#ma857b1959f\" x=\"54.092609\" y=\"59.189825\" style=\"fill: #4575b4; fill-opacity: 0.7; stroke: #4575b4; stroke-opacity: 0.7; stroke-width: 0.3\" />\n",
       "     <use xlink:href=\"#ma857b1959f\" x=\"65.414348\" y=\"26.89468\" style=\"fill: #4575b4; fill-opacity: 0.7; stroke: #4575b4; stroke-opacity: 0.7; stroke-width: 0.3\" />\n",
       "     <use xlink:href=\"#ma857b1959f\" x=\"41.153478\" y=\"52.013126\" style=\"fill: #4575b4; fill-opacity: 0.7; stroke: #4575b4; stroke-opacity: 0.7; stroke-width: 0.3\" />\n",
       "     <use xlink:href=\"#ma857b1959f\" x=\"40.344783\" y=\"30.483029\" style=\"fill: #4575b4; fill-opacity: 0.7; stroke: #4575b4; stroke-opacity: 0.7; stroke-width: 0.3\" />\n",
       "     <use xlink:href=\"#ma857b1959f\" x=\"40.708696\" y=\"52.013126\" style=\"fill: #4575b4; fill-opacity: 0.7; stroke: #4575b4; stroke-opacity: 0.7; stroke-width: 0.3\" />\n",
       "     <use xlink:href=\"#ma857b1959f\" x=\"72.894783\" y=\"17.923806\" style=\"fill: #4575b4; fill-opacity: 0.7; stroke: #4575b4; stroke-opacity: 0.7; stroke-width: 0.3\" />\n",
       "     <use xlink:href=\"#ma857b1959f\" x=\"79.768696\" y=\"8.952932\" style=\"fill: #4575b4; fill-opacity: 0.7; stroke: #4575b4; stroke-opacity: 0.7; stroke-width: 0.3\" />\n",
       "     <use xlink:href=\"#ma857b1959f\" x=\"77.140435\" y=\"50.218951\" style=\"fill: #4575b4; fill-opacity: 0.7; stroke: #4575b4; stroke-opacity: 0.7; stroke-width: 0.3\" />\n",
       "     <use xlink:href=\"#ma857b1959f\" x=\"41.153478\" y=\"52.013126\" style=\"fill: #4575b4; fill-opacity: 0.7; stroke: #4575b4; stroke-opacity: 0.7; stroke-width: 0.3\" />\n",
       "     <use xlink:href=\"#ma857b1959f\" x=\"41.962174\" y=\"57.39565\" style=\"fill: #4575b4; fill-opacity: 0.7; stroke: #4575b4; stroke-opacity: 0.7; stroke-width: 0.3\" />\n",
       "     <use xlink:href=\"#ma857b1959f\" x=\"52.475217\" y=\"53.807301\" style=\"fill: #4575b4; fill-opacity: 0.7; stroke: #4575b4; stroke-opacity: 0.7; stroke-width: 0.3\" />\n",
       "     <use xlink:href=\"#ma857b1959f\" x=\"59.753478\" y=\"59.189825\" style=\"fill: #4575b4; fill-opacity: 0.7; stroke: #4575b4; stroke-opacity: 0.7; stroke-width: 0.3\" />\n",
       "     <use xlink:href=\"#ma857b1959f\" x=\"38.444348\" y=\"53.807301\" style=\"fill: #4575b4; fill-opacity: 0.7; stroke: #4575b4; stroke-opacity: 0.7; stroke-width: 0.3\" />\n",
       "     <use xlink:href=\"#ma857b1959f\" x=\"77.140435\" y=\"37.659728\" style=\"fill: #4575b4; fill-opacity: 0.7; stroke: #4575b4; stroke-opacity: 0.7; stroke-width: 0.3\" />\n",
       "     <use xlink:href=\"#ma857b1959f\" x=\"50.04913\" y=\"44.836427\" style=\"fill: #4575b4; fill-opacity: 0.7; stroke: #4575b4; stroke-opacity: 0.7; stroke-width: 0.3\" />\n",
       "     <use xlink:href=\"#ma857b1959f\" x=\"50.736522\" y=\"55.601476\" style=\"fill: #4575b4; fill-opacity: 0.7; stroke: #4575b4; stroke-opacity: 0.7; stroke-width: 0.3\" />\n",
       "     <use xlink:href=\"#ma857b1959f\" x=\"56.478261\" y=\"30.483029\" style=\"fill: #4575b4; fill-opacity: 0.7; stroke: #4575b4; stroke-opacity: 0.7; stroke-width: 0.3\" />\n",
       "     <use xlink:href=\"#ma857b1959f\" x=\"49.240435\" y=\"50.218951\" style=\"fill: #4575b4; fill-opacity: 0.7; stroke: #4575b4; stroke-opacity: 0.7; stroke-width: 0.3\" />\n",
       "     <use xlink:href=\"#ma857b1959f\" x=\"66.627391\" y=\"43.042252\" style=\"fill: #4575b4; fill-opacity: 0.7; stroke: #4575b4; stroke-opacity: 0.7; stroke-width: 0.3\" />\n",
       "     <use xlink:href=\"#ma857b1959f\" x=\"39.131739\" y=\"39.453903\" style=\"fill: #4575b4; fill-opacity: 0.7; stroke: #4575b4; stroke-opacity: 0.7; stroke-width: 0.3\" />\n",
       "    </g>\n",
       "   </g>\n",
       "   <g id=\"patch_3\">\n",
       "    <path d=\"M 55.9425 60.984  L 53.4315 67.0824  L 58.4535 67.0824  z \" style=\"fill: #444443\" />\n",
       "   </g>\n",
       "   <g id=\"matplotlib.axis_1\">\n",
       "    <g id=\"xtick_1\">\n",
       "     <g id=\"line2d_1\">\n",
       "      <defs>\n",
       "       <path id=\"m193a11c9b6\" d=\"M 0 0  L 0 3.5  \" style=\"stroke: #000000; stroke-width: 0.3\" />\n",
       "      </defs>\n",
       "      <g>\n",
       "       <use xlink:href=\"#m193a11c9b6\" x=\"37.11\" y=\"60.984\" style=\"stroke: #000000; stroke-width: 0.3\" />\n",
       "      </g>\n",
       "     </g>\n",
       "     <g id=\"text_1\">\n",
       "      \n",
       "      <g style=\"fill: #444443\" transform=\"translate(34.565 78.56275) scale(0.08 -0.08)\">\n",
       "       <defs>\n",
       "        <path id=\"DejaVuSans-30\" d=\"M 2034 4250  Q 1547 4250 1301 3770  Q 1056 3291 1056 2328  Q 1056 1369 1301 889  Q 1547 409 2034 409  Q 2525 409 2770 889  Q 3016 1369 3016 2328  Q 3016 3291 2770 3770  Q 2525 4250 2034 4250  z M 2034 4750  Q 2819 4750 3233 4129  Q 3647 3509 3647 2328  Q 3647 1150 3233 529  Q 2819 -91 2034 -91  Q 1250 -91 836 529  Q 422 1150 422 2328  Q 422 3509 836 4129  Q 1250 4750 2034 4750  z \" transform=\"scale(0.015625)\" />\n",
       "       </defs>\n",
       "       <use xlink:href=\"#DejaVuSans-30\" />\n",
       "      </g>\n",
       "     </g>\n",
       "    </g>\n",
       "    <g id=\"xtick_2\">\n",
       "     <g id=\"line2d_2\">\n",
       "      <g>\n",
       "       <use xlink:href=\"#m193a11c9b6\" x=\"55.9425\" y=\"60.984\" style=\"stroke: #000000; stroke-width: 0.3\" />\n",
       "      </g>\n",
       "     </g>\n",
       "     <g id=\"text_2\">\n",
       "      \n",
       "      <g style=\"fill: #444443\" transform=\"translate(45.7625 78.56275) scale(0.08 -0.08)\">\n",
       "       <defs>\n",
       "        <path id=\"DejaVuSans-34\" d=\"M 2419 4116  L 825 1625  L 2419 1625  L 2419 4116  z M 2253 4666  L 3047 4666  L 3047 1625  L 3713 1625  L 3713 1100  L 3047 1100  L 3047 0  L 2419 0  L 2419 1100  L 313 1100  L 313 1709  L 2253 4666  z \" transform=\"scale(0.015625)\" />\n",
       "        <path id=\"DejaVuSans-36\" d=\"M 2113 2584  Q 1688 2584 1439 2293  Q 1191 2003 1191 1497  Q 1191 994 1439 701  Q 1688 409 2113 409  Q 2538 409 2786 701  Q 3034 994 3034 1497  Q 3034 2003 2786 2293  Q 2538 2584 2113 2584  z M 3366 4563  L 3366 3988  Q 3128 4100 2886 4159  Q 2644 4219 2406 4219  Q 1781 4219 1451 3797  Q 1122 3375 1075 2522  Q 1259 2794 1537 2939  Q 1816 3084 2150 3084  Q 2853 3084 3261 2657  Q 3669 2231 3669 1497  Q 3669 778 3244 343  Q 2819 -91 2113 -91  Q 1303 -91 875 529  Q 447 1150 447 2328  Q 447 3434 972 4092  Q 1497 4750 2381 4750  Q 2619 4750 2861 4703  Q 3103 4656 3366 4563  z \" transform=\"scale(0.015625)\" />\n",
       "        <path id=\"DejaVuSans-35\" d=\"M 691 4666  L 3169 4666  L 3169 4134  L 1269 4134  L 1269 2991  Q 1406 3038 1543 3061  Q 1681 3084 1819 3084  Q 2600 3084 3056 2656  Q 3513 2228 3513 1497  Q 3513 744 3044 326  Q 2575 -91 1722 -91  Q 1428 -91 1123 -41  Q 819 9 494 109  L 494 744  Q 775 591 1075 516  Q 1375 441 1709 441  Q 2250 441 2565 725  Q 2881 1009 2881 1497  Q 2881 1984 2565 2268  Q 2250 2553 1709 2553  Q 1456 2553 1204 2497  Q 953 2441 691 2322  L 691 4666  z \" transform=\"scale(0.015625)\" />\n",
       "        <path id=\"DejaVuSans-38\" d=\"M 2034 2216  Q 1584 2216 1326 1975  Q 1069 1734 1069 1313  Q 1069 891 1326 650  Q 1584 409 2034 409  Q 2484 409 2743 651  Q 3003 894 3003 1313  Q 3003 1734 2745 1975  Q 2488 2216 2034 2216  z M 1403 2484  Q 997 2584 770 2862  Q 544 3141 544 3541  Q 544 4100 942 4425  Q 1341 4750 2034 4750  Q 2731 4750 3128 4425  Q 3525 4100 3525 3541  Q 3525 3141 3298 2862  Q 3072 2584 2669 2484  Q 3125 2378 3379 2068  Q 3634 1759 3634 1313  Q 3634 634 3220 271  Q 2806 -91 2034 -91  Q 1263 -91 848 271  Q 434 634 434 1313  Q 434 1759 690 2068  Q 947 2378 1403 2484  z M 1172 3481  Q 1172 3119 1398 2916  Q 1625 2713 2034 2713  Q 2441 2713 2670 2916  Q 2900 3119 2900 3481  Q 2900 3844 2670 4047  Q 2441 4250 2034 4250  Q 1625 4250 1398 4047  Q 1172 3844 1172 3481  z \" transform=\"scale(0.015625)\" />\n",
       "       </defs>\n",
       "       <use xlink:href=\"#DejaVuSans-34\" />\n",
       "       <use xlink:href=\"#DejaVuSans-36\" x=\"63.623047\" />\n",
       "       <use xlink:href=\"#DejaVuSans-35\" x=\"127.246094\" />\n",
       "       <use xlink:href=\"#DejaVuSans-38\" x=\"190.869141\" />\n",
       "      </g>\n",
       "     </g>\n",
       "    </g>\n",
       "    <g id=\"xtick_3\">\n",
       "     <g id=\"line2d_3\">\n",
       "      <g>\n",
       "       <use xlink:href=\"#m193a11c9b6\" x=\"176.61\" y=\"60.984\" style=\"stroke: #000000; stroke-width: 0.3\" />\n",
       "      </g>\n",
       "     </g>\n",
       "     <g id=\"text_3\">\n",
       "      \n",
       "      <g style=\"fill: #444443\" transform=\"translate(163.885 78.56275) scale(0.08 -0.08)\">\n",
       "       <defs>\n",
       "        <path id=\"DejaVuSans-33\" d=\"M 2597 2516  Q 3050 2419 3304 2112  Q 3559 1806 3559 1356  Q 3559 666 3084 287  Q 2609 -91 1734 -91  Q 1441 -91 1130 -33  Q 819 25 488 141  L 488 750  Q 750 597 1062 519  Q 1375 441 1716 441  Q 2309 441 2620 675  Q 2931 909 2931 1356  Q 2931 1769 2642 2001  Q 2353 2234 1838 2234  L 1294 2234  L 1294 2753  L 1863 2753  Q 2328 2753 2575 2939  Q 2822 3125 2822 3475  Q 2822 3834 2567 4026  Q 2313 4219 1838 4219  Q 1578 4219 1281 4162  Q 984 4106 628 3988  L 628 4550  Q 988 4650 1302 4700  Q 1616 4750 1894 4750  Q 2613 4750 3031 4423  Q 3450 4097 3450 3541  Q 3450 3153 3228 2886  Q 3006 2619 2597 2516  z \" transform=\"scale(0.015625)\" />\n",
       "       </defs>\n",
       "       <use xlink:href=\"#DejaVuSans-33\" />\n",
       "       <use xlink:href=\"#DejaVuSans-34\" x=\"63.623047\" />\n",
       "       <use xlink:href=\"#DejaVuSans-35\" x=\"127.246094\" />\n",
       "       <use xlink:href=\"#DejaVuSans-30\" x=\"190.869141\" />\n",
       "       <use xlink:href=\"#DejaVuSans-30\" x=\"254.492188\" />\n",
       "      </g>\n",
       "     </g>\n",
       "    </g>\n",
       "    <g id=\"text_4\">\n",
       "     \n",
       "     <g style=\"fill: #444443\" transform=\"translate(86.94875 96.384) scale(0.16 -0.16)\">\n",
       "      <defs>\n",
       "       <path id=\"DejaVuSans-70\" d=\"M 1159 525  L 1159 -1331  L 581 -1331  L 581 3500  L 1159 3500  L 1159 2969  Q 1341 3281 1617 3432  Q 1894 3584 2278 3584  Q 2916 3584 3314 3078  Q 3713 2572 3713 1747  Q 3713 922 3314 415  Q 2916 -91 2278 -91  Q 1894 -91 1617 61  Q 1341 213 1159 525  z M 3116 1747  Q 3116 2381 2855 2742  Q 2594 3103 2138 3103  Q 1681 3103 1420 2742  Q 1159 2381 1159 1747  Q 1159 1113 1420 752  Q 1681 391 2138 391  Q 2594 391 2855 752  Q 3116 1113 3116 1747  z \" transform=\"scale(0.015625)\" />\n",
       "       <path id=\"DejaVuSans-72\" d=\"M 2631 2963  Q 2534 3019 2420 3045  Q 2306 3072 2169 3072  Q 1681 3072 1420 2755  Q 1159 2438 1159 1844  L 1159 0  L 581 0  L 581 3500  L 1159 3500  L 1159 2956  Q 1341 3275 1631 3429  Q 1922 3584 2338 3584  Q 2397 3584 2469 3576  Q 2541 3569 2628 3553  L 2631 2963  z \" transform=\"scale(0.015625)\" />\n",
       "       <path id=\"DejaVuSans-69\" d=\"M 603 3500  L 1178 3500  L 1178 0  L 603 0  L 603 3500  z M 603 4863  L 1178 4863  L 1178 4134  L 603 4134  L 603 4863  z \" transform=\"scale(0.015625)\" />\n",
       "       <path id=\"DejaVuSans-63\" d=\"M 3122 3366  L 3122 2828  Q 2878 2963 2633 3030  Q 2388 3097 2138 3097  Q 1578 3097 1268 2742  Q 959 2388 959 1747  Q 959 1106 1268 751  Q 1578 397 2138 397  Q 2388 397 2633 464  Q 2878 531 3122 666  L 3122 134  Q 2881 22 2623 -34  Q 2366 -91 2075 -91  Q 1284 -91 818 406  Q 353 903 353 1747  Q 353 2603 823 3093  Q 1294 3584 2113 3584  Q 2378 3584 2631 3529  Q 2884 3475 3122 3366  z \" transform=\"scale(0.015625)\" />\n",
       "       <path id=\"DejaVuSans-65\" d=\"M 3597 1894  L 3597 1613  L 953 1613  Q 991 1019 1311 708  Q 1631 397 2203 397  Q 2534 397 2845 478  Q 3156 559 3463 722  L 3463 178  Q 3153 47 2828 -22  Q 2503 -91 2169 -91  Q 1331 -91 842 396  Q 353 884 353 1716  Q 353 2575 817 3079  Q 1281 3584 2069 3584  Q 2775 3584 3186 3129  Q 3597 2675 3597 1894  z M 3022 2063  Q 3016 2534 2758 2815  Q 2500 3097 2075 3097  Q 1594 3097 1305 2825  Q 1016 2553 972 2059  L 3022 2063  z \" transform=\"scale(0.015625)\" />\n",
       "      </defs>\n",
       "      <use xlink:href=\"#DejaVuSans-70\" />\n",
       "      <use xlink:href=\"#DejaVuSans-72\" x=\"63.476562\" />\n",
       "      <use xlink:href=\"#DejaVuSans-69\" x=\"104.589844\" />\n",
       "      <use xlink:href=\"#DejaVuSans-63\" x=\"132.373047\" />\n",
       "      <use xlink:href=\"#DejaVuSans-65\" x=\"187.353516\" />\n",
       "     </g>\n",
       "    </g>\n",
       "   </g>\n",
       "   <g id=\"matplotlib.axis_2\">\n",
       "    <g id=\"ytick_1\">\n",
       "     <g id=\"line2d_4\">\n",
       "      <defs>\n",
       "       <path id=\"m0811311d18\" d=\"M 0 0  L -3.5 0  \" style=\"stroke: #000000; stroke-width: 0.3\" />\n",
       "      </defs>\n",
       "      <g>\n",
       "       <use xlink:href=\"#m0811311d18\" x=\"37.11\" y=\"60.984\" style=\"stroke: #000000; stroke-width: 0.3\" />\n",
       "      </g>\n",
       "     </g>\n",
       "     <g id=\"text_5\">\n",
       "      \n",
       "      <g style=\"fill: #444443\" transform=\"translate(25.02 64.023375) scale(0.08 -0.08)\">\n",
       "       <use xlink:href=\"#DejaVuSans-30\" />\n",
       "      </g>\n",
       "     </g>\n",
       "    </g>\n",
       "    <g id=\"ytick_2\">\n",
       "     <g id=\"line2d_5\">\n",
       "      <g>\n",
       "       <use xlink:href=\"#m0811311d18\" x=\"37.11\" y=\"25.100505\" style=\"stroke: #000000; stroke-width: 0.3\" />\n",
       "      </g>\n",
       "     </g>\n",
       "     <g id=\"text_6\">\n",
       "      \n",
       "      <g style=\"fill: #444443\" transform=\"translate(19.93 28.13988) scale(0.08 -0.08)\">\n",
       "       <defs>\n",
       "        <path id=\"DejaVuSans-32\" d=\"M 1228 531  L 3431 531  L 3431 0  L 469 0  L 469 531  Q 828 903 1448 1529  Q 2069 2156 2228 2338  Q 2531 2678 2651 2914  Q 2772 3150 2772 3378  Q 2772 3750 2511 3984  Q 2250 4219 1831 4219  Q 1534 4219 1204 4116  Q 875 4013 500 3803  L 500 4441  Q 881 4594 1212 4672  Q 1544 4750 1819 4750  Q 2544 4750 2975 4387  Q 3406 4025 3406 3419  Q 3406 3131 3298 2873  Q 3191 2616 2906 2266  Q 2828 2175 2409 1742  Q 1991 1309 1228 531  z \" transform=\"scale(0.015625)\" />\n",
       "       </defs>\n",
       "       <use xlink:href=\"#DejaVuSans-32\" />\n",
       "       <use xlink:href=\"#DejaVuSans-30\" x=\"63.623047\" />\n",
       "      </g>\n",
       "     </g>\n",
       "    </g>\n",
       "    <g id=\"text_7\">\n",
       "     \n",
       "     <g style=\"fill: #444443\" transform=\"translate(12.1575 84.37075) rotate(-90) scale(0.16 -0.16)\">\n",
       "      <defs>\n",
       "       <path id=\"DejaVuSans-73\" d=\"M 2834 3397  L 2834 2853  Q 2591 2978 2328 3040  Q 2066 3103 1784 3103  Q 1356 3103 1142 2972  Q 928 2841 928 2578  Q 928 2378 1081 2264  Q 1234 2150 1697 2047  L 1894 2003  Q 2506 1872 2764 1633  Q 3022 1394 3022 966  Q 3022 478 2636 193  Q 2250 -91 1575 -91  Q 1294 -91 989 -36  Q 684 19 347 128  L 347 722  Q 666 556 975 473  Q 1284 391 1588 391  Q 1994 391 2212 530  Q 2431 669 2431 922  Q 2431 1156 2273 1281  Q 2116 1406 1581 1522  L 1381 1569  Q 847 1681 609 1914  Q 372 2147 372 2553  Q 372 3047 722 3315  Q 1072 3584 1716 3584  Q 2034 3584 2315 3537  Q 2597 3491 2834 3397  z \" transform=\"scale(0.015625)\" />\n",
       "       <path id=\"DejaVuSans-61\" d=\"M 2194 1759  Q 1497 1759 1228 1600  Q 959 1441 959 1056  Q 959 750 1161 570  Q 1363 391 1709 391  Q 2188 391 2477 730  Q 2766 1069 2766 1631  L 2766 1759  L 2194 1759  z M 3341 1997  L 3341 0  L 2766 0  L 2766 531  Q 2569 213 2275 61  Q 1981 -91 1556 -91  Q 1019 -91 701 211  Q 384 513 384 1019  Q 384 1609 779 1909  Q 1175 2209 1959 2209  L 2766 2209  L 2766 2266  Q 2766 2663 2505 2880  Q 2244 3097 1772 3097  Q 1472 3097 1187 3025  Q 903 2953 641 2809  L 641 3341  Q 956 3463 1253 3523  Q 1550 3584 1831 3584  Q 2591 3584 2966 3190  Q 3341 2797 3341 1997  z \" transform=\"scale(0.015625)\" />\n",
       "       <path id=\"DejaVuSans-6c\" d=\"M 603 4863  L 1178 4863  L 1178 0  L 603 0  L 603 4863  z \" transform=\"scale(0.015625)\" />\n",
       "       <path id=\"DejaVuSans-5f\" d=\"M 3263 -1063  L 3263 -1509  L -63 -1509  L -63 -1063  L 3263 -1063  z \" transform=\"scale(0.015625)\" />\n",
       "       <path id=\"DejaVuSans-64\" d=\"M 2906 2969  L 2906 4863  L 3481 4863  L 3481 0  L 2906 0  L 2906 525  Q 2725 213 2448 61  Q 2172 -91 1784 -91  Q 1150 -91 751 415  Q 353 922 353 1747  Q 353 2572 751 3078  Q 1150 3584 1784 3584  Q 2172 3584 2448 3432  Q 2725 3281 2906 2969  z M 947 1747  Q 947 1113 1208 752  Q 1469 391 1925 391  Q 2381 391 2643 752  Q 2906 1113 2906 1747  Q 2906 2381 2643 2742  Q 2381 3103 1925 3103  Q 1469 3103 1208 2742  Q 947 2381 947 1747  z \" transform=\"scale(0.015625)\" />\n",
       "       <path id=\"DejaVuSans-75\" d=\"M 544 1381  L 544 3500  L 1119 3500  L 1119 1403  Q 1119 906 1312 657  Q 1506 409 1894 409  Q 2359 409 2629 706  Q 2900 1003 2900 1516  L 2900 3500  L 3475 3500  L 3475 0  L 2900 0  L 2900 538  Q 2691 219 2414 64  Q 2138 -91 1772 -91  Q 1169 -91 856 284  Q 544 659 544 1381  z M 1991 3584  L 1991 3584  z \" transform=\"scale(0.015625)\" />\n",
       "       <path id=\"DejaVuSans-74\" d=\"M 1172 4494  L 1172 3500  L 2356 3500  L 2356 3053  L 1172 3053  L 1172 1153  Q 1172 725 1289 603  Q 1406 481 1766 481  L 2356 481  L 2356 0  L 1766 0  Q 1100 0 847 248  Q 594 497 594 1153  L 594 3053  L 172 3053  L 172 3500  L 594 3500  L 594 4494  L 1172 4494  z \" transform=\"scale(0.015625)\" />\n",
       "       <path id=\"DejaVuSans-6f\" d=\"M 1959 3097  Q 1497 3097 1228 2736  Q 959 2375 959 1747  Q 959 1119 1226 758  Q 1494 397 1959 397  Q 2419 397 2687 759  Q 2956 1122 2956 1747  Q 2956 2369 2687 2733  Q 2419 3097 1959 3097  z M 1959 3584  Q 2709 3584 3137 3096  Q 3566 2609 3566 1747  Q 3566 888 3137 398  Q 2709 -91 1959 -91  Q 1206 -91 779 398  Q 353 888 353 1747  Q 353 2609 779 3096  Q 1206 3584 1959 3584  z \" transform=\"scale(0.015625)\" />\n",
       "       <path id=\"DejaVuSans-6e\" d=\"M 3513 2113  L 3513 0  L 2938 0  L 2938 2094  Q 2938 2591 2744 2837  Q 2550 3084 2163 3084  Q 1697 3084 1428 2787  Q 1159 2491 1159 1978  L 1159 0  L 581 0  L 581 3500  L 1159 3500  L 1159 2956  Q 1366 3272 1645 3428  Q 1925 3584 2291 3584  Q 2894 3584 3203 3211  Q 3513 2838 3513 2113  z \" transform=\"scale(0.015625)\" />\n",
       "      </defs>\n",
       "      <use xlink:href=\"#DejaVuSans-73\" />\n",
       "      <use xlink:href=\"#DejaVuSans-61\" x=\"52.099609\" />\n",
       "      <use xlink:href=\"#DejaVuSans-6c\" x=\"113.378906\" />\n",
       "      <use xlink:href=\"#DejaVuSans-65\" x=\"141.162109\" />\n",
       "      <use xlink:href=\"#DejaVuSans-5f\" x=\"202.685547\" />\n",
       "      <use xlink:href=\"#DejaVuSans-64\" x=\"252.685547\" />\n",
       "      <use xlink:href=\"#DejaVuSans-75\" x=\"316.162109\" />\n",
       "      <use xlink:href=\"#DejaVuSans-72\" x=\"379.541016\" />\n",
       "      <use xlink:href=\"#DejaVuSans-61\" x=\"420.654297\" />\n",
       "      <use xlink:href=\"#DejaVuSans-74\" x=\"481.933594\" />\n",
       "      <use xlink:href=\"#DejaVuSans-69\" x=\"521.142578\" />\n",
       "      <use xlink:href=\"#DejaVuSans-6f\" x=\"548.925781\" />\n",
       "      <use xlink:href=\"#DejaVuSans-6e\" x=\"610.107422\" />\n",
       "     </g>\n",
       "    </g>\n",
       "   </g>\n",
       "   <g id=\"line2d_6\">\n",
       "    <path d=\"M 37.11 46.300705  L 55.9425 46.300705  \" clip-path=\"url(#pd9a0e4de24)\" style=\"fill: none; stroke-dasharray: 3.7,1.6; stroke-dashoffset: 0; stroke: #444443\" />\n",
       "   </g>\n",
       "   <g id=\"line2d_7\">\n",
       "    <path d=\"M 55.9425 60.984  L 55.9425 0  \" clip-path=\"url(#pd9a0e4de24)\" style=\"fill: none; stroke-dasharray: 3.7,1.6; stroke-dashoffset: 0; stroke: #444443\" />\n",
       "   </g>\n",
       "   <g id=\"line2d_8\">\n",
       "    <path d=\"M 55.9425 41.521925  L 176.61 41.521925  \" clip-path=\"url(#pd9a0e4de24)\" style=\"fill: none; stroke-dasharray: 3.7,1.6; stroke-dashoffset: 0; stroke: #444443\" />\n",
       "   </g>\n",
       "   <g id=\"patch_4\">\n",
       "    <path d=\"M 37.11 60.984  L 37.11 0  \" style=\"fill: none; stroke: #444443; stroke-width: 0.3; stroke-linejoin: miter; stroke-linecap: square\" />\n",
       "   </g>\n",
       "   <g id=\"patch_5\">\n",
       "    <path d=\"M 37.11 60.984  L 176.61 60.984  \" style=\"fill: none; stroke: #444443; stroke-width: 0.3; stroke-linejoin: miter; stroke-linecap: square\" />\n",
       "   </g>\n",
       "  </g>\n",
       " </g>\n",
       " <defs>\n",
       "  <clipPath id=\"pd9a0e4de24\">\n",
       "   <rect x=\"37.11\" y=\"0\" width=\"139.5\" height=\"60.984\" />\n",
       "  </clipPath>\n",
       " </defs>\n",
       "</svg></g>\n",
       "\n",
       "<g id=\"edge7\" class=\"edge\">\n",
       "<title>node0-&gt;node1</title>\n",
       "<path fill=\"none\" stroke=\"#444443\" stroke-width=\"0.3\" d=\"M149.08,-175.28C160.31,-178.38 171.87,-181.57 183.03,-184.64\" />\n",
       "<polygon fill=\"#444443\" stroke=\"#444443\" stroke-width=\"0.3\" points=\"182.89,-186.06 187.12,-185.77 183.63,-183.36 182.89,-186.06\" />\n",
       "<text text-anchor=\"start\" x=\"157\" y=\"-186.2\" font-family=\"DejaVu Sans\" font-size=\"14.00\" fill=\"#444443\"> &#160;&#8804;</text>\n",
       "</g>\n",
       "\n",
       "<g id=\"edge8\" class=\"edge\">\n",
       "<title>node0-&gt;node2</title>\n",
       "<path fill=\"none\" stroke=\"#444443\" stroke-width=\"0.3\" d=\"M149.08,-135.13C160.31,-132.1 171.87,-128.98 183.03,-125.96\" />\n",
       "<polygon fill=\"#444443\" stroke=\"#444443\" stroke-width=\"0.3\" points=\"183.62,-127.25 187.12,-124.86 182.89,-124.55 183.62,-127.25\" />\n",
       "<text text-anchor=\"start\" x=\"157.81\" y=\"-136.2\" font-family=\"DejaVu Sans\" font-size=\"14.00\" fill=\"#444443\"> &#160;&gt;</text>\n",
       "</g>\n",
       "\n",
       "\n",
       "</g>\n",
       "</svg>"
      ],
      "text/plain": [
       "<dtreeviz.utils.DTreeVizRender>"
      ]
     },
     "execution_count": null,
     "metadata": {},
     "output_type": "execute_result"
    }
   ],
   "source": [
    "viz.view (fontname='DejaVu Sans', scale=2, label_fontsize=16,\n",
    "        orientation='LR')"
   ]
  },
  {
   "cell_type": "markdown",
   "metadata": {},
   "source": [
    "### Training"
   ]
  },
  {
   "cell_type": "markdown",
   "metadata": {},
   "source": [
    "Let's first start by training a full size decision tree."
   ]
  },
  {
   "cell_type": "code",
   "execution_count": null,
   "metadata": {},
   "outputs": [],
   "source": [
    "dt_model = DecisionTreeRegressor()\n",
    "dt_model.fit(X, y);"
   ]
  },
  {
   "cell_type": "markdown",
   "metadata": {},
   "source": [
    "### Evaluation"
   ]
  },
  {
   "cell_type": "markdown",
   "metadata": {},
   "source": [
    "We use the root of the mean squared error as evaluation metric."
   ]
  },
  {
   "cell_type": "code",
   "execution_count": null,
   "metadata": {},
   "outputs": [],
   "source": [
    "def r_mse (pred, y): \n",
    "    return round(math.sqrt(((pred-y)**2).mean()), 6)\n",
    "def m_rmse (dt_model, X, y): \n",
    "    return r_mse(dt_model.predict(X), y)"
   ]
  },
  {
   "cell_type": "markdown",
   "metadata": {},
   "source": [
    "Let's see at the error on the training set:"
   ]
  },
  {
   "cell_type": "code",
   "execution_count": null,
   "metadata": {},
   "outputs": [
    {
     "data": {
      "text/plain": [
       "0.283855"
      ]
     },
     "execution_count": null,
     "metadata": {},
     "output_type": "execute_result"
    }
   ],
   "source": [
    "m_rmse (dt_model, X, y)"
   ]
  },
  {
   "cell_type": "markdown",
   "metadata": {},
   "source": [
    "... and on the validation set:"
   ]
  },
  {
   "cell_type": "code",
   "execution_count": null,
   "metadata": {},
   "outputs": [
    {
     "data": {
      "text/plain": [
       "11.614361"
      ]
     },
     "execution_count": null,
     "metadata": {},
     "output_type": "execute_result"
    }
   ],
   "source": [
    "m_rmse (dt_model, valid_X, valid_y)"
   ]
  },
  {
   "cell_type": "markdown",
   "metadata": {},
   "source": [
    "We can see that we are clearly overfitting. Let's look at the number of leaves, and compare it against the total number of observations:"
   ]
  },
  {
   "cell_type": "code",
   "execution_count": null,
   "metadata": {},
   "outputs": [
    {
     "data": {
      "text/plain": [
       "(201472, 260068)"
      ]
     },
     "execution_count": null,
     "metadata": {},
     "output_type": "execute_result"
    }
   ],
   "source": [
    "dt_model.get_n_leaves(), len(X)"
   ]
  },
  {
   "cell_type": "markdown",
   "metadata": {},
   "source": [
    "The number of leaves is similar to the number of observations. We need to reduce the size of the decision tree:"
   ]
  },
  {
   "cell_type": "code",
   "execution_count": null,
   "metadata": {},
   "outputs": [
    {
     "data": {
      "text/plain": [
       "(7.683234, 8.817406)"
      ]
     },
     "execution_count": null,
     "metadata": {},
     "output_type": "execute_result"
    }
   ],
   "source": [
    "dt_model = DecisionTreeRegressor (min_samples_leaf=25)\n",
    "dt_model.fit (tabular.train.xs, tabular.train.y)\n",
    "m_rmse (dt_model, X, y), m_rmse(dt_model, valid_X, valid_y)"
   ]
  },
  {
   "cell_type": "markdown",
   "metadata": {},
   "source": [
    "We get a much better error on validation set, let's see the number of leaves:"
   ]
  },
  {
   "cell_type": "code",
   "execution_count": null,
   "metadata": {},
   "outputs": [
    {
     "data": {
      "text/plain": [
       "7949"
      ]
     },
     "execution_count": null,
     "metadata": {},
     "output_type": "execute_result"
    }
   ],
   "source": [
    "dt_model.get_n_leaves()"
   ]
  },
  {
   "cell_type": "markdown",
   "metadata": {},
   "source": [
    "## Random Forest"
   ]
  },
  {
   "cell_type": "markdown",
   "metadata": {},
   "source": [
    "We have built a baseline using Decision Trees. Let us explore now the use of Random Rorests"
   ]
  },
  {
   "cell_type": "markdown",
   "metadata": {},
   "source": [
    "### Training"
   ]
  },
  {
   "cell_type": "code",
   "execution_count": null,
   "metadata": {},
   "outputs": [],
   "source": [
    "def fitted_rf (X, y, n_estimators=128, max_features=0.5, min_samples_leaf=5, **kwargs):\n",
    "    return RandomForestRegressor (\n",
    "        n_jobs=-1, n_estimators=n_estimators, max_features=max_features,\n",
    "        min_samples_leaf=min_samples_leaf, oob_score=True, **kwargs\n",
    "    ).fit(X, y)"
   ]
  },
  {
   "cell_type": "code",
   "execution_count": null,
   "metadata": {},
   "outputs": [],
   "source": [
    "rf_model = fitted_rf (X, y);\n",
    "joblib.dump (rf_model, results_path / 'rf_model1.pkl')"
   ]
  },
  {
   "cell_type": "markdown",
   "metadata": {},
   "source": [
    "### Evaluation"
   ]
  },
  {
   "cell_type": "code",
   "execution_count": null,
   "metadata": {},
   "outputs": [
    {
     "data": {
      "text/plain": [
       "(6.048382, 8.272029, 8.215691)"
      ]
     },
     "execution_count": null,
     "metadata": {},
     "output_type": "execute_result"
    }
   ],
   "source": [
    "m_rmse (rf_model, X, y), m_rmse(rf_model, valid_X, valid_y), r_mse (rf_model.oob_prediction_, y)"
   ]
  },
  {
   "cell_type": "markdown",
   "metadata": {},
   "source": [
    "We see whether using another rule like the `sqrt` for calculating `max_features` per tree improves the model:"
   ]
  },
  {
   "cell_type": "code",
   "execution_count": null,
   "metadata": {},
   "outputs": [
    {
     "data": {
      "text/plain": [
       "(6.649456, 8.296415, 8.233054)"
      ]
     },
     "execution_count": null,
     "metadata": {},
     "output_type": "execute_result"
    }
   ],
   "source": [
    "rf_model_2 = fitted_rf (X, y, max_features='sqrt');\n",
    "m_rmse (rf_model_2, X, y), m_rmse(rf_model_2, valid_X, valid_y), r_mse(rf_model_2.oob_prediction_, y)"
   ]
  },
  {
   "cell_type": "markdown",
   "metadata": {},
   "source": [
    "It doesnt' improve. We could play with the ratio of max features, min samples per leaf, and other hyper-parameters. We leave this as future work."
   ]
  },
  {
   "cell_type": "markdown",
   "metadata": {},
   "source": [
    "### Visualization"
   ]
  },
  {
   "cell_type": "markdown",
   "metadata": {},
   "source": [
    "Let's see the impact of n_estimators on the performance:"
   ]
  },
  {
   "cell_type": "code",
   "execution_count": null,
   "metadata": {},
   "outputs": [
    {
     "data": {
      "image/png": "[encoded data removed]",
      "text/plain": [
       "<Figure size 640x480 with 1 Axes>"
      ]
     },
     "metadata": {},
     "output_type": "display_data"
    }
   ],
   "source": [
    "import warnings\n",
    "warnings.filterwarnings ('ignore')\n",
    "preds = np.stack([t.predict(valid_X) for t in rf_model.estimators_])\n",
    "plt.plot([r_mse(preds[:i+1].mean(0), valid_y) for i in range(128)]);"
   ]
  },
  {
   "cell_type": "markdown",
   "metadata": {},
   "source": [
    "We see that the accuracy plateaus from 80 estimators onwards"
   ]
  },
  {
   "cell_type": "markdown",
   "metadata": {},
   "source": [
    "### Interpretation "
   ]
  },
  {
   "cell_type": "markdown",
   "metadata": {},
   "source": [
    "#### Confidence"
   ]
  },
  {
   "cell_type": "markdown",
   "metadata": {},
   "source": [
    "We look at the standard deviation of the predictions across the different trees. For those sales where there is low standard deviation, most of the trees agree on the sale duration estimate. This is useful in production, to maybe avoid providing a predition for those requests where there is little agreement on the sale duration."
   ]
  },
  {
   "cell_type": "code",
   "execution_count": null,
   "metadata": {},
   "outputs": [],
   "source": [
    "preds = np.stack([t.predict(valid_X) for t in rf_model.estimators_])\n",
    "preds_std = preds.std(0)"
   ]
  },
  {
   "cell_type": "code",
   "execution_count": null,
   "metadata": {},
   "outputs": [
    {
     "data": {
      "image/png": "[encoded data removed]",
      "text/plain": [
       "<Figure size 640x480 with 1 Axes>"
      ]
     },
     "metadata": {},
     "output_type": "display_data"
    }
   ],
   "source": [
    "plt.hist (preds_std);"
   ]
  },
  {
   "cell_type": "markdown",
   "metadata": {},
   "source": [
    "We see that there is in general high standard deviation for most sales, except for few cases."
   ]
  },
  {
   "cell_type": "markdown",
   "metadata": {},
   "source": [
    "#### Feature importance"
   ]
  },
  {
   "cell_type": "markdown",
   "metadata": {},
   "source": [
    "Let's look at what features are most important for the regression task:"
   ]
  },
  {
   "cell_type": "code",
   "execution_count": null,
   "metadata": {},
   "outputs": [],
   "source": [
    "def rf_feat_importance (rf_model, df):\n",
    "    return pd.DataFrame({'cols':df.columns, 'imp':rf_model.feature_importances_}).sort_values('imp', ascending=False)"
   ]
  },
  {
   "cell_type": "code",
   "execution_count": null,
   "metadata": {},
   "outputs": [
    {
     "data": {
      "text/html": [
       "<div>\n",
       "<style scoped>\n",
       "    .dataframe tbody tr th:only-of-type {\n",
       "        vertical-align: middle;\n",
       "    }\n",
       "\n",
       "    .dataframe tbody tr th {\n",
       "        vertical-align: top;\n",
       "    }\n",
       "\n",
       "    .dataframe thead th {\n",
       "        text-align: right;\n",
       "    }\n",
       "</style>\n",
       "<table border=\"1\" class=\"dataframe\">\n",
       "  <thead>\n",
       "    <tr style=\"text-align: right;\">\n",
       "      <th></th>\n",
       "      <th>cols</th>\n",
       "      <th>imp</th>\n",
       "    </tr>\n",
       "  </thead>\n",
       "  <tbody>\n",
       "    <tr>\n",
       "      <th>7</th>\n",
       "      <td>postalCode</td>\n",
       "      <td>0.193067</td>\n",
       "    </tr>\n",
       "    <tr>\n",
       "      <th>14</th>\n",
       "      <td>price</td>\n",
       "      <td>0.184392</td>\n",
       "    </tr>\n",
       "    <tr>\n",
       "      <th>17</th>\n",
       "      <td>age</td>\n",
       "      <td>0.153438</td>\n",
       "    </tr>\n",
       "    <tr>\n",
       "      <th>15</th>\n",
       "      <td>powerPS</td>\n",
       "      <td>0.099052</td>\n",
       "    </tr>\n",
       "    <tr>\n",
       "      <th>6</th>\n",
       "      <td>model</td>\n",
       "      <td>0.088209</td>\n",
       "    </tr>\n",
       "    <tr>\n",
       "      <th>0</th>\n",
       "      <td>brand</td>\n",
       "      <td>0.061477</td>\n",
       "    </tr>\n",
       "    <tr>\n",
       "      <th>18</th>\n",
       "      <td>day_of_week</td>\n",
       "      <td>0.060955</td>\n",
       "    </tr>\n",
       "    <tr>\n",
       "      <th>3</th>\n",
       "      <td>vehicleType</td>\n",
       "      <td>0.042012</td>\n",
       "    </tr>\n",
       "    <tr>\n",
       "      <th>16</th>\n",
       "      <td>kilometer</td>\n",
       "      <td>0.036495</td>\n",
       "    </tr>\n",
       "    <tr>\n",
       "      <th>9</th>\n",
       "      <td>abtest</td>\n",
       "      <td>0.023295</td>\n",
       "    </tr>\n",
       "    <tr>\n",
       "      <th>4</th>\n",
       "      <td>fuelType</td>\n",
       "      <td>0.016574</td>\n",
       "    </tr>\n",
       "    <tr>\n",
       "      <th>8</th>\n",
       "      <td>gearbox</td>\n",
       "      <td>0.015988</td>\n",
       "    </tr>\n",
       "    <tr>\n",
       "      <th>5</th>\n",
       "      <td>notRepairedDamage</td>\n",
       "      <td>0.015318</td>\n",
       "    </tr>\n",
       "    <tr>\n",
       "      <th>10</th>\n",
       "      <td>holidays</td>\n",
       "      <td>0.006917</td>\n",
       "    </tr>\n",
       "    <tr>\n",
       "      <th>11</th>\n",
       "      <td>price_na</td>\n",
       "      <td>0.001413</td>\n",
       "    </tr>\n",
       "    <tr>\n",
       "      <th>13</th>\n",
       "      <td>age_na</td>\n",
       "      <td>0.000947</td>\n",
       "    </tr>\n",
       "    <tr>\n",
       "      <th>12</th>\n",
       "      <td>powerPS_na</td>\n",
       "      <td>0.000451</td>\n",
       "    </tr>\n",
       "    <tr>\n",
       "      <th>1</th>\n",
       "      <td>seller</td>\n",
       "      <td>0.000000</td>\n",
       "    </tr>\n",
       "    <tr>\n",
       "      <th>2</th>\n",
       "      <td>offerType</td>\n",
       "      <td>0.000000</td>\n",
       "    </tr>\n",
       "  </tbody>\n",
       "</table>\n",
       "</div>"
      ],
      "text/plain": [
       "                 cols       imp\n",
       "7          postalCode  0.193067\n",
       "14              price  0.184392\n",
       "17                age  0.153438\n",
       "15            powerPS  0.099052\n",
       "6               model  0.088209\n",
       "0               brand  0.061477\n",
       "18        day_of_week  0.060955\n",
       "3         vehicleType  0.042012\n",
       "16          kilometer  0.036495\n",
       "9              abtest  0.023295\n",
       "4            fuelType  0.016574\n",
       "8             gearbox  0.015988\n",
       "5   notRepairedDamage  0.015318\n",
       "10           holidays  0.006917\n",
       "11           price_na  0.001413\n",
       "13             age_na  0.000947\n",
       "12         powerPS_na  0.000451\n",
       "1              seller  0.000000\n",
       "2           offerType  0.000000"
      ]
     },
     "execution_count": null,
     "metadata": {},
     "output_type": "execute_result"
    }
   ],
   "source": [
    "importance = rf_feat_importance (rf_model, X)\n",
    "importance"
   ]
  },
  {
   "cell_type": "markdown",
   "metadata": {},
   "source": [
    "We see that the most important features are: \n",
    "    \n",
    "    - postalCode: probably due to the higher density of population, and thus buyers, in certain areas.\n",
    "    - price: cheaper cars are sold faster.\n",
    "    - age: newer is better\n",
    "    \n",
    "Surprisingly, the day of the week plays a role even more important than the number of kilometers, to be sold faster, maybe because people look at ads more at certain days of the week."
   ]
  },
  {
   "cell_type": "markdown",
   "metadata": {},
   "source": [
    "Let's look at the same graphically:"
   ]
  },
  {
   "cell_type": "code",
   "execution_count": null,
   "metadata": {},
   "outputs": [
    {
     "data": {
      "image/png": "[encoded data removed]",
      "text/plain": [
       "<Figure size 1200x700 with 1 Axes>"
      ]
     },
     "metadata": {},
     "output_type": "display_data"
    }
   ],
   "source": [
    "def plot_feature_importance (importance):\n",
    "    return importance.plot('cols', 'imp', 'barh', figsize=(12,7), legend=False)\n",
    "\n",
    "plot_feature_importance(importance);"
   ]
  },
  {
   "cell_type": "markdown",
   "metadata": {},
   "source": [
    "### Removing variables"
   ]
  },
  {
   "cell_type": "markdown",
   "metadata": {},
   "source": [
    "We see if we can improve the performance by removing those features that have very little importance and might be adding noise:"
   ]
  },
  {
   "cell_type": "code",
   "execution_count": null,
   "metadata": {},
   "outputs": [],
   "source": [
    "def evaluate_removing_variables (importance, X, y, valid_X, valid_y, threhsold):\n",
    "    to_keep = importance[importance.imp>threhsold].cols\n",
    "    X_imp = X[to_keep]\n",
    "    valid_X_imp = valid_X[to_keep]\n",
    "\n",
    "    rf_model = fitted_rf(X_imp, y)\n",
    "    print (m_rmse(rf_model, X_imp, y), m_rmse(rf_model, valid_X_imp, valid_y), r_mse (rf_model.oob_prediction_, y))\n",
    "    return rf_model, X_imp, valid_X_imp, to_keep"
   ]
  },
  {
   "cell_type": "code",
   "execution_count": null,
   "metadata": {},
   "outputs": [
    {
     "name": "stdout",
     "output_type": "stream",
     "text": [
      "6.045863 8.268369 8.211243\n"
     ]
    },
    {
     "data": {
      "text/plain": [
       "['results/used_cars/removing_low_importance.pkl']"
      ]
     },
     "execution_count": null,
     "metadata": {},
     "output_type": "execute_result"
    }
   ],
   "source": [
    "rf_model, X_imp, valid_X_imp, to_keep = evaluate_removing_variables (importance, X, y, valid_X, valid_y, 0.0001)\n",
    "joblib.dump (rf_model, results_path / 'removing_low_importance.pkl')"
   ]
  },
  {
   "cell_type": "markdown",
   "metadata": {},
   "source": [
    "There is almost no improvement, let's see a bit more agressive pruning:"
   ]
  },
  {
   "cell_type": "code",
   "execution_count": null,
   "metadata": {},
   "outputs": [
    {
     "name": "stdout",
     "output_type": "stream",
     "text": [
      "6.050095 8.272465 8.213242\n"
     ]
    }
   ],
   "source": [
    "rf_model2, X_imp2, valid_X_imp2, to_keep2 = evaluate_removing_variables (importance, X, y, valid_X, valid_y, 0.001)"
   ]
  },
  {
   "cell_type": "code",
   "execution_count": null,
   "metadata": {},
   "outputs": [
    {
     "name": "stdout",
     "output_type": "stream",
     "text": [
      "6.010566 8.271691 8.210651\n"
     ]
    }
   ],
   "source": [
    "rf_model2, X_imp2, valid_X_imp2, to_keep2 = evaluate_removing_variables (importance, X, y, valid_X, valid_y, 0.005)"
   ]
  },
  {
   "cell_type": "markdown",
   "metadata": {},
   "source": [
    "The best threshold seems to be 0.0001. Let's use it and look at the feature importance again, after removing variables with low importance:"
   ]
  },
  {
   "cell_type": "code",
   "execution_count": null,
   "metadata": {},
   "outputs": [
    {
     "data": {
      "image/png": "[encoded data removed]",
      "text/plain": [
       "<Figure size 1200x700 with 1 Axes>"
      ]
     },
     "metadata": {},
     "output_type": "display_data"
    }
   ],
   "source": [
    "importance = rf_feat_importance(rf_model, X_imp)\n",
    "plot_feature_importance(importance);"
   ]
  },
  {
   "cell_type": "markdown",
   "metadata": {},
   "source": [
    "### Removing redundant variables"
   ]
  },
  {
   "cell_type": "markdown",
   "metadata": {},
   "source": [
    "We see if there are variables that might be closely correlated, in terms of ranking:"
   ]
  },
  {
   "cell_type": "code",
   "execution_count": null,
   "metadata": {},
   "outputs": [
    {
     "data": {
      "image/png": "[encoded data removed]",
      "text/plain": [
       "<Figure size 1000x600 with 1 Axes>"
      ]
     },
     "metadata": {},
     "output_type": "display_data"
    }
   ],
   "source": [
    "cluster_columns(X_imp)"
   ]
  },
  {
   "cell_type": "markdown",
   "metadata": {},
   "source": [
    "PowerPS and price seem to be quite correlated. We see what happens when we remove each of the variables in turn. To do it quickly, we use the out-of-bag score, by using a random forest where each tree is trained on a smaller subset of data, so that the out-of-bag score is measured on the remaining subset. This score indicates the generalization provided, being the higher the better."
   ]
  },
  {
   "cell_type": "code",
   "execution_count": null,
   "metadata": {},
   "outputs": [],
   "source": [
    "def get_oob (df, y):\n",
    "    m = RandomForestRegressor(n_estimators=40, min_samples_leaf=15,\n",
    "        max_samples=50000, max_features=0.5, n_jobs=-1, oob_score=True)\n",
    "    m.fit(df, y)\n",
    "    return m.oob_score_"
   ]
  },
  {
   "cell_type": "markdown",
   "metadata": {},
   "source": [
    "Let's see the score of the original features:"
   ]
  },
  {
   "cell_type": "code",
   "execution_count": null,
   "metadata": {},
   "outputs": [],
   "source": [
    "def fitted_rf2 (X, y):\n",
    "    return RandomForestRegressor (\n",
    "        n_estimators=40, min_samples_leaf=15,\n",
    "        max_samples=50000, max_features=0.5, n_jobs=-1, oob_score=True).fit(X, y)"
   ]
  },
  {
   "cell_type": "code",
   "execution_count": null,
   "metadata": {},
   "outputs": [
    {
     "data": {
      "text/plain": [
       "0.06008218588804892"
      ]
     },
     "execution_count": null,
     "metadata": {},
     "output_type": "execute_result"
    }
   ],
   "source": [
    "original_oob = get_oob(X_imp, y)\n",
    "original_oob"
   ]
  },
  {
   "cell_type": "code",
   "execution_count": null,
   "metadata": {},
   "outputs": [
    {
     "data": {
      "text/plain": [
       "{'postalCode': 0.058280710022504234,\n",
       " 'price': 0.0415493436634512,\n",
       " 'age': 0.05244495695648832,\n",
       " 'powerPS': 0.059019327633660135,\n",
       " 'model': 0.0593482908544406,\n",
       " 'brand': 0.058739696982127,\n",
       " 'day_of_week': 0.05945691943436404,\n",
       " 'vehicleType': 0.05943518125387026,\n",
       " 'kilometer': 0.05984718680711576,\n",
       " 'abtest': 0.06071818811404983,\n",
       " 'fuelType': 0.060080938385732696,\n",
       " 'gearbox': 0.06072952180624125,\n",
       " 'notRepairedDamage': 0.06106010397906847,\n",
       " 'holidays': 0.05685565776346668,\n",
       " 'price_na': 0.060948957015006355,\n",
       " 'age_na': 0.06027832457888893,\n",
       " 'powerPS_na': 0.06106806907313633}"
      ]
     },
     "execution_count": null,
     "metadata": {},
     "output_type": "execute_result"
    }
   ],
   "source": [
    "oob_scores = {c:get_oob(X_imp.drop(c, axis=1), y) for c in (importance.cols)}\n",
    "oob_scores"
   ]
  },
  {
   "cell_type": "code",
   "execution_count": null,
   "metadata": {},
   "outputs": [
    {
     "data": {
      "text/plain": [
       "{'abtest': 0.06071818811404983,\n",
       " 'gearbox': 0.06072952180624125,\n",
       " 'notRepairedDamage': 0.06106010397906847,\n",
       " 'price_na': 0.060948957015006355,\n",
       " 'age_na': 0.06027832457888893,\n",
       " 'powerPS_na': 0.06106806907313633}"
      ]
     },
     "execution_count": null,
     "metadata": {},
     "output_type": "execute_result"
    }
   ],
   "source": [
    "{k:oob_scores[k] for k in oob_scores if oob_scores[k] > original_oob}"
   ]
  },
  {
   "cell_type": "markdown",
   "metadata": {},
   "source": [
    "It seems that dropping the notRepairedDamage, abtest, and powerPS_na might be beneficial"
   ]
  },
  {
   "cell_type": "code",
   "execution_count": null,
   "metadata": {},
   "outputs": [],
   "source": [
    "def evaluate_removing_redundant (to_drop, X_imp, y, valid_X, valid_y):\n",
    "    print ('OOB score: ', get_oob(X_imp.drop(to_drop, axis=1), y))\n",
    "    X_final = X_imp.drop(to_drop, axis=1)\n",
    "    valid_X_final = valid_X_imp.drop(to_drop, axis=1)\n",
    "    rf_model = fitted_rf(X_final, y)\n",
    "    print ('Regression errors: ', m_rmse(rf_model, X_final, y), m_rmse(rf_model, valid_X_final, valid_y), r_mse(rf_model.oob_prediction_, y))\n",
    "    \n",
    "    return rf_model, X_final, valid_X_final"
   ]
  },
  {
   "cell_type": "code",
   "execution_count": null,
   "metadata": {},
   "outputs": [
    {
     "name": "stdout",
     "output_type": "stream",
     "text": [
      "OOB score:  0.0611047486037124\n",
      "Regression errors:  6.050136 8.261787 8.202955\n"
     ]
    },
    {
     "data": {
      "text/plain": [
       "['results/used_cars/removing_redundant.pkl']"
      ]
     },
     "execution_count": null,
     "metadata": {},
     "output_type": "execute_result"
    }
   ],
   "source": [
    "rf_model, X_final, valid_X_final = evaluate_removing_redundant (['abtest', 'notRepairedDamage', 'powerPS_na'], X_imp, y, valid_X, valid_y)\n",
    "joblib.dump ([rf_model, X_final, valid_X_final], results_path / 'removing_redundant.pkl')"
   ]
  },
  {
   "cell_type": "code",
   "execution_count": null,
   "metadata": {},
   "outputs": [
    {
     "name": "stdout",
     "output_type": "stream",
     "text": [
      "OOB score:  0.0606092565973716\n",
      "Regression errors:  6.065446 8.26426 8.207189\n"
     ]
    }
   ],
   "source": [
    "rf_model2, X_final2, valid_X_final2 = evaluate_removing_redundant (['notRepairedDamage', 'powerPS_na'], X_imp, y, valid_X, valid_y)"
   ]
  },
  {
   "cell_type": "code",
   "execution_count": null,
   "metadata": {},
   "outputs": [
    {
     "name": "stdout",
     "output_type": "stream",
     "text": [
      "OOB score:  0.060027249156653584\n",
      "Regression errors:  6.03148 8.262977 8.207328\n"
     ]
    }
   ],
   "source": [
    "rf_model2, X_final2, valid_X_final2 = evaluate_removing_redundant (['notRepairedDamage'], X_imp, y, valid_X, valid_y)"
   ]
  },
  {
   "cell_type": "code",
   "execution_count": null,
   "metadata": {},
   "outputs": [
    {
     "name": "stdout",
     "output_type": "stream",
     "text": [
      "OOB score:  0.060528790706093516\n",
      "Regression errors:  6.037068 8.266976 8.205677\n"
     ]
    }
   ],
   "source": [
    "rf_model2, X_final2, valid_X_final2 = evaluate_removing_redundant (['abtest'], X_imp, y, valid_X, valid_y)"
   ]
  },
  {
   "cell_type": "markdown",
   "metadata": {},
   "source": [
    "We select the model without ['abtest', 'notRepairedDamage', 'powerPS_na']. The result is slightly better, with lower number of variables, which tends to be good."
   ]
  },
  {
   "cell_type": "markdown",
   "metadata": {},
   "source": [
    "## Neural Network"
   ]
  },
  {
   "cell_type": "markdown",
   "metadata": {},
   "source": [
    "We use a similar preprocessing as the one used for RF, but with two important differences:\n",
    "    - The numerical variables are standard normalized.\n",
    "    - The categorical variables will be passed to an embedding layer in the Neural Network, which maps discrete integers to embeddings that have been learned to optimally represent each category in the variable. This tends to be a bit more effective and efficient than using one-hot-encoding. "
   ]
  },
  {
   "cell_type": "code",
   "execution_count": null,
   "metadata": {},
   "outputs": [],
   "source": [
    "selected_columns = set (X_final.columns).intersection(df_clean.columns)\n",
    "df_nn = (df_clean[list(selected_columns) + [target_variable]]).copy()\n",
    "df_nn[target_variable] = df_nn[target_variable].astype (np.float32)\n",
    "categorical_variables = set (selected_columns).intersection (categorical_variables)\n",
    "numerical_variables = set (selected_columns).intersection (numerical_variables)\n",
    "procs = [Categorify, FillMissing, Normalize]\n",
    "tabular = TabularPandas (df_nn, procs, list(categorical_variables), list(numerical_variables), y_names=target_variable, splits=(list(train_idx),list(valid_idx)))"
   ]
  },
  {
   "cell_type": "markdown",
   "metadata": {},
   "source": [
    "We use a relatively high batch-size due to the fact that tabular data does not occupy much memory."
   ]
  },
  {
   "cell_type": "code",
   "execution_count": null,
   "metadata": {},
   "outputs": [
    {
     "data": {
      "text/html": [
       "\n",
       "<style>\n",
       "    /* Turns off some styling */\n",
       "    progress {\n",
       "        /* gets rid of default border in Firefox and Opera. */\n",
       "        border: none;\n",
       "        /* Needs to be in here for Safari polyfill so background images work as expected. */\n",
       "        background-size: auto;\n",
       "    }\n",
       "    progress:not([value]), progress:not([value])::-webkit-progress-bar {\n",
       "        background: repeating-linear-gradient(45deg, #7e7e7e, #7e7e7e 10px, #5c5c5c 10px, #5c5c5c 20px);\n",
       "    }\n",
       "    .progress-bar-interrupted, .progress-bar-interrupted::-webkit-progress-bar {\n",
       "        background: #F44336;\n",
       "    }\n",
       "</style>\n"
      ],
      "text/plain": [
       "<IPython.core.display.HTML object>"
      ]
     },
     "metadata": {},
     "output_type": "display_data"
    },
    {
     "data": {
      "text/html": [],
      "text/plain": [
       "<IPython.core.display.HTML object>"
      ]
     },
     "metadata": {},
     "output_type": "display_data"
    },
    {
     "data": {
      "text/plain": [
       "SuggestedLRs(valley=0.001737800776027143)"
      ]
     },
     "execution_count": null,
     "metadata": {},
     "output_type": "execute_result"
    },
    {
     "data": {
      "image/png": "[encoded data removed]",
      "text/plain": [
       "<Figure size 640x480 with 1 Axes>"
      ]
     },
     "metadata": {},
     "output_type": "display_data"
    }
   ],
   "source": [
    "dls = tabular.dataloaders(1024)\n",
    "y = tabular.train.y\n",
    "learn = tabular_learner(dls, y_range=(np.floor(y.min()), np.ceil(y.max())), layers=[500,250],\n",
    "                        n_out=1, loss_func=F.mse_loss)\n",
    "learn.lr_find()"
   ]
  },
  {
   "cell_type": "markdown",
   "metadata": {},
   "source": [
    "We try first with learning rate 1e-2 and 10 epochs:"
   ]
  },
  {
   "cell_type": "code",
   "execution_count": null,
   "metadata": {},
   "outputs": [
    {
     "data": {
      "text/html": [
       "\n",
       "<style>\n",
       "    /* Turns off some styling */\n",
       "    progress {\n",
       "        /* gets rid of default border in Firefox and Opera. */\n",
       "        border: none;\n",
       "        /* Needs to be in here for Safari polyfill so background images work as expected. */\n",
       "        background-size: auto;\n",
       "    }\n",
       "    progress:not([value]), progress:not([value])::-webkit-progress-bar {\n",
       "        background: repeating-linear-gradient(45deg, #7e7e7e, #7e7e7e 10px, #5c5c5c 10px, #5c5c5c 20px);\n",
       "    }\n",
       "    .progress-bar-interrupted, .progress-bar-interrupted::-webkit-progress-bar {\n",
       "        background: #F44336;\n",
       "    }\n",
       "</style>\n"
      ],
      "text/plain": [
       "<IPython.core.display.HTML object>"
      ]
     },
     "metadata": {},
     "output_type": "display_data"
    },
    {
     "data": {
      "text/html": [
       "<table border=\"1\" class=\"dataframe\">\n",
       "  <thead>\n",
       "    <tr style=\"text-align: left;\">\n",
       "      <th>epoch</th>\n",
       "      <th>train_loss</th>\n",
       "      <th>valid_loss</th>\n",
       "      <th>time</th>\n",
       "    </tr>\n",
       "  </thead>\n",
       "  <tbody>\n",
       "    <tr>\n",
       "      <td>0</td>\n",
       "      <td>602.610474</td>\n",
       "      <td>76.169884</td>\n",
       "      <td>00:11</td>\n",
       "    </tr>\n",
       "    <tr>\n",
       "      <td>1</td>\n",
       "      <td>78.452293</td>\n",
       "      <td>79.093147</td>\n",
       "      <td>00:10</td>\n",
       "    </tr>\n",
       "    <tr>\n",
       "      <td>2</td>\n",
       "      <td>72.395233</td>\n",
       "      <td>75.213257</td>\n",
       "      <td>00:10</td>\n",
       "    </tr>\n",
       "    <tr>\n",
       "      <td>3</td>\n",
       "      <td>68.382301</td>\n",
       "      <td>73.556313</td>\n",
       "      <td>00:10</td>\n",
       "    </tr>\n",
       "    <tr>\n",
       "      <td>4</td>\n",
       "      <td>64.683945</td>\n",
       "      <td>75.480438</td>\n",
       "      <td>00:10</td>\n",
       "    </tr>\n",
       "    <tr>\n",
       "      <td>5</td>\n",
       "      <td>61.083923</td>\n",
       "      <td>77.244652</td>\n",
       "      <td>00:10</td>\n",
       "    </tr>\n",
       "    <tr>\n",
       "      <td>6</td>\n",
       "      <td>50.728420</td>\n",
       "      <td>79.223137</td>\n",
       "      <td>00:11</td>\n",
       "    </tr>\n",
       "    <tr>\n",
       "      <td>7</td>\n",
       "      <td>43.104126</td>\n",
       "      <td>84.684929</td>\n",
       "      <td>00:10</td>\n",
       "    </tr>\n",
       "    <tr>\n",
       "      <td>8</td>\n",
       "      <td>34.933899</td>\n",
       "      <td>85.208206</td>\n",
       "      <td>00:10</td>\n",
       "    </tr>\n",
       "    <tr>\n",
       "      <td>9</td>\n",
       "      <td>30.915373</td>\n",
       "      <td>87.217155</td>\n",
       "      <td>00:10</td>\n",
       "    </tr>\n",
       "  </tbody>\n",
       "</table>"
      ],
      "text/plain": [
       "<IPython.core.display.HTML object>"
      ]
     },
     "metadata": {},
     "output_type": "display_data"
    }
   ],
   "source": [
    "learn.fit_one_cycle(10, 1e-2)"
   ]
  },
  {
   "cell_type": "markdown",
   "metadata": {},
   "source": [
    "We see that something close to 4 or 5 epochs is better"
   ]
  },
  {
   "cell_type": "code",
   "execution_count": null,
   "metadata": {},
   "outputs": [
    {
     "data": {
      "text/html": [
       "\n",
       "<style>\n",
       "    /* Turns off some styling */\n",
       "    progress {\n",
       "        /* gets rid of default border in Firefox and Opera. */\n",
       "        border: none;\n",
       "        /* Needs to be in here for Safari polyfill so background images work as expected. */\n",
       "        background-size: auto;\n",
       "    }\n",
       "    progress:not([value]), progress:not([value])::-webkit-progress-bar {\n",
       "        background: repeating-linear-gradient(45deg, #7e7e7e, #7e7e7e 10px, #5c5c5c 10px, #5c5c5c 20px);\n",
       "    }\n",
       "    .progress-bar-interrupted, .progress-bar-interrupted::-webkit-progress-bar {\n",
       "        background: #F44336;\n",
       "    }\n",
       "</style>\n"
      ],
      "text/plain": [
       "<IPython.core.display.HTML object>"
      ]
     },
     "metadata": {},
     "output_type": "display_data"
    },
    {
     "data": {
      "text/html": [
       "<table border=\"1\" class=\"dataframe\">\n",
       "  <thead>\n",
       "    <tr style=\"text-align: left;\">\n",
       "      <th>epoch</th>\n",
       "      <th>train_loss</th>\n",
       "      <th>valid_loss</th>\n",
       "      <th>time</th>\n",
       "    </tr>\n",
       "  </thead>\n",
       "  <tbody>\n",
       "    <tr>\n",
       "      <td>0</td>\n",
       "      <td>345.358978</td>\n",
       "      <td>78.925217</td>\n",
       "      <td>00:11</td>\n",
       "    </tr>\n",
       "    <tr>\n",
       "      <td>1</td>\n",
       "      <td>74.916069</td>\n",
       "      <td>75.385986</td>\n",
       "      <td>00:10</td>\n",
       "    </tr>\n",
       "    <tr>\n",
       "      <td>2</td>\n",
       "      <td>65.404991</td>\n",
       "      <td>74.644577</td>\n",
       "      <td>00:10</td>\n",
       "    </tr>\n",
       "    <tr>\n",
       "      <td>3</td>\n",
       "      <td>51.674995</td>\n",
       "      <td>76.773880</td>\n",
       "      <td>00:11</td>\n",
       "    </tr>\n",
       "  </tbody>\n",
       "</table>"
      ],
      "text/plain": [
       "<IPython.core.display.HTML object>"
      ]
     },
     "metadata": {},
     "output_type": "display_data"
    },
    {
     "data": {
      "text/html": [
       "\n",
       "<style>\n",
       "    /* Turns off some styling */\n",
       "    progress {\n",
       "        /* gets rid of default border in Firefox and Opera. */\n",
       "        border: none;\n",
       "        /* Needs to be in here for Safari polyfill so background images work as expected. */\n",
       "        background-size: auto;\n",
       "    }\n",
       "    progress:not([value]), progress:not([value])::-webkit-progress-bar {\n",
       "        background: repeating-linear-gradient(45deg, #7e7e7e, #7e7e7e 10px, #5c5c5c 10px, #5c5c5c 20px);\n",
       "    }\n",
       "    .progress-bar-interrupted, .progress-bar-interrupted::-webkit-progress-bar {\n",
       "        background: #F44336;\n",
       "    }\n",
       "</style>\n"
      ],
      "text/plain": [
       "<IPython.core.display.HTML object>"
      ]
     },
     "metadata": {},
     "output_type": "display_data"
    },
    {
     "data": {
      "text/html": [],
      "text/plain": [
       "<IPython.core.display.HTML object>"
      ]
     },
     "metadata": {},
     "output_type": "display_data"
    },
    {
     "data": {
      "text/plain": [
       "8.762071"
      ]
     },
     "execution_count": null,
     "metadata": {},
     "output_type": "execute_result"
    }
   ],
   "source": [
    "learn = tabular_learner(dls, y_range=(np.floor(y.min()), np.ceil(y.max())), layers=[500,250],\n",
    "                        n_out=1, loss_func=F.mse_loss)\n",
    "learn.fit_one_cycle(4, 1e-2)\n",
    "preds, targs = learn.get_preds()\n",
    "r_mse (preds,targs)"
   ]
  },
  {
   "cell_type": "markdown",
   "metadata": {},
   "source": [
    "The validation error is 8.76, bigger than the one obtained by the RF. Let's see with a lower learning rate:"
   ]
  },
  {
   "cell_type": "code",
   "execution_count": null,
   "metadata": {},
   "outputs": [
    {
     "data": {
      "text/html": [
       "\n",
       "<style>\n",
       "    /* Turns off some styling */\n",
       "    progress {\n",
       "        /* gets rid of default border in Firefox and Opera. */\n",
       "        border: none;\n",
       "        /* Needs to be in here for Safari polyfill so background images work as expected. */\n",
       "        background-size: auto;\n",
       "    }\n",
       "    progress:not([value]), progress:not([value])::-webkit-progress-bar {\n",
       "        background: repeating-linear-gradient(45deg, #7e7e7e, #7e7e7e 10px, #5c5c5c 10px, #5c5c5c 20px);\n",
       "    }\n",
       "    .progress-bar-interrupted, .progress-bar-interrupted::-webkit-progress-bar {\n",
       "        background: #F44336;\n",
       "    }\n",
       "</style>\n"
      ],
      "text/plain": [
       "<IPython.core.display.HTML object>"
      ]
     },
     "metadata": {},
     "output_type": "display_data"
    },
    {
     "data": {
      "text/html": [
       "<table border=\"1\" class=\"dataframe\">\n",
       "  <thead>\n",
       "    <tr style=\"text-align: left;\">\n",
       "      <th>epoch</th>\n",
       "      <th>train_loss</th>\n",
       "      <th>valid_loss</th>\n",
       "      <th>time</th>\n",
       "    </tr>\n",
       "  </thead>\n",
       "  <tbody>\n",
       "    <tr>\n",
       "      <td>0</td>\n",
       "      <td>12781.711914</td>\n",
       "      <td>7655.472656</td>\n",
       "      <td>00:11</td>\n",
       "    </tr>\n",
       "    <tr>\n",
       "      <td>1</td>\n",
       "      <td>333.679382</td>\n",
       "      <td>107.907936</td>\n",
       "      <td>00:11</td>\n",
       "    </tr>\n",
       "    <tr>\n",
       "      <td>2</td>\n",
       "      <td>68.636696</td>\n",
       "      <td>75.976501</td>\n",
       "      <td>00:11</td>\n",
       "    </tr>\n",
       "    <tr>\n",
       "      <td>3</td>\n",
       "      <td>60.806812</td>\n",
       "      <td>77.812447</td>\n",
       "      <td>00:10</td>\n",
       "    </tr>\n",
       "    <tr>\n",
       "      <td>4</td>\n",
       "      <td>54.039669</td>\n",
       "      <td>81.903381</td>\n",
       "      <td>00:10</td>\n",
       "    </tr>\n",
       "    <tr>\n",
       "      <td>5</td>\n",
       "      <td>46.701462</td>\n",
       "      <td>79.440315</td>\n",
       "      <td>00:10</td>\n",
       "    </tr>\n",
       "    <tr>\n",
       "      <td>6</td>\n",
       "      <td>37.569061</td>\n",
       "      <td>79.386604</td>\n",
       "      <td>00:10</td>\n",
       "    </tr>\n",
       "    <tr>\n",
       "      <td>7</td>\n",
       "      <td>29.916273</td>\n",
       "      <td>80.873795</td>\n",
       "      <td>00:10</td>\n",
       "    </tr>\n",
       "    <tr>\n",
       "      <td>8</td>\n",
       "      <td>24.533495</td>\n",
       "      <td>81.103035</td>\n",
       "      <td>00:11</td>\n",
       "    </tr>\n",
       "    <tr>\n",
       "      <td>9</td>\n",
       "      <td>21.414110</td>\n",
       "      <td>81.744980</td>\n",
       "      <td>00:10</td>\n",
       "    </tr>\n",
       "  </tbody>\n",
       "</table>"
      ],
      "text/plain": [
       "<IPython.core.display.HTML object>"
      ]
     },
     "metadata": {},
     "output_type": "display_data"
    }
   ],
   "source": [
    "learn2 = tabular_learner(dls, y_range=(np.floor(y.min()), np.ceil(y.max())), layers=[500,250],\n",
    "                        n_out=1, loss_func=F.mse_loss)\n",
    "learn2.fit_one_cycle(10, 1e-3)"
   ]
  },
  {
   "cell_type": "markdown",
   "metadata": {},
   "source": [
    "We see that the loss is not better than using a bigger learning rate. Let's see even bigger:"
   ]
  },
  {
   "cell_type": "code",
   "execution_count": null,
   "metadata": {},
   "outputs": [
    {
     "data": {
      "text/html": [
       "\n",
       "<style>\n",
       "    /* Turns off some styling */\n",
       "    progress {\n",
       "        /* gets rid of default border in Firefox and Opera. */\n",
       "        border: none;\n",
       "        /* Needs to be in here for Safari polyfill so background images work as expected. */\n",
       "        background-size: auto;\n",
       "    }\n",
       "    progress:not([value]), progress:not([value])::-webkit-progress-bar {\n",
       "        background: repeating-linear-gradient(45deg, #7e7e7e, #7e7e7e 10px, #5c5c5c 10px, #5c5c5c 20px);\n",
       "    }\n",
       "    .progress-bar-interrupted, .progress-bar-interrupted::-webkit-progress-bar {\n",
       "        background: #F44336;\n",
       "    }\n",
       "</style>\n"
      ],
      "text/plain": [
       "<IPython.core.display.HTML object>"
      ]
     },
     "metadata": {},
     "output_type": "display_data"
    },
    {
     "data": {
      "text/html": [
       "<table border=\"1\" class=\"dataframe\">\n",
       "  <thead>\n",
       "    <tr style=\"text-align: left;\">\n",
       "      <th>epoch</th>\n",
       "      <th>train_loss</th>\n",
       "      <th>valid_loss</th>\n",
       "      <th>time</th>\n",
       "    </tr>\n",
       "  </thead>\n",
       "  <tbody>\n",
       "    <tr>\n",
       "      <td>0</td>\n",
       "      <td>198.138016</td>\n",
       "      <td>131.202820</td>\n",
       "      <td>00:10</td>\n",
       "    </tr>\n",
       "    <tr>\n",
       "      <td>1</td>\n",
       "      <td>75.276131</td>\n",
       "      <td>75.907112</td>\n",
       "      <td>00:11</td>\n",
       "    </tr>\n",
       "    <tr>\n",
       "      <td>2</td>\n",
       "      <td>113.341293</td>\n",
       "      <td>151.957809</td>\n",
       "      <td>00:11</td>\n",
       "    </tr>\n",
       "    <tr>\n",
       "      <td>3</td>\n",
       "      <td>150.795166</td>\n",
       "      <td>151.957809</td>\n",
       "      <td>00:10</td>\n",
       "    </tr>\n",
       "  </tbody>\n",
       "</table>"
      ],
      "text/plain": [
       "<IPython.core.display.HTML object>"
      ]
     },
     "metadata": {},
     "output_type": "display_data"
    }
   ],
   "source": [
    "learn2 = tabular_learner(dls, y_range=(np.floor(y.min()), np.ceil(y.max())), layers=[500,250],\n",
    "                        n_out=1, loss_func=F.mse_loss)\n",
    "learn2.fit_one_cycle(4, 1e-1)"
   ]
  },
  {
   "cell_type": "markdown",
   "metadata": {},
   "source": [
    "Clearly, the best learning rate seems to be 0.01"
   ]
  },
  {
   "cell_type": "markdown",
   "metadata": {},
   "source": [
    "We could now examine other hyper-parameters, like regularization, dropout, adding more layers or units per layer, adding batch-normalization, etc."
   ]
  },
  {
   "cell_type": "markdown",
   "metadata": {},
   "source": [
    "## Ensemble of RF and NN"
   ]
  },
  {
   "cell_type": "markdown",
   "metadata": {},
   "source": [
    "We see if using an ensemble of RF and NN improves the results:"
   ]
  },
  {
   "cell_type": "code",
   "execution_count": null,
   "metadata": {},
   "outputs": [
    {
     "data": {
      "text/html": [
       "\n",
       "<style>\n",
       "    /* Turns off some styling */\n",
       "    progress {\n",
       "        /* gets rid of default border in Firefox and Opera. */\n",
       "        border: none;\n",
       "        /* Needs to be in here for Safari polyfill so background images work as expected. */\n",
       "        background-size: auto;\n",
       "    }\n",
       "    progress:not([value]), progress:not([value])::-webkit-progress-bar {\n",
       "        background: repeating-linear-gradient(45deg, #7e7e7e, #7e7e7e 10px, #5c5c5c 10px, #5c5c5c 20px);\n",
       "    }\n",
       "    .progress-bar-interrupted, .progress-bar-interrupted::-webkit-progress-bar {\n",
       "        background: #F44336;\n",
       "    }\n",
       "</style>\n"
      ],
      "text/plain": [
       "<IPython.core.display.HTML object>"
      ]
     },
     "metadata": {},
     "output_type": "display_data"
    },
    {
     "data": {
      "text/html": [],
      "text/plain": [
       "<IPython.core.display.HTML object>"
      ]
     },
     "metadata": {},
     "output_type": "display_data"
    },
    {
     "data": {
      "text/plain": [
       "8.339824"
      ]
     },
     "execution_count": null,
     "metadata": {},
     "output_type": "execute_result"
    }
   ],
   "source": [
    "preds, targs = learn.get_preds()\n",
    "\n",
    "rf_preds = rf_model.predict(valid_X_final)\n",
    "ens_preds = (to_np(preds.squeeze()) + rf_preds) /2\n",
    "r_mse(ens_preds,valid_y)"
   ]
  },
  {
   "cell_type": "markdown",
   "metadata": {},
   "source": [
    "While it improves the result of using NN, using RF alone seems to be a better option in this data."
   ]
  },
  {
   "cell_type": "markdown",
   "metadata": {},
   "source": [
    "## Future lines of work"
   ]
  },
  {
   "cell_type": "markdown",
   "metadata": {},
   "source": [
    "- As indicated above, we should now examine other hyper-parameters, like regularization, dropout, adding more layers or units per layer, adding batch-normalization, etc.\n",
    "- Given that a random forest seems to be the best type of model for this data, it is a good idea to explore using XGBoost, CatBoost, or other types of tree ensembles."
   ]
  }
 ],
 "metadata": {
  "kernelspec": {
   "display_name": "tabularml",
   "language": "python",
   "name": "tabularml"
  }
 },
 "nbformat": 4,
 "nbformat_minor": 4
}
