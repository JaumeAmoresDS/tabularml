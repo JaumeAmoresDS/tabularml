{
 "cells": [
  {
   "cell_type": "markdown",
   "metadata": {},
   "source": [
    "# Tabular ML\n",
    "\n",
    "> Demonstration of Data Science pipeline on typical tabular datasets."
   ]
  },
  {
   "cell_type": "markdown",
   "metadata": {},
   "source": [
    "This repository shows a data science pipeline applied to typical datasets such as the [\"used cars\" dataset](https://data.world/data-society/used-cars-data)"
   ]
  },
  {
   "cell_type": "markdown",
   "metadata": {},
   "source": [
    "## Install"
   ]
  },
  {
   "cell_type": "markdown",
   "metadata": {},
   "source": [
    "```sh\n",
    "git clone https://github.com/JaumeAmoresDS/tabularml.git\n",
    "pip install -e tabularml[dev]\n",
    "```"
   ]
  },
  {
   "cell_type": "markdown",
   "metadata": {},
   "source": [
    "## Analysis\n",
    "\n",
    "In order to see the analysis currently performed on the \"used cars\" dataset, first download the data from https://data.world/data-society/used-cars-data, and then run the notebook in `nbs/analysis.ipynb`. The result of this analysis can be seen in html here: [https://jaumeamoresds.github.io/tabularml/analysis.html](https://jaumeamoresds.github.io/tabularml/analysis.html)"
   ]
  },
  {
   "cell_type": "code",
   "execution_count": null,
   "metadata": {},
   "outputs": [],
   "source": []
  }
 ],
 "metadata": {
  "kernelspec": {
   "display_name": "python3",
   "language": "python",
   "name": "python3"
  }
 },
 "nbformat": 4,
 "nbformat_minor": 4
}
